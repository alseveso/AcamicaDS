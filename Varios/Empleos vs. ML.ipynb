{
 "cells": [
  {
   "cell_type": "markdown",
   "metadata": {},
   "source": [
    "### __Qué es Machine Learning?__  \n",
    "De forma general, es cualquier técnica que permite que una computadora aprenda a realizar una tarea."
   ]
  },
  {
   "cell_type": "markdown",
   "metadata": {},
   "source": [
    "__Rutinario o no rutinario: esa es la cuestión.__  \n",
    "Hoy, con la transformación digital y la automatización a pleno, los empleos en peligro son los relacionados con labores repetitivas o los de escaso esfuerzo intelectual. Esta categoría incluye a los que son de baja cualificación, manuales o intelectuales, pero también a los de alta cualificación.  \n",
    "La originalidad y la inteligencia social son facultades difíciles de automatizar. Habilidades como la resolución de conflictos, el liderazgo, la inteligencia emocional, la empatía y la creatividad\".\n",
    "__Empleos en peligro de extinción:__\n",
    "* Cajeros (terminales de autoservicio y cajas de autocobro)\n",
    "* Servicios de atención al cliente (chatbots conversacionales)\n",
    "* Administrativos contables (software de gestión)\n",
    "* Recepcionistas (robots capaces de interactuar con personas)\n",
    "* Repositores y jefes de inventario (robotización del comercio)\n",
    "* Conductores de camiones, taxis y transporte público (conducción autónoma)\n",
    "* Trabajadores textiles (automatización)\n",
    "* Asesores financieros (fintech)\n",
    "* Traductores (software de traducción)\n",
    "__Empleos que pueden perdurar:__\n",
    "* Terapeutas\n",
    "* Trabajadores sociales\n",
    "* Profesores de baile o gimnasia\n",
    "* Profesores de grado\n",
    "* Abogados\n",
    "* Artistas"
   ]
  }
 ],
 "metadata": {
  "kernelspec": {
   "display_name": "Python 3",
   "language": "python",
   "name": "python3"
  },
  "language_info": {
   "codemirror_mode": {
    "name": "ipython",
    "version": 3
   },
   "file_extension": ".py",
   "mimetype": "text/x-python",
   "name": "python",
   "nbconvert_exporter": "python",
   "pygments_lexer": "ipython3",
   "version": "3.8.2"
  }
 },
 "nbformat": 4,
 "nbformat_minor": 4
}
