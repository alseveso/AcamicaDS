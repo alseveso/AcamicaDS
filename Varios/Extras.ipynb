{
 "cells": [
  {
   "cell_type": "markdown",
   "metadata": {},
   "source": [
    "* *Dado que al intentar entrenar el modelo, se indica \"Input contains NaN, infinity or a value too large for dtype('float32')\", se procede a __reemplazar__ los valores de NaN de X_test con la media.*\n",
    "X_test.fillna(X_train.mean(), inplace=True)\n",
    "X_test = X_test.fillna(X_train.mean())\n",
    "\n",
    "* *Dado que al intentar entrenar el modelo, se indica \"Input contains NaN, infinity or a value too large for dtype('float32')\", se procede a __reemplazar__ los valores de NaN de X_train con la media.*\n",
    "X_train.fillna(X_train.mean(), inplace=True)\n",
    "X_train = X_train.fillna(X_train.mean())"
   ]
  },
  {
   "cell_type": "markdown",
   "metadata": {},
   "source": [
    "size= (10,10)\n",
    "plt.rcParams[\"figure.figsize\"] = size\n",
    "properati_5.plot.hexbin(x='lon', y='lat', C='price', reduce_C_function=np.max,gridsize=200,cmap='terrain')\n",
    "plt.title('Distribucion Geográfica de las Propiedades según su Precio en Capital Federal',fontsize=15)\n",
    "plt.xlabel('Longitud', fontsize=12)\n",
    "plt.ylabel('Latitud', fontsize=12)\n",
    "plt.show()"
   ]
  }
 ],
 "metadata": {
  "kernelspec": {
   "display_name": "Python 3",
   "language": "python",
   "name": "python3"
  },
  "language_info": {
   "codemirror_mode": {
    "name": "ipython",
    "version": 3
   },
   "file_extension": ".py",
   "mimetype": "text/x-python",
   "name": "python",
   "nbconvert_exporter": "python",
   "pygments_lexer": "ipython3",
   "version": "3.8.2"
  }
 },
 "nbformat": 4,
 "nbformat_minor": 4
}
