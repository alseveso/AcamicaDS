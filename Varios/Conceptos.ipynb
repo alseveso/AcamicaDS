{
 "cells": [
  {
   "cell_type": "markdown",
   "metadata": {},
   "source": [
    "# Probabilidad y Estadística - Conceptos"
   ]
  },
  {
   "cell_type": "markdown",
   "metadata": {},
   "source": [
    "* __Distribución de probabilidades:__ frecuencia teórica, ya que describe cómo se espera que varíen los resultados sobre una variable de probabilidad.\n",
    "* __Distribución Gaussiana:__ Distribución Normal. Es acampanada, simétrica, unimodal, con media y mediana similares y las colas cercanas a 0. Sabemos que la media ocupa el lugar central de la distribución, y que la media ± 1 desvío estándar engloban aproximadamente el 68% central de las observaciones, que la media ± 1.96 desvíos estándar engloban aproximadamente el 95% central y que la media ± 2.58 desvíos estándar engloban aproximadamente el 99% central de las observaciones.\n",
    "* __Mediana:__ es el número del medio en un grupo de datos (que deben estar ordenados).\n",
    "Si el número del medio está entre dos números, entonces encuentra la media entre esos dos (súmalos y divídelos entre 2). \n",
    "* __Percentil:__ es una medida de posición usada en estadística que indica, una vez ordenados los datos de menor a mayor, el valor de la variable por debajo del cual se encuentra un porcentaje dado de observaciones en un grupo. Por ejemplo, el percentil 30º, es el valor bajo el cual se encuentran el 30 por ciento de las observaciones.\n",
    "El i% de la muestra son valores menores que él y el 100-i% restante son mayores.\n",
    "* __Cuartil:__ son valores que dividen una muestra de datos en cuatro partes iguales. Utilizando cuartiles puede evaluar rápidamente la dispersión y la tendencia central de un conjunto de datos. El 25% de los datos es menor o igual al valor del Q1. El Q2 es igual a la mediana.  \n",
    "    * Rango Intercuartil: Es igual a Q3 – Q1 y abarca el 50% de los datos.\n",
    "* __Asimetría:__ es la medida que indica el grado de simetría de la distribución de una variable respecto a la media aritmética, sin necesidad de hacer la representación gráfica.\n",
    "* __Simetría:__ hay el mismo número de elementos a izquierda y derecha de la media. En este caso, coinciden la media, la mediana y la moda.\n",
    "    * Asimetría Positiva (o a la derecha) si la \"cola\" a la derecha de la media es más larga que la de la izquierda, es decir, si hay valores más separados de la media a la derecha.\n",
    "    * Asimetría Negativa (o a la izquierda) si la \"cola\" a la izquierda de la media es más larga que la de la derecha, es decir, si hay valores más separados de la media a la izquierda."
   ]
  },
  {
   "cell_type": "markdown",
   "metadata": {},
   "source": [
    "* La __Curtosis__ de una variable estadística/aleatoria es una característica de forma de su distribución de frecuencias/probabilidad.\n",
    "Según su concepción clásica, una curtosis grande implica una mayor concentración de valores de la variable tanto muy cerca de la media de la distribución (pico) como muy lejos de ella (colas), al tiempo que existe una relativamente menor frecuencia de valores intermedios. Esto explica una forma de la distribución de frecuencias/probabilidad con colas más gruesas, con un centro más apuntado y una menor proporción de valores intermedios entre el pico y colas."
   ]
  },
  {
   "cell_type": "markdown",
   "metadata": {},
   "source": [
    "* __Principio de Pareto:__ Para muchos eventos, aproximadamente el 80% de los efectos provienen del 20% de las causas."
   ]
  },
  {
   "cell_type": "markdown",
   "metadata": {},
   "source": [
    "* __Producto punto o producto escalar:__ de dos vectores es un número real que resulta al multiplicar el producto de sus módulos por el coseno del ángulo que forman."
   ]
  }
 ],
 "metadata": {
  "kernelspec": {
   "display_name": "Python 3",
   "language": "python",
   "name": "python3"
  },
  "language_info": {
   "codemirror_mode": {
    "name": "ipython",
    "version": 3
   },
   "file_extension": ".py",
   "mimetype": "text/x-python",
   "name": "python",
   "nbconvert_exporter": "python",
   "pygments_lexer": "ipython3",
   "version": "3.8.2"
  }
 },
 "nbformat": 4,
 "nbformat_minor": 4
}
