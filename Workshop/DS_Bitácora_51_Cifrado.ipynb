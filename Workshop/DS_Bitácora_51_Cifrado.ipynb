{
 "cells": [
  {
   "cell_type": "markdown",
   "metadata": {},
   "source": [
    "__CIFRADO/DESCIFRADO POSITIVO__"
   ]
  },
  {
   "cell_type": "code",
   "execution_count": 1,
   "metadata": {},
   "outputs": [],
   "source": [
    "import string\n",
    "\n",
    "def cipher_cipher_using_lookup(text,  key, characters = string.ascii_lowercase, decrypt=False):\n",
    "\n",
    "    if key < 0:\n",
    "\n",
    "        print(\"key cannot be negative\")\n",
    "\n",
    "        return None\n",
    "\n",
    "    n = len(characters)\n",
    "\n",
    "    if decrypt==True:\n",
    "\n",
    "        key = n - key\n",
    "\n",
    "    table = str.maketrans(characters, characters[key:]+characters[:key])\n",
    "    \n",
    "    translated_text = text.translate(table)\n",
    "    \n",
    "    return translated_text"
   ]
  },
  {
   "cell_type": "code",
   "execution_count": 2,
   "metadata": {},
   "outputs": [
    {
     "name": "stdout",
     "output_type": "stream",
     "text": [
      "KHOOR ZRUOG! Zelcome to the world of Fryptography!\n"
     ]
    }
   ],
   "source": [
    "text = \"HELLO WORLD! Welcome to the world of Cryptography!\"\n",
    "\n",
    "encrypted = cipher_cipher_using_lookup(text, 3, string.ascii_uppercase, decrypt=False)\n",
    "\n",
    "print(encrypted)"
   ]
  },
  {
   "cell_type": "code",
   "execution_count": 3,
   "metadata": {},
   "outputs": [
    {
     "name": "stdout",
     "output_type": "stream",
     "text": [
      "HELLO WORLD! Welcome to the world of Cryptography!\n"
     ]
    }
   ],
   "source": [
    "text = \"KHOOR ZRUOG! Zelcome to the world of Fryptography!\"\n",
    "\n",
    "decrypted = cipher_cipher_using_lookup(text, 3, string.ascii_uppercase, decrypt=True)\n",
    "\n",
    "print(decrypted)"
   ]
  },
  {
   "cell_type": "markdown",
   "metadata": {},
   "source": [
    "__CIFRADO/DESCIFRADO NEGATIVO__"
   ]
  },
  {
   "cell_type": "code",
   "execution_count": 4,
   "metadata": {},
   "outputs": [],
   "source": [
    "import string\n",
    "\n",
    "def cipher_cipher_using_lookup(text, key, characters = string.ascii_lowercase, decrypt=False, shift_type=\"right\"):\n",
    "\n",
    "    if key < 0:\n",
    "\n",
    "        print(\"key cannot be negative\")\n",
    "\n",
    "        return None\n",
    "\n",
    "    n = len(characters)\n",
    "\n",
    "    if decrypt==True:\n",
    "\n",
    "        key = n - key\n",
    "\n",
    "    if shift_type==\"left\":\n",
    "\n",
    "        # if left shift is desired, we simply inverse they sign of the key\n",
    "        key = -key\n",
    "\n",
    "    table = str.maketrans(characters, characters[key:]+characters[:key])\n",
    "\n",
    "    translated_text = text.translate(table)\n",
    "\n",
    "    return translated_text"
   ]
  },
  {
   "cell_type": "code",
   "execution_count": 5,
   "metadata": {},
   "outputs": [
    {
     "name": "stdout",
     "output_type": "stream",
     "text": [
      "plain text: Hello World !\n",
      "encrypted text with negative shift: Ebiil Tloia !\n"
     ]
    }
   ],
   "source": [
    "text = \"Hello World !\"\n",
    "\n",
    "encrypted = cipher_cipher_using_lookup(text, 3, characters = (string.ascii_lowercase + string.ascii_uppercase), decrypt = False, shift_type=\"left\")\n",
    "\n",
    "print(\"plain text:\", text)\n",
    "\n",
    "print(\"encrypted text with negative shift:\",encrypted)"
   ]
  },
  {
   "cell_type": "code",
   "execution_count": 6,
   "metadata": {},
   "outputs": [
    {
     "name": "stdout",
     "output_type": "stream",
     "text": [
      "encrypted text with negative shift: Ebiil Tloia !\n",
      "recovered text: Hello World !\n"
     ]
    }
   ],
   "source": [
    "text = \"Ebiil Tloia !\"\n",
    "\n",
    "decrypted = cipher_cipher_using_lookup(text, 3, characters = (string.ascii_lowercase + string.ascii_uppercase), decrypt = True, shift_type=\"left\")\n",
    "\n",
    "print(\"encrypted text with negative shift:\", text)\n",
    "\n",
    "print(\"recovered text:\",decrypted)"
   ]
  },
  {
   "cell_type": "code",
   "execution_count": 7,
   "metadata": {},
   "outputs": [
    {
     "name": "stdout",
     "output_type": "stream",
     "text": [
      "encrypted text with negative shift: ¿Txh wh sdudfh xqd dyhqwxud?\n",
      "recovered text: ¿qUE TE PARACE UNA AVENTURA?\n"
     ]
    }
   ],
   "source": [
    "text = \"¿Txh wh sdudfh xqd dyhqwxud?\"\n",
    "\n",
    "decrypted = cipher_cipher_using_lookup(text, 23, characters = (string.ascii_lowercase + string.ascii_uppercase), decrypt = True, shift_type=\"left\")\n",
    "\n",
    "print(\"encrypted text with negative shift:\", text)\n",
    "\n",
    "print(\"recovered text:\",decrypted)"
   ]
  },
  {
   "cell_type": "code",
   "execution_count": 8,
   "metadata": {},
   "outputs": [
    {
     "name": "stdout",
     "output_type": "stream",
     "text": [
      "encrypted text with negative shift: ¡Iholflgdghv! Ghvfxeulvwh ho fliudgr fruuhfwr sdud ohhu hvwh phqvdmh. Hvwh wlsr gh shqvdplhqwr odwhudo wh uhvxowdud pxb xwlo d or odujr gh wx fduuhud frpr Gdwd Vflhqwlvw. Gxudqwh ho hqfxhqwur srgudv uhiohalrqdu vreuh or txh ixh hvwd dyhqwxud b or txh vljxh. Suhsdud wxv suhjxqwdv. ¡Hvwdv hq ho xowlpr wudpr!\n",
      "recovered text: ¡fELICIDADES! dESCUBRISTE EL CIFRADO CORRECTO PARA LEER ESTE MENSAJE. eSTE TIPO DE PENSAMIENTO LATERAL TE RESULTARA MUy UTIL A LO LARGO DE TU CARRERA COMO dATA sCIENTIST. dURANTE EL ENCUENTRO PODRAS REFLExIONAR SOBRE LO QUE FUE ESTA AVENTURA y LO QUE SIGUE. pREPARA TUS PREGUNTAS. ¡eSTAS EN EL ULTIMO TRAMO!\n"
     ]
    }
   ],
   "source": [
    "text = \"¡Iholflgdghv! Ghvfxeulvwh ho fliudgr fruuhfwr sdud ohhu hvwh phqvdmh. Hvwh wlsr gh shqvdplhqwr odwhudo wh uhvxowdud pxb xwlo d or odujr gh wx fduuhud frpr Gdwd Vflhqwlvw. Gxudqwh ho hqfxhqwur srgudv uhiohalrqdu vreuh or txh ixh hvwd dyhqwxud b or txh vljxh. Suhsdud wxv suhjxqwdv. ¡Hvwdv hq ho xowlpr wudpr!\"\n",
    "\n",
    "decrypted = cipher_cipher_using_lookup(text, 23, characters = (string.ascii_lowercase + string.ascii_uppercase), decrypt = True, shift_type=\"left\")\n",
    "\n",
    "print(\"encrypted text with negative shift:\", text)\n",
    "\n",
    "print(\"recovered text:\",decrypted)"
   ]
  }
 ],
 "metadata": {
  "kernelspec": {
   "display_name": "Python 3",
   "language": "python",
   "name": "python3"
  },
  "language_info": {
   "codemirror_mode": {
    "name": "ipython",
    "version": 3
   },
   "file_extension": ".py",
   "mimetype": "text/x-python",
   "name": "python",
   "nbconvert_exporter": "python",
   "pygments_lexer": "ipython3",
   "version": "3.8.5"
  }
 },
 "nbformat": 4,
 "nbformat_minor": 4
}
