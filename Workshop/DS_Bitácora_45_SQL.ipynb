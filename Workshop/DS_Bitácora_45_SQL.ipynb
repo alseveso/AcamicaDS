{
  "nbformat": 4,
  "nbformat_minor": 0,
  "metadata": {
    "colab": {
      "name": "DS_Bitácora_45_SQL.ipynb",
      "provenance": [],
      "collapsed_sections": []
    },
    "kernelspec": {
      "display_name": "Python 3",
      "language": "python",
      "name": "python3"
    },
    "language_info": {
      "codemirror_mode": {
        "name": "ipython",
        "version": 3
      },
      "file_extension": ".py",
      "mimetype": "text/x-python",
      "name": "python",
      "nbconvert_exporter": "python",
      "pygments_lexer": "ipython3",
      "version": "3.8.2"
    }
  },
  "cells": [
    {
      "cell_type": "markdown",
      "metadata": {
        "id": "mmmXLNm8N87s"
      },
      "source": [
        "# SQL\n",
        "\n",
        "¡Bienvenido/a! En este Notebook trabajaremos con bases de datos relacionales y SQL. Así como el de Scraping, es principalmente, demostrativo.\n",
        "\n",
        "Para eso usaremos la librería SQLite3, ya que es muy sencilla de configurar y no necesita instalar un servidor aparte. También tiene la ventaja de ser compatible con muchos lenguajes de programación. Esta librería suele venir instalada por defecto en Python, por lo que no es necesario instalarla.\n",
        "\n",
        "### 1. Creando una Base de Datos\n",
        "\n",
        "Importamos la librería y creamos un objeto **con**, con el cual nos conectaremos a la base de datos. Esto creará un archivo llamado \"mi_primer_BD.db\"."
      ]
    },
    {
      "cell_type": "code",
      "metadata": {
        "id": "CYmXXMpiSppi"
      },
      "source": [
        "import pandas as pd\n",
        "import numpy as np\n",
        "import sqlite3\n",
        "\n",
        "con = sqlite3.connect('mi_primer_BD.db')"
      ],
      "execution_count": null,
      "outputs": []
    },
    {
      "cell_type": "markdown",
      "metadata": {
        "id": "UEEguyz3THX-"
      },
      "source": [
        "Presta atención, te ha creado un nuevo archivo en la misma carpeta donde está este notebook. Esto lo hará únicamente si esa base de datos no existe previamente.\n",
        "\n",
        "Si quieres trabajar con Python *puro* deberás crear el objeto **cursor**. En nuestro caso usaremos Pandas, que trae métodos para leer y modificar bases de datos SQL.\n",
        "\n",
        "Igualmente te dejamos el código que deberías utilizar."
      ]
    },
    {
      "cell_type": "code",
      "metadata": {
        "id": "FP-7xvSWT4T-"
      },
      "source": [
        "#CREAMOS LA BASE\n",
        "#con = sqlite3.connect('mydatabase.db')\n",
        "#CRREAMOS EL OBJETO CURSOR\n",
        "#cursorObj = con.cursor()"
      ],
      "execution_count": null,
      "outputs": []
    },
    {
      "cell_type": "markdown",
      "metadata": {
        "id": "CU5TqwPiWwGv"
      },
      "source": [
        "Vamos a crear un dataframe que insertaremos en la base de datos como una tabla. Esta va a simular tener información sobre alumnos de Acamica."
      ]
    },
    {
      "cell_type": "code",
      "metadata": {
        "id": "zrT0s2sEvn2b"
      },
      "source": [
        "# Creamos el diccionario\n",
        "data_estudiantes = {'Nombre':['juan', 'esteban', 'nicolas', 'sofia', 'mariano', 'matias', 'paloma', 'valentina'], 'Edad':[30, 21, 19, 45, 27, 23, 29, 55], 'Carrera':['data science', 'data science', 'desarrollo web', 'data science', 'desarrollo web', 'UX', 'data science', 'desarrollo web']} \n",
        "  \n",
        "# Creamos el DataFrame \n",
        "df_estudiantes = pd.DataFrame(data_estudiantes) \n",
        "df_estudiantes.head()"
      ],
      "execution_count": null,
      "outputs": []
    },
    {
      "cell_type": "markdown",
      "metadata": {
        "id": "6K11ICl7vn2g"
      },
      "source": [
        "Ahora, cargamos el DataFrame `df_estudiantes` en la base de datos."
      ]
    },
    {
      "cell_type": "code",
      "metadata": {
        "id": "7vbJuDTZazy_"
      },
      "source": [
        "df_estudiantes.to_sql('estudiantes', con)"
      ],
      "execution_count": null,
      "outputs": []
    },
    {
      "cell_type": "markdown",
      "metadata": {
        "id": "BqZCfwnJcrOl"
      },
      "source": [
        "Para agregarle un poco más de complejidad a la base, vamos a crear una nueva tabla con algunos datos básicos de las carreras."
      ]
    },
    {
      "cell_type": "code",
      "metadata": {
        "id": "VKs4zOHBcwOJ"
      },
      "source": [
        "# Creamos el diccionario\n",
        "data_carreras = {'Carrera':['data science', 'desarrollo web', 'UX', 'front end'],'Comisiones_cursando':[20, 15, 7, 9]} \n",
        "  \n",
        "# Creamos el DataFrame \n",
        "df_carreras = pd.DataFrame(data_carreras) \n",
        "\n",
        "#cargamos el df en la BD\n",
        "df_carreras.to_sql('carreras', con)"
      ],
      "execution_count": null,
      "outputs": []
    },
    {
      "cell_type": "code",
      "metadata": {
        "id": "IQ-iEJyNvn2w"
      },
      "source": [
        "### Cerramos la conexión con la base de Datos\n",
        "\n",
        "con.close()"
      ],
      "execution_count": null,
      "outputs": []
    },
    {
      "cell_type": "markdown",
      "metadata": {
        "id": "r0rw8OApfPl_"
      },
      "source": [
        "¡Felicitaciones! Ya creaste tu primer base de datos de dos tablas.\n",
        "\n",
        "### 2. Interactuando con la Base de Datos\n",
        "\n",
        "Ahora vamos a interactuar con la base de datos y realizar algunas consultas básicas. Para hacerlo más realista, reinicia el kernel, así borramos cualquier información previa."
      ]
    },
    {
      "cell_type": "code",
      "metadata": {
        "id": "nrwHdGTGvn21"
      },
      "source": [
        "import pandas as pd\n",
        "import numpy as np\n",
        "import sqlite3\n",
        "\n",
        "con = sqlite3.connect('mi_primer_BD.db')"
      ],
      "execution_count": null,
      "outputs": []
    },
    {
      "cell_type": "markdown",
      "metadata": {
        "id": "kFiGgA9Cvn25"
      },
      "source": [
        "Tal como viste en la bitácora, usaremos SELECT para buscar elementos. Mirá cada sentencia cómo es y qué hace. Verás que es fácilmente comprensible. Además, presta atención a que, una vez que hicimos el *query*, ya contamos con un DataFrame, ¡con el cual ya sabemos trabajar!"
      ]
    },
    {
      "cell_type": "code",
      "metadata": {
        "id": "rA0K7rrkfV7E",
        "outputId": "6902715e-f614-438b-ed8f-05bc80908001",
        "colab": {
          "base_uri": "https://localhost:8080/",
          "height": 68
        }
      },
      "source": [
        "# Consultamos el nombre de las tablas que tiene nuestra BD\n",
        "print(pd.read_sql(\"SELECT name FROM sqlite_master WHERE type='table';\", con))"
      ],
      "execution_count": null,
      "outputs": [
        {
          "output_type": "stream",
          "text": [
            "          name\n",
            "0  estudiantes\n",
            "1     carreras\n"
          ],
          "name": "stdout"
        }
      ]
    },
    {
      "cell_type": "code",
      "metadata": {
        "id": "Cn3EWDWgjmGG",
        "outputId": "ed7c61d8-c9cd-4d48-f18e-ae4fc14b905e",
        "colab": {
          "base_uri": "https://localhost:8080/",
          "height": 170
        }
      },
      "source": [
        "# Consultamos la tabla estudiantes (el * es equivalente a TODO)\n",
        "print(pd.read_sql(\"SELECT * FROM estudiantes;\", con))"
      ],
      "execution_count": null,
      "outputs": [
        {
          "output_type": "stream",
          "text": [
            "    index     Nombre  Edad         Carrera\n",
            "0       0       juan    30    data science\n",
            "1       1    esteban    21    data science\n",
            "2       2    nicolas    19  desarrollo web\n",
            "3       3      sofia    45    data science\n",
            "4       4    mariano    27  desarrollo web\n",
            "5       5     matias    23              UX\n",
            "6       6     paloma    29    data science\n",
            "7       7  valentina    55  desarrollo web\n",
            "8       0      maria    60  desarrollo web\n",
            "9       1    celeste    17    data science\n",
            "10      2     martin    45              UX\n",
            "11      3        ana    29              UX\n",
            "12      4     ramiro    33    data science\n",
            "13      5     carlos    23  desarrollo web\n"
          ],
          "name": "stdout"
        }
      ]
    },
    {
      "cell_type": "code",
      "metadata": {
        "id": "vkkj9IWTleel",
        "outputId": "9f329671-4cd8-47d7-b4b1-1ab48d945755",
        "colab": {
          "base_uri": "https://localhost:8080/",
          "height": 102
        }
      },
      "source": [
        "# Consultamos la tabla carreras\n",
        "print(pd.read_sql(\"SELECT * FROM carreras;\", con))"
      ],
      "execution_count": null,
      "outputs": [
        {
          "output_type": "stream",
          "text": [
            "   index         Carrera  Comisiones_cursando\n",
            "0      0    data science                   20\n",
            "1      1  desarrollo web                   15\n",
            "2      2              UX                    7\n",
            "3      3       front end                    9\n"
          ],
          "name": "stdout"
        }
      ]
    },
    {
      "cell_type": "code",
      "metadata": {
        "id": "mcLIXfSDVcaA",
        "outputId": "1893687e-9192-41cc-c2ef-9d5a95a42902",
        "colab": {
          "base_uri": "https://localhost:8080/",
          "height": 119
        }
      },
      "source": [
        "# Agregamos un condicional\n",
        "print(pd.read_sql(\"SELECT Nombre FROM estudiantes WHERE Edad BETWEEN 20 and 30\", con))"
      ],
      "execution_count": null,
      "outputs": [
        {
          "output_type": "stream",
          "text": [
            "    Nombre\n",
            "0     juan\n",
            "1  esteban\n",
            "2  mariano\n",
            "3   matias\n",
            "4   paloma\n",
            "5      ana\n",
            "6   carlos\n"
          ],
          "name": "stdout"
        }
      ]
    },
    {
      "cell_type": "code",
      "metadata": {
        "id": "vDAWZxPtWTuD",
        "outputId": "f7a7ede5-558e-4751-cfb4-4a750032ca7d",
        "colab": {
          "base_uri": "https://localhost:8080/",
          "height": 119
        }
      },
      "source": [
        "# Buscamos más información sobre estas personas\n",
        "print(pd.read_sql(\"SELECT Nombre, Carrera FROM estudiantes WHERE Edad BETWEEN 20 and 30\", con))"
      ],
      "execution_count": null,
      "outputs": [
        {
          "output_type": "stream",
          "text": [
            "    Nombre         Carrera\n",
            "0     juan    data science\n",
            "1  esteban    data science\n",
            "2  mariano  desarrollo web\n",
            "3   matias              UX\n",
            "4   paloma    data science\n",
            "5      ana              UX\n",
            "6   carlos  desarrollo web\n"
          ],
          "name": "stdout"
        }
      ]
    },
    {
      "cell_type": "code",
      "metadata": {
        "id": "7AiGPqFwlGp4",
        "outputId": "01466464-19cc-4c55-baf0-87d71f5a01c1",
        "colab": {
          "base_uri": "https://localhost:8080/",
          "height": 68
        }
      },
      "source": [
        "# Realizamos un pedido de la tabla Carreras\n",
        "print(pd.read_sql(\"SELECT Carrera FROM carreras WHERE Comisiones_cursando > 10\", con))"
      ],
      "execution_count": null,
      "outputs": [
        {
          "output_type": "stream",
          "text": [
            "          Carrera\n",
            "0    data science\n",
            "1  desarrollo web\n"
          ],
          "name": "stdout"
        }
      ]
    },
    {
      "cell_type": "code",
      "metadata": {
        "id": "zzHi_bfbRdjh",
        "outputId": "0f09be5c-d142-44aa-cb4e-9293bfe164ca",
        "colab": {
          "base_uri": "https://localhost:8080/",
          "height": 153
        }
      },
      "source": [
        "# Vamos a buscar el nombre de los estudiantes que cursan carreras con más de 15 comisiones abiertas (usaremos las dos tablas)\n",
        "print(pd.read_sql(\"SELECT Nombre FROM estudiantes WHERE Carrera IN (SELECT Carrera FROM carreras WHERE Comisiones_cursando > 10)\", con))"
      ],
      "execution_count": null,
      "outputs": [
        {
          "output_type": "stream",
          "text": [
            "       Nombre\n",
            "0        juan\n",
            "1     esteban\n",
            "2     nicolas\n",
            "3       sofia\n",
            "4     mariano\n",
            "5      paloma\n",
            "6   valentina\n",
            "7       maria\n",
            "8     celeste\n",
            "9      ramiro\n",
            "10     carlos\n"
          ],
          "name": "stdout"
        }
      ]
    },
    {
      "cell_type": "markdown",
      "metadata": {
        "id": "z837L7ztRKxq"
      },
      "source": [
        "### 3. Haciendo cambios en la Base de Datos.\n",
        "\n",
        "En esta sección haremos cambios en la base de datos. Para eso usaremos el método `to_sql` de Pandas: ya lo usaste para crear la base. [Aquí](https://pandas.pydata.org/pandas-docs/stable/reference/api/pandas.DataFrame.to_sql.html) te dejamos la documentación.\n",
        "\n",
        "Por ejemplo, agregaremos filas a la tabla \"estudiantes\"."
      ]
    },
    {
      "cell_type": "code",
      "metadata": {
        "id": "CYspwTZEm259",
        "outputId": "964a396e-2ea2-48cf-e09a-dd45d7eb0404",
        "colab": {
          "base_uri": "https://localhost:8080/",
          "height": 272
        }
      },
      "source": [
        "# Creamos el diccionario con los datos de los nuevos estudiantes\n",
        "data_estudiantes2 = {'Nombre':['maria', 'celeste', 'martin', 'ana', 'ramiro', 'carlos'], 'Edad':[60, 17, 45, 29, 33, 23], 'Carrera':['desarrollo web', 'data science', 'UX', 'UX', 'data science', 'desarrollo web']} \n",
        "\n",
        "# Creamos el DataFrame \n",
        "df_estudiantes2 = pd.DataFrame(data_estudiantes2) \n",
        "\n",
        "# Cargamos el df en la BD\n",
        "df_estudiantes2.to_sql('estudiantes', con, if_exists='append')\n",
        "\n",
        "#imprimimos la base completa\n",
        "print(pd.read_sql(\"SELECT * FROM estudiantes;\", con))"
      ],
      "execution_count": null,
      "outputs": [
        {
          "output_type": "stream",
          "text": [
            "    index     Nombre  Edad         Carrera\n",
            "0       0       juan    30    data science\n",
            "1       1    esteban    21    data science\n",
            "2       2    nicolas    19  desarrollo web\n",
            "3       3      sofia    45    data science\n",
            "4       4    mariano    27  desarrollo web\n",
            "5       5     matias    23              UX\n",
            "6       6     paloma    29    data science\n",
            "7       7  valentina    55  desarrollo web\n",
            "8       0      maria    60  desarrollo web\n",
            "9       1    celeste    17    data science\n",
            "10      2     martin    45              UX\n",
            "11      3        ana    29              UX\n",
            "12      4     ramiro    33    data science\n",
            "13      5     carlos    23  desarrollo web\n",
            "14      0      maria    60  desarrollo web\n",
            "15      1    celeste    17    data science\n",
            "16      2     martin    45              UX\n",
            "17      3        ana    29              UX\n",
            "18      4     ramiro    33    data science\n",
            "19      5     carlos    23  desarrollo web\n"
          ],
          "name": "stdout"
        }
      ]
    },
    {
      "cell_type": "markdown",
      "metadata": {
        "id": "6Sa7KLXDvn3h"
      },
      "source": [
        "**Para probar:**\n",
        "1. Modifica la base de datos, agregando nuevas instancias o una tabla nueva.\n",
        "1. Intenta crear tu propia base de datos."
      ]
    },
    {
      "cell_type": "code",
      "metadata": {
        "id": "qISSV-z0vn3h"
      },
      "source": [
        ""
      ],
      "execution_count": null,
      "outputs": []
    }
  ]
}