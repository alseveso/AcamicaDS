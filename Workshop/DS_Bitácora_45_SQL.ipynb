{
 "cells": [
  {
   "cell_type": "markdown",
   "metadata": {
    "id": "mmmXLNm8N87s"
   },
   "source": [
    "# SQL\n",
    "\n",
    "¡Bienvenido/a! En este Notebook trabajaremos con bases de datos relacionales y SQL. Así como el de Scraping, es principalmente, demostrativo.\n",
    "\n",
    "Para eso usaremos la librería SQLite3, ya que es muy sencilla de configurar y no necesita instalar un servidor aparte. También tiene la ventaja de ser compatible con muchos lenguajes de programación. Esta librería suele venir instalada por defecto en Python, por lo que no es necesario instalarla.\n",
    "\n",
    "### 1. Creando una Base de Datos\n",
    "\n",
    "Importamos la librería y creamos un objeto **con**, con el cual nos conectaremos a la base de datos. Esto creará un archivo llamado \"mi_primer_BD.db\"."
   ]
  },
  {
   "cell_type": "code",
   "execution_count": 1,
   "metadata": {
    "id": "CYmXXMpiSppi"
   },
   "outputs": [],
   "source": [
    "import pandas as pd\n",
    "import numpy as np\n",
    "import sqlite3\n",
    "\n",
    "con = sqlite3.connect('mi_primer_BD.db')"
   ]
  },
  {
   "cell_type": "markdown",
   "metadata": {
    "id": "UEEguyz3THX-"
   },
   "source": [
    "Presta atención, te ha creado un nuevo archivo en la misma carpeta donde está este notebook. Esto lo hará únicamente si esa base de datos no existe previamente.\n",
    "\n",
    "Si quieres trabajar con Python *puro* deberás crear el objeto **cursor**. En nuestro caso usaremos Pandas, que trae métodos para leer y modificar bases de datos SQL.\n",
    "\n",
    "Igualmente te dejamos el código que deberías utilizar."
   ]
  },
  {
   "cell_type": "code",
   "execution_count": 2,
   "metadata": {
    "id": "FP-7xvSWT4T-"
   },
   "outputs": [],
   "source": [
    "#CREAMOS LA BASE\n",
    "#con = sqlite3.connect('mydatabase.db')\n",
    "#CRREAMOS EL OBJETO CURSOR\n",
    "#cursorObj = con.cursor()"
   ]
  },
  {
   "cell_type": "markdown",
   "metadata": {
    "id": "CU5TqwPiWwGv"
   },
   "source": [
    "Vamos a crear un dataframe que insertaremos en la base de datos como una tabla. Esta va a simular tener información sobre alumnos de Acamica."
   ]
  },
  {
   "cell_type": "code",
   "execution_count": 3,
   "metadata": {
    "id": "zrT0s2sEvn2b"
   },
   "outputs": [
    {
     "data": {
      "text/html": [
       "<div>\n",
       "<style scoped>\n",
       "    .dataframe tbody tr th:only-of-type {\n",
       "        vertical-align: middle;\n",
       "    }\n",
       "\n",
       "    .dataframe tbody tr th {\n",
       "        vertical-align: top;\n",
       "    }\n",
       "\n",
       "    .dataframe thead th {\n",
       "        text-align: right;\n",
       "    }\n",
       "</style>\n",
       "<table border=\"1\" class=\"dataframe\">\n",
       "  <thead>\n",
       "    <tr style=\"text-align: right;\">\n",
       "      <th></th>\n",
       "      <th>Nombre</th>\n",
       "      <th>Edad</th>\n",
       "      <th>Carrera</th>\n",
       "    </tr>\n",
       "  </thead>\n",
       "  <tbody>\n",
       "    <tr>\n",
       "      <th>0</th>\n",
       "      <td>juan</td>\n",
       "      <td>30</td>\n",
       "      <td>data science</td>\n",
       "    </tr>\n",
       "    <tr>\n",
       "      <th>1</th>\n",
       "      <td>esteban</td>\n",
       "      <td>21</td>\n",
       "      <td>data science</td>\n",
       "    </tr>\n",
       "    <tr>\n",
       "      <th>2</th>\n",
       "      <td>nicolas</td>\n",
       "      <td>19</td>\n",
       "      <td>desarrollo web</td>\n",
       "    </tr>\n",
       "    <tr>\n",
       "      <th>3</th>\n",
       "      <td>sofia</td>\n",
       "      <td>45</td>\n",
       "      <td>data science</td>\n",
       "    </tr>\n",
       "    <tr>\n",
       "      <th>4</th>\n",
       "      <td>mariano</td>\n",
       "      <td>27</td>\n",
       "      <td>desarrollo web</td>\n",
       "    </tr>\n",
       "  </tbody>\n",
       "</table>\n",
       "</div>"
      ],
      "text/plain": [
       "    Nombre  Edad         Carrera\n",
       "0     juan    30    data science\n",
       "1  esteban    21    data science\n",
       "2  nicolas    19  desarrollo web\n",
       "3    sofia    45    data science\n",
       "4  mariano    27  desarrollo web"
      ]
     },
     "execution_count": 3,
     "metadata": {},
     "output_type": "execute_result"
    }
   ],
   "source": [
    "# Creamos el diccionario\n",
    "data_estudiantes = {'Nombre':['juan', 'esteban', 'nicolas', 'sofia', 'mariano', 'matias', 'paloma', 'valentina'], 'Edad':[30, 21, 19, 45, 27, 23, 29, 55], 'Carrera':['data science', 'data science', 'desarrollo web', 'data science', 'desarrollo web', 'UX', 'data science', 'desarrollo web']} \n",
    "  \n",
    "# Creamos el DataFrame \n",
    "df_estudiantes = pd.DataFrame(data_estudiantes) \n",
    "df_estudiantes.head()"
   ]
  },
  {
   "cell_type": "markdown",
   "metadata": {
    "id": "6K11ICl7vn2g"
   },
   "source": [
    "Ahora, cargamos el DataFrame `df_estudiantes` en la base de datos."
   ]
  },
  {
   "cell_type": "code",
   "execution_count": 4,
   "metadata": {
    "id": "7vbJuDTZazy_"
   },
   "outputs": [],
   "source": [
    "df_estudiantes.to_sql('estudiantes', con)"
   ]
  },
  {
   "cell_type": "markdown",
   "metadata": {
    "id": "BqZCfwnJcrOl"
   },
   "source": [
    "Para agregarle un poco más de complejidad a la base, vamos a crear una nueva tabla con algunos datos básicos de las carreras."
   ]
  },
  {
   "cell_type": "code",
   "execution_count": 5,
   "metadata": {
    "id": "VKs4zOHBcwOJ"
   },
   "outputs": [],
   "source": [
    "# Creamos el diccionario\n",
    "data_carreras = {'Carrera':['data science', 'desarrollo web', 'UX', 'front end'],'Comisiones_cursando':[20, 15, 7, 9]} \n",
    "  \n",
    "# Creamos el DataFrame \n",
    "df_carreras = pd.DataFrame(data_carreras) \n",
    "\n",
    "#cargamos el df en la BD\n",
    "df_carreras.to_sql('carreras', con)"
   ]
  },
  {
   "cell_type": "code",
   "execution_count": 6,
   "metadata": {
    "id": "IQ-iEJyNvn2w"
   },
   "outputs": [],
   "source": [
    "### Cerramos la conexión con la base de Datos\n",
    "\n",
    "con.close()"
   ]
  },
  {
   "cell_type": "markdown",
   "metadata": {
    "id": "r0rw8OApfPl_"
   },
   "source": [
    "¡Felicitaciones! Ya creaste tu primer base de datos de dos tablas.\n",
    "\n",
    "### 2. Interactuando con la Base de Datos\n",
    "\n",
    "Ahora vamos a interactuar con la base de datos y realizar algunas consultas básicas. Para hacerlo más realista, reinicia el kernel, así borramos cualquier información previa."
   ]
  },
  {
   "cell_type": "code",
   "execution_count": 7,
   "metadata": {
    "id": "nrwHdGTGvn21"
   },
   "outputs": [],
   "source": [
    "import pandas as pd\n",
    "import numpy as np\n",
    "import sqlite3\n",
    "\n",
    "con = sqlite3.connect('mi_primer_BD.db')"
   ]
  },
  {
   "cell_type": "markdown",
   "metadata": {
    "id": "kFiGgA9Cvn25"
   },
   "source": [
    "Tal como viste en la bitácora, usaremos SELECT para buscar elementos. Mirá cada sentencia cómo es y qué hace. Verás que es fácilmente comprensible. Además, presta atención a que, una vez que hicimos el *query*, ya contamos con un DataFrame, ¡con el cual ya sabemos trabajar!"
   ]
  },
  {
   "cell_type": "code",
   "execution_count": 8,
   "metadata": {
    "colab": {
     "base_uri": "https://localhost:8080/",
     "height": 68
    },
    "id": "rA0K7rrkfV7E",
    "outputId": "6902715e-f614-438b-ed8f-05bc80908001"
   },
   "outputs": [
    {
     "name": "stdout",
     "output_type": "stream",
     "text": [
      "          name\n",
      "0  estudiantes\n",
      "1     carreras\n"
     ]
    }
   ],
   "source": [
    "# Consultamos el nombre de las tablas que tiene nuestra BD\n",
    "print(pd.read_sql(\"SELECT name FROM sqlite_master WHERE type='table';\", con))"
   ]
  },
  {
   "cell_type": "code",
   "execution_count": 9,
   "metadata": {
    "colab": {
     "base_uri": "https://localhost:8080/",
     "height": 170
    },
    "id": "Cn3EWDWgjmGG",
    "outputId": "ed7c61d8-c9cd-4d48-f18e-ae4fc14b905e"
   },
   "outputs": [
    {
     "name": "stdout",
     "output_type": "stream",
     "text": [
      "   index     Nombre  Edad         Carrera\n",
      "0      0       juan    30    data science\n",
      "1      1    esteban    21    data science\n",
      "2      2    nicolas    19  desarrollo web\n",
      "3      3      sofia    45    data science\n",
      "4      4    mariano    27  desarrollo web\n",
      "5      5     matias    23              UX\n",
      "6      6     paloma    29    data science\n",
      "7      7  valentina    55  desarrollo web\n"
     ]
    }
   ],
   "source": [
    "# Consultamos la tabla estudiantes (el * es equivalente a TODO)\n",
    "print(pd.read_sql(\"SELECT * FROM estudiantes;\", con))"
   ]
  },
  {
   "cell_type": "code",
   "execution_count": 10,
   "metadata": {
    "colab": {
     "base_uri": "https://localhost:8080/",
     "height": 102
    },
    "id": "vkkj9IWTleel",
    "outputId": "9f329671-4cd8-47d7-b4b1-1ab48d945755"
   },
   "outputs": [
    {
     "name": "stdout",
     "output_type": "stream",
     "text": [
      "   index         Carrera  Comisiones_cursando\n",
      "0      0    data science                   20\n",
      "1      1  desarrollo web                   15\n",
      "2      2              UX                    7\n",
      "3      3       front end                    9\n"
     ]
    }
   ],
   "source": [
    "# Consultamos la tabla carreras\n",
    "print(pd.read_sql(\"SELECT * FROM carreras;\", con))"
   ]
  },
  {
   "cell_type": "code",
   "execution_count": 11,
   "metadata": {
    "colab": {
     "base_uri": "https://localhost:8080/",
     "height": 119
    },
    "id": "mcLIXfSDVcaA",
    "outputId": "1893687e-9192-41cc-c2ef-9d5a95a42902"
   },
   "outputs": [
    {
     "name": "stdout",
     "output_type": "stream",
     "text": [
      "    Nombre\n",
      "0     juan\n",
      "1  esteban\n",
      "2  mariano\n",
      "3   matias\n",
      "4   paloma\n"
     ]
    }
   ],
   "source": [
    "# Agregamos un condicional\n",
    "print(pd.read_sql(\"SELECT Nombre FROM estudiantes WHERE Edad BETWEEN 20 and 30\", con))"
   ]
  },
  {
   "cell_type": "code",
   "execution_count": 12,
   "metadata": {
    "colab": {
     "base_uri": "https://localhost:8080/",
     "height": 119
    },
    "id": "vDAWZxPtWTuD",
    "outputId": "f7a7ede5-558e-4751-cfb4-4a750032ca7d"
   },
   "outputs": [
    {
     "name": "stdout",
     "output_type": "stream",
     "text": [
      "    Nombre         Carrera\n",
      "0     juan    data science\n",
      "1  esteban    data science\n",
      "2  mariano  desarrollo web\n",
      "3   matias              UX\n",
      "4   paloma    data science\n"
     ]
    }
   ],
   "source": [
    "# Buscamos más información sobre estas personas\n",
    "print(pd.read_sql(\"SELECT Nombre, Carrera FROM estudiantes WHERE Edad BETWEEN 20 and 30\", con))"
   ]
  },
  {
   "cell_type": "code",
   "execution_count": 13,
   "metadata": {
    "colab": {
     "base_uri": "https://localhost:8080/",
     "height": 68
    },
    "id": "7AiGPqFwlGp4",
    "outputId": "01466464-19cc-4c55-baf0-87d71f5a01c1"
   },
   "outputs": [
    {
     "name": "stdout",
     "output_type": "stream",
     "text": [
      "          Carrera\n",
      "0    data science\n",
      "1  desarrollo web\n"
     ]
    }
   ],
   "source": [
    "# Realizamos un pedido de la tabla Carreras\n",
    "print(pd.read_sql(\"SELECT Carrera FROM carreras WHERE Comisiones_cursando > 10\", con))"
   ]
  },
  {
   "cell_type": "code",
   "execution_count": 14,
   "metadata": {
    "colab": {
     "base_uri": "https://localhost:8080/",
     "height": 153
    },
    "id": "zzHi_bfbRdjh",
    "outputId": "0f09be5c-d142-44aa-cb4e-9293bfe164ca"
   },
   "outputs": [
    {
     "name": "stdout",
     "output_type": "stream",
     "text": [
      "      Nombre\n",
      "0       juan\n",
      "1    esteban\n",
      "2    nicolas\n",
      "3      sofia\n",
      "4    mariano\n",
      "5     paloma\n",
      "6  valentina\n"
     ]
    }
   ],
   "source": [
    "# Vamos a buscar el nombre de los estudiantes que cursan carreras con más de 15 comisiones abiertas (usaremos las dos tablas)\n",
    "print(pd.read_sql(\"SELECT Nombre FROM estudiantes WHERE Carrera IN (SELECT Carrera FROM carreras WHERE Comisiones_cursando > 10)\", con))"
   ]
  },
  {
   "cell_type": "markdown",
   "metadata": {
    "id": "z837L7ztRKxq"
   },
   "source": [
    "### 3. Haciendo cambios en la Base de Datos.\n",
    "\n",
    "En esta sección haremos cambios en la base de datos. Para eso usaremos el método `to_sql` de Pandas: ya lo usaste para crear la base. [Aquí](https://pandas.pydata.org/pandas-docs/stable/reference/api/pandas.DataFrame.to_sql.html) te dejamos la documentación.\n",
    "\n",
    "Por ejemplo, agregaremos filas a la tabla \"estudiantes\"."
   ]
  },
  {
   "cell_type": "code",
   "execution_count": 15,
   "metadata": {
    "colab": {
     "base_uri": "https://localhost:8080/",
     "height": 272
    },
    "id": "CYspwTZEm259",
    "outputId": "964a396e-2ea2-48cf-e09a-dd45d7eb0404"
   },
   "outputs": [
    {
     "name": "stdout",
     "output_type": "stream",
     "text": [
      "    index     Nombre  Edad         Carrera\n",
      "0       0       juan    30    data science\n",
      "1       1    esteban    21    data science\n",
      "2       2    nicolas    19  desarrollo web\n",
      "3       3      sofia    45    data science\n",
      "4       4    mariano    27  desarrollo web\n",
      "5       5     matias    23              UX\n",
      "6       6     paloma    29    data science\n",
      "7       7  valentina    55  desarrollo web\n",
      "8       0      maria    60  desarrollo web\n",
      "9       1    celeste    17    data science\n",
      "10      2     martin    45              UX\n",
      "11      3        ana    29              UX\n",
      "12      4     ramiro    33    data science\n",
      "13      5     carlos    23  desarrollo web\n"
     ]
    }
   ],
   "source": [
    "# Creamos el diccionario con los datos de los nuevos estudiantes\n",
    "data_estudiantes2 = {'Nombre':['maria', 'celeste', 'martin', 'ana', 'ramiro', 'carlos'], 'Edad':[60, 17, 45, 29, 33, 23], 'Carrera':['desarrollo web', 'data science', 'UX', 'UX', 'data science', 'desarrollo web']} \n",
    "\n",
    "# Creamos el DataFrame \n",
    "df_estudiantes2 = pd.DataFrame(data_estudiantes2) \n",
    "\n",
    "# Cargamos el df en la BD\n",
    "df_estudiantes2.to_sql('estudiantes', con, if_exists='append')\n",
    "\n",
    "#imprimimos la base completa\n",
    "print(pd.read_sql(\"SELECT * FROM estudiantes;\", con))"
   ]
  },
  {
   "cell_type": "markdown",
   "metadata": {
    "id": "6Sa7KLXDvn3h"
   },
   "source": [
    "**Para probar:**\n",
    "1. Modifica la base de datos, agregando nuevas instancias o una tabla nueva."
   ]
  },
  {
   "cell_type": "code",
   "execution_count": 16,
   "metadata": {
    "id": "qISSV-z0vn3h"
   },
   "outputs": [],
   "source": [
    "data_carreras2 = {'Carrera':['back end', 'power bi'],'Comisiones_cursando':[12, 14]} "
   ]
  },
  {
   "cell_type": "code",
   "execution_count": 17,
   "metadata": {},
   "outputs": [],
   "source": [
    "df_carreras2 = pd.DataFrame(data_carreras2)"
   ]
  },
  {
   "cell_type": "code",
   "execution_count": 18,
   "metadata": {},
   "outputs": [],
   "source": [
    "df_carreras2.to_sql('carreras', con, if_exists='append')"
   ]
  },
  {
   "cell_type": "code",
   "execution_count": 19,
   "metadata": {},
   "outputs": [
    {
     "name": "stdout",
     "output_type": "stream",
     "text": [
      "   index         Carrera  Comisiones_cursando\n",
      "0      0    data science                   20\n",
      "1      1  desarrollo web                   15\n",
      "2      2              UX                    7\n",
      "3      3       front end                    9\n",
      "4      0        back end                   12\n",
      "5      1        power bi                   14\n"
     ]
    }
   ],
   "source": [
    "#imprimimos la base completa\n",
    "print(pd.read_sql(\"SELECT * FROM carreras;\", con))"
   ]
  },
  {
   "cell_type": "markdown",
   "metadata": {},
   "source": [
    "2. Intenta crear tu propia base de datos."
   ]
  },
  {
   "cell_type": "code",
   "execution_count": 20,
   "metadata": {},
   "outputs": [],
   "source": [
    "# Creamos el diccionario\n",
    "data_alumnos = {'Nombre':['lucia', 'pablo', 'nicolas', 'abril', 'alma', 'lina'], 'Edad':[12, 11, 8, 11, 10, 9], 'Curso':['séptimo', 'sexto', 'tercero', 'sexto', 'quinto', 'cuarto']} \n",
    "  \n",
    "# Creamos el DataFrame \n",
    "df_alumnos = pd.DataFrame(data_alumnos) \n",
    "\n",
    "#cargamos el df en la BD\n",
    "df_alumnos.to_sql('alumnos', con)"
   ]
  },
  {
   "cell_type": "code",
   "execution_count": 21,
   "metadata": {},
   "outputs": [],
   "source": [
    "# Creamos el diccionario\n",
    "data_curso = {'Curso':['séptimo', 'sexto', 'tercero', 'sexto', 'quinto', 'cuarto'],'alumnos_cursando':[20, 15, 25, 28, 32, 18]} \n",
    "  \n",
    "# Creamos el DataFrame \n",
    "df_curso = pd.DataFrame(data_curso) \n",
    "\n",
    "#cargamos el df en la BD\n",
    "df_curso.to_sql('curso', con)"
   ]
  },
  {
   "cell_type": "code",
   "execution_count": 22,
   "metadata": {},
   "outputs": [],
   "source": [
    "### Cerramos la conexión con la base de Datos\n",
    "\n",
    "con.close()"
   ]
  }
 ],
 "metadata": {
  "colab": {
   "collapsed_sections": [],
   "name": "DS_Bitácora_45_SQL.ipynb",
   "provenance": []
  },
  "kernelspec": {
   "display_name": "Python 3",
   "language": "python",
   "name": "python3"
  },
  "language_info": {
   "codemirror_mode": {
    "name": "ipython",
    "version": 3
   },
   "file_extension": ".py",
   "mimetype": "text/x-python",
   "name": "python",
   "nbconvert_exporter": "python",
   "pygments_lexer": "ipython3",
   "version": "3.8.5"
  }
 },
 "nbformat": 4,
 "nbformat_minor": 4
}
