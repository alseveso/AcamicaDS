{
 "cells": [
  {
   "cell_type": "markdown",
   "metadata": {},
   "source": [
    "# Redes Neuronales\n",
    "\n",
    "Cuando hablamos de Redes Neuronales, entramos al mundo de la Inteligencia Artificial (IA) o Deep Learning (DL).\n",
    "\n",
    "Las redes neuronales son la mejor opción para grandes bases de datos No Estructurados, como ser:\n",
    "1. Imágenes;\n",
    "2. Textos;\n",
    "3. Audios.\n",
    "\n",
    "Sin embargo, en el caso de los datos Estructurados, un modelo de ML puede dar mejores resultados en menos tiempo y con menor costo (no se justifica utilizar IA por una mínima mejora en los resultados)."
   ]
  },
  {
   "cell_type": "markdown",
   "metadata": {},
   "source": [
    "Feature Engineering (Ingeniería de Características): Preprocesamiento de datos. Nos preocupamos por los mejores atributos a utilizar en el modelo.\n",
    "\n",
    "En RN no es necesario hacer FE."
   ]
  },
  {
   "cell_type": "markdown",
   "metadata": {},
   "source": [
    "Diferencia entre ML y DL:\n",
    "\n",
    "ML: Para datos Estructurados y con Preprocesamiento de Datos.\n",
    "DL: Para datos No Estructurados y no es necesario hacer Preprocesamiento de Datos.\n",
    "\n",
    "Ambos tienen Hiperparámetros y hay que hacer optimización de Hiperparámetros, pero con DL no siempre es necesario hacer imputación, encoding, eliminación."
   ]
  }
 ],
 "metadata": {
  "kernelspec": {
   "display_name": "Python 3",
   "language": "python",
   "name": "python3"
  },
  "language_info": {
   "codemirror_mode": {
    "name": "ipython",
    "version": 3
   },
   "file_extension": ".py",
   "mimetype": "text/x-python",
   "name": "python",
   "nbconvert_exporter": "python",
   "pygments_lexer": "ipython3",
   "version": "3.8.5"
  }
 },
 "nbformat": 4,
 "nbformat_minor": 4
}
