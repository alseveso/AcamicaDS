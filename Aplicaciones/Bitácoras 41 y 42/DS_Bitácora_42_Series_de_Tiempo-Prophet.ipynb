{
 "cells": [
  {
   "cell_type": "markdown",
   "metadata": {
    "colab_type": "text",
    "id": "jXf_R03EtAff"
   },
   "source": [
    "# Series de Tiempo\n",
    "\n",
    "En este notebook abordaremos el problema de predicción a futuro (*forecasting*). No es un notebook exhaustivo, sino que se trata simplemente de un notebook para introducir algunas metodologías.\n",
    "\n",
    "Cargamos los datos y preprocesamos para tener nuevamente la serie promedio semanal."
   ]
  },
  {
   "cell_type": "markdown",
   "metadata": {
    "colab_type": "text",
    "id": "vr8D-CzLtAhd"
   },
   "source": [
    "## 3. Prophet\n",
    "\n",
    "Instala y estudia las características de esta librería. Intenta utilizarla para obtener los componentes de la serie y para predecir. ¡Recuerda seguir la documentación!"
   ]
  },
  {
   "cell_type": "markdown",
   "metadata": {},
   "source": [
    "* Calcula comportamiento de la señal, anualmente, semanalmente, etc.\n",
    "* Es bueno para predicciones"
   ]
  },
  {
   "cell_type": "code",
   "execution_count": null,
   "metadata": {},
   "outputs": [],
   "source": [
    "import pandas as pd\n",
    "from fbprophet import Prophet\n",
    "from fbprophet.plot import plot_plotly, plot_components_plotly"
   ]
  },
  {
   "cell_type": "code",
   "execution_count": null,
   "metadata": {},
   "outputs": [],
   "source": [
    "ds = pd.read_csv('DS_Bitácora_41_Temperatura.csv')\n",
    "ds['fecha'] = pd.to_datetime({'year':data.anio, 'month': data.mes, 'day': data.dia})\n",
    "ds.head()"
   ]
  },
  {
   "cell_type": "code",
   "execution_count": null,
   "metadata": {},
   "outputs": [],
   "source": [
    "# Python\n",
    "m = Prophet()\n",
    "m.fit(ds)"
   ]
  },
  {
   "cell_type": "code",
   "execution_count": null,
   "metadata": {},
   "outputs": [],
   "source": [
    "future = m.make_future_dataframe(periods=365)\n",
    "future.tail()"
   ]
  }
 ],
 "metadata": {
  "colab": {
   "name": "DS_Bitácora_42_Series_de_Tiempo.ipynb",
   "provenance": []
  },
  "kernelspec": {
   "display_name": "Python 3",
   "language": "python",
   "name": "python3"
  },
  "language_info": {
   "codemirror_mode": {
    "name": "ipython",
    "version": 3
   },
   "file_extension": ".py",
   "mimetype": "text/x-python",
   "name": "python",
   "nbconvert_exporter": "python",
   "pygments_lexer": "ipython3",
   "version": "3.7.8"
  }
 },
 "nbformat": 4,
 "nbformat_minor": 4
}
