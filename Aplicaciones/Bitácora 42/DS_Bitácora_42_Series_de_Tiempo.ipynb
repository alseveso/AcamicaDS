{
  "nbformat": 4,
  "nbformat_minor": 0,
  "metadata": {
    "kernelspec": {
      "display_name": "Python 3",
      "language": "python",
      "name": "python3"
    },
    "language_info": {
      "codemirror_mode": {
        "name": "ipython",
        "version": 3
      },
      "file_extension": ".py",
      "mimetype": "text/x-python",
      "name": "python",
      "nbconvert_exporter": "python",
      "pygments_lexer": "ipython3",
      "version": "3.8.2"
    },
    "colab": {
      "name": "DS_Bitácora_42_Series_de_Tiempo.ipynb",
      "provenance": []
    }
  },
  "cells": [
    {
      "cell_type": "markdown",
      "metadata": {
        "id": "jXf_R03EtAff",
        "colab_type": "text"
      },
      "source": [
        "# Series de Tiempo\n",
        "\n",
        "En este notebook abordaremos el problema de predicción a futuro (*forecasting*). No es un notebook exhaustivo, sino que se trata simplemente de un notebook para introducir algunas metodologías.\n",
        "\n",
        "Cargamos los datos y preprocesamos para tener nuevamente la serie promedio semanal."
      ]
    },
    {
      "cell_type": "code",
      "metadata": {
        "id": "Q_ua-De-tAfg",
        "colab_type": "code",
        "colab": {}
      },
      "source": [
        "import pandas as pd\n",
        "import numpy as np\n",
        "import matplotlib.pyplot as plt\n",
        "import seaborn as sns\n",
        "import datetime\n",
        "sns.set()\n"
      ],
      "execution_count": null,
      "outputs": []
    },
    {
      "cell_type": "code",
      "metadata": {
        "id": "xQM7KQAQtAfo",
        "colab_type": "code",
        "colab": {}
      },
      "source": [
        "data = pd.read_csv('DS_Bitácora_41_Temperatura.csv')\n",
        "data['fecha'] = pd.to_datetime({'year':data.anio, 'month': data.mes, 'day': data.dia})\n",
        "data.head()"
      ],
      "execution_count": null,
      "outputs": []
    },
    {
      "cell_type": "code",
      "metadata": {
        "id": "IEg2PR8GtAft",
        "colab_type": "code",
        "colab": {}
      },
      "source": [
        "semanal = data.resample('W', on = 'fecha').mean()\n",
        "semanal.Tmax[semanal.Tmax > 50] = np.nan\n",
        "semanal.Tmin[semanal.Tmin > 50] = np.nan\n",
        "semanal.drop(columns = ['dia', 'mes', 'anio'], inplace = True)\n",
        "semanal['Tmean'] = (semanal.Tmax + semanal.Tmin)/2\n",
        "semanal = semanal.interpolate()\n",
        "semanal.head()"
      ],
      "execution_count": null,
      "outputs": []
    },
    {
      "cell_type": "code",
      "metadata": {
        "id": "QxzWOPEZtAfx",
        "colab_type": "code",
        "colab": {}
      },
      "source": [
        "plt.figure(figsize = (15,5))\n",
        "plt.plot(semanal.index, semanal.Tmean, label = 'Temperatura Promedio')\n",
        "plt.xlabel('Fecha')\n",
        "plt.ylabel('Temperatura (°C)')\n",
        "# plt.xlim(datetime.date(1990,1,1), datetime.date(2018,1,1))\n",
        "# plt.ylim(-10,40)\n",
        "plt.legend()\n",
        "plt.show()"
      ],
      "execution_count": null,
      "outputs": []
    },
    {
      "cell_type": "markdown",
      "metadata": {
        "id": "ya4IdSoitAf1",
        "colab_type": "text"
      },
      "source": [
        "## 1. Autocorrelación\n",
        "\n",
        "Recomendamos fuertemente [este artículo](https://machinelearningmastery.com/gentle-introduction-autocorrelation-partial-autocorrelation/) para una mucho mejor exposición de este tema.\n",
        "\n",
        "Como ya hemos visto, la correlación es una cuantificación de la relación entre el comportamiento de dos variables. En un lenguaje coloquial:\n",
        "1. Cuanda ambas crecen y decrecen a la vez, decimos que están positivamente correlacionadas (valor cercano a 1).\n",
        "1. Si una decrece y la otra crece, y viceversa, están negativamente correlacionadas (valor cercano a -1).\n",
        "1. Y si no parece haber una relación entre su comportamiento, no están correlacionadas (valor alrededor de 0).\n",
        "\n",
        "Vimos que hay más de una forma de calcular la correlación, la más conocida la correlación de Pearson o lineal.\n",
        "\n",
        "En series de tiempo, el concepto de correlación aplica perfectamente. Dos series de tiempo están correlacionadas si su comportamiento en el tiempo es parecido (crecen y decrecen juntas) o anti-correlacionadas si una es máxima cuando la otra es mínima, y viceversa. También existe el concepto de autocorrelación, que es - a grosso modo - la correlación de una serie consigo misma. Pero toda variable correlacionada consigo misma da 1, por lo que estaría faltando algo. Lo que falta son los *lags*. Vamos a calcular la correlación con la serie de tiempo original y la misma serie desfasada o corrida en el tiempo. \n",
        "\n",
        "En la librería `statsmodel` esto lo logramos con la función `acf`. Como siempre, te recomendamos leer la documentación y ver bien los argumentos de esta función.\n"
      ]
    },
    {
      "cell_type": "code",
      "metadata": {
        "id": "KhW-ilbZtAf2",
        "colab_type": "code",
        "colab": {}
      },
      "source": [
        "from statsmodels.tsa.stattools import acf\n",
        "\n",
        "nlags =  52*20\n",
        "autocorr = acf(semanal.Tmean, nlags = nlags)"
      ],
      "execution_count": null,
      "outputs": []
    },
    {
      "cell_type": "code",
      "metadata": {
        "id": "bMzAhRUctAf6",
        "colab_type": "code",
        "colab": {}
      },
      "source": [
        "autocorr.shape"
      ],
      "execution_count": null,
      "outputs": []
    },
    {
      "cell_type": "code",
      "metadata": {
        "id": "nBdM8NEwtAf_",
        "colab_type": "code",
        "colab": {}
      },
      "source": [
        "plt.figure(figsize = (8,5))\n",
        "plt.scatter(np.arange(nlags+1), autocorr)\n",
        "plt.xlabel('lag')"
      ],
      "execution_count": null,
      "outputs": []
    },
    {
      "cell_type": "markdown",
      "metadata": {
        "id": "63_Hg0a1tAgE",
        "colab_type": "text"
      },
      "source": [
        "A este gráfico a veces se lo suele llamar correlograma.\n",
        "\n",
        "**Para pensar e investigar:** ¿por qué el primer valor es 1?¿Por qué va decreciendo en el tiempo?¿Qué nos puede decir eso con respecto al problema de predicción a futuro?\n",
        "\n",
        "**Ejercicio:** leer la documentación e interpretar el siguiente gráfico.\n"
      ]
    },
    {
      "cell_type": "code",
      "metadata": {
        "id": "q_fQ-RcatAgF",
        "colab_type": "code",
        "colab": {}
      },
      "source": [
        "from statsmodels.graphics.tsaplots import plot_acf\n",
        "plot_acf(semanal.Tmean, lags = 52*10)\n",
        "plt.show()"
      ],
      "execution_count": null,
      "outputs": []
    },
    {
      "cell_type": "markdown",
      "metadata": {
        "id": "fRSF2UhUtAgJ",
        "colab_type": "text"
      },
      "source": [
        "Es importante cuando se correlacionan series entre sí tener en cuenta la tendencia. Dos series con tendencias fuertes crecientes estarán trivialmente correlacionadas. Steven Skiena lo explica claramente en The Data Science Design Manual aplicado a series de tiempo de precios:\n",
        "\n",
        "> *La otra corrección importante es la inflación. El valor en el tiempo del dinero implica que un dólar hoy es (generalmente) más valioso que un dólar al año a partir de ahora (...). Usar precios no ajustados por inflación en un modelo durante períodos de tiempo no-triviales es buscarse problemas. Un grupo de mis estudiantes una vez se entusiasmó mucho con la fuerte correlación observada entre los precios de unas acciones y los precios del petróleo durante un período de treinta años, y por eso intentaron usar los precios de las acciones en un modelo de predicción de productos. Pero ambos bienes tenían un precio en dólares, sin ningún ajuste a medida que se inflaban. La serie temporal de precios de esencialmente cualquier par de artículos se correlacionará fuertemente con el tiempo cuando no corrijas por inflación.*\n",
        "\n",
        "## 2. Predicción a Futuro\n",
        "\n",
        "### 2.1. One-Step Prediction\n",
        "\n",
        "Vamos a entrenar un `RandomForestRegressor` para predecir el siguiente valor en la serie de tiempo semanal de temperatura. Utilizaremos los diez primeros años como conjunto de entrenamiento. Y los años 11 a 14 como evaluación. Para ello, tenemos que llevar los datos a la forma vista durante la presentación."
      ]
    },
    {
      "cell_type": "code",
      "metadata": {
        "id": "fMebK1_utAgJ",
        "colab_type": "code",
        "colab": {}
      },
      "source": [
        "senial = semanal.Tmean\n",
        "senial.head()"
      ],
      "execution_count": null,
      "outputs": []
    },
    {
      "cell_type": "markdown",
      "metadata": {
        "id": "2MTZGOvntAgO",
        "colab_type": "text"
      },
      "source": [
        "En primer lugar, debemos definir cuántos valores *hacia atrás* tomaremos."
      ]
    },
    {
      "cell_type": "code",
      "metadata": {
        "id": "YRJrIdV3tAgP",
        "colab_type": "code",
        "colab": {}
      },
      "source": [
        "look_back = 52*2 # usamos dos anios de datos para predecir el valor siguiente"
      ],
      "execution_count": null,
      "outputs": []
    },
    {
      "cell_type": "markdown",
      "metadata": {
        "id": "R7pZ6BU6tAgT",
        "colab_type": "text"
      },
      "source": [
        "Creamos los `X` e `y` con ceros para luego llenar con los datos. Notar los `shape`"
      ]
    },
    {
      "cell_type": "code",
      "metadata": {
        "id": "0SY3ZnaCtAgU",
        "colab_type": "code",
        "colab": {}
      },
      "source": [
        "N = senial.shape[0]\n",
        "X = np.zeros((N - look_back - 1,look_back))\n",
        "y = np.zeros(N - look_back - 1)\n",
        "print(X.shape, y.shape)"
      ],
      "execution_count": null,
      "outputs": []
    },
    {
      "cell_type": "markdown",
      "metadata": {
        "id": "tncB6RrctAgZ",
        "colab_type": "text"
      },
      "source": [
        "Llenamos los `X` e `y`"
      ]
    },
    {
      "cell_type": "code",
      "metadata": {
        "id": "DdBOmXZ7tAga",
        "colab_type": "code",
        "colab": {}
      },
      "source": [
        "for i in range(X.shape[0]):\n",
        "#     X[i,:] = senial.values.iloc[i:i+look_back]\n",
        "#     y[i] = senial.values.iloc[i+look_back]\n",
        "    X[i,:] = senial.iloc[i:i+look_back]\n",
        "    y[i] = senial.iloc[i+look_back]"
      ],
      "execution_count": null,
      "outputs": []
    },
    {
      "cell_type": "code",
      "metadata": {
        "id": "hiwEzMt8tAgd",
        "colab_type": "code",
        "colab": {}
      },
      "source": [
        "print(X)"
      ],
      "execution_count": null,
      "outputs": []
    },
    {
      "cell_type": "code",
      "metadata": {
        "id": "zMNUaYa_tAgh",
        "colab_type": "code",
        "colab": {}
      },
      "source": [
        "print(y)"
      ],
      "execution_count": null,
      "outputs": []
    },
    {
      "cell_type": "markdown",
      "metadata": {
        "id": "1IYBpEl6tAgn",
        "colab_type": "text"
      },
      "source": [
        "Es importante notar que el tiempo de la medición - fecha - ya no es parte de los datos.\n",
        "\n",
        "Hacemos el train/test split. Esta parte puede ser confusa, por lo que presta atención a cómo lo hacemos."
      ]
    },
    {
      "cell_type": "code",
      "metadata": {
        "id": "rd6YVDtTtAgn",
        "colab_type": "code",
        "colab": {}
      },
      "source": [
        "N_train = 10*52 - look_back # cantidad de instancias que vamos a usar para entrenar. \n",
        "N_test = 4*52 #cantidad de puntos que vamos a usar para evaluar\n",
        "N_total = N_train + N_test\n",
        "\n",
        "length_total = N_train + N_test + look_back\n",
        "\n",
        "X_train = X[:N_train,:]\n",
        "y_train = y[:N_train]\n",
        "print(X_train.shape, y_train.shape)\n",
        "\n",
        "X_test = X[N_train:N_train+N_test,:]\n",
        "y_test = y[N_train:N_train+N_test]\n",
        "print(X_test.shape, y_test.shape)"
      ],
      "execution_count": null,
      "outputs": []
    },
    {
      "cell_type": "markdown",
      "metadata": {
        "id": "SNrXaBs9tAgr",
        "colab_type": "text"
      },
      "source": [
        "Entrenamos"
      ]
    },
    {
      "cell_type": "code",
      "metadata": {
        "id": "IsdwMJqBtAgs",
        "colab_type": "code",
        "colab": {}
      },
      "source": [
        "from sklearn.metrics import mean_squared_error\n",
        "from sklearn.ensemble import RandomForestRegressor\n",
        "\n",
        "rf = RandomForestRegressor(n_estimators=100, random_state=42, n_jobs = 4).fit(X_train,y_train)"
      ],
      "execution_count": null,
      "outputs": []
    },
    {
      "cell_type": "markdown",
      "metadata": {
        "id": "Vav7kQeHtAgw",
        "colab_type": "text"
      },
      "source": [
        "Graficamos la importancia de cada feature."
      ]
    },
    {
      "cell_type": "code",
      "metadata": {
        "id": "llr2qtM9tAgx",
        "colab_type": "code",
        "colab": {}
      },
      "source": [
        "plt.figure(figsize = (12,7))\n",
        "plt.scatter(np.arange(rf.feature_importances_.size),rf.feature_importances_)\n",
        "# for x in np.arange(3)*52:\n",
        "#     plt.axvline(x, linestyle ='--', color= 'r')\n",
        "plt.show()"
      ],
      "execution_count": null,
      "outputs": []
    },
    {
      "cell_type": "markdown",
      "metadata": {
        "id": "_Arxs82btAg1",
        "colab_type": "text"
      },
      "source": [
        "¿A qué atributos les da importancia? Interpretar. Hay dos líneas que puedes descomentar en la celda anterior para ayudarte.\n",
        "\n",
        "Predecimos."
      ]
    },
    {
      "cell_type": "code",
      "metadata": {
        "id": "slvqZ4sUtAg2",
        "colab_type": "code",
        "colab": {}
      },
      "source": [
        "y_pred = rf.predict(X)\n",
        "y_train_pred = rf.predict(X_train)\n",
        "y_test_pred = rf.predict(X_test)"
      ],
      "execution_count": null,
      "outputs": []
    },
    {
      "cell_type": "markdown",
      "metadata": {
        "id": "QsGdaFlntAg5",
        "colab_type": "text"
      },
      "source": [
        "Y graficamos. Este gráfico también puede ser confuso, por lo que presta atención a cada línea. Si quieres, puedes ir comentando y descomentando cada línea para ver bien qué está haciendo y que el gráfico no quede tan sobrecargado."
      ]
    },
    {
      "cell_type": "code",
      "metadata": {
        "id": "2aJzdfHytAg6",
        "colab_type": "code",
        "colab": {}
      },
      "source": [
        "plt.figure(figsize=(16,8))\n",
        "plt.plot(senial.index[:length_total], senial[:length_total],lw = 0.75, label = 'Serie Original')\n",
        "plt.plot(senial.index[:N_train + look_back], senial[:N_train + look_back],'--', label = 'Usado para entrenar')\n",
        "plt.plot(senial.index[look_back: look_back + N_train], y_train_pred,'-.',label = 'Predicho en Train')\n",
        "plt.plot(senial.index[N_train+look_back: length_total], y_test_pred,'-.', lw = 4, label = 'Predicho en Test')\n",
        "plt.legend()\n",
        "plt.xlabel('Tiempo')\n",
        "plt.ylabel('Temperatura (°C)')\n",
        "plt.show()"
      ],
      "execution_count": null,
      "outputs": []
    },
    {
      "cell_type": "markdown",
      "metadata": {
        "id": "kPSy5cVDtAg9",
        "colab_type": "text"
      },
      "source": [
        "¿Qué les parecen, visualmente, estos resultados?\n",
        "\n",
        "Calculamos el error RMSE en train y test."
      ]
    },
    {
      "cell_type": "code",
      "metadata": {
        "id": "oatKAbcLtAg-",
        "colab_type": "code",
        "colab": {}
      },
      "source": [
        "MSE = mean_squared_error(y_train, y_train_pred)\n",
        "print('Error en Train:',np.sqrt(MSE))\n",
        "\n",
        "MSE = mean_squared_error(y_test, y_test_pred)\n",
        "print('Error en Test:',np.sqrt(MSE))"
      ],
      "execution_count": null,
      "outputs": []
    },
    {
      "cell_type": "markdown",
      "metadata": {
        "id": "MxZXddzStAhE",
        "colab_type": "text"
      },
      "source": [
        "**Benchmark**: comparamos el error con el que habríamos obtenido si predecíamos copiando el valor de la fecha anterior."
      ]
    },
    {
      "cell_type": "code",
      "metadata": {
        "id": "1ay4lPmYtAhE",
        "colab_type": "code",
        "colab": {}
      },
      "source": [
        "y_test_pred_benchmark = y[-1 + N_train:N_train+N_test - 1]"
      ],
      "execution_count": null,
      "outputs": []
    },
    {
      "cell_type": "code",
      "metadata": {
        "id": "TuM4jhDGtAhI",
        "colab_type": "code",
        "colab": {}
      },
      "source": [
        "plt.figure(figsize=(12,4))\n",
        "plt.plot(senial.index[:length_total], senial[:length_total],lw = 0.75, label = 'Serie Original')\n",
        "plt.plot(senial.index[N_train+look_back: length_total], y_test_pred_benchmark,'-.', lw = 2, label = 'Predicho en Test, Benchmark')\n",
        "plt.xlim(senial.index[N_train+look_back], senial.index[length_total])\n",
        "plt.xlabel('Tiempo')\n",
        "plt.ylabel('Temperatura (°C)')\n",
        "plt.legend()\n",
        "plt.show()"
      ],
      "execution_count": null,
      "outputs": []
    },
    {
      "cell_type": "code",
      "metadata": {
        "id": "Ghd8JFIvtAhL",
        "colab_type": "code",
        "colab": {}
      },
      "source": [
        "y_test_pred_benchmark = y[-1 + N_train:N_train+N_test - 1]\n",
        "MSE = mean_squared_error(y_test, y[-1 + N_train:N_train+N_test - 1])\n",
        "print(np.sqrt(MSE))"
      ],
      "execution_count": null,
      "outputs": []
    },
    {
      "cell_type": "markdown",
      "metadata": {
        "id": "iEI2_SE4tAhR",
        "colab_type": "text"
      },
      "source": [
        "Por lo que parece que, si bien no mucho, el modelo mejora la predicción por sobre el benchmark en el conjunto de test.\n",
        "\n",
        "### 2.2. Multi-Step Prediction\n",
        "\n",
        "Con el modelo ya entrenado, vamos a usar el método recursivo para hacer Multi-Step prediction."
      ]
    },
    {
      "cell_type": "code",
      "metadata": {
        "id": "eeo0L7mmtAhT",
        "colab_type": "code",
        "colab": {}
      },
      "source": [
        "y_ms_test_pred = []\n",
        "x = X_test[0,:] # arrancamos con la primera instancias del conjunto de test\n",
        "for i in range(y_test.size):\n",
        "    y_os_pred = rf.predict(x.reshape(1,-1))\n",
        "    y_ms_test_pred.append(y_os_pred)\n",
        "    x = np.append(x[1:], y_os_pred)\n",
        "y_ms_test_pred = np.array(y_ms_test_pred)"
      ],
      "execution_count": null,
      "outputs": []
    },
    {
      "cell_type": "code",
      "metadata": {
        "id": "xh70WykZtAhW",
        "colab_type": "code",
        "colab": {}
      },
      "source": [
        "plt.figure(figsize=(16,8))\n",
        "plt.plot(senial.index[:length_total], senial[:length_total],lw = 0.75, label = 'Serie Original')\n",
        "plt.plot(senial.index[:N_train + look_back], senial[:N_train + look_back],'--', label = 'Usado para entrenar')\n",
        "plt.plot(senial.index[look_back: look_back + N_train], y_train_pred,'-.',label = 'Predicho en Train')\n",
        "plt.plot(senial.index[N_train+look_back: length_total], y_ms_test_pred,'-.', lw = 4, label = 'Predicho en Test. Multi-Step')\n",
        "plt.legend()\n",
        "plt.xlabel('Tiempo')\n",
        "plt.ylabel('Temperatura (°C)')\n",
        "plt.show()"
      ],
      "execution_count": null,
      "outputs": []
    },
    {
      "cell_type": "markdown",
      "metadata": {
        "id": "osR8wGZotAhZ",
        "colab_type": "text"
      },
      "source": [
        "Y calculamos el error RMSE"
      ]
    },
    {
      "cell_type": "code",
      "metadata": {
        "id": "ZI9EAwCBtAha",
        "colab_type": "code",
        "colab": {}
      },
      "source": [
        "MSE = mean_squared_error(y_test, y_ms_test_pred)\n",
        "print('Error en Train:',np.sqrt(MSE))"
      ],
      "execution_count": null,
      "outputs": []
    },
    {
      "cell_type": "markdown",
      "metadata": {
        "id": "vr8D-CzLtAhd",
        "colab_type": "text"
      },
      "source": [
        "¿Qué les parece este resultado?¿Cuál es la diferencia con el One-Step predicton?\n",
        "\n",
        "**Para pensar:** ¿qué otras formas - vistas durante la carrera - servirán para evaluar estos resultados?\n",
        "\n",
        "## 3. Prophet\n",
        "\n",
        "Instala y estudia las características de esta librería. Intenta utilizarla para obtener los componentes de la serie y para predecir. ¡Recuerda seguir la documentación!"
      ]
    }
  ]
}