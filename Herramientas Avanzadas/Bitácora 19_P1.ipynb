{
 "cells": [
  {
   "cell_type": "markdown",
   "metadata": {},
   "source": [
    "# Preprocesamiento de Datos\n",
    "\n",
    "El preprocesamiento de datos - a veces también conocido como transformación de datos o, incluso, ingeniería de atributos - es probablemente una de las parte más importante del trabajo del Data Scientist, tal vez la más importante. Como habrás visto en la bitácora, son muchos los pasos involucrados en este proceso, y eso que no los hemos mencionados a todos, pero sí los más importantes. En este notebook, trabajaremos sobre cuatro grandes áreas:\n",
    "\n",
    "1. Valores Faltantes\n",
    "2. Valores Atípicos\n",
    "3. Escalado de Datos\n",
    "4. Encoders (codificadores)"
   ]
  },
  {
   "cell_type": "markdown",
   "metadata": {},
   "source": [
    "Si estas explorando datos, mejor usar Pandas. Si estás en un flujo de Machine Learning, Scikit-Learn. Probablemente, termines usando las dos en un mismo notebook."
   ]
  },
  {
   "cell_type": "markdown",
   "metadata": {},
   "source": [
    "## 1. Valores Faltantes\n",
    "\n",
    "En este ejercicio te proveemos de un dataset de seis columnas y 1500 instancias. Salvo una columna, `V1`, todas tienen valores faltantes. De las columnas con valores faltantes:\n",
    "* Dos tienen valores faltantes MCAR (el valor faltante es completamente al azar y no depende de otras variables)\n",
    "* Una tiene valores faltantes MAR (la probabilidad de valor faltante depende de otra variable).\n",
    "* Una tiene valores faltantes MNAR (la probabilidad de valor faltante depende de esa misma variable).\n",
    "\n",
    "### 1.1 MCAR, MAR o MNAR\n",
    "\n",
    "El objetivo de esta sección es que analisis el origen de estos valores faltantes. Para ello:\n",
    "\n",
    "1. Abre los datos y explóralos. Con ese fin, te recomendamos hacer un `pairplot` (con y sin `hue`) de Seaborn y contar los valores faltantes por columna. ¿Qué tipo de datos son?¿Cuáles son sus distribuciones?¿Te parece que hay alguna columna correlacionada con otra?"
   ]
  },
  {
   "cell_type": "code",
   "execution_count": 1,
   "metadata": {},
   "outputs": [],
   "source": [
    "import numpy as np\n",
    "import pandas as pd\n",
    "import matplotlib.pyplot as plt\n",
    "import seaborn as sns\n",
    "sns.set()"
   ]
  },
  {
   "cell_type": "markdown",
   "metadata": {},
   "source": [
    "### DATA CON VF"
   ]
  },
  {
   "cell_type": "code",
   "execution_count": 2,
   "metadata": {},
   "outputs": [],
   "source": [
    "data = pd.read_csv('Data\\DS_Bitácora_19_Data_con_VF.csv')"
   ]
  },
  {
   "cell_type": "code",
   "execution_count": 3,
   "metadata": {},
   "outputs": [
    {
     "data": {
      "text/plain": [
       "(1500, 5)"
      ]
     },
     "execution_count": 3,
     "metadata": {},
     "output_type": "execute_result"
    }
   ],
   "source": [
    "data.shape # Filas y columnas"
   ]
  },
  {
   "cell_type": "code",
   "execution_count": 4,
   "metadata": {},
   "outputs": [
    {
     "data": {
      "text/html": [
       "<div>\n",
       "<style scoped>\n",
       "    .dataframe tbody tr th:only-of-type {\n",
       "        vertical-align: middle;\n",
       "    }\n",
       "\n",
       "    .dataframe tbody tr th {\n",
       "        vertical-align: top;\n",
       "    }\n",
       "\n",
       "    .dataframe thead th {\n",
       "        text-align: right;\n",
       "    }\n",
       "</style>\n",
       "<table border=\"1\" class=\"dataframe\">\n",
       "  <thead>\n",
       "    <tr style=\"text-align: right;\">\n",
       "      <th></th>\n",
       "      <th>V1</th>\n",
       "      <th>V2</th>\n",
       "      <th>V3</th>\n",
       "      <th>V4</th>\n",
       "      <th>V5</th>\n",
       "    </tr>\n",
       "  </thead>\n",
       "  <tbody>\n",
       "    <tr>\n",
       "      <th>0</th>\n",
       "      <td>C</td>\n",
       "      <td>1.0</td>\n",
       "      <td>986.175237</td>\n",
       "      <td>184.258917</td>\n",
       "      <td>2224.638050</td>\n",
       "    </tr>\n",
       "    <tr>\n",
       "      <th>1</th>\n",
       "      <td>C</td>\n",
       "      <td>1.0</td>\n",
       "      <td>994.130276</td>\n",
       "      <td>NaN</td>\n",
       "      <td>2570.213101</td>\n",
       "    </tr>\n",
       "    <tr>\n",
       "      <th>2</th>\n",
       "      <td>A</td>\n",
       "      <td>1.0</td>\n",
       "      <td>985.782622</td>\n",
       "      <td>196.893581</td>\n",
       "      <td>2309.238832</td>\n",
       "    </tr>\n",
       "    <tr>\n",
       "      <th>3</th>\n",
       "      <td>A</td>\n",
       "      <td>1.0</td>\n",
       "      <td>1029.464887</td>\n",
       "      <td>192.063247</td>\n",
       "      <td>2349.259233</td>\n",
       "    </tr>\n",
       "    <tr>\n",
       "      <th>4</th>\n",
       "      <td>A</td>\n",
       "      <td>1.0</td>\n",
       "      <td>1004.357092</td>\n",
       "      <td>NaN</td>\n",
       "      <td>2474.036357</td>\n",
       "    </tr>\n",
       "  </tbody>\n",
       "</table>\n",
       "</div>"
      ],
      "text/plain": [
       "  V1   V2           V3          V4           V5\n",
       "0  C  1.0   986.175237  184.258917  2224.638050\n",
       "1  C  1.0   994.130276         NaN  2570.213101\n",
       "2  A  1.0   985.782622  196.893581  2309.238832\n",
       "3  A  1.0  1029.464887  192.063247  2349.259233\n",
       "4  A  1.0  1004.357092         NaN  2474.036357"
      ]
     },
     "execution_count": 4,
     "metadata": {},
     "output_type": "execute_result"
    }
   ],
   "source": [
    "data.head() # 5 primeras instancias"
   ]
  },
  {
   "cell_type": "code",
   "execution_count": 5,
   "metadata": {},
   "outputs": [
    {
     "data": {
      "text/plain": [
       "V1      0\n",
       "V2    159\n",
       "V3    104\n",
       "V4    413\n",
       "V5    118\n",
       "dtype: int64"
      ]
     },
     "execution_count": 5,
     "metadata": {},
     "output_type": "execute_result"
    }
   ],
   "source": [
    "data.isnull().sum() # Nombres de las columnas y su cantidad de faltantes"
   ]
  },
  {
   "cell_type": "code",
   "execution_count": 6,
   "metadata": {},
   "outputs": [
    {
     "data": {
      "text/html": [
       "<div>\n",
       "<style scoped>\n",
       "    .dataframe tbody tr th:only-of-type {\n",
       "        vertical-align: middle;\n",
       "    }\n",
       "\n",
       "    .dataframe tbody tr th {\n",
       "        vertical-align: top;\n",
       "    }\n",
       "\n",
       "    .dataframe thead th {\n",
       "        text-align: right;\n",
       "    }\n",
       "</style>\n",
       "<table border=\"1\" class=\"dataframe\">\n",
       "  <thead>\n",
       "    <tr style=\"text-align: right;\">\n",
       "      <th></th>\n",
       "      <th>V2</th>\n",
       "      <th>V3</th>\n",
       "      <th>V4</th>\n",
       "      <th>V5</th>\n",
       "    </tr>\n",
       "  </thead>\n",
       "  <tbody>\n",
       "    <tr>\n",
       "      <th>count</th>\n",
       "      <td>1341.000000</td>\n",
       "      <td>1396.000000</td>\n",
       "      <td>1087.000000</td>\n",
       "      <td>1382.000000</td>\n",
       "    </tr>\n",
       "    <tr>\n",
       "      <th>mean</th>\n",
       "      <td>0.500373</td>\n",
       "      <td>999.686269</td>\n",
       "      <td>196.414056</td>\n",
       "      <td>2395.781409</td>\n",
       "    </tr>\n",
       "    <tr>\n",
       "      <th>std</th>\n",
       "      <td>0.500186</td>\n",
       "      <td>24.099044</td>\n",
       "      <td>8.986208</td>\n",
       "      <td>131.714318</td>\n",
       "    </tr>\n",
       "    <tr>\n",
       "      <th>min</th>\n",
       "      <td>0.000000</td>\n",
       "      <td>916.828247</td>\n",
       "      <td>166.654303</td>\n",
       "      <td>2005.861180</td>\n",
       "    </tr>\n",
       "    <tr>\n",
       "      <th>25%</th>\n",
       "      <td>0.000000</td>\n",
       "      <td>984.023781</td>\n",
       "      <td>190.708818</td>\n",
       "      <td>2306.219362</td>\n",
       "    </tr>\n",
       "    <tr>\n",
       "      <th>50%</th>\n",
       "      <td>1.000000</td>\n",
       "      <td>999.385885</td>\n",
       "      <td>196.753671</td>\n",
       "      <td>2397.870540</td>\n",
       "    </tr>\n",
       "    <tr>\n",
       "      <th>75%</th>\n",
       "      <td>1.000000</td>\n",
       "      <td>1015.946214</td>\n",
       "      <td>202.423761</td>\n",
       "      <td>2480.880485</td>\n",
       "    </tr>\n",
       "    <tr>\n",
       "      <th>max</th>\n",
       "      <td>1.000000</td>\n",
       "      <td>1082.767001</td>\n",
       "      <td>225.195704</td>\n",
       "      <td>2866.799351</td>\n",
       "    </tr>\n",
       "  </tbody>\n",
       "</table>\n",
       "</div>"
      ],
      "text/plain": [
       "                V2           V3           V4           V5\n",
       "count  1341.000000  1396.000000  1087.000000  1382.000000\n",
       "mean      0.500373   999.686269   196.414056  2395.781409\n",
       "std       0.500186    24.099044     8.986208   131.714318\n",
       "min       0.000000   916.828247   166.654303  2005.861180\n",
       "25%       0.000000   984.023781   190.708818  2306.219362\n",
       "50%       1.000000   999.385885   196.753671  2397.870540\n",
       "75%       1.000000  1015.946214   202.423761  2480.880485\n",
       "max       1.000000  1082.767001   225.195704  2866.799351"
      ]
     },
     "execution_count": 6,
     "metadata": {},
     "output_type": "execute_result"
    }
   ],
   "source": [
    "data.describe()"
   ]
  },
  {
   "cell_type": "code",
   "execution_count": 7,
   "metadata": {},
   "outputs": [
    {
     "data": {
      "text/plain": [
       "<seaborn.axisgrid.PairGrid at 0x26deabbf400>"
      ]
     },
     "execution_count": 7,
     "metadata": {},
     "output_type": "execute_result"
    },
    {
     "data": {
      "image/png": "[encoded data removed]",
      "text/plain": [
       "<Figure size 720x720 with 20 Axes>"
      ]
     },
     "metadata": {},
     "output_type": "display_data"
    }
   ],
   "source": [
    "sns.pairplot(data=data)"
   ]
  },
  {
   "cell_type": "code",
   "execution_count": 8,
   "metadata": {},
   "outputs": [
    {
     "data": {
      "text/plain": [
       "<seaborn.axisgrid.PairGrid at 0x26deb3da430>"
      ]
     },
     "execution_count": 8,
     "metadata": {},
     "output_type": "execute_result"
    },
    {
     "data": {
      "image/png": "[encoded data removed]",
      "text/plain": [
       "<Figure size 767.6x720 with 20 Axes>"
      ]
     },
     "metadata": {},
     "output_type": "display_data"
    }
   ],
   "source": [
    "sns.pairplot(data=data, hue= 'V1')"
   ]
  },
  {
   "cell_type": "markdown",
   "metadata": {},
   "source": [
    "* Los datos son numéricas.\n",
    "* Sus distribuciones son normales.\n",
    "* Las columnas V4 y V5 se encuentran correlacionadas entre sí positivamente."
   ]
  },
  {
   "cell_type": "markdown",
   "metadata": {},
   "source": [
    "2. Buscaremos decidir el mecanismo que dio origen a los valores faltante de cada columna. Para ello, ten en cuenta que:\n",
    "* Para simplificar el análisis, si hay valores MAR, la dependencia sólo puede ser con la columna categórica sin valores faltantes, `V1`. Entonces, basta que solamente pruebes dependencia con esa variable. Te puede ser **muy útil** [esta pregunta de Stack Overflow](https://stackoverflow.com/questions/43321455/pandas-count-null-values-in-a-groupby-function/43322220).\n",
    "* MNAR puede es difícil de estudiar si no tenemos conocimiento del tema o si no hay una variable que correlacione con la variable que queremos estudiar para usar de *proxy*. ¿Qué queremos decir con esto? Imaginate que tienes una planilla con sueldos mensuales de personas y vas a borrar valores con mayor probabilidad si son más altos. Pero no te diste cuenta que en otra planilla figuran el estimativo del sueldo anual, lo cual correlaciona fuertemente con el sueldo mensual. Entonces, si quieres ver si la probabilidad de borrar un valor estaba relacionada con ese valor, lo que puedes hacer es crear intervalos para la variables sin valores faltantes - es decir, crear rangos de sueldos anuales - y contar cuántas instancias que caen dentro de ese intervalo tienen valores faltantes en la variable borrada (sueldo mensual). Al principio es muy confuso, pero piénsalo un rato y vas a ver que tiene sentido.\n",
    "* MCAR es un mecanismo que puede ser difícil de estudiar. Tal vez es más probable que llegues a él *por descarte* de los otros dos mecanismos."
   ]
  },
  {
   "cell_type": "markdown",
   "metadata": {},
   "source": [
    "**MAR con respecto a `V1`**\n",
    "\n",
    "Dejamos la línea casi completa para el caso de `V2`:"
   ]
  },
  {
   "cell_type": "code",
   "execution_count": 9,
   "metadata": {},
   "outputs": [
    {
     "data": {
      "text/html": [
       "<div>\n",
       "<style scoped>\n",
       "    .dataframe tbody tr th:only-of-type {\n",
       "        vertical-align: middle;\n",
       "    }\n",
       "\n",
       "    .dataframe tbody tr th {\n",
       "        vertical-align: top;\n",
       "    }\n",
       "\n",
       "    .dataframe thead th {\n",
       "        text-align: right;\n",
       "    }\n",
       "</style>\n",
       "<table border=\"1\" class=\"dataframe\">\n",
       "  <thead>\n",
       "    <tr style=\"text-align: right;\">\n",
       "      <th></th>\n",
       "      <th>V1</th>\n",
       "      <th>count</th>\n",
       "    </tr>\n",
       "  </thead>\n",
       "  <tbody>\n",
       "    <tr>\n",
       "      <th>0</th>\n",
       "      <td>A</td>\n",
       "      <td>39</td>\n",
       "    </tr>\n",
       "    <tr>\n",
       "      <th>1</th>\n",
       "      <td>B</td>\n",
       "      <td>52</td>\n",
       "    </tr>\n",
       "    <tr>\n",
       "      <th>2</th>\n",
       "      <td>C</td>\n",
       "      <td>68</td>\n",
       "    </tr>\n",
       "  </tbody>\n",
       "</table>\n",
       "</div>"
      ],
      "text/plain": [
       "  V1  count\n",
       "0  A     39\n",
       "1  B     52\n",
       "2  C     68"
      ]
     },
     "execution_count": 9,
     "metadata": {},
     "output_type": "execute_result"
    }
   ],
   "source": [
    "data.V2.isnull().groupby([data['V1']]).sum().astype(int).reset_index(name='count')"
   ]
  },
  {
   "cell_type": "markdown",
   "metadata": {},
   "source": [
    "Caso de `V3`:"
   ]
  },
  {
   "cell_type": "code",
   "execution_count": 10,
   "metadata": {},
   "outputs": [
    {
     "data": {
      "text/html": [
       "<div>\n",
       "<style scoped>\n",
       "    .dataframe tbody tr th:only-of-type {\n",
       "        vertical-align: middle;\n",
       "    }\n",
       "\n",
       "    .dataframe tbody tr th {\n",
       "        vertical-align: top;\n",
       "    }\n",
       "\n",
       "    .dataframe thead th {\n",
       "        text-align: right;\n",
       "    }\n",
       "</style>\n",
       "<table border=\"1\" class=\"dataframe\">\n",
       "  <thead>\n",
       "    <tr style=\"text-align: right;\">\n",
       "      <th></th>\n",
       "      <th>V1</th>\n",
       "      <th>count</th>\n",
       "    </tr>\n",
       "  </thead>\n",
       "  <tbody>\n",
       "    <tr>\n",
       "      <th>0</th>\n",
       "      <td>A</td>\n",
       "      <td>30</td>\n",
       "    </tr>\n",
       "    <tr>\n",
       "      <th>1</th>\n",
       "      <td>B</td>\n",
       "      <td>0</td>\n",
       "    </tr>\n",
       "    <tr>\n",
       "      <th>2</th>\n",
       "      <td>C</td>\n",
       "      <td>74</td>\n",
       "    </tr>\n",
       "  </tbody>\n",
       "</table>\n",
       "</div>"
      ],
      "text/plain": [
       "  V1  count\n",
       "0  A     30\n",
       "1  B      0\n",
       "2  C     74"
      ]
     },
     "execution_count": 10,
     "metadata": {},
     "output_type": "execute_result"
    }
   ],
   "source": [
    "data.V3.isnull().groupby([data['V1']]).sum().astype(int).reset_index(name='count')"
   ]
  },
  {
   "cell_type": "markdown",
   "metadata": {},
   "source": [
    "Caso de `V4`:"
   ]
  },
  {
   "cell_type": "code",
   "execution_count": 11,
   "metadata": {},
   "outputs": [
    {
     "data": {
      "text/html": [
       "<div>\n",
       "<style scoped>\n",
       "    .dataframe tbody tr th:only-of-type {\n",
       "        vertical-align: middle;\n",
       "    }\n",
       "\n",
       "    .dataframe tbody tr th {\n",
       "        vertical-align: top;\n",
       "    }\n",
       "\n",
       "    .dataframe thead th {\n",
       "        text-align: right;\n",
       "    }\n",
       "</style>\n",
       "<table border=\"1\" class=\"dataframe\">\n",
       "  <thead>\n",
       "    <tr style=\"text-align: right;\">\n",
       "      <th></th>\n",
       "      <th>V1</th>\n",
       "      <th>count</th>\n",
       "    </tr>\n",
       "  </thead>\n",
       "  <tbody>\n",
       "    <tr>\n",
       "      <th>0</th>\n",
       "      <td>A</td>\n",
       "      <td>139</td>\n",
       "    </tr>\n",
       "    <tr>\n",
       "      <th>1</th>\n",
       "      <td>B</td>\n",
       "      <td>147</td>\n",
       "    </tr>\n",
       "    <tr>\n",
       "      <th>2</th>\n",
       "      <td>C</td>\n",
       "      <td>127</td>\n",
       "    </tr>\n",
       "  </tbody>\n",
       "</table>\n",
       "</div>"
      ],
      "text/plain": [
       "  V1  count\n",
       "0  A    139\n",
       "1  B    147\n",
       "2  C    127"
      ]
     },
     "execution_count": 11,
     "metadata": {},
     "output_type": "execute_result"
    }
   ],
   "source": [
    "data.V4.isnull().groupby([data['V1']]).sum().astype(int).reset_index(name='count')"
   ]
  },
  {
   "cell_type": "markdown",
   "metadata": {},
   "source": [
    "Caso de `V5`:"
   ]
  },
  {
   "cell_type": "code",
   "execution_count": 12,
   "metadata": {},
   "outputs": [
    {
     "data": {
      "text/html": [
       "<div>\n",
       "<style scoped>\n",
       "    .dataframe tbody tr th:only-of-type {\n",
       "        vertical-align: middle;\n",
       "    }\n",
       "\n",
       "    .dataframe tbody tr th {\n",
       "        vertical-align: top;\n",
       "    }\n",
       "\n",
       "    .dataframe thead th {\n",
       "        text-align: right;\n",
       "    }\n",
       "</style>\n",
       "<table border=\"1\" class=\"dataframe\">\n",
       "  <thead>\n",
       "    <tr style=\"text-align: right;\">\n",
       "      <th></th>\n",
       "      <th>V1</th>\n",
       "      <th>count</th>\n",
       "    </tr>\n",
       "  </thead>\n",
       "  <tbody>\n",
       "    <tr>\n",
       "      <th>0</th>\n",
       "      <td>A</td>\n",
       "      <td>34</td>\n",
       "    </tr>\n",
       "    <tr>\n",
       "      <th>1</th>\n",
       "      <td>B</td>\n",
       "      <td>44</td>\n",
       "    </tr>\n",
       "    <tr>\n",
       "      <th>2</th>\n",
       "      <td>C</td>\n",
       "      <td>40</td>\n",
       "    </tr>\n",
       "  </tbody>\n",
       "</table>\n",
       "</div>"
      ],
      "text/plain": [
       "  V1  count\n",
       "0  A     34\n",
       "1  B     44\n",
       "2  C     40"
      ]
     },
     "execution_count": 12,
     "metadata": {},
     "output_type": "execute_result"
    }
   ],
   "source": [
    "data.V5.isnull().groupby([data['V1']]).sum().astype(int).reset_index(name='count')"
   ]
  },
  {
   "cell_type": "markdown",
   "metadata": {},
   "source": [
    "**MNAR**\n",
    "\n",
    "Las únicas variables correlacionadas son `V4` y `V5`, ambas con valores faltantes. Entonces, podemos usar una para ver si los valores faltantes de la otra son **MNAR**.\n",
    "\n",
    "Arranquemos estudiando los valores faltantes en `V5`. Para ello, debemos binear `V4` y contar cuántos valores faltantes de `V5` caen en cada intervalo. Entonces, creamos los intervalos para `V4`."
   ]
  },
  {
   "cell_type": "code",
   "execution_count": 13,
   "metadata": {},
   "outputs": [
    {
     "data": {
      "text/html": [
       "<div>\n",
       "<style scoped>\n",
       "    .dataframe tbody tr th:only-of-type {\n",
       "        vertical-align: middle;\n",
       "    }\n",
       "\n",
       "    .dataframe tbody tr th {\n",
       "        vertical-align: top;\n",
       "    }\n",
       "\n",
       "    .dataframe thead th {\n",
       "        text-align: right;\n",
       "    }\n",
       "</style>\n",
       "<table border=\"1\" class=\"dataframe\">\n",
       "  <thead>\n",
       "    <tr style=\"text-align: right;\">\n",
       "      <th></th>\n",
       "      <th>V1</th>\n",
       "      <th>V2</th>\n",
       "      <th>V3</th>\n",
       "      <th>V4</th>\n",
       "      <th>V5</th>\n",
       "      <th>V4-intervalos</th>\n",
       "    </tr>\n",
       "  </thead>\n",
       "  <tbody>\n",
       "    <tr>\n",
       "      <th>0</th>\n",
       "      <td>C</td>\n",
       "      <td>1.0</td>\n",
       "      <td>986.175237</td>\n",
       "      <td>184.258917</td>\n",
       "      <td>2224.638050</td>\n",
       "      <td>(182.265, 186.168]</td>\n",
       "    </tr>\n",
       "    <tr>\n",
       "      <th>1</th>\n",
       "      <td>C</td>\n",
       "      <td>1.0</td>\n",
       "      <td>994.130276</td>\n",
       "      <td>NaN</td>\n",
       "      <td>2570.213101</td>\n",
       "      <td>NaN</td>\n",
       "    </tr>\n",
       "    <tr>\n",
       "      <th>2</th>\n",
       "      <td>A</td>\n",
       "      <td>1.0</td>\n",
       "      <td>985.782622</td>\n",
       "      <td>196.893581</td>\n",
       "      <td>2309.238832</td>\n",
       "      <td>(193.974, 197.876]</td>\n",
       "    </tr>\n",
       "    <tr>\n",
       "      <th>3</th>\n",
       "      <td>A</td>\n",
       "      <td>1.0</td>\n",
       "      <td>1029.464887</td>\n",
       "      <td>192.063247</td>\n",
       "      <td>2349.259233</td>\n",
       "      <td>(190.071, 193.974]</td>\n",
       "    </tr>\n",
       "    <tr>\n",
       "      <th>4</th>\n",
       "      <td>A</td>\n",
       "      <td>1.0</td>\n",
       "      <td>1004.357092</td>\n",
       "      <td>NaN</td>\n",
       "      <td>2474.036357</td>\n",
       "      <td>NaN</td>\n",
       "    </tr>\n",
       "    <tr>\n",
       "      <th>...</th>\n",
       "      <td>...</td>\n",
       "      <td>...</td>\n",
       "      <td>...</td>\n",
       "      <td>...</td>\n",
       "      <td>...</td>\n",
       "      <td>...</td>\n",
       "    </tr>\n",
       "    <tr>\n",
       "      <th>1495</th>\n",
       "      <td>C</td>\n",
       "      <td>0.0</td>\n",
       "      <td>985.188653</td>\n",
       "      <td>190.366109</td>\n",
       "      <td>2302.000694</td>\n",
       "      <td>(190.071, 193.974]</td>\n",
       "    </tr>\n",
       "    <tr>\n",
       "      <th>1496</th>\n",
       "      <td>C</td>\n",
       "      <td>0.0</td>\n",
       "      <td>991.730134</td>\n",
       "      <td>193.553401</td>\n",
       "      <td>2277.045998</td>\n",
       "      <td>(190.071, 193.974]</td>\n",
       "    </tr>\n",
       "    <tr>\n",
       "      <th>1497</th>\n",
       "      <td>B</td>\n",
       "      <td>0.0</td>\n",
       "      <td>1032.150519</td>\n",
       "      <td>NaN</td>\n",
       "      <td>2347.760632</td>\n",
       "      <td>NaN</td>\n",
       "    </tr>\n",
       "    <tr>\n",
       "      <th>1498</th>\n",
       "      <td>C</td>\n",
       "      <td>1.0</td>\n",
       "      <td>984.522924</td>\n",
       "      <td>196.373516</td>\n",
       "      <td>2393.847484</td>\n",
       "      <td>(193.974, 197.876]</td>\n",
       "    </tr>\n",
       "    <tr>\n",
       "      <th>1499</th>\n",
       "      <td>C</td>\n",
       "      <td>0.0</td>\n",
       "      <td>1017.399835</td>\n",
       "      <td>192.406202</td>\n",
       "      <td>2368.906782</td>\n",
       "      <td>(190.071, 193.974]</td>\n",
       "    </tr>\n",
       "  </tbody>\n",
       "</table>\n",
       "<p>1500 rows × 6 columns</p>\n",
       "</div>"
      ],
      "text/plain": [
       "     V1   V2           V3          V4           V5       V4-intervalos\n",
       "0     C  1.0   986.175237  184.258917  2224.638050  (182.265, 186.168]\n",
       "1     C  1.0   994.130276         NaN  2570.213101                 NaN\n",
       "2     A  1.0   985.782622  196.893581  2309.238832  (193.974, 197.876]\n",
       "3     A  1.0  1029.464887  192.063247  2349.259233  (190.071, 193.974]\n",
       "4     A  1.0  1004.357092         NaN  2474.036357                 NaN\n",
       "...  ..  ...          ...         ...          ...                 ...\n",
       "1495  C  0.0   985.188653  190.366109  2302.000694  (190.071, 193.974]\n",
       "1496  C  0.0   991.730134  193.553401  2277.045998  (190.071, 193.974]\n",
       "1497  B  0.0  1032.150519         NaN  2347.760632                 NaN\n",
       "1498  C  1.0   984.522924  196.373516  2393.847484  (193.974, 197.876]\n",
       "1499  C  0.0  1017.399835  192.406202  2368.906782  (190.071, 193.974]\n",
       "\n",
       "[1500 rows x 6 columns]"
      ]
     },
     "execution_count": 13,
     "metadata": {},
     "output_type": "execute_result"
    }
   ],
   "source": [
    "data['V4-intervalos'] = pd.cut(data.V4, bins  = 15)\n",
    "data"
   ]
  },
  {
   "cell_type": "markdown",
   "metadata": {},
   "source": [
    "Y contamos cuántas instancias por intervalo tienen valores faltantes en V5."
   ]
  },
  {
   "cell_type": "code",
   "execution_count": 14,
   "metadata": {},
   "outputs": [
    {
     "data": {
      "text/html": [
       "<div>\n",
       "<style scoped>\n",
       "    .dataframe tbody tr th:only-of-type {\n",
       "        vertical-align: middle;\n",
       "    }\n",
       "\n",
       "    .dataframe tbody tr th {\n",
       "        vertical-align: top;\n",
       "    }\n",
       "\n",
       "    .dataframe thead th {\n",
       "        text-align: right;\n",
       "    }\n",
       "</style>\n",
       "<table border=\"1\" class=\"dataframe\">\n",
       "  <thead>\n",
       "    <tr style=\"text-align: right;\">\n",
       "      <th></th>\n",
       "      <th>V4-intervalos</th>\n",
       "      <th>count</th>\n",
       "    </tr>\n",
       "  </thead>\n",
       "  <tbody>\n",
       "    <tr>\n",
       "      <th>0</th>\n",
       "      <td>(166.596, 170.557]</td>\n",
       "      <td>0</td>\n",
       "    </tr>\n",
       "    <tr>\n",
       "      <th>1</th>\n",
       "      <td>(170.557, 174.46]</td>\n",
       "      <td>0</td>\n",
       "    </tr>\n",
       "    <tr>\n",
       "      <th>2</th>\n",
       "      <td>(174.46, 178.363]</td>\n",
       "      <td>1</td>\n",
       "    </tr>\n",
       "    <tr>\n",
       "      <th>3</th>\n",
       "      <td>(178.363, 182.265]</td>\n",
       "      <td>2</td>\n",
       "    </tr>\n",
       "    <tr>\n",
       "      <th>4</th>\n",
       "      <td>(182.265, 186.168]</td>\n",
       "      <td>5</td>\n",
       "    </tr>\n",
       "    <tr>\n",
       "      <th>5</th>\n",
       "      <td>(186.168, 190.071]</td>\n",
       "      <td>6</td>\n",
       "    </tr>\n",
       "    <tr>\n",
       "      <th>6</th>\n",
       "      <td>(190.071, 193.974]</td>\n",
       "      <td>17</td>\n",
       "    </tr>\n",
       "    <tr>\n",
       "      <th>7</th>\n",
       "      <td>(193.974, 197.876]</td>\n",
       "      <td>12</td>\n",
       "    </tr>\n",
       "    <tr>\n",
       "      <th>8</th>\n",
       "      <td>(197.876, 201.779]</td>\n",
       "      <td>20</td>\n",
       "    </tr>\n",
       "    <tr>\n",
       "      <th>9</th>\n",
       "      <td>(201.779, 205.682]</td>\n",
       "      <td>13</td>\n",
       "    </tr>\n",
       "    <tr>\n",
       "      <th>10</th>\n",
       "      <td>(205.682, 209.585]</td>\n",
       "      <td>5</td>\n",
       "    </tr>\n",
       "    <tr>\n",
       "      <th>11</th>\n",
       "      <td>(209.585, 213.487]</td>\n",
       "      <td>6</td>\n",
       "    </tr>\n",
       "    <tr>\n",
       "      <th>12</th>\n",
       "      <td>(213.487, 217.39]</td>\n",
       "      <td>2</td>\n",
       "    </tr>\n",
       "    <tr>\n",
       "      <th>13</th>\n",
       "      <td>(217.39, 221.293]</td>\n",
       "      <td>0</td>\n",
       "    </tr>\n",
       "    <tr>\n",
       "      <th>14</th>\n",
       "      <td>(221.293, 225.196]</td>\n",
       "      <td>0</td>\n",
       "    </tr>\n",
       "  </tbody>\n",
       "</table>\n",
       "</div>"
      ],
      "text/plain": [
       "         V4-intervalos  count\n",
       "0   (166.596, 170.557]      0\n",
       "1    (170.557, 174.46]      0\n",
       "2    (174.46, 178.363]      1\n",
       "3   (178.363, 182.265]      2\n",
       "4   (182.265, 186.168]      5\n",
       "5   (186.168, 190.071]      6\n",
       "6   (190.071, 193.974]     17\n",
       "7   (193.974, 197.876]     12\n",
       "8   (197.876, 201.779]     20\n",
       "9   (201.779, 205.682]     13\n",
       "10  (205.682, 209.585]      5\n",
       "11  (209.585, 213.487]      6\n",
       "12   (213.487, 217.39]      2\n",
       "13   (217.39, 221.293]      0\n",
       "14  (221.293, 225.196]      0"
      ]
     },
     "execution_count": 14,
     "metadata": {},
     "output_type": "execute_result"
    }
   ],
   "source": [
    "vf_V4V5 = data.V5.isnull().groupby([data['V4-intervalos']]).sum().astype(int).reset_index(name='count')\n",
    "vf_V4V5"
   ]
  },
  {
   "cell_type": "markdown",
   "metadata": {},
   "source": [
    "Pero en realidad lo que nos interesa es la frecuencia de estos valores faltantes, porque no todos los intervalos tienen la misma cantidad de instancias."
   ]
  },
  {
   "cell_type": "code",
   "execution_count": 15,
   "metadata": {},
   "outputs": [
    {
     "data": {
      "text/html": [
       "<div>\n",
       "<style scoped>\n",
       "    .dataframe tbody tr th:only-of-type {\n",
       "        vertical-align: middle;\n",
       "    }\n",
       "\n",
       "    .dataframe tbody tr th {\n",
       "        vertical-align: top;\n",
       "    }\n",
       "\n",
       "    .dataframe thead th {\n",
       "        text-align: right;\n",
       "    }\n",
       "</style>\n",
       "<table border=\"1\" class=\"dataframe\">\n",
       "  <thead>\n",
       "    <tr style=\"text-align: right;\">\n",
       "      <th></th>\n",
       "      <th>V4-intervalos</th>\n",
       "      <th>count</th>\n",
       "      <th>freq</th>\n",
       "    </tr>\n",
       "  </thead>\n",
       "  <tbody>\n",
       "    <tr>\n",
       "      <th>0</th>\n",
       "      <td>(166.596, 170.557]</td>\n",
       "      <td>0</td>\n",
       "      <td>0.000000</td>\n",
       "    </tr>\n",
       "    <tr>\n",
       "      <th>1</th>\n",
       "      <td>(170.557, 174.46]</td>\n",
       "      <td>0</td>\n",
       "      <td>0.000000</td>\n",
       "    </tr>\n",
       "    <tr>\n",
       "      <th>2</th>\n",
       "      <td>(174.46, 178.363]</td>\n",
       "      <td>1</td>\n",
       "      <td>0.062500</td>\n",
       "    </tr>\n",
       "    <tr>\n",
       "      <th>3</th>\n",
       "      <td>(178.363, 182.265]</td>\n",
       "      <td>2</td>\n",
       "      <td>0.051282</td>\n",
       "    </tr>\n",
       "    <tr>\n",
       "      <th>4</th>\n",
       "      <td>(182.265, 186.168]</td>\n",
       "      <td>5</td>\n",
       "      <td>0.060976</td>\n",
       "    </tr>\n",
       "    <tr>\n",
       "      <th>5</th>\n",
       "      <td>(186.168, 190.071]</td>\n",
       "      <td>6</td>\n",
       "      <td>0.063830</td>\n",
       "    </tr>\n",
       "    <tr>\n",
       "      <th>6</th>\n",
       "      <td>(190.071, 193.974]</td>\n",
       "      <td>17</td>\n",
       "      <td>0.104938</td>\n",
       "    </tr>\n",
       "    <tr>\n",
       "      <th>7</th>\n",
       "      <td>(193.974, 197.876]</td>\n",
       "      <td>12</td>\n",
       "      <td>0.065217</td>\n",
       "    </tr>\n",
       "    <tr>\n",
       "      <th>8</th>\n",
       "      <td>(197.876, 201.779]</td>\n",
       "      <td>20</td>\n",
       "      <td>0.109290</td>\n",
       "    </tr>\n",
       "    <tr>\n",
       "      <th>9</th>\n",
       "      <td>(201.779, 205.682]</td>\n",
       "      <td>13</td>\n",
       "      <td>0.084416</td>\n",
       "    </tr>\n",
       "    <tr>\n",
       "      <th>10</th>\n",
       "      <td>(205.682, 209.585]</td>\n",
       "      <td>5</td>\n",
       "      <td>0.058140</td>\n",
       "    </tr>\n",
       "    <tr>\n",
       "      <th>11</th>\n",
       "      <td>(209.585, 213.487]</td>\n",
       "      <td>6</td>\n",
       "      <td>0.122449</td>\n",
       "    </tr>\n",
       "    <tr>\n",
       "      <th>12</th>\n",
       "      <td>(213.487, 217.39]</td>\n",
       "      <td>2</td>\n",
       "      <td>0.105263</td>\n",
       "    </tr>\n",
       "    <tr>\n",
       "      <th>13</th>\n",
       "      <td>(217.39, 221.293]</td>\n",
       "      <td>0</td>\n",
       "      <td>0.000000</td>\n",
       "    </tr>\n",
       "    <tr>\n",
       "      <th>14</th>\n",
       "      <td>(221.293, 225.196]</td>\n",
       "      <td>0</td>\n",
       "      <td>0.000000</td>\n",
       "    </tr>\n",
       "  </tbody>\n",
       "</table>\n",
       "</div>"
      ],
      "text/plain": [
       "         V4-intervalos  count      freq\n",
       "0   (166.596, 170.557]      0  0.000000\n",
       "1    (170.557, 174.46]      0  0.000000\n",
       "2    (174.46, 178.363]      1  0.062500\n",
       "3   (178.363, 182.265]      2  0.051282\n",
       "4   (182.265, 186.168]      5  0.060976\n",
       "5   (186.168, 190.071]      6  0.063830\n",
       "6   (190.071, 193.974]     17  0.104938\n",
       "7   (193.974, 197.876]     12  0.065217\n",
       "8   (197.876, 201.779]     20  0.109290\n",
       "9   (201.779, 205.682]     13  0.084416\n",
       "10  (205.682, 209.585]      5  0.058140\n",
       "11  (209.585, 213.487]      6  0.122449\n",
       "12   (213.487, 217.39]      2  0.105263\n",
       "13   (217.39, 221.293]      0  0.000000\n",
       "14  (221.293, 225.196]      0  0.000000"
      ]
     },
     "execution_count": 15,
     "metadata": {},
     "output_type": "execute_result"
    }
   ],
   "source": [
    "vf_V4V5['freq'] = vf_V4V5['count']/data.groupby([data['V4-intervalos']]).count()['V4'].values\n",
    "vf_V4V5"
   ]
  },
  {
   "cell_type": "markdown",
   "metadata": {},
   "source": [
    "Para que sea más fácil e informativo el gráfico, agregamos a este dataframe el punto medio de cada intervalo."
   ]
  },
  {
   "cell_type": "code",
   "execution_count": 16,
   "metadata": {},
   "outputs": [
    {
     "data": {
      "text/html": [
       "<div>\n",
       "<style scoped>\n",
       "    .dataframe tbody tr th:only-of-type {\n",
       "        vertical-align: middle;\n",
       "    }\n",
       "\n",
       "    .dataframe tbody tr th {\n",
       "        vertical-align: top;\n",
       "    }\n",
       "\n",
       "    .dataframe thead th {\n",
       "        text-align: right;\n",
       "    }\n",
       "</style>\n",
       "<table border=\"1\" class=\"dataframe\">\n",
       "  <thead>\n",
       "    <tr style=\"text-align: right;\">\n",
       "      <th></th>\n",
       "      <th>V4-intervalos</th>\n",
       "      <th>count</th>\n",
       "      <th>freq</th>\n",
       "      <th>bin_centres</th>\n",
       "    </tr>\n",
       "  </thead>\n",
       "  <tbody>\n",
       "    <tr>\n",
       "      <th>0</th>\n",
       "      <td>(166.596, 170.557]</td>\n",
       "      <td>0</td>\n",
       "      <td>0.000000</td>\n",
       "      <td>168.5765</td>\n",
       "    </tr>\n",
       "    <tr>\n",
       "      <th>1</th>\n",
       "      <td>(170.557, 174.46]</td>\n",
       "      <td>0</td>\n",
       "      <td>0.000000</td>\n",
       "      <td>172.5085</td>\n",
       "    </tr>\n",
       "    <tr>\n",
       "      <th>2</th>\n",
       "      <td>(174.46, 178.363]</td>\n",
       "      <td>1</td>\n",
       "      <td>0.062500</td>\n",
       "      <td>176.4115</td>\n",
       "    </tr>\n",
       "    <tr>\n",
       "      <th>3</th>\n",
       "      <td>(178.363, 182.265]</td>\n",
       "      <td>2</td>\n",
       "      <td>0.051282</td>\n",
       "      <td>180.3140</td>\n",
       "    </tr>\n",
       "    <tr>\n",
       "      <th>4</th>\n",
       "      <td>(182.265, 186.168]</td>\n",
       "      <td>5</td>\n",
       "      <td>0.060976</td>\n",
       "      <td>184.2165</td>\n",
       "    </tr>\n",
       "    <tr>\n",
       "      <th>5</th>\n",
       "      <td>(186.168, 190.071]</td>\n",
       "      <td>6</td>\n",
       "      <td>0.063830</td>\n",
       "      <td>188.1195</td>\n",
       "    </tr>\n",
       "    <tr>\n",
       "      <th>6</th>\n",
       "      <td>(190.071, 193.974]</td>\n",
       "      <td>17</td>\n",
       "      <td>0.104938</td>\n",
       "      <td>192.0225</td>\n",
       "    </tr>\n",
       "    <tr>\n",
       "      <th>7</th>\n",
       "      <td>(193.974, 197.876]</td>\n",
       "      <td>12</td>\n",
       "      <td>0.065217</td>\n",
       "      <td>195.9250</td>\n",
       "    </tr>\n",
       "    <tr>\n",
       "      <th>8</th>\n",
       "      <td>(197.876, 201.779]</td>\n",
       "      <td>20</td>\n",
       "      <td>0.109290</td>\n",
       "      <td>199.8275</td>\n",
       "    </tr>\n",
       "    <tr>\n",
       "      <th>9</th>\n",
       "      <td>(201.779, 205.682]</td>\n",
       "      <td>13</td>\n",
       "      <td>0.084416</td>\n",
       "      <td>203.7305</td>\n",
       "    </tr>\n",
       "    <tr>\n",
       "      <th>10</th>\n",
       "      <td>(205.682, 209.585]</td>\n",
       "      <td>5</td>\n",
       "      <td>0.058140</td>\n",
       "      <td>207.6335</td>\n",
       "    </tr>\n",
       "    <tr>\n",
       "      <th>11</th>\n",
       "      <td>(209.585, 213.487]</td>\n",
       "      <td>6</td>\n",
       "      <td>0.122449</td>\n",
       "      <td>211.5360</td>\n",
       "    </tr>\n",
       "    <tr>\n",
       "      <th>12</th>\n",
       "      <td>(213.487, 217.39]</td>\n",
       "      <td>2</td>\n",
       "      <td>0.105263</td>\n",
       "      <td>215.4385</td>\n",
       "    </tr>\n",
       "    <tr>\n",
       "      <th>13</th>\n",
       "      <td>(217.39, 221.293]</td>\n",
       "      <td>0</td>\n",
       "      <td>0.000000</td>\n",
       "      <td>219.3415</td>\n",
       "    </tr>\n",
       "    <tr>\n",
       "      <th>14</th>\n",
       "      <td>(221.293, 225.196]</td>\n",
       "      <td>0</td>\n",
       "      <td>0.000000</td>\n",
       "      <td>223.2445</td>\n",
       "    </tr>\n",
       "  </tbody>\n",
       "</table>\n",
       "</div>"
      ],
      "text/plain": [
       "         V4-intervalos  count      freq bin_centres\n",
       "0   (166.596, 170.557]      0  0.000000    168.5765\n",
       "1    (170.557, 174.46]      0  0.000000    172.5085\n",
       "2    (174.46, 178.363]      1  0.062500    176.4115\n",
       "3   (178.363, 182.265]      2  0.051282    180.3140\n",
       "4   (182.265, 186.168]      5  0.060976    184.2165\n",
       "5   (186.168, 190.071]      6  0.063830    188.1195\n",
       "6   (190.071, 193.974]     17  0.104938    192.0225\n",
       "7   (193.974, 197.876]     12  0.065217    195.9250\n",
       "8   (197.876, 201.779]     20  0.109290    199.8275\n",
       "9   (201.779, 205.682]     13  0.084416    203.7305\n",
       "10  (205.682, 209.585]      5  0.058140    207.6335\n",
       "11  (209.585, 213.487]      6  0.122449    211.5360\n",
       "12   (213.487, 217.39]      2  0.105263    215.4385\n",
       "13   (217.39, 221.293]      0  0.000000    219.3415\n",
       "14  (221.293, 225.196]      0  0.000000    223.2445"
      ]
     },
     "execution_count": 16,
     "metadata": {},
     "output_type": "execute_result"
    }
   ],
   "source": [
    "vf_V4V5[\"bin_centres\"] = vf_V4V5[\"V4-intervalos\"].apply(lambda x: x.mid)\n",
    "vf_V4V5"
   ]
  },
  {
   "cell_type": "markdown",
   "metadata": {},
   "source": [
    "Y finalmente, graficamos"
   ]
  },
  {
   "cell_type": "code",
   "execution_count": 17,
   "metadata": {},
   "outputs": [
    {
     "data": {
      "image/png": "[encoded data removed]",
      "text/plain": [
       "<Figure size 432x288 with 1 Axes>"
      ]
     },
     "metadata": {},
     "output_type": "display_data"
    }
   ],
   "source": [
    "plt.scatter(vf_V4V5['bin_centres'], vf_V4V5['freq'])\n",
    "plt.xlabel('Punto medio bineado de V4')\n",
    "plt.ylabel('Frecuencia de valores faltantes en V5')\n",
    "plt.show()"
   ]
  },
  {
   "cell_type": "markdown",
   "metadata": {},
   "source": [
    "¿Te parece que da alguna información este gráfico? No te apures a sacar conclusiones. Vuelve a repetir los pasos, pero **invirtiendo el rol de V5 y V4** - solamente tienes que copiar cada celda e intercalar los nombres. Una vez que hayas llegado al gráfico, ahora sí mira si puedes sacar alguna conclusión."
   ]
  },
  {
   "cell_type": "code",
   "execution_count": 18,
   "metadata": {},
   "outputs": [
    {
     "data": {
      "text/html": [
       "<div>\n",
       "<style scoped>\n",
       "    .dataframe tbody tr th:only-of-type {\n",
       "        vertical-align: middle;\n",
       "    }\n",
       "\n",
       "    .dataframe tbody tr th {\n",
       "        vertical-align: top;\n",
       "    }\n",
       "\n",
       "    .dataframe thead th {\n",
       "        text-align: right;\n",
       "    }\n",
       "</style>\n",
       "<table border=\"1\" class=\"dataframe\">\n",
       "  <thead>\n",
       "    <tr style=\"text-align: right;\">\n",
       "      <th></th>\n",
       "      <th>V1</th>\n",
       "      <th>V2</th>\n",
       "      <th>V3</th>\n",
       "      <th>V4</th>\n",
       "      <th>V5</th>\n",
       "      <th>V4-intervalos</th>\n",
       "      <th>V5-intervalos</th>\n",
       "    </tr>\n",
       "  </thead>\n",
       "  <tbody>\n",
       "    <tr>\n",
       "      <th>0</th>\n",
       "      <td>C</td>\n",
       "      <td>1.0</td>\n",
       "      <td>986.175237</td>\n",
       "      <td>184.258917</td>\n",
       "      <td>2224.638050</td>\n",
       "      <td>(182.265, 186.168]</td>\n",
       "      <td>(2178.049, 2235.445]</td>\n",
       "    </tr>\n",
       "    <tr>\n",
       "      <th>1</th>\n",
       "      <td>C</td>\n",
       "      <td>1.0</td>\n",
       "      <td>994.130276</td>\n",
       "      <td>NaN</td>\n",
       "      <td>2570.213101</td>\n",
       "      <td>NaN</td>\n",
       "      <td>(2522.424, 2579.82]</td>\n",
       "    </tr>\n",
       "    <tr>\n",
       "      <th>2</th>\n",
       "      <td>A</td>\n",
       "      <td>1.0</td>\n",
       "      <td>985.782622</td>\n",
       "      <td>196.893581</td>\n",
       "      <td>2309.238832</td>\n",
       "      <td>(193.974, 197.876]</td>\n",
       "      <td>(2292.841, 2350.236]</td>\n",
       "    </tr>\n",
       "    <tr>\n",
       "      <th>3</th>\n",
       "      <td>A</td>\n",
       "      <td>1.0</td>\n",
       "      <td>1029.464887</td>\n",
       "      <td>192.063247</td>\n",
       "      <td>2349.259233</td>\n",
       "      <td>(190.071, 193.974]</td>\n",
       "      <td>(2292.841, 2350.236]</td>\n",
       "    </tr>\n",
       "    <tr>\n",
       "      <th>4</th>\n",
       "      <td>A</td>\n",
       "      <td>1.0</td>\n",
       "      <td>1004.357092</td>\n",
       "      <td>NaN</td>\n",
       "      <td>2474.036357</td>\n",
       "      <td>NaN</td>\n",
       "      <td>(2465.028, 2522.424]</td>\n",
       "    </tr>\n",
       "    <tr>\n",
       "      <th>...</th>\n",
       "      <td>...</td>\n",
       "      <td>...</td>\n",
       "      <td>...</td>\n",
       "      <td>...</td>\n",
       "      <td>...</td>\n",
       "      <td>...</td>\n",
       "      <td>...</td>\n",
       "    </tr>\n",
       "    <tr>\n",
       "      <th>1495</th>\n",
       "      <td>C</td>\n",
       "      <td>0.0</td>\n",
       "      <td>985.188653</td>\n",
       "      <td>190.366109</td>\n",
       "      <td>2302.000694</td>\n",
       "      <td>(190.071, 193.974]</td>\n",
       "      <td>(2292.841, 2350.236]</td>\n",
       "    </tr>\n",
       "    <tr>\n",
       "      <th>1496</th>\n",
       "      <td>C</td>\n",
       "      <td>0.0</td>\n",
       "      <td>991.730134</td>\n",
       "      <td>193.553401</td>\n",
       "      <td>2277.045998</td>\n",
       "      <td>(190.071, 193.974]</td>\n",
       "      <td>(2235.445, 2292.841]</td>\n",
       "    </tr>\n",
       "    <tr>\n",
       "      <th>1497</th>\n",
       "      <td>B</td>\n",
       "      <td>0.0</td>\n",
       "      <td>1032.150519</td>\n",
       "      <td>NaN</td>\n",
       "      <td>2347.760632</td>\n",
       "      <td>NaN</td>\n",
       "      <td>(2292.841, 2350.236]</td>\n",
       "    </tr>\n",
       "    <tr>\n",
       "      <th>1498</th>\n",
       "      <td>C</td>\n",
       "      <td>1.0</td>\n",
       "      <td>984.522924</td>\n",
       "      <td>196.373516</td>\n",
       "      <td>2393.847484</td>\n",
       "      <td>(193.974, 197.876]</td>\n",
       "      <td>(2350.236, 2407.632]</td>\n",
       "    </tr>\n",
       "    <tr>\n",
       "      <th>1499</th>\n",
       "      <td>C</td>\n",
       "      <td>0.0</td>\n",
       "      <td>1017.399835</td>\n",
       "      <td>192.406202</td>\n",
       "      <td>2368.906782</td>\n",
       "      <td>(190.071, 193.974]</td>\n",
       "      <td>(2350.236, 2407.632]</td>\n",
       "    </tr>\n",
       "  </tbody>\n",
       "</table>\n",
       "<p>1500 rows × 7 columns</p>\n",
       "</div>"
      ],
      "text/plain": [
       "     V1   V2           V3          V4           V5       V4-intervalos  \\\n",
       "0     C  1.0   986.175237  184.258917  2224.638050  (182.265, 186.168]   \n",
       "1     C  1.0   994.130276         NaN  2570.213101                 NaN   \n",
       "2     A  1.0   985.782622  196.893581  2309.238832  (193.974, 197.876]   \n",
       "3     A  1.0  1029.464887  192.063247  2349.259233  (190.071, 193.974]   \n",
       "4     A  1.0  1004.357092         NaN  2474.036357                 NaN   \n",
       "...  ..  ...          ...         ...          ...                 ...   \n",
       "1495  C  0.0   985.188653  190.366109  2302.000694  (190.071, 193.974]   \n",
       "1496  C  0.0   991.730134  193.553401  2277.045998  (190.071, 193.974]   \n",
       "1497  B  0.0  1032.150519         NaN  2347.760632                 NaN   \n",
       "1498  C  1.0   984.522924  196.373516  2393.847484  (193.974, 197.876]   \n",
       "1499  C  0.0  1017.399835  192.406202  2368.906782  (190.071, 193.974]   \n",
       "\n",
       "             V5-intervalos  \n",
       "0     (2178.049, 2235.445]  \n",
       "1      (2522.424, 2579.82]  \n",
       "2     (2292.841, 2350.236]  \n",
       "3     (2292.841, 2350.236]  \n",
       "4     (2465.028, 2522.424]  \n",
       "...                    ...  \n",
       "1495  (2292.841, 2350.236]  \n",
       "1496  (2235.445, 2292.841]  \n",
       "1497  (2292.841, 2350.236]  \n",
       "1498  (2350.236, 2407.632]  \n",
       "1499  (2350.236, 2407.632]  \n",
       "\n",
       "[1500 rows x 7 columns]"
      ]
     },
     "execution_count": 18,
     "metadata": {},
     "output_type": "execute_result"
    }
   ],
   "source": [
    "data['V5-intervalos'] = pd.cut(data.V5, bins  = 15)\n",
    "data"
   ]
  },
  {
   "cell_type": "code",
   "execution_count": 19,
   "metadata": {},
   "outputs": [
    {
     "data": {
      "text/html": [
       "<div>\n",
       "<style scoped>\n",
       "    .dataframe tbody tr th:only-of-type {\n",
       "        vertical-align: middle;\n",
       "    }\n",
       "\n",
       "    .dataframe tbody tr th {\n",
       "        vertical-align: top;\n",
       "    }\n",
       "\n",
       "    .dataframe thead th {\n",
       "        text-align: right;\n",
       "    }\n",
       "</style>\n",
       "<table border=\"1\" class=\"dataframe\">\n",
       "  <thead>\n",
       "    <tr style=\"text-align: right;\">\n",
       "      <th></th>\n",
       "      <th>V5-intervalos</th>\n",
       "      <th>count</th>\n",
       "    </tr>\n",
       "  </thead>\n",
       "  <tbody>\n",
       "    <tr>\n",
       "      <th>0</th>\n",
       "      <td>(2005.0, 2063.257]</td>\n",
       "      <td>0</td>\n",
       "    </tr>\n",
       "    <tr>\n",
       "      <th>1</th>\n",
       "      <td>(2063.257, 2120.653]</td>\n",
       "      <td>1</td>\n",
       "    </tr>\n",
       "    <tr>\n",
       "      <th>2</th>\n",
       "      <td>(2120.653, 2178.049]</td>\n",
       "      <td>0</td>\n",
       "    </tr>\n",
       "    <tr>\n",
       "      <th>3</th>\n",
       "      <td>(2178.049, 2235.445]</td>\n",
       "      <td>4</td>\n",
       "    </tr>\n",
       "    <tr>\n",
       "      <th>4</th>\n",
       "      <td>(2235.445, 2292.841]</td>\n",
       "      <td>9</td>\n",
       "    </tr>\n",
       "    <tr>\n",
       "      <th>5</th>\n",
       "      <td>(2292.841, 2350.236]</td>\n",
       "      <td>26</td>\n",
       "    </tr>\n",
       "    <tr>\n",
       "      <th>6</th>\n",
       "      <td>(2350.236, 2407.632]</td>\n",
       "      <td>39</td>\n",
       "    </tr>\n",
       "    <tr>\n",
       "      <th>7</th>\n",
       "      <td>(2407.632, 2465.028]</td>\n",
       "      <td>58</td>\n",
       "    </tr>\n",
       "    <tr>\n",
       "      <th>8</th>\n",
       "      <td>(2465.028, 2522.424]</td>\n",
       "      <td>79</td>\n",
       "    </tr>\n",
       "    <tr>\n",
       "      <th>9</th>\n",
       "      <td>(2522.424, 2579.82]</td>\n",
       "      <td>79</td>\n",
       "    </tr>\n",
       "    <tr>\n",
       "      <th>10</th>\n",
       "      <td>(2579.82, 2637.216]</td>\n",
       "      <td>48</td>\n",
       "    </tr>\n",
       "    <tr>\n",
       "      <th>11</th>\n",
       "      <td>(2637.216, 2694.612]</td>\n",
       "      <td>25</td>\n",
       "    </tr>\n",
       "    <tr>\n",
       "      <th>12</th>\n",
       "      <td>(2694.612, 2752.008]</td>\n",
       "      <td>7</td>\n",
       "    </tr>\n",
       "    <tr>\n",
       "      <th>13</th>\n",
       "      <td>(2752.008, 2809.403]</td>\n",
       "      <td>6</td>\n",
       "    </tr>\n",
       "    <tr>\n",
       "      <th>14</th>\n",
       "      <td>(2809.403, 2866.799]</td>\n",
       "      <td>3</td>\n",
       "    </tr>\n",
       "  </tbody>\n",
       "</table>\n",
       "</div>"
      ],
      "text/plain": [
       "           V5-intervalos  count\n",
       "0     (2005.0, 2063.257]      0\n",
       "1   (2063.257, 2120.653]      1\n",
       "2   (2120.653, 2178.049]      0\n",
       "3   (2178.049, 2235.445]      4\n",
       "4   (2235.445, 2292.841]      9\n",
       "5   (2292.841, 2350.236]     26\n",
       "6   (2350.236, 2407.632]     39\n",
       "7   (2407.632, 2465.028]     58\n",
       "8   (2465.028, 2522.424]     79\n",
       "9    (2522.424, 2579.82]     79\n",
       "10   (2579.82, 2637.216]     48\n",
       "11  (2637.216, 2694.612]     25\n",
       "12  (2694.612, 2752.008]      7\n",
       "13  (2752.008, 2809.403]      6\n",
       "14  (2809.403, 2866.799]      3"
      ]
     },
     "execution_count": 19,
     "metadata": {},
     "output_type": "execute_result"
    }
   ],
   "source": [
    "vf_V5V4 = data.V4.isnull().groupby([data['V5-intervalos']]).sum().astype(int).reset_index(name='count')\n",
    "vf_V5V4"
   ]
  },
  {
   "cell_type": "code",
   "execution_count": 20,
   "metadata": {},
   "outputs": [
    {
     "data": {
      "text/html": [
       "<div>\n",
       "<style scoped>\n",
       "    .dataframe tbody tr th:only-of-type {\n",
       "        vertical-align: middle;\n",
       "    }\n",
       "\n",
       "    .dataframe tbody tr th {\n",
       "        vertical-align: top;\n",
       "    }\n",
       "\n",
       "    .dataframe thead th {\n",
       "        text-align: right;\n",
       "    }\n",
       "</style>\n",
       "<table border=\"1\" class=\"dataframe\">\n",
       "  <thead>\n",
       "    <tr style=\"text-align: right;\">\n",
       "      <th></th>\n",
       "      <th>V5-intervalos</th>\n",
       "      <th>count</th>\n",
       "      <th>freq</th>\n",
       "    </tr>\n",
       "  </thead>\n",
       "  <tbody>\n",
       "    <tr>\n",
       "      <th>0</th>\n",
       "      <td>(2005.0, 2063.257]</td>\n",
       "      <td>0</td>\n",
       "      <td>0.000000</td>\n",
       "    </tr>\n",
       "    <tr>\n",
       "      <th>1</th>\n",
       "      <td>(2063.257, 2120.653]</td>\n",
       "      <td>1</td>\n",
       "      <td>0.040000</td>\n",
       "    </tr>\n",
       "    <tr>\n",
       "      <th>2</th>\n",
       "      <td>(2120.653, 2178.049]</td>\n",
       "      <td>0</td>\n",
       "      <td>0.000000</td>\n",
       "    </tr>\n",
       "    <tr>\n",
       "      <th>3</th>\n",
       "      <td>(2178.049, 2235.445]</td>\n",
       "      <td>4</td>\n",
       "      <td>0.049383</td>\n",
       "    </tr>\n",
       "    <tr>\n",
       "      <th>4</th>\n",
       "      <td>(2235.445, 2292.841]</td>\n",
       "      <td>9</td>\n",
       "      <td>0.058824</td>\n",
       "    </tr>\n",
       "    <tr>\n",
       "      <th>5</th>\n",
       "      <td>(2292.841, 2350.236]</td>\n",
       "      <td>26</td>\n",
       "      <td>0.134715</td>\n",
       "    </tr>\n",
       "    <tr>\n",
       "      <th>6</th>\n",
       "      <td>(2350.236, 2407.632]</td>\n",
       "      <td>39</td>\n",
       "      <td>0.157895</td>\n",
       "    </tr>\n",
       "    <tr>\n",
       "      <th>7</th>\n",
       "      <td>(2407.632, 2465.028]</td>\n",
       "      <td>58</td>\n",
       "      <td>0.254386</td>\n",
       "    </tr>\n",
       "    <tr>\n",
       "      <th>8</th>\n",
       "      <td>(2465.028, 2522.424]</td>\n",
       "      <td>79</td>\n",
       "      <td>0.461988</td>\n",
       "    </tr>\n",
       "    <tr>\n",
       "      <th>9</th>\n",
       "      <td>(2522.424, 2579.82]</td>\n",
       "      <td>79</td>\n",
       "      <td>0.612403</td>\n",
       "    </tr>\n",
       "    <tr>\n",
       "      <th>10</th>\n",
       "      <td>(2579.82, 2637.216]</td>\n",
       "      <td>48</td>\n",
       "      <td>0.716418</td>\n",
       "    </tr>\n",
       "    <tr>\n",
       "      <th>11</th>\n",
       "      <td>(2637.216, 2694.612]</td>\n",
       "      <td>25</td>\n",
       "      <td>1.000000</td>\n",
       "    </tr>\n",
       "    <tr>\n",
       "      <th>12</th>\n",
       "      <td>(2694.612, 2752.008]</td>\n",
       "      <td>7</td>\n",
       "      <td>0.875000</td>\n",
       "    </tr>\n",
       "    <tr>\n",
       "      <th>13</th>\n",
       "      <td>(2752.008, 2809.403]</td>\n",
       "      <td>6</td>\n",
       "      <td>1.000000</td>\n",
       "    </tr>\n",
       "    <tr>\n",
       "      <th>14</th>\n",
       "      <td>(2809.403, 2866.799]</td>\n",
       "      <td>3</td>\n",
       "      <td>1.000000</td>\n",
       "    </tr>\n",
       "  </tbody>\n",
       "</table>\n",
       "</div>"
      ],
      "text/plain": [
       "           V5-intervalos  count      freq\n",
       "0     (2005.0, 2063.257]      0  0.000000\n",
       "1   (2063.257, 2120.653]      1  0.040000\n",
       "2   (2120.653, 2178.049]      0  0.000000\n",
       "3   (2178.049, 2235.445]      4  0.049383\n",
       "4   (2235.445, 2292.841]      9  0.058824\n",
       "5   (2292.841, 2350.236]     26  0.134715\n",
       "6   (2350.236, 2407.632]     39  0.157895\n",
       "7   (2407.632, 2465.028]     58  0.254386\n",
       "8   (2465.028, 2522.424]     79  0.461988\n",
       "9    (2522.424, 2579.82]     79  0.612403\n",
       "10   (2579.82, 2637.216]     48  0.716418\n",
       "11  (2637.216, 2694.612]     25  1.000000\n",
       "12  (2694.612, 2752.008]      7  0.875000\n",
       "13  (2752.008, 2809.403]      6  1.000000\n",
       "14  (2809.403, 2866.799]      3  1.000000"
      ]
     },
     "execution_count": 20,
     "metadata": {},
     "output_type": "execute_result"
    }
   ],
   "source": [
    "vf_V5V4['freq'] = vf_V5V4['count']/data.groupby([data['V5-intervalos']]).count()['V5'].values\n",
    "vf_V5V4"
   ]
  },
  {
   "cell_type": "code",
   "execution_count": 21,
   "metadata": {},
   "outputs": [
    {
     "data": {
      "text/html": [
       "<div>\n",
       "<style scoped>\n",
       "    .dataframe tbody tr th:only-of-type {\n",
       "        vertical-align: middle;\n",
       "    }\n",
       "\n",
       "    .dataframe tbody tr th {\n",
       "        vertical-align: top;\n",
       "    }\n",
       "\n",
       "    .dataframe thead th {\n",
       "        text-align: right;\n",
       "    }\n",
       "</style>\n",
       "<table border=\"1\" class=\"dataframe\">\n",
       "  <thead>\n",
       "    <tr style=\"text-align: right;\">\n",
       "      <th></th>\n",
       "      <th>V5-intervalos</th>\n",
       "      <th>count</th>\n",
       "      <th>freq</th>\n",
       "      <th>bin_centres</th>\n",
       "    </tr>\n",
       "  </thead>\n",
       "  <tbody>\n",
       "    <tr>\n",
       "      <th>0</th>\n",
       "      <td>(2005.0, 2063.257]</td>\n",
       "      <td>0</td>\n",
       "      <td>0.000000</td>\n",
       "      <td>2034.1285</td>\n",
       "    </tr>\n",
       "    <tr>\n",
       "      <th>1</th>\n",
       "      <td>(2063.257, 2120.653]</td>\n",
       "      <td>1</td>\n",
       "      <td>0.040000</td>\n",
       "      <td>2091.9550</td>\n",
       "    </tr>\n",
       "    <tr>\n",
       "      <th>2</th>\n",
       "      <td>(2120.653, 2178.049]</td>\n",
       "      <td>0</td>\n",
       "      <td>0.000000</td>\n",
       "      <td>2149.3510</td>\n",
       "    </tr>\n",
       "    <tr>\n",
       "      <th>3</th>\n",
       "      <td>(2178.049, 2235.445]</td>\n",
       "      <td>4</td>\n",
       "      <td>0.049383</td>\n",
       "      <td>2206.7470</td>\n",
       "    </tr>\n",
       "    <tr>\n",
       "      <th>4</th>\n",
       "      <td>(2235.445, 2292.841]</td>\n",
       "      <td>9</td>\n",
       "      <td>0.058824</td>\n",
       "      <td>2264.1430</td>\n",
       "    </tr>\n",
       "    <tr>\n",
       "      <th>5</th>\n",
       "      <td>(2292.841, 2350.236]</td>\n",
       "      <td>26</td>\n",
       "      <td>0.134715</td>\n",
       "      <td>2321.5385</td>\n",
       "    </tr>\n",
       "    <tr>\n",
       "      <th>6</th>\n",
       "      <td>(2350.236, 2407.632]</td>\n",
       "      <td>39</td>\n",
       "      <td>0.157895</td>\n",
       "      <td>2378.9340</td>\n",
       "    </tr>\n",
       "    <tr>\n",
       "      <th>7</th>\n",
       "      <td>(2407.632, 2465.028]</td>\n",
       "      <td>58</td>\n",
       "      <td>0.254386</td>\n",
       "      <td>2436.3300</td>\n",
       "    </tr>\n",
       "    <tr>\n",
       "      <th>8</th>\n",
       "      <td>(2465.028, 2522.424]</td>\n",
       "      <td>79</td>\n",
       "      <td>0.461988</td>\n",
       "      <td>2493.7260</td>\n",
       "    </tr>\n",
       "    <tr>\n",
       "      <th>9</th>\n",
       "      <td>(2522.424, 2579.82]</td>\n",
       "      <td>79</td>\n",
       "      <td>0.612403</td>\n",
       "      <td>2551.1220</td>\n",
       "    </tr>\n",
       "    <tr>\n",
       "      <th>10</th>\n",
       "      <td>(2579.82, 2637.216]</td>\n",
       "      <td>48</td>\n",
       "      <td>0.716418</td>\n",
       "      <td>2608.5180</td>\n",
       "    </tr>\n",
       "    <tr>\n",
       "      <th>11</th>\n",
       "      <td>(2637.216, 2694.612]</td>\n",
       "      <td>25</td>\n",
       "      <td>1.000000</td>\n",
       "      <td>2665.9140</td>\n",
       "    </tr>\n",
       "    <tr>\n",
       "      <th>12</th>\n",
       "      <td>(2694.612, 2752.008]</td>\n",
       "      <td>7</td>\n",
       "      <td>0.875000</td>\n",
       "      <td>2723.3100</td>\n",
       "    </tr>\n",
       "    <tr>\n",
       "      <th>13</th>\n",
       "      <td>(2752.008, 2809.403]</td>\n",
       "      <td>6</td>\n",
       "      <td>1.000000</td>\n",
       "      <td>2780.7055</td>\n",
       "    </tr>\n",
       "    <tr>\n",
       "      <th>14</th>\n",
       "      <td>(2809.403, 2866.799]</td>\n",
       "      <td>3</td>\n",
       "      <td>1.000000</td>\n",
       "      <td>2838.1010</td>\n",
       "    </tr>\n",
       "  </tbody>\n",
       "</table>\n",
       "</div>"
      ],
      "text/plain": [
       "           V5-intervalos  count      freq bin_centres\n",
       "0     (2005.0, 2063.257]      0  0.000000   2034.1285\n",
       "1   (2063.257, 2120.653]      1  0.040000   2091.9550\n",
       "2   (2120.653, 2178.049]      0  0.000000   2149.3510\n",
       "3   (2178.049, 2235.445]      4  0.049383   2206.7470\n",
       "4   (2235.445, 2292.841]      9  0.058824   2264.1430\n",
       "5   (2292.841, 2350.236]     26  0.134715   2321.5385\n",
       "6   (2350.236, 2407.632]     39  0.157895   2378.9340\n",
       "7   (2407.632, 2465.028]     58  0.254386   2436.3300\n",
       "8   (2465.028, 2522.424]     79  0.461988   2493.7260\n",
       "9    (2522.424, 2579.82]     79  0.612403   2551.1220\n",
       "10   (2579.82, 2637.216]     48  0.716418   2608.5180\n",
       "11  (2637.216, 2694.612]     25  1.000000   2665.9140\n",
       "12  (2694.612, 2752.008]      7  0.875000   2723.3100\n",
       "13  (2752.008, 2809.403]      6  1.000000   2780.7055\n",
       "14  (2809.403, 2866.799]      3  1.000000   2838.1010"
      ]
     },
     "execution_count": 21,
     "metadata": {},
     "output_type": "execute_result"
    }
   ],
   "source": [
    "vf_V5V4[\"bin_centres\"] = vf_V5V4[\"V5-intervalos\"].apply(lambda x: x.mid)\n",
    "vf_V5V4"
   ]
  },
  {
   "cell_type": "code",
   "execution_count": 22,
   "metadata": {},
   "outputs": [
    {
     "data": {
      "image/png": "[encoded data removed]",
      "text/plain": [
       "<Figure size 432x288 with 1 Axes>"
      ]
     },
     "metadata": {},
     "output_type": "display_data"
    }
   ],
   "source": [
    "plt.scatter(vf_V5V4['bin_centres'], vf_V5V4['freq'])\n",
    "plt.xlabel('Punto medio bineado de V5')\n",
    "plt.ylabel('Frecuencia de valores faltantes en V4')\n",
    "plt.show()"
   ]
  },
  {
   "cell_type": "markdown",
   "metadata": {},
   "source": [
    "¿Has llegado a alguna conclusión? Entre V4 y V5, ¿cuál es MNAR y cuál MCAR?¿Y V2?"
   ]
  },
  {
   "cell_type": "markdown",
   "metadata": {},
   "source": [
    "* V3 es MAR (la probabilidad de valor faltante depende de otra variable-de V1): hay algún tipo de relación entre los valores faltantes de V3 y cada categoría de V1 (en B es 0). Alguna de las categorías está influyendo en la existencia o no de valores faltantes en V3.\n",
    "* V2 es MCAR.\n",
    "* V4 es MCAR (el valor faltante es completamente al azar y no depende de otras variables).\n",
    "* V5 es MNAR (la probabilidad de valor faltante depende de esa misma variable): A medida que crece V5, hay un incremento de valores faltantes en V4."
   ]
  },
  {
   "cell_type": "markdown",
   "metadata": {},
   "source": [
    "## 1.2 Imputación de valores faltantes\n",
    "\n",
    "Vamos a *imputar* los valores faltantes. Te recomendamos que:\n",
    "\n",
    "1. Al tratarse de un dataset pequeño, puedes copiar el dataset, dejar a un lado el original y rellenar valores faltantes en la copia. De esta forma, podrás evaluar tu estrategia (ver punto siguiente) y/o comparar distintas estrategias.\n",
    "1. Haz histogramas de las variables con y sin valores faltantes. Al imputar, ¿cambián las distribuciones?¿Esto está bien o mal?\n",
    "\n",
    "**Ejercicio 1 - Challenge 1:** Comienza con una estrategia sencilla, imputar con el valor medio de cada columna usando Pandas. ¿Para cuáles columnas tendrá sentido esto, teniendo en cuenta lo visto en el punto anterior? \n",
    "\n",
    "**Ejercicio 2:** Propone - e implementa - una estrategia que consideres mejor, incorporando la información del punto 1. En el siguiente encuentro, te daremos el dataset sin valores faltantes, por lo que podrás comparar tus resultados. ¡Ten en cuenta que es muy raro que esto se pueda hacer! Lo que nos lleva a...\n",
    "\n",
    "**Ejercicio 3:** ¿Se te ocurre algún mecanismo de evaluación de tu estrategia? Pista: considera lo que vimos sobre Machine Learning en el Bloque 1 de la carrera. \n",
    "\n",
    "Por las dudas, comenzamos volviendo a cargar los datos:"
   ]
  },
  {
   "cell_type": "code",
   "execution_count": 23,
   "metadata": {},
   "outputs": [],
   "source": [
    "data_2 = pd.read_csv('Data\\DS_Bitácora_19_Data_con_VF.csv')"
   ]
  },
  {
   "cell_type": "markdown",
   "metadata": {},
   "source": [
    "__Ejercicio 1:__"
   ]
  },
  {
   "cell_type": "code",
   "execution_count": 24,
   "metadata": {},
   "outputs": [],
   "source": [
    "data_2 = data_2.fillna(data_2.mean())"
   ]
  },
  {
   "cell_type": "code",
   "execution_count": 25,
   "metadata": {},
   "outputs": [
    {
     "data": {
      "text/plain": [
       "(1500, 5)"
      ]
     },
     "execution_count": 25,
     "metadata": {},
     "output_type": "execute_result"
    }
   ],
   "source": [
    "data_2.shape"
   ]
  },
  {
   "cell_type": "code",
   "execution_count": 26,
   "metadata": {},
   "outputs": [
    {
     "data": {
      "text/html": [
       "<div>\n",
       "<style scoped>\n",
       "    .dataframe tbody tr th:only-of-type {\n",
       "        vertical-align: middle;\n",
       "    }\n",
       "\n",
       "    .dataframe tbody tr th {\n",
       "        vertical-align: top;\n",
       "    }\n",
       "\n",
       "    .dataframe thead th {\n",
       "        text-align: right;\n",
       "    }\n",
       "</style>\n",
       "<table border=\"1\" class=\"dataframe\">\n",
       "  <thead>\n",
       "    <tr style=\"text-align: right;\">\n",
       "      <th></th>\n",
       "      <th>V1</th>\n",
       "      <th>V2</th>\n",
       "      <th>V3</th>\n",
       "      <th>V4</th>\n",
       "      <th>V5</th>\n",
       "    </tr>\n",
       "  </thead>\n",
       "  <tbody>\n",
       "    <tr>\n",
       "      <th>0</th>\n",
       "      <td>C</td>\n",
       "      <td>1.0</td>\n",
       "      <td>986.175237</td>\n",
       "      <td>184.258917</td>\n",
       "      <td>2224.638050</td>\n",
       "    </tr>\n",
       "    <tr>\n",
       "      <th>1</th>\n",
       "      <td>C</td>\n",
       "      <td>1.0</td>\n",
       "      <td>994.130276</td>\n",
       "      <td>196.414056</td>\n",
       "      <td>2570.213101</td>\n",
       "    </tr>\n",
       "    <tr>\n",
       "      <th>2</th>\n",
       "      <td>A</td>\n",
       "      <td>1.0</td>\n",
       "      <td>985.782622</td>\n",
       "      <td>196.893581</td>\n",
       "      <td>2309.238832</td>\n",
       "    </tr>\n",
       "    <tr>\n",
       "      <th>3</th>\n",
       "      <td>A</td>\n",
       "      <td>1.0</td>\n",
       "      <td>1029.464887</td>\n",
       "      <td>192.063247</td>\n",
       "      <td>2349.259233</td>\n",
       "    </tr>\n",
       "    <tr>\n",
       "      <th>4</th>\n",
       "      <td>A</td>\n",
       "      <td>1.0</td>\n",
       "      <td>1004.357092</td>\n",
       "      <td>196.414056</td>\n",
       "      <td>2474.036357</td>\n",
       "    </tr>\n",
       "  </tbody>\n",
       "</table>\n",
       "</div>"
      ],
      "text/plain": [
       "  V1   V2           V3          V4           V5\n",
       "0  C  1.0   986.175237  184.258917  2224.638050\n",
       "1  C  1.0   994.130276  196.414056  2570.213101\n",
       "2  A  1.0   985.782622  196.893581  2309.238832\n",
       "3  A  1.0  1029.464887  192.063247  2349.259233\n",
       "4  A  1.0  1004.357092  196.414056  2474.036357"
      ]
     },
     "execution_count": 26,
     "metadata": {},
     "output_type": "execute_result"
    }
   ],
   "source": [
    "data_2.head()"
   ]
  },
  {
   "cell_type": "markdown",
   "metadata": {},
   "source": [
    "__Ejercicio 2:__"
   ]
  },
  {
   "cell_type": "code",
   "execution_count": 27,
   "metadata": {},
   "outputs": [],
   "source": [
    "data_3 = pd.read_csv('Data\\DS_Bitácora_19_Data_con_VF.csv')"
   ]
  },
  {
   "cell_type": "code",
   "execution_count": 28,
   "metadata": {},
   "outputs": [
    {
     "name": "stdout",
     "output_type": "stream",
     "text": [
      "0.5003728560775541\n"
     ]
    }
   ],
   "source": [
    "mean_v2 = data_3['V2'].mean()\n",
    "print (mean_v2)"
   ]
  },
  {
   "cell_type": "code",
   "execution_count": 29,
   "metadata": {},
   "outputs": [
    {
     "name": "stdout",
     "output_type": "stream",
     "text": [
      "0       1.0\n",
      "1       1.0\n",
      "2       1.0\n",
      "3       1.0\n",
      "4       1.0\n",
      "       ... \n",
      "1495    0.0\n",
      "1496    0.0\n",
      "1497    0.0\n",
      "1498    1.0\n",
      "1499    0.0\n",
      "Name: V2, Length: 1500, dtype: float64\n"
     ]
    }
   ],
   "source": [
    "data_3['V2'] = data_3['V2'].fillna(mean_v2)\n",
    "print(data_3['V2'])"
   ]
  },
  {
   "cell_type": "code",
   "execution_count": 30,
   "metadata": {},
   "outputs": [
    {
     "name": "stdout",
     "output_type": "stream",
     "text": [
      "999.6862687520616\n"
     ]
    }
   ],
   "source": [
    "mean_v3 = data_3['V3'].mean()\n",
    "print (mean_v3)"
   ]
  },
  {
   "cell_type": "code",
   "execution_count": 31,
   "metadata": {},
   "outputs": [
    {
     "name": "stdout",
     "output_type": "stream",
     "text": [
      "0        986.175237\n",
      "1        994.130276\n",
      "2        985.782622\n",
      "3       1029.464887\n",
      "4       1004.357092\n",
      "           ...     \n",
      "1495     985.188653\n",
      "1496     991.730134\n",
      "1497    1032.150519\n",
      "1498     984.522924\n",
      "1499    1017.399835\n",
      "Name: V3, Length: 1500, dtype: float64\n"
     ]
    }
   ],
   "source": [
    "data_3['V3'] = data_3['V3'].fillna(mean_v3)\n",
    "print(data_3['V3'])"
   ]
  },
  {
   "cell_type": "code",
   "execution_count": 32,
   "metadata": {},
   "outputs": [
    {
     "name": "stdout",
     "output_type": "stream",
     "text": [
      "2395.781409219903\n"
     ]
    }
   ],
   "source": [
    "mean_v5 = data_3['V5'].mean()\n",
    "print (mean_v5)"
   ]
  },
  {
   "cell_type": "code",
   "execution_count": 33,
   "metadata": {},
   "outputs": [
    {
     "name": "stdout",
     "output_type": "stream",
     "text": [
      "0        184.258917\n",
      "1       2395.781409\n",
      "2        196.893581\n",
      "3        192.063247\n",
      "4       2395.781409\n",
      "           ...     \n",
      "1495     190.366109\n",
      "1496     193.553401\n",
      "1497    2395.781409\n",
      "1498     196.373516\n",
      "1499     192.406202\n",
      "Name: V4, Length: 1500, dtype: float64\n"
     ]
    }
   ],
   "source": [
    "data_3['V4'] = data_3['V4'].fillna(mean_v5)\n",
    "print(data_3['V4'])"
   ]
  },
  {
   "cell_type": "code",
   "execution_count": 34,
   "metadata": {},
   "outputs": [
    {
     "name": "stdout",
     "output_type": "stream",
     "text": [
      "0       2224.638050\n",
      "1       2570.213101\n",
      "2       2309.238832\n",
      "3       2349.259233\n",
      "4       2474.036357\n",
      "           ...     \n",
      "1495    2302.000694\n",
      "1496    2277.045998\n",
      "1497    2347.760632\n",
      "1498    2393.847484\n",
      "1499    2368.906782\n",
      "Name: V5, Length: 1500, dtype: float64\n"
     ]
    }
   ],
   "source": [
    "data_3['V5'] = data_3['V5'].fillna(mean_v5)\n",
    "print(data_3['V5'])"
   ]
  },
  {
   "cell_type": "code",
   "execution_count": 35,
   "metadata": {},
   "outputs": [
    {
     "data": {
      "text/html": [
       "<div>\n",
       "<style scoped>\n",
       "    .dataframe tbody tr th:only-of-type {\n",
       "        vertical-align: middle;\n",
       "    }\n",
       "\n",
       "    .dataframe tbody tr th {\n",
       "        vertical-align: top;\n",
       "    }\n",
       "\n",
       "    .dataframe thead th {\n",
       "        text-align: right;\n",
       "    }\n",
       "</style>\n",
       "<table border=\"1\" class=\"dataframe\">\n",
       "  <thead>\n",
       "    <tr style=\"text-align: right;\">\n",
       "      <th></th>\n",
       "      <th>V1</th>\n",
       "      <th>V2</th>\n",
       "      <th>V3</th>\n",
       "      <th>V4</th>\n",
       "      <th>V5</th>\n",
       "    </tr>\n",
       "  </thead>\n",
       "  <tbody>\n",
       "    <tr>\n",
       "      <th>0</th>\n",
       "      <td>C</td>\n",
       "      <td>1.0</td>\n",
       "      <td>986.175237</td>\n",
       "      <td>184.258917</td>\n",
       "      <td>2224.638050</td>\n",
       "    </tr>\n",
       "    <tr>\n",
       "      <th>1</th>\n",
       "      <td>C</td>\n",
       "      <td>1.0</td>\n",
       "      <td>994.130276</td>\n",
       "      <td>2395.781409</td>\n",
       "      <td>2570.213101</td>\n",
       "    </tr>\n",
       "    <tr>\n",
       "      <th>2</th>\n",
       "      <td>A</td>\n",
       "      <td>1.0</td>\n",
       "      <td>985.782622</td>\n",
       "      <td>196.893581</td>\n",
       "      <td>2309.238832</td>\n",
       "    </tr>\n",
       "    <tr>\n",
       "      <th>3</th>\n",
       "      <td>A</td>\n",
       "      <td>1.0</td>\n",
       "      <td>1029.464887</td>\n",
       "      <td>192.063247</td>\n",
       "      <td>2349.259233</td>\n",
       "    </tr>\n",
       "    <tr>\n",
       "      <th>4</th>\n",
       "      <td>A</td>\n",
       "      <td>1.0</td>\n",
       "      <td>1004.357092</td>\n",
       "      <td>2395.781409</td>\n",
       "      <td>2474.036357</td>\n",
       "    </tr>\n",
       "  </tbody>\n",
       "</table>\n",
       "</div>"
      ],
      "text/plain": [
       "  V1   V2           V3           V4           V5\n",
       "0  C  1.0   986.175237   184.258917  2224.638050\n",
       "1  C  1.0   994.130276  2395.781409  2570.213101\n",
       "2  A  1.0   985.782622   196.893581  2309.238832\n",
       "3  A  1.0  1029.464887   192.063247  2349.259233\n",
       "4  A  1.0  1004.357092  2395.781409  2474.036357"
      ]
     },
     "execution_count": 35,
     "metadata": {},
     "output_type": "execute_result"
    }
   ],
   "source": [
    "data_3.head()"
   ]
  },
  {
   "cell_type": "markdown",
   "metadata": {},
   "source": [
    "__Ejercicio 3:__"
   ]
  },
  {
   "cell_type": "markdown",
   "metadata": {},
   "source": [
    "* Modelo de Regresión, ya que trabajamos con etiquetas numéricas.\n",
    "* Puede ser de K Vecinos."
   ]
  },
  {
   "cell_type": "code",
   "execution_count": null,
   "metadata": {},
   "outputs": [],
   "source": []
  }
 ],
 "metadata": {
  "kernelspec": {
   "display_name": "Python 3",
   "language": "python",
   "name": "python3"
  },
  "language_info": {
   "codemirror_mode": {
    "name": "ipython",
    "version": 3
   },
   "file_extension": ".py",
   "mimetype": "text/x-python",
   "name": "python",
   "nbconvert_exporter": "python",
   "pygments_lexer": "ipython3",
   "version": "3.8.2"
  }
 },
 "nbformat": 4,
 "nbformat_minor": 4
}
