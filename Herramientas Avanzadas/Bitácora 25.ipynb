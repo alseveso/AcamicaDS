{
 "cells": [
  {
   "cell_type": "markdown",
   "metadata": {
    "colab_type": "text",
    "id": "z5MdlIsEHjJf"
   },
   "source": [
    "# Support Vector Machines"
   ]
  },
  {
   "cell_type": "markdown",
   "metadata": {},
   "source": [
    "“Recuerde que el valor de un **clasificador** está en qué tan bien separa los datos de entrenamiento. Lo que queremos es que clasifique puntos de datos aún no vistos (conocidos como datos de prueba). Dado eso, queremos elegir una **línea que capture el patrón general en los datos de entrenamiento**, por lo que hay una buena probabilidad de que funcione bien en los datos de la prueba”."
   ]
  },
  {
   "cell_type": "markdown",
   "metadata": {},
   "source": [
    "En Data Science es fundamental: **¿cómo se define la frontera de decisión?**"
   ]
  },
  {
   "cell_type": "markdown",
   "metadata": {},
   "source": [
    "Las **SVM** identifican **rectas que clasifican correctamente los datos de entrenamiento**, y eligen aquella que tiene mayor distancia -o margen- en relación a los puntos más cercanos, a los que llamamos **“vectores de soporte”**.  \n",
    "Nos permiten elegir la mejor entre muchas fronteras, de modo que garantiza una mayor probabilidad de etiquetar correctamente a los datos nunca vistos"
   ]
  },
  {
   "cell_type": "markdown",
   "metadata": {},
   "source": [
    "Si los datos se pueden separar por una recta (o hiperplano) se dice que los mismos resultan ser linealmente separables.\n",
    "\n",
    "Como verás, tenemos el siguiente cuadro de situación:\n",
    "\n",
    "1- Para datos separables linealmente, las SVM funcionan muy bien.\n",
    "\n",
    "2- Para datos que son casi linealmente separables, se puede hacer que las SVM funcionen bien utilizando un parámetro llamado “C”.\n",
    "\n",
    "3- Para los datos que no son linealmente separables, podemos proyectar datos en un espacio donde sea perfectamente/casi linealmente separable, lo que reduce el problema a 1 ó 2 - \"truco del Kernel\".  \n",
    "4- Kernel y C son los **hiperparámetros**.\n",
    "\n",
    "Lo que hacemos es “pedirle” a la SVM que haga la proyección por nosotros, ¡lo cual nos simplifica las tareas! A los encargados de hacer esas proyecciones se los conoce como Kernels.  \n",
    "\n",
    "Las **funciones kernels** son las que les dan a las SVM su poder para separar los puntos no linealmente separables, en un espacio de mayor dimensionalidad. La dimensión de un conjunto de datos puede transformarse combinando o modificando cualquiera de ellas.\n",
    "\n",
    "Cuando nos enfrentamos a un problema que no es linealmente separable, procedemos a probar entre los kernels: *Gaussiano, Sigmoide y Polinomial*. Si bien existe la posibilidad de crear nuestro propio kernel, en los problemas más comunes esto no es necesario.\n",
    "\n",
    "Un Kernel es una forma de calcular el producto punto de dos vectores 𝑥 e 𝑦 en algún espacio de características (posiblemente de mayor dimensionalidad), por lo que las funciones del kernel a veces se denominan \"producto punto generalizado\".\n",
    "\n",
    "Mi modelo finalmente será tan buena, de acuerdo a que tan bien me dan mis datos de entrenamiento y su respectivo accurracy.\n",
    "\n",
    "__Nota:__ Ver **Min 21.50**\n",
    "* Gaussiano (1ra opción): Hace una separación más clara de los datos (o puntos) que presentan mayor concentración.\n",
    "* Polinomial (2ra opción): Se de antemano que los datos provienen de algún tipo de función matemática de una función, por ej. función exponencial (COVID-19).\n",
    "* Sigmoide (3ra opción): Sirve cuando mi separación tiene 2 clases y sé que se pueden alcanzar aplicando elevando al cuadrado o al cubo como en la regresión lineal."
   ]
  },
  {
   "cell_type": "markdown",
   "metadata": {},
   "source": [
    "## 1. Social Network Ads \n",
    "\n",
    "En primer lugar vamos a trabajar con el dataset de Social Networks Ads, un conjunto de datos que permiten determinar si un usuario compró o no un producto en particular. Tanto el dataset como su descripción los pueden encontrar en [Kaggle](https://www.kaggle.com/rakeshrau/social-network-ads).\n",
    "\n",
    "### Columnas del dataset:\n",
    "* User ID: identificación de usuario.\n",
    "* Gender: género.\n",
    "* Age: edad.\n",
    "* EstimatedSalary: salario estimado.\n",
    "* Purchased: compró/no compró un producto en particular.\n",
    "\n",
    "Ahora sí, a trabajar. En primer lugar, recomendamos hacer una pequeña exploración de datos si tienes tiempo. Luego, sigue los pasos que aquí te dejamos. Si te sientes seguro/a, hasta puedes intentar implementar un SVM sobre ese dataset sin mirar la guía que dejamos. En ese caso, te conviene hacerlo en otro notebook. ¡Inténtalo!"
   ]
  },
  {
   "cell_type": "markdown",
   "metadata": {
    "colab_type": "text",
    "id": "LUgGMm6qHjJh"
   },
   "source": [
    "1. Importa las librerías necesarias y carga el dataset."
   ]
  },
  {
   "cell_type": "code",
   "execution_count": 1,
   "metadata": {
    "colab": {},
    "colab_type": "code",
    "id": "S6-sZ0iagaPH"
   },
   "outputs": [],
   "source": [
    "import pandas as pd\n",
    "import numpy as np\n",
    "import matplotlib.pyplot as plt\n",
    "import seaborn as sns\n",
    "sns.set()"
   ]
  },
  {
   "cell_type": "code",
   "execution_count": 2,
   "metadata": {},
   "outputs": [],
   "source": [
    "data = pd.read_csv('Data\\DS_Bitácora_25_Social_Network_Ads.csv')"
   ]
  },
  {
   "cell_type": "code",
   "execution_count": 3,
   "metadata": {},
   "outputs": [
    {
     "data": {
      "text/html": [
       "<div>\n",
       "<style scoped>\n",
       "    .dataframe tbody tr th:only-of-type {\n",
       "        vertical-align: middle;\n",
       "    }\n",
       "\n",
       "    .dataframe tbody tr th {\n",
       "        vertical-align: top;\n",
       "    }\n",
       "\n",
       "    .dataframe thead th {\n",
       "        text-align: right;\n",
       "    }\n",
       "</style>\n",
       "<table border=\"1\" class=\"dataframe\">\n",
       "  <thead>\n",
       "    <tr style=\"text-align: right;\">\n",
       "      <th></th>\n",
       "      <th>User ID</th>\n",
       "      <th>Gender</th>\n",
       "      <th>Age</th>\n",
       "      <th>EstimatedSalary</th>\n",
       "      <th>Purchased</th>\n",
       "    </tr>\n",
       "  </thead>\n",
       "  <tbody>\n",
       "    <tr>\n",
       "      <th>0</th>\n",
       "      <td>15624510</td>\n",
       "      <td>Male</td>\n",
       "      <td>19</td>\n",
       "      <td>19000</td>\n",
       "      <td>0</td>\n",
       "    </tr>\n",
       "    <tr>\n",
       "      <th>1</th>\n",
       "      <td>15810944</td>\n",
       "      <td>Male</td>\n",
       "      <td>35</td>\n",
       "      <td>20000</td>\n",
       "      <td>0</td>\n",
       "    </tr>\n",
       "    <tr>\n",
       "      <th>2</th>\n",
       "      <td>15668575</td>\n",
       "      <td>Female</td>\n",
       "      <td>26</td>\n",
       "      <td>43000</td>\n",
       "      <td>0</td>\n",
       "    </tr>\n",
       "    <tr>\n",
       "      <th>3</th>\n",
       "      <td>15603246</td>\n",
       "      <td>Female</td>\n",
       "      <td>27</td>\n",
       "      <td>57000</td>\n",
       "      <td>0</td>\n",
       "    </tr>\n",
       "    <tr>\n",
       "      <th>4</th>\n",
       "      <td>15804002</td>\n",
       "      <td>Male</td>\n",
       "      <td>19</td>\n",
       "      <td>76000</td>\n",
       "      <td>0</td>\n",
       "    </tr>\n",
       "  </tbody>\n",
       "</table>\n",
       "</div>"
      ],
      "text/plain": [
       "    User ID  Gender  Age  EstimatedSalary  Purchased\n",
       "0  15624510    Male   19            19000          0\n",
       "1  15810944    Male   35            20000          0\n",
       "2  15668575  Female   26            43000          0\n",
       "3  15603246  Female   27            57000          0\n",
       "4  15804002    Male   19            76000          0"
      ]
     },
     "execution_count": 3,
     "metadata": {},
     "output_type": "execute_result"
    }
   ],
   "source": [
    "data.head()"
   ]
  },
  {
   "cell_type": "code",
   "execution_count": 4,
   "metadata": {},
   "outputs": [
    {
     "name": "stdout",
     "output_type": "stream",
     "text": [
      "<class 'pandas.core.frame.DataFrame'>\n",
      "RangeIndex: 400 entries, 0 to 399\n",
      "Data columns (total 5 columns):\n",
      " #   Column           Non-Null Count  Dtype \n",
      "---  ------           --------------  ----- \n",
      " 0   User ID          400 non-null    int64 \n",
      " 1   Gender           400 non-null    object\n",
      " 2   Age              400 non-null    int64 \n",
      " 3   EstimatedSalary  400 non-null    int64 \n",
      " 4   Purchased        400 non-null    int64 \n",
      "dtypes: int64(4), object(1)\n",
      "memory usage: 15.8+ KB\n"
     ]
    }
   ],
   "source": [
    "data.info()"
   ]
  },
  {
   "cell_type": "markdown",
   "metadata": {
    "colab_type": "text",
    "id": "fpp_XwsOHjJ6"
   },
   "source": [
    "2. Sólo vamos a utilizar como features las columnas `Age` y `EstimatedSalary` (así podemos visualizar). Y como target a la columna `Purchased`"
   ]
  },
  {
   "cell_type": "markdown",
   "metadata": {},
   "source": [
    "Ahora veamos cuantos datos de cada etiqueta tenemos, para ellos debemos ver la columna `Purchased`.\n",
    "* S/ `Target`, de cada etiqueta, tenemos las Clases 0 y 1.  \n",
    "* No tenemos valores nulos."
   ]
  },
  {
   "cell_type": "code",
   "execution_count": 5,
   "metadata": {},
   "outputs": [
    {
     "data": {
      "image/png": "[encoded data removed]",
      "text/plain": [
       "<Figure size 576x288 with 1 Axes>"
      ]
     },
     "metadata": {},
     "output_type": "display_data"
    }
   ],
   "source": [
    "plt.figure(figsize=(8,4))\n",
    "sns.countplot(data['Purchased'],label=\"Count\")\n",
    "plt.show()"
   ]
  },
  {
   "cell_type": "code",
   "execution_count": 6,
   "metadata": {},
   "outputs": [],
   "source": [
    "X = data[['Age', 'EstimatedSalary']]\n",
    "y = data['Purchased']"
   ]
  },
  {
   "cell_type": "code",
   "execution_count": 7,
   "metadata": {},
   "outputs": [
    {
     "name": "stdout",
     "output_type": "stream",
     "text": [
      "(400, 2)\n",
      "(400,)\n"
     ]
    }
   ],
   "source": [
    "print(X.shape)\n",
    "print(y.shape)"
   ]
  },
  {
   "cell_type": "markdown",
   "metadata": {
    "colab_type": "text",
    "id": "nCe2rc2MHjKF"
   },
   "source": [
    "3. Separa los datos de entrenamiento de los datos de prueba."
   ]
  },
  {
   "cell_type": "markdown",
   "metadata": {},
   "source": [
    "__Nota:__ *Generalmente* PRIMERO se trabajan los datos (x ej. StandardScaler), y luego, se hace el split."
   ]
  },
  {
   "cell_type": "code",
   "execution_count": 8,
   "metadata": {
    "colab": {},
    "colab_type": "code",
    "id": "FJfwaadlHjKG"
   },
   "outputs": [],
   "source": [
    "from sklearn.model_selection import train_test_split\n",
    "\n",
    "X_train, X_test, y_train, y_test = train_test_split(X, y, test_size=0.25, random_state=42)"
   ]
  },
  {
   "cell_type": "markdown",
   "metadata": {
    "colab_type": "text",
    "id": "5CoOAvktHjKQ"
   },
   "source": [
    "4. Estandariza los datos (`StandardScaler`)."
   ]
  },
  {
   "cell_type": "code",
   "execution_count": 9,
   "metadata": {
    "colab": {},
    "colab_type": "code",
    "id": "oVGZNqjzHjKS"
   },
   "outputs": [],
   "source": [
    "from sklearn.preprocessing import StandardScaler # Para hacer transformación con Z-Score\n",
    "\n",
    "scaler = StandardScaler()\n",
    "X_train_scaler = scaler.fit_transform(X_train)\n",
    "X_test_scaler = scaler.fit_transform(X_test)"
   ]
  },
  {
   "cell_type": "markdown",
   "metadata": {
    "colab_type": "text",
    "id": "InQjGmJvHjKZ"
   },
   "source": [
    "5. Entrena un SVM. Para ello, utiliza la clase `SVC` de la librería Scikit-Learn cuya documentación la puedes encontrar [aquí](https://scikit-learn.org/stable/modules/generated/sklearn.svm.SVC.html)."
   ]
  },
  {
   "cell_type": "code",
   "execution_count": 10,
   "metadata": {
    "colab": {},
    "colab_type": "code",
    "id": "mQQlaTW-HjKb"
   },
   "outputs": [],
   "source": [
    "from sklearn.svm import SVC\n",
    "\n",
    "SCV_model = SVC(kernel='linear', random_state=0)"
   ]
  },
  {
   "cell_type": "markdown",
   "metadata": {
    "colab_type": "text",
    "id": "GnoL1DUJHjKm"
   },
   "source": [
    "6. Realiza las predicciones sobre los datos de prueba."
   ]
  },
  {
   "cell_type": "code",
   "execution_count": 11,
   "metadata": {
    "colab": {},
    "colab_type": "code",
    "id": "M6tPdEzBHjKo"
   },
   "outputs": [
    {
     "data": {
      "text/plain": [
       "SVC(C=1.0, break_ties=False, cache_size=200, class_weight=None, coef0=0.0,\n",
       "    decision_function_shape='ovr', degree=3, gamma='scale', kernel='linear',\n",
       "    max_iter=-1, probability=False, random_state=0, shrinking=True, tol=0.001,\n",
       "    verbose=False)"
      ]
     },
     "execution_count": 11,
     "metadata": {},
     "output_type": "execute_result"
    }
   ],
   "source": [
    "SCV_model.fit(X_train_scaler, np.ravel (y_train))"
   ]
  },
  {
   "cell_type": "code",
   "execution_count": 12,
   "metadata": {},
   "outputs": [],
   "source": [
    "y_pred_test = SCV_model.predict(X_test_scaler)"
   ]
  },
  {
   "cell_type": "code",
   "execution_count": 13,
   "metadata": {},
   "outputs": [],
   "source": [
    "# y_pred_train = model.predict(X_train_scaler)"
   ]
  },
  {
   "cell_type": "markdown",
   "metadata": {
    "colab_type": "text",
    "id": "lwJFgw4BHjK5"
   },
   "source": [
    "7. Visualiza los resultados mediante:\n",
    " \n",
    "* Matriz de confusión (`confusion_matrix`)\n",
    "* Reporte de clasificación (`classification_report`)\n",
    "* Gráfico de fronteras de decisión (¡Busca en notebooks anteriores!)"
   ]
  },
  {
   "cell_type": "code",
   "execution_count": 14,
   "metadata": {},
   "outputs": [
    {
     "name": "stdout",
     "output_type": "stream",
     "text": [
      "Matriz de confusión:\n",
      "[[61  2]\n",
      " [12 25]]\n"
     ]
    }
   ],
   "source": [
    "from sklearn.metrics import confusion_matrix, accuracy_score\n",
    "cm = confusion_matrix(y_test,y_pred_test)\n",
    "print(\"Matriz de confusión:\")\n",
    "print(cm)"
   ]
  },
  {
   "cell_type": "code",
   "execution_count": 15,
   "metadata": {},
   "outputs": [
    {
     "name": "stdout",
     "output_type": "stream",
     "text": [
      "Reporte de Clasificación:\n",
      "              precision    recall  f1-score   support\n",
      "\n",
      "           0       0.84      0.97      0.90        63\n",
      "           1       0.93      0.68      0.78        37\n",
      "\n",
      "    accuracy                           0.86       100\n",
      "   macro avg       0.88      0.82      0.84       100\n",
      "weighted avg       0.87      0.86      0.85       100\n",
      "\n"
     ]
    }
   ],
   "source": [
    "from sklearn.metrics import classification_report\n",
    "\n",
    "report = classification_report(y_test, y_pred_test)\n",
    "print(\"Reporte de Clasificación:\")\n",
    "print(report)"
   ]
  },
  {
   "cell_type": "code",
   "execution_count": 16,
   "metadata": {},
   "outputs": [
    {
     "data": {
      "image/png": "[encoded data removed]",
      "text/plain": [
       "<Figure size 864x576 with 1 Axes>"
      ]
     },
     "metadata": {},
     "output_type": "display_data"
    }
   ],
   "source": [
    "from matplotlib.colors import ListedColormap\n",
    "\n",
    "X_Set, Y_Set = X_train_scaler, np.ravel (y_train)\n",
    "X1, X2 = np.meshgrid(np.arange(start = X_Set[:, 0].min() - 1, stop = X_Set[:, 0].max() + 1, step = 0.01),\n",
    "                     np.arange(start = X_Set[:, 1].min() - 1, stop = X_Set[:, 1].max() + 1, step = 0.01))\n",
    "\n",
    "plt.figure(figsize=(12,8))\n",
    "plt.contourf(X1, X2, SCV_model.predict(np.array([X1.ravel(), X2.ravel()]).T).reshape(X1.shape),\n",
    "             alpha = 0.75, cmap = ListedColormap(('red', 'green')))\n",
    "plt.xlim(X1.min(), X1.max())\n",
    "plt.ylim(X2.min(), X2.max())\n",
    "for i, j in enumerate(np.unique(Y_Set)):\n",
    "    plt.scatter(X_Set[Y_Set == j, 0], X_Set[Y_Set == j, 1],\n",
    "                c = [ListedColormap(('red', 'green'))(i)], label = j)\n",
    "plt.title('Support Vector Machine (Conjunto de Entrenamiento)', fontsize=20)\n",
    "plt.xlabel('Edad', fontsize=15)\n",
    "plt.ylabel('Salario Estimado', fontsize=15)\n",
    "plt.legend()\n",
    "plt.show()"
   ]
  },
  {
   "cell_type": "markdown",
   "metadata": {},
   "source": [
    "**Para probar:**\n",
    "1. Modifica el `kernel` del clasificador y observar cómo se modifican las fronteras encontradas por el mismo y su performance. Por ejemplo, prueba con con los siguientes kernels: `rbf`, `poly` y `sigmoid`.\n",
    "2. ¿Cuál es la función del parámetro `Gamma`?\n",
    "3. Repite el ejercicio 1, modificando los valores de `Gamma`\n",
    "4. Modifica el parámetro `C` del clasificador y observar cómo se modifican las fronteras encontradas por el clasificador y su performance. ¿Cómo se puede interpretar la acción de `C`? "
   ]
  },
  {
   "cell_type": "markdown",
   "metadata": {},
   "source": [
    "__*clase sklearn.svm.SVC*__ ( * , C = 1.0 , kernel = 'rbf' , grado = 3 , gamma = 'escala' , coef0 = 0.0 , contracción = Verdadero , probabilidad = Falso , tol = 0.001 , cache_size = 200 , class_weight = Ninguno , detallado = False , max_iter = -1 , decision_function_shape = 'ovr' , break_ties = False , random_state = Ninguno )"
   ]
  },
  {
   "cell_type": "markdown",
   "metadata": {},
   "source": [
    "__C:__ Parámetro de **regularización**. La fuerza de la regularización es inversamente proporcional a C. Debe ser estrictamente positiva. La penalización es una penalización de l2 al cuadrado.  \n",
    "A mayor C, mayor sobreajuste. La distancia en la que se ubican los vectores de soporte se hace más pequeña."
   ]
  },
  {
   "cell_type": "markdown",
   "metadata": {},
   "source": [
    "__Kernel:__ Especifica el tipo de núcleo que se utilizará en el algoritmo. Debe ser uno de 'lineal', 'poli', 'rbf', 'sigmoide', 'precalculado' o un invocable. Si no se proporciona ninguno, se usará 'rbf'. Si se proporciona un invocable, se usa para calcular previamente la matriz del núcleo a partir de las matrices de datos; esa matriz debería ser una matriz de formas .(n_samples, n_samples)"
   ]
  },
  {
   "cell_type": "markdown",
   "metadata": {},
   "source": [
    "__Gamma:__ Coeficiente de kernel para 'rbf', 'poly' y 'sigmoid'.\n",
    "* si `gamma='scale'` se pasa (predeterminado), entonces usa 1 / (n_features * X.var ()) como valor de gamma,\n",
    "* si `'auto'`, usa 1 / n_features."
   ]
  },
  {
   "cell_type": "markdown",
   "metadata": {},
   "source": [
    "**Challenge: Parámetro Gamma en SVM**  \n",
    "\n",
    "Un menor Gamma implica una mayor distancia entre las observaciones que separan los subespacios del SVM luego la estimación es más conservadora, sin embargo un mayor parámetro “fastidia” a la función Kernel.  \n",
    "\n",
    "“Hard-SVM” es la regla de aprendizaje que separa un hiperplano con el margen más amplio posible, por lo que puede verse como un problema de optimización cuadrática, en la que el hiperplano de margen máximo es la solución. Sin embargo, asumir que el conjunto es separable por una línea es un supuesto muy fuerte. Pero cuando existe el hiperplano esto nos proporciona un posible separador.\n",
    "\n",
    "“Soft-SVM” a diferencia del hard, que asume el conjunto de entrenamiento es linealmente separable, esta variación asume que el conjunto de entrenamiento no es linealmente separable y permite que algunas observaciones “crucen” la restricción"
   ]
  },
  {
   "cell_type": "markdown",
   "metadata": {
    "colab_type": "text",
    "id": "pkt9nlNnHjLx"
   },
   "source": [
    "## 2. Manos a la obra: Kernel + SVM\n",
    "\n",
    "En base a todo lo visto en anteriormente, vamos a aplicar SVM al dataset `DS_Clase_04_iris.csv` ¿Cuantas clases tiene este dataset? ¿Es un problema multiclase? \n",
    "\n",
    "**Para investigar:** ¿Qué función cumple el parámetro `decision_function_shape` de la función SVC de scikit-learn?\n",
    "\n",
    "**Ejercicios:**\n",
    "\n",
    "1. Implementa 3 clasificadores SVM con Kernels: `Polinómico`, `Gaussiano` y `Sigmoide`\n",
    "2. Realiza la matriz de confusión y el reporte de clasificación para cada kernel.\n",
    "3. ¿Qué Kernel produce los mejores resultados?\n",
    "\n",
    "\n",
    "`Tip:` Utilizando el código visto al comienzo de la notebook, podés crear funciones que te permitan graficar la matriz de confusión y los límites de clasificación, sin tener que copiar y pegar todo el código."
   ]
  },
  {
   "cell_type": "markdown",
   "metadata": {},
   "source": [
    "__decision_function_shape:__ Si se debe devolver una función de decisión one-vs-rest ('ovr') de shape (n_samples, n_classes) como todos los demás clasificadores, o la función de decisión original one-vs-one ('ovo') de libsvm que tiene shape (n_samples , n_classes * (n_classes - 1) / 2). Sin embargo, uno contra uno ('ovo') siempre **se usa como estrategia de varias clases**. El parámetro se ignora para la clasificación binaria."
   ]
  },
  {
   "cell_type": "code",
   "execution_count": 17,
   "metadata": {},
   "outputs": [],
   "source": [
    "data_iris = pd.read_csv('Data\\DS_Bitácora_04_Iris.csv')"
   ]
  },
  {
   "cell_type": "code",
   "execution_count": 18,
   "metadata": {},
   "outputs": [
    {
     "data": {
      "text/html": [
       "<div>\n",
       "<style scoped>\n",
       "    .dataframe tbody tr th:only-of-type {\n",
       "        vertical-align: middle;\n",
       "    }\n",
       "\n",
       "    .dataframe tbody tr th {\n",
       "        vertical-align: top;\n",
       "    }\n",
       "\n",
       "    .dataframe thead th {\n",
       "        text-align: right;\n",
       "    }\n",
       "</style>\n",
       "<table border=\"1\" class=\"dataframe\">\n",
       "  <thead>\n",
       "    <tr style=\"text-align: right;\">\n",
       "      <th></th>\n",
       "      <th>Id</th>\n",
       "      <th>SepalLengthCm</th>\n",
       "      <th>SepalWidthCm</th>\n",
       "      <th>PetalLengthCm</th>\n",
       "      <th>PetalWidthCm</th>\n",
       "      <th>Species</th>\n",
       "    </tr>\n",
       "  </thead>\n",
       "  <tbody>\n",
       "    <tr>\n",
       "      <th>0</th>\n",
       "      <td>1</td>\n",
       "      <td>5.1</td>\n",
       "      <td>3.5</td>\n",
       "      <td>1.4</td>\n",
       "      <td>0.2</td>\n",
       "      <td>Iris-setosa</td>\n",
       "    </tr>\n",
       "    <tr>\n",
       "      <th>1</th>\n",
       "      <td>2</td>\n",
       "      <td>4.9</td>\n",
       "      <td>3.0</td>\n",
       "      <td>1.4</td>\n",
       "      <td>0.2</td>\n",
       "      <td>Iris-setosa</td>\n",
       "    </tr>\n",
       "    <tr>\n",
       "      <th>2</th>\n",
       "      <td>3</td>\n",
       "      <td>4.7</td>\n",
       "      <td>3.2</td>\n",
       "      <td>1.3</td>\n",
       "      <td>0.2</td>\n",
       "      <td>Iris-setosa</td>\n",
       "    </tr>\n",
       "    <tr>\n",
       "      <th>3</th>\n",
       "      <td>4</td>\n",
       "      <td>4.6</td>\n",
       "      <td>3.1</td>\n",
       "      <td>1.5</td>\n",
       "      <td>0.2</td>\n",
       "      <td>Iris-setosa</td>\n",
       "    </tr>\n",
       "    <tr>\n",
       "      <th>4</th>\n",
       "      <td>5</td>\n",
       "      <td>5.0</td>\n",
       "      <td>3.6</td>\n",
       "      <td>1.4</td>\n",
       "      <td>0.2</td>\n",
       "      <td>Iris-setosa</td>\n",
       "    </tr>\n",
       "  </tbody>\n",
       "</table>\n",
       "</div>"
      ],
      "text/plain": [
       "   Id  SepalLengthCm  SepalWidthCm  PetalLengthCm  PetalWidthCm      Species\n",
       "0   1            5.1           3.5            1.4           0.2  Iris-setosa\n",
       "1   2            4.9           3.0            1.4           0.2  Iris-setosa\n",
       "2   3            4.7           3.2            1.3           0.2  Iris-setosa\n",
       "3   4            4.6           3.1            1.5           0.2  Iris-setosa\n",
       "4   5            5.0           3.6            1.4           0.2  Iris-setosa"
      ]
     },
     "execution_count": 18,
     "metadata": {},
     "output_type": "execute_result"
    }
   ],
   "source": [
    "data_iris.head()"
   ]
  },
  {
   "cell_type": "code",
   "execution_count": 19,
   "metadata": {},
   "outputs": [
    {
     "name": "stdout",
     "output_type": "stream",
     "text": [
      "<class 'pandas.core.frame.DataFrame'>\n",
      "RangeIndex: 150 entries, 0 to 149\n",
      "Data columns (total 6 columns):\n",
      " #   Column         Non-Null Count  Dtype  \n",
      "---  ------         --------------  -----  \n",
      " 0   Id             150 non-null    int64  \n",
      " 1   SepalLengthCm  150 non-null    float64\n",
      " 2   SepalWidthCm   150 non-null    float64\n",
      " 3   PetalLengthCm  150 non-null    float64\n",
      " 4   PetalWidthCm   150 non-null    float64\n",
      " 5   Species        150 non-null    object \n",
      "dtypes: float64(4), int64(1), object(1)\n",
      "memory usage: 7.2+ KB\n"
     ]
    }
   ],
   "source": [
    "data_iris.info()"
   ]
  },
  {
   "cell_type": "markdown",
   "metadata": {},
   "source": [
    "* El Dataset tiene 4 clases, por lo que se trata de un problema Multiclase. "
   ]
  },
  {
   "cell_type": "code",
   "execution_count": 20,
   "metadata": {},
   "outputs": [],
   "source": [
    "X = data_iris[['SepalLengthCm', 'SepalWidthCm', 'PetalLengthCm', 'PetalWidthCm']]\n",
    "y = data_iris['Species']"
   ]
  },
  {
   "cell_type": "code",
   "execution_count": 21,
   "metadata": {},
   "outputs": [],
   "source": [
    "X_train, X_test, y_train, y_test = train_test_split(X, y, test_size=0.25, random_state=42)"
   ]
  },
  {
   "cell_type": "code",
   "execution_count": 22,
   "metadata": {},
   "outputs": [],
   "source": [
    "scaler = StandardScaler()\n",
    "X_train_scaler = scaler.fit_transform(X_train)\n",
    "X_test_scaler = scaler.fit_transform(X_test)"
   ]
  },
  {
   "cell_type": "code",
   "execution_count": 23,
   "metadata": {},
   "outputs": [],
   "source": [
    "SCV_model_poly = SVC(kernel='poly', random_state=0)\n",
    "SCV_model_poly.fit(X_train_scaler, np.ravel (y_train))\n",
    "y_pred_test_poly = SCV_model_poly.predict(X_test_scaler)"
   ]
  },
  {
   "cell_type": "code",
   "execution_count": 24,
   "metadata": {},
   "outputs": [
    {
     "name": "stdout",
     "output_type": "stream",
     "text": [
      "Matriz de confusión:\n",
      "[[15  0  0]\n",
      " [ 0 10  1]\n",
      " [ 0  1 11]]\n"
     ]
    }
   ],
   "source": [
    "cm_poly = confusion_matrix(y_test,y_pred_test_poly)\n",
    "print(\"Matriz de confusión:\")\n",
    "print(cm_poly)"
   ]
  },
  {
   "cell_type": "code",
   "execution_count": 25,
   "metadata": {},
   "outputs": [
    {
     "name": "stdout",
     "output_type": "stream",
     "text": [
      "Reporte de Clasificación:\n",
      "                 precision    recall  f1-score   support\n",
      "\n",
      "    Iris-setosa       1.00      1.00      1.00        15\n",
      "Iris-versicolor       0.91      0.91      0.91        11\n",
      " Iris-virginica       0.92      0.92      0.92        12\n",
      "\n",
      "       accuracy                           0.95        38\n",
      "      macro avg       0.94      0.94      0.94        38\n",
      "   weighted avg       0.95      0.95      0.95        38\n",
      "\n"
     ]
    }
   ],
   "source": [
    "report_poly = classification_report(y_test, y_pred_test_poly)\n",
    "print(\"Reporte de Clasificación:\")\n",
    "print(report_poly)"
   ]
  },
  {
   "cell_type": "code",
   "execution_count": 26,
   "metadata": {},
   "outputs": [],
   "source": [
    "SCV_model_rbf = SVC(kernel='rbf', random_state=0)"
   ]
  },
  {
   "cell_type": "code",
   "execution_count": 27,
   "metadata": {},
   "outputs": [
    {
     "data": {
      "text/plain": [
       "SVC(C=1.0, break_ties=False, cache_size=200, class_weight=None, coef0=0.0,\n",
       "    decision_function_shape='ovr', degree=3, gamma='scale', kernel='rbf',\n",
       "    max_iter=-1, probability=False, random_state=0, shrinking=True, tol=0.001,\n",
       "    verbose=False)"
      ]
     },
     "execution_count": 27,
     "metadata": {},
     "output_type": "execute_result"
    }
   ],
   "source": [
    "SCV_model_rbf.fit(X_train_scaler, np.ravel (y_train))"
   ]
  },
  {
   "cell_type": "code",
   "execution_count": 28,
   "metadata": {},
   "outputs": [],
   "source": [
    "y_pred_test_rbf = SCV_model_rbf.predict(X_test_scaler)"
   ]
  },
  {
   "cell_type": "code",
   "execution_count": 29,
   "metadata": {},
   "outputs": [
    {
     "name": "stdout",
     "output_type": "stream",
     "text": [
      "Matriz de confusión:\n",
      "[[15  0  0]\n",
      " [ 0 11  0]\n",
      " [ 0  0 12]]\n"
     ]
    }
   ],
   "source": [
    "cm_rbf = confusion_matrix(y_test,y_pred_test_rbf)\n",
    "print(\"Matriz de confusión:\")\n",
    "print(cm_rbf)"
   ]
  },
  {
   "cell_type": "code",
   "execution_count": 30,
   "metadata": {},
   "outputs": [
    {
     "name": "stdout",
     "output_type": "stream",
     "text": [
      "Reporte de Clasificación:\n",
      "                 precision    recall  f1-score   support\n",
      "\n",
      "    Iris-setosa       1.00      1.00      1.00        15\n",
      "Iris-versicolor       1.00      1.00      1.00        11\n",
      " Iris-virginica       1.00      1.00      1.00        12\n",
      "\n",
      "       accuracy                           1.00        38\n",
      "      macro avg       1.00      1.00      1.00        38\n",
      "   weighted avg       1.00      1.00      1.00        38\n",
      "\n"
     ]
    }
   ],
   "source": [
    "report_rbf = classification_report(y_test, y_pred_test_rbf)\n",
    "print(\"Reporte de Clasificación:\")\n",
    "print(report_rbf)"
   ]
  },
  {
   "cell_type": "code",
   "execution_count": 31,
   "metadata": {},
   "outputs": [],
   "source": [
    "SCV_model_sigmoid = SVC(kernel='sigmoid', random_state=0)\n",
    "SCV_model_sigmoid.fit(X_train_scaler, np.ravel (y_train))\n",
    "y_pred_test_sigmoid = SCV_model_sigmoid.predict(X_test_scaler)"
   ]
  },
  {
   "cell_type": "code",
   "execution_count": 32,
   "metadata": {},
   "outputs": [
    {
     "name": "stdout",
     "output_type": "stream",
     "text": [
      "Matriz de confusión:\n",
      "[[15  0  0]\n",
      " [ 0  6  5]\n",
      " [ 0  1 11]]\n"
     ]
    }
   ],
   "source": [
    "cm_sigmoid = confusion_matrix(y_test,y_pred_test_sigmoid)\n",
    "print(\"Matriz de confusión:\")\n",
    "print(cm_sigmoid)"
   ]
  },
  {
   "cell_type": "code",
   "execution_count": 33,
   "metadata": {},
   "outputs": [
    {
     "name": "stdout",
     "output_type": "stream",
     "text": [
      "Reporte de Clasificación:\n",
      "                 precision    recall  f1-score   support\n",
      "\n",
      "    Iris-setosa       1.00      1.00      1.00        15\n",
      "Iris-versicolor       0.86      0.55      0.67        11\n",
      " Iris-virginica       0.69      0.92      0.79        12\n",
      "\n",
      "       accuracy                           0.84        38\n",
      "      macro avg       0.85      0.82      0.82        38\n",
      "   weighted avg       0.86      0.84      0.84        38\n",
      "\n"
     ]
    }
   ],
   "source": [
    "report_sigmoid = classification_report(y_test, y_pred_test_sigmoid)\n",
    "print(\"Reporte de Clasificación:\")\n",
    "print(report_sigmoid)"
   ]
  },
  {
   "cell_type": "markdown",
   "metadata": {},
   "source": [
    "* El kernel que produjo los mejores resultados, fue el rbf (Gaussiano)"
   ]
  }
 ],
 "metadata": {
  "colab": {
   "name": "DS_Bitácora_25_SVM.ipynb",
   "provenance": []
  },
  "kernelspec": {
   "display_name": "Python 3",
   "language": "python",
   "name": "python3"
  },
  "language_info": {
   "codemirror_mode": {
    "name": "ipython",
    "version": 3
   },
   "file_extension": ".py",
   "mimetype": "text/x-python",
   "name": "python",
   "nbconvert_exporter": "python",
   "pygments_lexer": "ipython3",
   "version": "3.8.2"
  }
 },
 "nbformat": 4,
 "nbformat_minor": 4
}
