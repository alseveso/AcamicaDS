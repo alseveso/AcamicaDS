{
 "cells": [
  {
   "cell_type": "markdown",
   "metadata": {
    "id": "gzJLet17WTzh"
   },
   "source": [
    "# Proyecto 03 - Sistemas de Recomendación\n",
    "\n",
    "## Dataset: STEAM\n",
    "\n",
    "**Recuerda descargar el dataset de [aquí](https://github.com/kang205/SASRec). Son dos archivos, uno de calificaciones y otro de información sobre los juegos.**\n",
    "\n",
    "En este notebook te dejamos unas celdas para que puedas comenzar a trabajar con este dataset. Sin embargo, **deberás** modificarlas para hacer un mejor manejo de datos. Algunas cosas a las que deberás prestar atención (tal vez no a todas):\n",
    "1. Tipos de datos: elige tipos de datos apropiados para cada columna.\n",
    "2. Descartar columnas poco informativas.\n",
    "3. Guardar en memoria datasets preprocesados para no tener que repetir código que tarde en correr.\n",
    "\n",
    "### Exploración de datos\n",
    "\n",
    "Dedícale un buen tiempo a hacer un Análisis Exploratorio de Datos. Elige preguntas que creas que puedas responder con este dataset. Por ejemplo, ¿cuáles son los juegos más populares?¿Y los menos populares?\n",
    "\n",
    "### Filtro Colaborativo\n",
    "\n",
    "Deberás implementar un sistema de recomendación colaborativo para este dataset. Ten en cuenta:\n",
    "\n",
    "1. Haz todas las transformaciones de datos que consideres necesarias. Justifica.\n",
    "1. Evalúa de forma apropiada sus resultados. Justifica la métrica elegida.\n",
    "1. Elige un modelo benchmark y compara tus resultados con este modelo.\n",
    "1. Optimiza los hiperparámetros de tu modelo.\n",
    "\n",
    "Puedes implementar un filtro colaborativo a partir de la similitud coseno o índice de Jaccard. ¿Puedes utilizar los métodos de la librería Surprise? Si no es así, busca implementaciones (por ejemplo, nuevas librerías) que sean apropiadas.\n",
    "\n",
    "Para comenzar a trabajar, puedes asumir que cada entrada es un enlace entre una persona usuaria y un item, **independientemente** de si la crítica es buena o mala. \n",
    "\n",
    "### Para pensar, investigar y, opcionalmente, implementar\n",
    "1. ¿Cómo harías para ponerle un valor a la calificación?\n",
    "1. ¿Cómo harías para agregar contenido? Por ejemplo, cuentas con el género, precio, fecha de lanzamiento y más información de los juegos.\n",
    "1. ¿Hay algo que te gustaría investigar o probar?\n",
    "\n",
    "### **¡Tómate tiempo para investigar y leer mucho!**"
   ]
  },
  {
   "cell_type": "code",
   "execution_count": 1,
   "metadata": {
    "id": "lWZhtUxEWTzj"
   },
   "outputs": [],
   "source": [
    "import gzip\n",
    "import pandas as pd\n",
    "\n",
    "def parse(path):\n",
    "    g = gzip.open(path, 'r')\n",
    "    for l in g:\n",
    "        yield eval(l)"
   ]
  },
  {
   "cell_type": "markdown",
   "metadata": {
    "id": "BmEM25k4WTzw"
   },
   "source": [
    "**Reviews**"
   ]
  },
  {
   "cell_type": "code",
   "execution_count": 2,
   "metadata": {
    "id": "abAXItn1WTz0"
   },
   "outputs": [],
   "source": [
    "contador = 0\n",
    "data_reviews = []\n",
    "# Vamos a guardar una de cada 10 reviews para no llenar la memoria RAM. Si pones n = 3, \n",
    "# abrira uno de cada tres, y asi.\n",
    "n = 10\n",
    "for l in parse('steam_reviews.json.gz'):\n",
    "    if contador%n == 0:\n",
    "        data_reviews.append(l)\n",
    "    else:\n",
    "        pass\n",
    "    contador += 1\n"
   ]
  },
  {
   "cell_type": "code",
   "execution_count": 3,
   "metadata": {
    "id": "7GovAZQBWTz8"
   },
   "outputs": [],
   "source": [
    "data_reviews = pd.DataFrame(data_reviews)"
   ]
  },
  {
   "cell_type": "code",
   "execution_count": 4,
   "metadata": {
    "id": "j24F0ZaYWT0E"
   },
   "outputs": [
    {
     "data": {
      "text/html": [
       "<div>\n",
       "<style scoped>\n",
       "    .dataframe tbody tr th:only-of-type {\n",
       "        vertical-align: middle;\n",
       "    }\n",
       "\n",
       "    .dataframe tbody tr th {\n",
       "        vertical-align: top;\n",
       "    }\n",
       "\n",
       "    .dataframe thead th {\n",
       "        text-align: right;\n",
       "    }\n",
       "</style>\n",
       "<table border=\"1\" class=\"dataframe\">\n",
       "  <thead>\n",
       "    <tr style=\"text-align: right;\">\n",
       "      <th></th>\n",
       "      <th>username</th>\n",
       "      <th>hours</th>\n",
       "      <th>products</th>\n",
       "      <th>product_id</th>\n",
       "      <th>page_order</th>\n",
       "      <th>date</th>\n",
       "      <th>text</th>\n",
       "      <th>early_access</th>\n",
       "      <th>page</th>\n",
       "      <th>user_id</th>\n",
       "      <th>compensation</th>\n",
       "      <th>found_funny</th>\n",
       "    </tr>\n",
       "  </thead>\n",
       "  <tbody>\n",
       "    <tr>\n",
       "      <th>0</th>\n",
       "      <td>Chaos Syren</td>\n",
       "      <td>0.1</td>\n",
       "      <td>41.0</td>\n",
       "      <td>725280</td>\n",
       "      <td>0</td>\n",
       "      <td>2017-12-17</td>\n",
       "      <td>This would not be acceptable as an entertainme...</td>\n",
       "      <td>False</td>\n",
       "      <td>1</td>\n",
       "      <td>NaN</td>\n",
       "      <td>NaN</td>\n",
       "      <td>NaN</td>\n",
       "    </tr>\n",
       "    <tr>\n",
       "      <th>1</th>\n",
       "      <td>Ariman1</td>\n",
       "      <td>13.2</td>\n",
       "      <td>1386.0</td>\n",
       "      <td>328100</td>\n",
       "      <td>2</td>\n",
       "      <td>2017-08-02</td>\n",
       "      <td>Addictive RPG ! Works fine on linux though it ...</td>\n",
       "      <td>False</td>\n",
       "      <td>1</td>\n",
       "      <td>NaN</td>\n",
       "      <td>NaN</td>\n",
       "      <td>NaN</td>\n",
       "    </tr>\n",
       "    <tr>\n",
       "      <th>2</th>\n",
       "      <td>freakfantom</td>\n",
       "      <td>0.1</td>\n",
       "      <td>1706.0</td>\n",
       "      <td>725280</td>\n",
       "      <td>5</td>\n",
       "      <td>2017-11-12</td>\n",
       "      <td>Прикольная стрелялка. Взял дешево на распродаже.</td>\n",
       "      <td>False</td>\n",
       "      <td>1</td>\n",
       "      <td>NaN</td>\n",
       "      <td>NaN</td>\n",
       "      <td>NaN</td>\n",
       "    </tr>\n",
       "    <tr>\n",
       "      <th>3</th>\n",
       "      <td>The_Cpt_FROGGY</td>\n",
       "      <td>7.8</td>\n",
       "      <td>2217.0</td>\n",
       "      <td>631920</td>\n",
       "      <td>0</td>\n",
       "      <td>2017-12-11</td>\n",
       "      <td>Somewhere on Zibylon:\\n~~~~~~~~~~~~~~~~~~\\nZib...</td>\n",
       "      <td>False</td>\n",
       "      <td>1</td>\n",
       "      <td>76561198003030375</td>\n",
       "      <td>Product received for free</td>\n",
       "      <td>NaN</td>\n",
       "    </tr>\n",
       "    <tr>\n",
       "      <th>4</th>\n",
       "      <td>the_maker988</td>\n",
       "      <td>8.2</td>\n",
       "      <td>18.0</td>\n",
       "      <td>35140</td>\n",
       "      <td>7</td>\n",
       "      <td>2018-01-02</td>\n",
       "      <td>This game was way to linear for me, and compar...</td>\n",
       "      <td>False</td>\n",
       "      <td>1</td>\n",
       "      <td>76561198353396844</td>\n",
       "      <td>NaN</td>\n",
       "      <td>NaN</td>\n",
       "    </tr>\n",
       "  </tbody>\n",
       "</table>\n",
       "</div>"
      ],
      "text/plain": [
       "         username  hours  products product_id  page_order        date  \\\n",
       "0     Chaos Syren    0.1      41.0     725280           0  2017-12-17   \n",
       "1         Ariman1   13.2    1386.0     328100           2  2017-08-02   \n",
       "2     freakfantom    0.1    1706.0     725280           5  2017-11-12   \n",
       "3  The_Cpt_FROGGY    7.8    2217.0     631920           0  2017-12-11   \n",
       "4    the_maker988    8.2      18.0      35140           7  2018-01-02   \n",
       "\n",
       "                                                text  early_access  page  \\\n",
       "0  This would not be acceptable as an entertainme...         False     1   \n",
       "1  Addictive RPG ! Works fine on linux though it ...         False     1   \n",
       "2   Прикольная стрелялка. Взял дешево на распродаже.         False     1   \n",
       "3  Somewhere on Zibylon:\\n~~~~~~~~~~~~~~~~~~\\nZib...         False     1   \n",
       "4  This game was way to linear for me, and compar...         False     1   \n",
       "\n",
       "             user_id               compensation  found_funny  \n",
       "0                NaN                        NaN          NaN  \n",
       "1                NaN                        NaN          NaN  \n",
       "2                NaN                        NaN          NaN  \n",
       "3  76561198003030375  Product received for free          NaN  \n",
       "4  76561198353396844                        NaN          NaN  "
      ]
     },
     "execution_count": 4,
     "metadata": {},
     "output_type": "execute_result"
    }
   ],
   "source": [
    "data_reviews.head()"
   ]
  },
  {
   "cell_type": "code",
   "execution_count": 5,
   "metadata": {},
   "outputs": [],
   "source": [
    "data_reviews.to_csv('new_data_reviews.csv')"
   ]
  },
  {
   "cell_type": "markdown",
   "metadata": {
    "id": "04ed3teRWT0T"
   },
   "source": [
    "**Games**"
   ]
  },
  {
   "cell_type": "code",
   "execution_count": 6,
   "metadata": {
    "id": "8wRb24Y5WT0U"
   },
   "outputs": [],
   "source": [
    "data_games = []\n",
    "for l in parse('steam_games.json.gz'):\n",
    "    data_games.append(l)\n",
    "data_games = pd.DataFrame(data_games)"
   ]
  },
  {
   "cell_type": "code",
   "execution_count": 7,
   "metadata": {
    "id": "sVR0Cs6SWT0b"
   },
   "outputs": [
    {
     "data": {
      "text/html": [
       "<div>\n",
       "<style scoped>\n",
       "    .dataframe tbody tr th:only-of-type {\n",
       "        vertical-align: middle;\n",
       "    }\n",
       "\n",
       "    .dataframe tbody tr th {\n",
       "        vertical-align: top;\n",
       "    }\n",
       "\n",
       "    .dataframe thead th {\n",
       "        text-align: right;\n",
       "    }\n",
       "</style>\n",
       "<table border=\"1\" class=\"dataframe\">\n",
       "  <thead>\n",
       "    <tr style=\"text-align: right;\">\n",
       "      <th></th>\n",
       "      <th>publisher</th>\n",
       "      <th>genres</th>\n",
       "      <th>app_name</th>\n",
       "      <th>title</th>\n",
       "      <th>url</th>\n",
       "      <th>release_date</th>\n",
       "      <th>tags</th>\n",
       "      <th>discount_price</th>\n",
       "      <th>reviews_url</th>\n",
       "      <th>specs</th>\n",
       "      <th>price</th>\n",
       "      <th>early_access</th>\n",
       "      <th>id</th>\n",
       "      <th>developer</th>\n",
       "      <th>sentiment</th>\n",
       "      <th>metascore</th>\n",
       "    </tr>\n",
       "  </thead>\n",
       "  <tbody>\n",
       "    <tr>\n",
       "      <th>0</th>\n",
       "      <td>Kotoshiro</td>\n",
       "      <td>[Action, Casual, Indie, Simulation, Strategy]</td>\n",
       "      <td>Lost Summoner Kitty</td>\n",
       "      <td>Lost Summoner Kitty</td>\n",
       "      <td>http://store.steampowered.com/app/761140/Lost_...</td>\n",
       "      <td>2018-01-04</td>\n",
       "      <td>[Strategy, Action, Indie, Casual, Simulation]</td>\n",
       "      <td>4.49</td>\n",
       "      <td>http://steamcommunity.com/app/761140/reviews/?...</td>\n",
       "      <td>[Single-player]</td>\n",
       "      <td>4.99</td>\n",
       "      <td>False</td>\n",
       "      <td>761140</td>\n",
       "      <td>Kotoshiro</td>\n",
       "      <td>NaN</td>\n",
       "      <td>NaN</td>\n",
       "    </tr>\n",
       "    <tr>\n",
       "      <th>1</th>\n",
       "      <td>Making Fun, Inc.</td>\n",
       "      <td>[Free to Play, Indie, RPG, Strategy]</td>\n",
       "      <td>Ironbound</td>\n",
       "      <td>Ironbound</td>\n",
       "      <td>http://store.steampowered.com/app/643980/Ironb...</td>\n",
       "      <td>2018-01-04</td>\n",
       "      <td>[Free to Play, Strategy, Indie, RPG, Card Game...</td>\n",
       "      <td>NaN</td>\n",
       "      <td>http://steamcommunity.com/app/643980/reviews/?...</td>\n",
       "      <td>[Single-player, Multi-player, Online Multi-Pla...</td>\n",
       "      <td>Free To Play</td>\n",
       "      <td>False</td>\n",
       "      <td>643980</td>\n",
       "      <td>Secret Level SRL</td>\n",
       "      <td>Mostly Positive</td>\n",
       "      <td>NaN</td>\n",
       "    </tr>\n",
       "    <tr>\n",
       "      <th>2</th>\n",
       "      <td>Poolians.com</td>\n",
       "      <td>[Casual, Free to Play, Indie, Simulation, Sports]</td>\n",
       "      <td>Real Pool 3D - Poolians</td>\n",
       "      <td>Real Pool 3D - Poolians</td>\n",
       "      <td>http://store.steampowered.com/app/670290/Real_...</td>\n",
       "      <td>2017-07-24</td>\n",
       "      <td>[Free to Play, Simulation, Sports, Casual, Ind...</td>\n",
       "      <td>NaN</td>\n",
       "      <td>http://steamcommunity.com/app/670290/reviews/?...</td>\n",
       "      <td>[Single-player, Multi-player, Online Multi-Pla...</td>\n",
       "      <td>Free to Play</td>\n",
       "      <td>False</td>\n",
       "      <td>670290</td>\n",
       "      <td>Poolians.com</td>\n",
       "      <td>Mostly Positive</td>\n",
       "      <td>NaN</td>\n",
       "    </tr>\n",
       "    <tr>\n",
       "      <th>3</th>\n",
       "      <td>彼岸领域</td>\n",
       "      <td>[Action, Adventure, Casual]</td>\n",
       "      <td>弹炸人2222</td>\n",
       "      <td>弹炸人2222</td>\n",
       "      <td>http://store.steampowered.com/app/767400/2222/</td>\n",
       "      <td>2017-12-07</td>\n",
       "      <td>[Action, Adventure, Casual]</td>\n",
       "      <td>0.83</td>\n",
       "      <td>http://steamcommunity.com/app/767400/reviews/?...</td>\n",
       "      <td>[Single-player]</td>\n",
       "      <td>0.99</td>\n",
       "      <td>False</td>\n",
       "      <td>767400</td>\n",
       "      <td>彼岸领域</td>\n",
       "      <td>NaN</td>\n",
       "      <td>NaN</td>\n",
       "    </tr>\n",
       "    <tr>\n",
       "      <th>4</th>\n",
       "      <td>NaN</td>\n",
       "      <td>NaN</td>\n",
       "      <td>Log Challenge</td>\n",
       "      <td>NaN</td>\n",
       "      <td>http://store.steampowered.com/app/773570/Log_C...</td>\n",
       "      <td>NaN</td>\n",
       "      <td>[Action, Indie, Casual, Sports]</td>\n",
       "      <td>1.79</td>\n",
       "      <td>http://steamcommunity.com/app/773570/reviews/?...</td>\n",
       "      <td>[Single-player, Full controller support, HTC V...</td>\n",
       "      <td>2.99</td>\n",
       "      <td>False</td>\n",
       "      <td>773570</td>\n",
       "      <td>NaN</td>\n",
       "      <td>NaN</td>\n",
       "      <td>NaN</td>\n",
       "    </tr>\n",
       "  </tbody>\n",
       "</table>\n",
       "</div>"
      ],
      "text/plain": [
       "          publisher                                             genres  \\\n",
       "0         Kotoshiro      [Action, Casual, Indie, Simulation, Strategy]   \n",
       "1  Making Fun, Inc.               [Free to Play, Indie, RPG, Strategy]   \n",
       "2      Poolians.com  [Casual, Free to Play, Indie, Simulation, Sports]   \n",
       "3              彼岸领域                        [Action, Adventure, Casual]   \n",
       "4               NaN                                                NaN   \n",
       "\n",
       "                  app_name                    title  \\\n",
       "0      Lost Summoner Kitty      Lost Summoner Kitty   \n",
       "1                Ironbound                Ironbound   \n",
       "2  Real Pool 3D - Poolians  Real Pool 3D - Poolians   \n",
       "3                  弹炸人2222                  弹炸人2222   \n",
       "4            Log Challenge                      NaN   \n",
       "\n",
       "                                                 url release_date  \\\n",
       "0  http://store.steampowered.com/app/761140/Lost_...   2018-01-04   \n",
       "1  http://store.steampowered.com/app/643980/Ironb...   2018-01-04   \n",
       "2  http://store.steampowered.com/app/670290/Real_...   2017-07-24   \n",
       "3     http://store.steampowered.com/app/767400/2222/   2017-12-07   \n",
       "4  http://store.steampowered.com/app/773570/Log_C...          NaN   \n",
       "\n",
       "                                                tags  discount_price  \\\n",
       "0      [Strategy, Action, Indie, Casual, Simulation]            4.49   \n",
       "1  [Free to Play, Strategy, Indie, RPG, Card Game...             NaN   \n",
       "2  [Free to Play, Simulation, Sports, Casual, Ind...             NaN   \n",
       "3                        [Action, Adventure, Casual]            0.83   \n",
       "4                    [Action, Indie, Casual, Sports]            1.79   \n",
       "\n",
       "                                         reviews_url  \\\n",
       "0  http://steamcommunity.com/app/761140/reviews/?...   \n",
       "1  http://steamcommunity.com/app/643980/reviews/?...   \n",
       "2  http://steamcommunity.com/app/670290/reviews/?...   \n",
       "3  http://steamcommunity.com/app/767400/reviews/?...   \n",
       "4  http://steamcommunity.com/app/773570/reviews/?...   \n",
       "\n",
       "                                               specs         price  \\\n",
       "0                                    [Single-player]          4.99   \n",
       "1  [Single-player, Multi-player, Online Multi-Pla...  Free To Play   \n",
       "2  [Single-player, Multi-player, Online Multi-Pla...  Free to Play   \n",
       "3                                    [Single-player]          0.99   \n",
       "4  [Single-player, Full controller support, HTC V...          2.99   \n",
       "\n",
       "   early_access      id         developer        sentiment metascore  \n",
       "0         False  761140         Kotoshiro              NaN       NaN  \n",
       "1         False  643980  Secret Level SRL  Mostly Positive       NaN  \n",
       "2         False  670290      Poolians.com  Mostly Positive       NaN  \n",
       "3         False  767400              彼岸领域              NaN       NaN  \n",
       "4         False  773570               NaN              NaN       NaN  "
      ]
     },
     "execution_count": 7,
     "metadata": {},
     "output_type": "execute_result"
    }
   ],
   "source": [
    "data_games.head()"
   ]
  },
  {
   "cell_type": "code",
   "execution_count": 8,
   "metadata": {},
   "outputs": [],
   "source": [
    "data_games.to_csv('new_data_games.csv')"
   ]
  },
  {
   "cell_type": "markdown",
   "metadata": {},
   "source": [
    "### Análisis Exploratorio de Datos"
   ]
  },
  {
   "cell_type": "markdown",
   "metadata": {},
   "source": [
    "__Qué es Steam?__  \n",
    "Steam es un sistema de distribución de juegos multiplataforma en línea, con alrededor de 75 millones de usuarios activos, alrededor de 172 millones de cuentas en total, que aloja más de 3000 juegos, lo que lo convierte en una plataforma ideal para el tipo de trabajo que aquí se presenta. El conjunto de datos contiene registros de más de 3000 juegos y aplicaciones.  \n",
    "\n",
    "Steam es un servicio de distribución digital de videojuegos de Valve. Se lanzó como un cliente de software independiente en septiembre de 2003 como una forma de que Valve proporcionara actualizaciones automáticas para sus juegos y se expandió para incluir juegos de editores externos. Steam también se ha expandido a una tienda digital móvil y basada en la web en línea.  \n",
    "\n",
    "De acuerdo con la popularidad del juego, la similitud de la descripción del juego, la calidad del juego y la preferencia del jugador por el juego, recomiendan el juego correspondiente al jugador del juego, de modo que Steam obtenga un mayor grado de satisfacción del cliente."
   ]
  },
  {
   "cell_type": "markdown",
   "metadata": {},
   "source": [
    "1. __Se importan las librerías__ necesarias para trabajar en la consigna."
   ]
  },
  {
   "cell_type": "code",
   "execution_count": 9,
   "metadata": {},
   "outputs": [],
   "source": [
    "import numpy as np\n",
    "import matplotlib.pyplot as plt\n",
    "import seaborn as sns\n",
    "sns.set()\n",
    "\n",
    "import pandas as pd\n",
    "\n",
    "import gc # garbage collector\n",
    "\n",
    "from surprise import Dataset # convertimos nuestro Dataframe en Dataset\n",
    "                             # es la estructura de datos que utiliza Surprise!, para almacenar la Matriz de Utilidad\n",
    "                             # es la forma de almacenar datos con menos memoria, ya que la Matriz de Utilidad es muy grande     \n",
    "from surprise import Reader # lector de Surprise!\n",
    "from surprise.model_selection import train_test_split\n",
    "# quita calificacione de usuario-película de forma aleatoria s/ toda la matriz de utilidad, teniendo cuidado de no quitarle..\n",
    "# ..todas las calificaciones a un usuario ni a una película"
   ]
  },
  {
   "cell_type": "markdown",
   "metadata": {},
   "source": [
    "#### DATA REVIEW"
   ]
  },
  {
   "cell_type": "markdown",
   "metadata": {},
   "source": [
    "1. __Se realiza la carga el dataset__ usando las funcionalidades de Pandas."
   ]
  },
  {
   "cell_type": "code",
   "execution_count": 19,
   "metadata": {},
   "outputs": [],
   "source": [
    "new_data_review = pd.read_csv('new_data_reviews.csv')"
   ]
  },
  {
   "cell_type": "code",
   "execution_count": 20,
   "metadata": {},
   "outputs": [
    {
     "data": {
      "text/plain": [
       "(779307, 13)"
      ]
     },
     "execution_count": 20,
     "metadata": {},
     "output_type": "execute_result"
    }
   ],
   "source": [
    "new_data_review.shape # Filas y columnas"
   ]
  },
  {
   "cell_type": "markdown",
   "metadata": {},
   "source": [
    "* *El Dataset, cuenta con **779.307 Filas**, y **13 Columnas**.*"
   ]
  },
  {
   "cell_type": "code",
   "execution_count": 21,
   "metadata": {},
   "outputs": [
    {
     "data": {
      "text/html": [
       "<div>\n",
       "<style scoped>\n",
       "    .dataframe tbody tr th:only-of-type {\n",
       "        vertical-align: middle;\n",
       "    }\n",
       "\n",
       "    .dataframe tbody tr th {\n",
       "        vertical-align: top;\n",
       "    }\n",
       "\n",
       "    .dataframe thead th {\n",
       "        text-align: right;\n",
       "    }\n",
       "</style>\n",
       "<table border=\"1\" class=\"dataframe\">\n",
       "  <thead>\n",
       "    <tr style=\"text-align: right;\">\n",
       "      <th></th>\n",
       "      <th>Unnamed: 0</th>\n",
       "      <th>username</th>\n",
       "      <th>hours</th>\n",
       "      <th>products</th>\n",
       "      <th>product_id</th>\n",
       "      <th>page_order</th>\n",
       "      <th>date</th>\n",
       "      <th>text</th>\n",
       "      <th>early_access</th>\n",
       "      <th>page</th>\n",
       "      <th>user_id</th>\n",
       "      <th>compensation</th>\n",
       "      <th>found_funny</th>\n",
       "    </tr>\n",
       "  </thead>\n",
       "  <tbody>\n",
       "    <tr>\n",
       "      <th>0</th>\n",
       "      <td>0</td>\n",
       "      <td>Chaos Syren</td>\n",
       "      <td>0.1</td>\n",
       "      <td>41.0</td>\n",
       "      <td>725280</td>\n",
       "      <td>0</td>\n",
       "      <td>2017-12-17</td>\n",
       "      <td>This would not be acceptable as an entertainme...</td>\n",
       "      <td>False</td>\n",
       "      <td>1</td>\n",
       "      <td>NaN</td>\n",
       "      <td>NaN</td>\n",
       "      <td>NaN</td>\n",
       "    </tr>\n",
       "    <tr>\n",
       "      <th>1</th>\n",
       "      <td>1</td>\n",
       "      <td>Ariman1</td>\n",
       "      <td>13.2</td>\n",
       "      <td>1386.0</td>\n",
       "      <td>328100</td>\n",
       "      <td>2</td>\n",
       "      <td>2017-08-02</td>\n",
       "      <td>Addictive RPG ! Works fine on linux though it ...</td>\n",
       "      <td>False</td>\n",
       "      <td>1</td>\n",
       "      <td>NaN</td>\n",
       "      <td>NaN</td>\n",
       "      <td>NaN</td>\n",
       "    </tr>\n",
       "    <tr>\n",
       "      <th>2</th>\n",
       "      <td>2</td>\n",
       "      <td>freakfantom</td>\n",
       "      <td>0.1</td>\n",
       "      <td>1706.0</td>\n",
       "      <td>725280</td>\n",
       "      <td>5</td>\n",
       "      <td>2017-11-12</td>\n",
       "      <td>Прикольная стрелялка. Взял дешево на распродаже.</td>\n",
       "      <td>False</td>\n",
       "      <td>1</td>\n",
       "      <td>NaN</td>\n",
       "      <td>NaN</td>\n",
       "      <td>NaN</td>\n",
       "    </tr>\n",
       "  </tbody>\n",
       "</table>\n",
       "</div>"
      ],
      "text/plain": [
       "   Unnamed: 0     username  hours  products  product_id  page_order  \\\n",
       "0           0  Chaos Syren    0.1      41.0      725280           0   \n",
       "1           1      Ariman1   13.2    1386.0      328100           2   \n",
       "2           2  freakfantom    0.1    1706.0      725280           5   \n",
       "\n",
       "         date                                               text  \\\n",
       "0  2017-12-17  This would not be acceptable as an entertainme...   \n",
       "1  2017-08-02  Addictive RPG ! Works fine on linux though it ...   \n",
       "2  2017-11-12   Прикольная стрелялка. Взял дешево на распродаже.   \n",
       "\n",
       "   early_access  page  user_id compensation  found_funny  \n",
       "0         False     1      NaN          NaN          NaN  \n",
       "1         False     1      NaN          NaN          NaN  \n",
       "2         False     1      NaN          NaN          NaN  "
      ]
     },
     "execution_count": 21,
     "metadata": {},
     "output_type": "execute_result"
    }
   ],
   "source": [
    "new_data_review.head(3) # Primeras 3 instancias (filas)"
   ]
  },
  {
   "cell_type": "markdown",
   "metadata": {},
   "source": [
    "2. __Valores Faltantes:__ se imprimen en pantalla los nombres de las columnas y cuántos valores faltantes hay por columna. En un principio es a mera exposición, ya que por el momento no vamos a descartar ninguno de ellos,ni realizar imputación de datos."
   ]
  },
  {
   "cell_type": "code",
   "execution_count": 22,
   "metadata": {},
   "outputs": [
    {
     "data": {
      "text/plain": [
       "Unnamed: 0           0\n",
       "username            18\n",
       "hours             2637\n",
       "products          1566\n",
       "product_id           0\n",
       "page_order           0\n",
       "date                 0\n",
       "text              1839\n",
       "early_access         0\n",
       "page                 0\n",
       "user_id         461967\n",
       "compensation    764719\n",
       "found_funny     659143\n",
       "dtype: int64"
      ]
     },
     "execution_count": 22,
     "metadata": {},
     "output_type": "execute_result"
    }
   ],
   "source": [
    "new_data_review.isnull().sum() # Nombres de las columnas y su cantidad de faltantes"
   ]
  },
  {
   "cell_type": "markdown",
   "metadata": {},
   "source": [
    "* *Variables con elementos faltantes:*  \n",
    "    *1. `compensation` **98%** (764.719);*  \n",
    "    *2. `found_funny` **86%** (659.143);*  \n",
    "    *3. `user_id` 59% c/u (461.967);*  \n",
    "    *4. `hours` 0,3% (2.637);*  \n",
    "    *5. `text` 0,2% (1.839);*  \n",
    "    *6. `product` 0,2% (1.566).*"
   ]
  },
  {
   "cell_type": "markdown",
   "metadata": {},
   "source": [
    "#### DATA GAMES"
   ]
  },
  {
   "cell_type": "markdown",
   "metadata": {},
   "source": [
    "1. __Se realiza la carga el dataset__ usando las funcionalidades de Pandas."
   ]
  },
  {
   "cell_type": "code",
   "execution_count": 23,
   "metadata": {},
   "outputs": [],
   "source": [
    "new_data_games = pd.read_csv('new_data_games.csv')"
   ]
  },
  {
   "cell_type": "code",
   "execution_count": 24,
   "metadata": {},
   "outputs": [
    {
     "data": {
      "text/plain": [
       "(32135, 17)"
      ]
     },
     "execution_count": 24,
     "metadata": {},
     "output_type": "execute_result"
    }
   ],
   "source": [
    "new_data_games.shape # Filas y columnas"
   ]
  },
  {
   "cell_type": "markdown",
   "metadata": {},
   "source": [
    "* *El Dataset, cuenta con **32.135 Filas**, y **13 Columnas**.*"
   ]
  },
  {
   "cell_type": "code",
   "execution_count": 25,
   "metadata": {},
   "outputs": [
    {
     "data": {
      "text/html": [
       "<div>\n",
       "<style scoped>\n",
       "    .dataframe tbody tr th:only-of-type {\n",
       "        vertical-align: middle;\n",
       "    }\n",
       "\n",
       "    .dataframe tbody tr th {\n",
       "        vertical-align: top;\n",
       "    }\n",
       "\n",
       "    .dataframe thead th {\n",
       "        text-align: right;\n",
       "    }\n",
       "</style>\n",
       "<table border=\"1\" class=\"dataframe\">\n",
       "  <thead>\n",
       "    <tr style=\"text-align: right;\">\n",
       "      <th></th>\n",
       "      <th>Unnamed: 0</th>\n",
       "      <th>publisher</th>\n",
       "      <th>genres</th>\n",
       "      <th>app_name</th>\n",
       "      <th>title</th>\n",
       "      <th>url</th>\n",
       "      <th>release_date</th>\n",
       "      <th>tags</th>\n",
       "      <th>discount_price</th>\n",
       "      <th>reviews_url</th>\n",
       "      <th>specs</th>\n",
       "      <th>price</th>\n",
       "      <th>early_access</th>\n",
       "      <th>id</th>\n",
       "      <th>developer</th>\n",
       "      <th>sentiment</th>\n",
       "      <th>metascore</th>\n",
       "    </tr>\n",
       "  </thead>\n",
       "  <tbody>\n",
       "    <tr>\n",
       "      <th>0</th>\n",
       "      <td>0</td>\n",
       "      <td>Kotoshiro</td>\n",
       "      <td>['Action', 'Casual', 'Indie', 'Simulation', 'S...</td>\n",
       "      <td>Lost Summoner Kitty</td>\n",
       "      <td>Lost Summoner Kitty</td>\n",
       "      <td>http://store.steampowered.com/app/761140/Lost_...</td>\n",
       "      <td>2018-01-04</td>\n",
       "      <td>['Strategy', 'Action', 'Indie', 'Casual', 'Sim...</td>\n",
       "      <td>4.49</td>\n",
       "      <td>http://steamcommunity.com/app/761140/reviews/?...</td>\n",
       "      <td>['Single-player']</td>\n",
       "      <td>4.99</td>\n",
       "      <td>False</td>\n",
       "      <td>761140.0</td>\n",
       "      <td>Kotoshiro</td>\n",
       "      <td>NaN</td>\n",
       "      <td>NaN</td>\n",
       "    </tr>\n",
       "    <tr>\n",
       "      <th>1</th>\n",
       "      <td>1</td>\n",
       "      <td>Making Fun, Inc.</td>\n",
       "      <td>['Free to Play', 'Indie', 'RPG', 'Strategy']</td>\n",
       "      <td>Ironbound</td>\n",
       "      <td>Ironbound</td>\n",
       "      <td>http://store.steampowered.com/app/643980/Ironb...</td>\n",
       "      <td>2018-01-04</td>\n",
       "      <td>['Free to Play', 'Strategy', 'Indie', 'RPG', '...</td>\n",
       "      <td>NaN</td>\n",
       "      <td>http://steamcommunity.com/app/643980/reviews/?...</td>\n",
       "      <td>['Single-player', 'Multi-player', 'Online Mult...</td>\n",
       "      <td>Free To Play</td>\n",
       "      <td>False</td>\n",
       "      <td>643980.0</td>\n",
       "      <td>Secret Level SRL</td>\n",
       "      <td>Mostly Positive</td>\n",
       "      <td>NaN</td>\n",
       "    </tr>\n",
       "    <tr>\n",
       "      <th>2</th>\n",
       "      <td>2</td>\n",
       "      <td>Poolians.com</td>\n",
       "      <td>['Casual', 'Free to Play', 'Indie', 'Simulatio...</td>\n",
       "      <td>Real Pool 3D - Poolians</td>\n",
       "      <td>Real Pool 3D - Poolians</td>\n",
       "      <td>http://store.steampowered.com/app/670290/Real_...</td>\n",
       "      <td>2017-07-24</td>\n",
       "      <td>['Free to Play', 'Simulation', 'Sports', 'Casu...</td>\n",
       "      <td>NaN</td>\n",
       "      <td>http://steamcommunity.com/app/670290/reviews/?...</td>\n",
       "      <td>['Single-player', 'Multi-player', 'Online Mult...</td>\n",
       "      <td>Free to Play</td>\n",
       "      <td>False</td>\n",
       "      <td>670290.0</td>\n",
       "      <td>Poolians.com</td>\n",
       "      <td>Mostly Positive</td>\n",
       "      <td>NaN</td>\n",
       "    </tr>\n",
       "  </tbody>\n",
       "</table>\n",
       "</div>"
      ],
      "text/plain": [
       "   Unnamed: 0         publisher  \\\n",
       "0           0         Kotoshiro   \n",
       "1           1  Making Fun, Inc.   \n",
       "2           2      Poolians.com   \n",
       "\n",
       "                                              genres                 app_name  \\\n",
       "0  ['Action', 'Casual', 'Indie', 'Simulation', 'S...      Lost Summoner Kitty   \n",
       "1       ['Free to Play', 'Indie', 'RPG', 'Strategy']                Ironbound   \n",
       "2  ['Casual', 'Free to Play', 'Indie', 'Simulatio...  Real Pool 3D - Poolians   \n",
       "\n",
       "                     title                                                url  \\\n",
       "0      Lost Summoner Kitty  http://store.steampowered.com/app/761140/Lost_...   \n",
       "1                Ironbound  http://store.steampowered.com/app/643980/Ironb...   \n",
       "2  Real Pool 3D - Poolians  http://store.steampowered.com/app/670290/Real_...   \n",
       "\n",
       "  release_date                                               tags  \\\n",
       "0   2018-01-04  ['Strategy', 'Action', 'Indie', 'Casual', 'Sim...   \n",
       "1   2018-01-04  ['Free to Play', 'Strategy', 'Indie', 'RPG', '...   \n",
       "2   2017-07-24  ['Free to Play', 'Simulation', 'Sports', 'Casu...   \n",
       "\n",
       "   discount_price                                        reviews_url  \\\n",
       "0            4.49  http://steamcommunity.com/app/761140/reviews/?...   \n",
       "1             NaN  http://steamcommunity.com/app/643980/reviews/?...   \n",
       "2             NaN  http://steamcommunity.com/app/670290/reviews/?...   \n",
       "\n",
       "                                               specs         price  \\\n",
       "0                                  ['Single-player']          4.99   \n",
       "1  ['Single-player', 'Multi-player', 'Online Mult...  Free To Play   \n",
       "2  ['Single-player', 'Multi-player', 'Online Mult...  Free to Play   \n",
       "\n",
       "   early_access        id         developer        sentiment  metascore  \n",
       "0         False  761140.0         Kotoshiro              NaN        NaN  \n",
       "1         False  643980.0  Secret Level SRL  Mostly Positive        NaN  \n",
       "2         False  670290.0      Poolians.com  Mostly Positive        NaN  "
      ]
     },
     "execution_count": 25,
     "metadata": {},
     "output_type": "execute_result"
    }
   ],
   "source": [
    "new_data_games.head(3) # Primeras 3 instancias (filas)"
   ]
  },
  {
   "cell_type": "markdown",
   "metadata": {},
   "source": [
    "2. __Valores Faltantes:__ se imprimen en pantalla los nombres de las columnas y cuántos valores faltantes hay por columna. En un principio es a mera exposición, ya que por el momento no vamos a descartar ninguno de ellos,ni realizar imputación de datos."
   ]
  },
  {
   "cell_type": "code",
   "execution_count": 26,
   "metadata": {},
   "outputs": [
    {
     "data": {
      "text/plain": [
       "Unnamed: 0            0\n",
       "publisher          8062\n",
       "genres             3283\n",
       "app_name              2\n",
       "title              2050\n",
       "url                   0\n",
       "release_date       2067\n",
       "tags                163\n",
       "discount_price    31910\n",
       "reviews_url           2\n",
       "specs               670\n",
       "price              1377\n",
       "early_access          0\n",
       "id                    2\n",
       "developer          3299\n",
       "sentiment          7182\n",
       "metascore         29528\n",
       "dtype: int64"
      ]
     },
     "execution_count": 26,
     "metadata": {},
     "output_type": "execute_result"
    }
   ],
   "source": [
    "new_data_games.isnull().sum() # Nombres de las columnas y su cantidad de faltantes"
   ]
  },
  {
   "cell_type": "markdown",
   "metadata": {},
   "source": [
    "* *Casi todos las Variables tienen elementos faltantes. Detallamos las principales:*  \n",
    "    *1. `discount_price` **98%** (31.910);*  \n",
    "    *2. `metascore` **98%** (29.528);*  \n",
    "    *3. `publisher` 59% c/u (8.062);*  \n",
    "    *4. `sentiment` 0,3% (7.182);*  \n",
    "    *5. `developer` 0,2% (3.299);*  \n",
    "    *6. `genres` 0,2% (3.283).*\n",
    "    \n",
    "* *Cabe aclarar que el `id` de los juegos, tienen 2 valores faltantes.*\n",
    "* *`metascore` refiere a la media de todas las reseñas recibidas para dicho juego.*"
   ]
  },
  {
   "cell_type": "code",
   "execution_count": 85,
   "metadata": {},
   "outputs": [
    {
     "data": {
      "text/html": [
       "<div>\n",
       "<style scoped>\n",
       "    .dataframe tbody tr th:only-of-type {\n",
       "        vertical-align: middle;\n",
       "    }\n",
       "\n",
       "    .dataframe tbody tr th {\n",
       "        vertical-align: top;\n",
       "    }\n",
       "\n",
       "    .dataframe thead th {\n",
       "        text-align: right;\n",
       "    }\n",
       "</style>\n",
       "<table border=\"1\" class=\"dataframe\">\n",
       "  <thead>\n",
       "    <tr style=\"text-align: right;\">\n",
       "      <th></th>\n",
       "      <th>Unnamed: 0</th>\n",
       "      <th>publisher</th>\n",
       "      <th>genres</th>\n",
       "      <th>app_name</th>\n",
       "      <th>title</th>\n",
       "      <th>url</th>\n",
       "      <th>release_date</th>\n",
       "      <th>tags</th>\n",
       "      <th>discount_price</th>\n",
       "      <th>reviews_url</th>\n",
       "      <th>specs</th>\n",
       "      <th>price</th>\n",
       "      <th>early_access</th>\n",
       "      <th>id</th>\n",
       "      <th>developer</th>\n",
       "      <th>sentiment</th>\n",
       "      <th>metascore</th>\n",
       "    </tr>\n",
       "  </thead>\n",
       "  <tbody>\n",
       "    <tr>\n",
       "      <th>31617</th>\n",
       "      <td>31617</td>\n",
       "      <td>Warner Bros. Interactive Entertainment, Feral ...</td>\n",
       "      <td>['Action', 'Adventure']</td>\n",
       "      <td>Batman: Arkham Asylum Game of the Year Edition</td>\n",
       "      <td>Batman: Arkham Asylum Game of the Year Edition</td>\n",
       "      <td>http://store.steampowered.com/app/35140/Batman...</td>\n",
       "      <td>2010-03-26</td>\n",
       "      <td>['Action', 'Batman', 'Stealth', 'Adventure', '...</td>\n",
       "      <td>NaN</td>\n",
       "      <td>http://steamcommunity.com/app/35140/reviews/?b...</td>\n",
       "      <td>['Single-player', 'Steam Achievements', 'Steam...</td>\n",
       "      <td>19.99</td>\n",
       "      <td>False</td>\n",
       "      <td>35140.0</td>\n",
       "      <td>Rocksteady Studios,Feral Interactive (Mac)</td>\n",
       "      <td>Overwhelmingly Positive</td>\n",
       "      <td>91.0</td>\n",
       "    </tr>\n",
       "  </tbody>\n",
       "</table>\n",
       "</div>"
      ],
      "text/plain": [
       "       Unnamed: 0                                          publisher  \\\n",
       "31617       31617  Warner Bros. Interactive Entertainment, Feral ...   \n",
       "\n",
       "                        genres  \\\n",
       "31617  ['Action', 'Adventure']   \n",
       "\n",
       "                                             app_name  \\\n",
       "31617  Batman: Arkham Asylum Game of the Year Edition   \n",
       "\n",
       "                                                title  \\\n",
       "31617  Batman: Arkham Asylum Game of the Year Edition   \n",
       "\n",
       "                                                     url release_date  \\\n",
       "31617  http://store.steampowered.com/app/35140/Batman...   2010-03-26   \n",
       "\n",
       "                                                    tags  discount_price  \\\n",
       "31617  ['Action', 'Batman', 'Stealth', 'Adventure', '...             NaN   \n",
       "\n",
       "                                             reviews_url  \\\n",
       "31617  http://steamcommunity.com/app/35140/reviews/?b...   \n",
       "\n",
       "                                                   specs  price  early_access  \\\n",
       "31617  ['Single-player', 'Steam Achievements', 'Steam...  19.99         False   \n",
       "\n",
       "            id                                   developer  \\\n",
       "31617  35140.0  Rocksteady Studios,Feral Interactive (Mac)   \n",
       "\n",
       "                     sentiment  metascore  \n",
       "31617  Overwhelmingly Positive       91.0  "
      ]
     },
     "execution_count": 85,
     "metadata": {},
     "output_type": "execute_result"
    }
   ],
   "source": [
    "new_data_games[data_games.id == '35140']"
   ]
  },
  {
   "cell_type": "markdown",
   "metadata": {},
   "source": [
    "#### 3 DATA COMBINADA"
   ]
  },
  {
   "cell_type": "markdown",
   "metadata": {},
   "source": [
    "1. __Se realiza la carga el dataset__ usando las funcionalidades de Surprise."
   ]
  },
  {
   "cell_type": "code",
   "execution_count": 34,
   "metadata": {},
   "outputs": [],
   "source": [
    "reader = Reader()"
   ]
  },
  {
   "cell_type": "code",
   "execution_count": 40,
   "metadata": {},
   "outputs": [],
   "source": [
    "frames = [new_data_review, new_data_games]"
   ]
  },
  {
   "cell_type": "code",
   "execution_count": 44,
   "metadata": {},
   "outputs": [
    {
     "data": {
      "text/html": [
       "<div>\n",
       "<style scoped>\n",
       "    .dataframe tbody tr th:only-of-type {\n",
       "        vertical-align: middle;\n",
       "    }\n",
       "\n",
       "    .dataframe tbody tr th {\n",
       "        vertical-align: top;\n",
       "    }\n",
       "\n",
       "    .dataframe thead th {\n",
       "        text-align: right;\n",
       "    }\n",
       "</style>\n",
       "<table border=\"1\" class=\"dataframe\">\n",
       "  <thead>\n",
       "    <tr style=\"text-align: right;\">\n",
       "      <th></th>\n",
       "      <th>Unnamed: 0</th>\n",
       "      <th>username</th>\n",
       "      <th>hours</th>\n",
       "      <th>products</th>\n",
       "      <th>product_id</th>\n",
       "      <th>page_order</th>\n",
       "      <th>date</th>\n",
       "      <th>text</th>\n",
       "      <th>early_access</th>\n",
       "      <th>page</th>\n",
       "      <th>...</th>\n",
       "      <th>release_date</th>\n",
       "      <th>tags</th>\n",
       "      <th>discount_price</th>\n",
       "      <th>reviews_url</th>\n",
       "      <th>specs</th>\n",
       "      <th>price</th>\n",
       "      <th>id</th>\n",
       "      <th>developer</th>\n",
       "      <th>sentiment</th>\n",
       "      <th>metascore</th>\n",
       "    </tr>\n",
       "  </thead>\n",
       "  <tbody>\n",
       "    <tr>\n",
       "      <th>0</th>\n",
       "      <td>0</td>\n",
       "      <td>Chaos Syren</td>\n",
       "      <td>0.1</td>\n",
       "      <td>41.0</td>\n",
       "      <td>725280.0</td>\n",
       "      <td>0.0</td>\n",
       "      <td>2017-12-17</td>\n",
       "      <td>This would not be acceptable as an entertainme...</td>\n",
       "      <td>False</td>\n",
       "      <td>1.0</td>\n",
       "      <td>...</td>\n",
       "      <td>NaN</td>\n",
       "      <td>NaN</td>\n",
       "      <td>NaN</td>\n",
       "      <td>NaN</td>\n",
       "      <td>NaN</td>\n",
       "      <td>NaN</td>\n",
       "      <td>NaN</td>\n",
       "      <td>NaN</td>\n",
       "      <td>NaN</td>\n",
       "      <td>NaN</td>\n",
       "    </tr>\n",
       "    <tr>\n",
       "      <th>1</th>\n",
       "      <td>1</td>\n",
       "      <td>Ariman1</td>\n",
       "      <td>13.2</td>\n",
       "      <td>1386.0</td>\n",
       "      <td>328100.0</td>\n",
       "      <td>2.0</td>\n",
       "      <td>2017-08-02</td>\n",
       "      <td>Addictive RPG ! Works fine on linux though it ...</td>\n",
       "      <td>False</td>\n",
       "      <td>1.0</td>\n",
       "      <td>...</td>\n",
       "      <td>NaN</td>\n",
       "      <td>NaN</td>\n",
       "      <td>NaN</td>\n",
       "      <td>NaN</td>\n",
       "      <td>NaN</td>\n",
       "      <td>NaN</td>\n",
       "      <td>NaN</td>\n",
       "      <td>NaN</td>\n",
       "      <td>NaN</td>\n",
       "      <td>NaN</td>\n",
       "    </tr>\n",
       "    <tr>\n",
       "      <th>2</th>\n",
       "      <td>2</td>\n",
       "      <td>freakfantom</td>\n",
       "      <td>0.1</td>\n",
       "      <td>1706.0</td>\n",
       "      <td>725280.0</td>\n",
       "      <td>5.0</td>\n",
       "      <td>2017-11-12</td>\n",
       "      <td>Прикольная стрелялка. Взял дешево на распродаже.</td>\n",
       "      <td>False</td>\n",
       "      <td>1.0</td>\n",
       "      <td>...</td>\n",
       "      <td>NaN</td>\n",
       "      <td>NaN</td>\n",
       "      <td>NaN</td>\n",
       "      <td>NaN</td>\n",
       "      <td>NaN</td>\n",
       "      <td>NaN</td>\n",
       "      <td>NaN</td>\n",
       "      <td>NaN</td>\n",
       "      <td>NaN</td>\n",
       "      <td>NaN</td>\n",
       "    </tr>\n",
       "  </tbody>\n",
       "</table>\n",
       "<p>3 rows × 28 columns</p>\n",
       "</div>"
      ],
      "text/plain": [
       "   Unnamed: 0     username  hours  products  product_id  page_order  \\\n",
       "0           0  Chaos Syren    0.1      41.0    725280.0         0.0   \n",
       "1           1      Ariman1   13.2    1386.0    328100.0         2.0   \n",
       "2           2  freakfantom    0.1    1706.0    725280.0         5.0   \n",
       "\n",
       "         date                                               text  \\\n",
       "0  2017-12-17  This would not be acceptable as an entertainme...   \n",
       "1  2017-08-02  Addictive RPG ! Works fine on linux though it ...   \n",
       "2  2017-11-12   Прикольная стрелялка. Взял дешево на распродаже.   \n",
       "\n",
       "   early_access  page  ...  release_date tags  discount_price reviews_url  \\\n",
       "0         False   1.0  ...           NaN  NaN             NaN         NaN   \n",
       "1         False   1.0  ...           NaN  NaN             NaN         NaN   \n",
       "2         False   1.0  ...           NaN  NaN             NaN         NaN   \n",
       "\n",
       "  specs price  id developer sentiment metascore  \n",
       "0   NaN   NaN NaN       NaN       NaN       NaN  \n",
       "1   NaN   NaN NaN       NaN       NaN       NaN  \n",
       "2   NaN   NaN NaN       NaN       NaN       NaN  \n",
       "\n",
       "[3 rows x 28 columns]"
      ]
     },
     "execution_count": 44,
     "metadata": {},
     "output_type": "execute_result"
    }
   ],
   "source": [
    "combined = pd.concat(frames)\n",
    "combined.head(3)"
   ]
  },
  {
   "cell_type": "markdown",
   "metadata": {},
   "source": [
    "2. __Se responden las siguientes preguntas:__"
   ]
  },
  {
   "cell_type": "markdown",
   "metadata": {},
   "source": [
    "1. ¿Cuántos usuarios únicos hay?"
   ]
  },
  {
   "cell_type": "code",
   "execution_count": 45,
   "metadata": {},
   "outputs": [
    {
     "name": "stdout",
     "output_type": "stream",
     "text": [
      "540339\n"
     ]
    }
   ],
   "source": [
    "print(len(combined['username'].unique()))"
   ]
  },
  {
   "cell_type": "markdown",
   "metadata": {},
   "source": [
    "* 470758 usuarios calificaron películas."
   ]
  },
  {
   "cell_type": "markdown",
   "metadata": {},
   "source": [
    "2. ¿Cuántos tipos de calificaciones hay (`sentiment`)?"
   ]
  },
  {
   "cell_type": "code",
   "execution_count": 50,
   "metadata": {},
   "outputs": [
    {
     "data": {
      "text/plain": [
       "array([nan, 'Mostly Positive', 'Mixed', '1 user reviews',\n",
       "       '3 user reviews', '8 user reviews', 'Very Positive',\n",
       "       'Overwhelmingly Positive', '6 user reviews', '5 user reviews',\n",
       "       '2 user reviews', 'Very Negative', 'Positive', 'Mostly Negative',\n",
       "       '9 user reviews', 'Negative', '4 user reviews', '7 user reviews',\n",
       "       'Overwhelmingly Negative'], dtype=object)"
      ]
     },
     "execution_count": 50,
     "metadata": {},
     "output_type": "execute_result"
    }
   ],
   "source": [
    "pd.unique(combined['sentiment'])"
   ]
  },
  {
   "cell_type": "code",
   "execution_count": 51,
   "metadata": {},
   "outputs": [
    {
     "name": "stdout",
     "output_type": "stream",
     "text": [
      "Mixed                      4103\n",
      "Very Positive              3868\n",
      "Positive                   3281\n",
      "Mostly Positive            2744\n",
      "1 user reviews             2496\n",
      "2 user reviews             1756\n",
      "3 user reviews             1231\n",
      "4 user reviews              964\n",
      "5 user reviews              846\n",
      "Mostly Negative             802\n",
      "6 user reviews              756\n",
      "7 user reviews              619\n",
      "8 user reviews              537\n",
      "9 user reviews              488\n",
      "Overwhelmingly Positive     303\n",
      "Negative                    123\n",
      "Very Negative                29\n",
      "Overwhelmingly Negative       7\n",
      "Name: sentiment, dtype: int64\n"
     ]
    }
   ],
   "source": [
    "print(combined['sentiment'].value_counts())"
   ]
  },
  {
   "cell_type": "code",
   "execution_count": 52,
   "metadata": {},
   "outputs": [
    {
     "data": {
      "text/plain": [
       "Text(0.5, 1.0, 'Número de Calificaciones por Tipo')"
      ]
     },
     "execution_count": 52,
     "metadata": {},
     "output_type": "execute_result"
    },
    {
     "data": {
      "image/png": "[encoded data removed]",
      "text/plain": [
       "<Figure size 432x288 with 1 Axes>"
      ]
     },
     "metadata": {},
     "output_type": "display_data"
    }
   ],
   "source": [
    "sns.countplot(data = combined, y = 'sentiment', order = combined['sentiment'].value_counts().index, palette='pastel')\n",
    "plt.title('Número de Calificaciones por Tipo')"
   ]
  },
  {
   "cell_type": "markdown",
   "metadata": {},
   "source": [
    "3. ¿Cuántos juegos calificó cada usuario?"
   ]
  },
  {
   "cell_type": "code",
   "execution_count": 53,
   "metadata": {},
   "outputs": [
    {
     "data": {
      "text/html": [
       "<div>\n",
       "<style scoped>\n",
       "    .dataframe tbody tr th:only-of-type {\n",
       "        vertical-align: middle;\n",
       "    }\n",
       "\n",
       "    .dataframe tbody tr th {\n",
       "        vertical-align: top;\n",
       "    }\n",
       "\n",
       "    .dataframe thead th {\n",
       "        text-align: right;\n",
       "    }\n",
       "</style>\n",
       "<table border=\"1\" class=\"dataframe\">\n",
       "  <thead>\n",
       "    <tr style=\"text-align: right;\">\n",
       "      <th></th>\n",
       "      <th>Unnamed: 0</th>\n",
       "      <th>username</th>\n",
       "      <th>hours</th>\n",
       "      <th>products</th>\n",
       "      <th>product_id</th>\n",
       "      <th>page_order</th>\n",
       "      <th>date</th>\n",
       "      <th>text</th>\n",
       "      <th>early_access</th>\n",
       "      <th>page</th>\n",
       "      <th>...</th>\n",
       "      <th>url</th>\n",
       "      <th>release_date</th>\n",
       "      <th>tags</th>\n",
       "      <th>discount_price</th>\n",
       "      <th>reviews_url</th>\n",
       "      <th>specs</th>\n",
       "      <th>price</th>\n",
       "      <th>id</th>\n",
       "      <th>developer</th>\n",
       "      <th>metascore</th>\n",
       "    </tr>\n",
       "    <tr>\n",
       "      <th>sentiment</th>\n",
       "      <th></th>\n",
       "      <th></th>\n",
       "      <th></th>\n",
       "      <th></th>\n",
       "      <th></th>\n",
       "      <th></th>\n",
       "      <th></th>\n",
       "      <th></th>\n",
       "      <th></th>\n",
       "      <th></th>\n",
       "      <th></th>\n",
       "      <th></th>\n",
       "      <th></th>\n",
       "      <th></th>\n",
       "      <th></th>\n",
       "      <th></th>\n",
       "      <th></th>\n",
       "      <th></th>\n",
       "      <th></th>\n",
       "      <th></th>\n",
       "      <th></th>\n",
       "    </tr>\n",
       "  </thead>\n",
       "  <tbody>\n",
       "    <tr>\n",
       "      <th>1 user reviews</th>\n",
       "      <td>2496</td>\n",
       "      <td>0</td>\n",
       "      <td>0</td>\n",
       "      <td>0</td>\n",
       "      <td>0</td>\n",
       "      <td>0</td>\n",
       "      <td>0</td>\n",
       "      <td>0</td>\n",
       "      <td>2496</td>\n",
       "      <td>0</td>\n",
       "      <td>...</td>\n",
       "      <td>2496</td>\n",
       "      <td>2348</td>\n",
       "      <td>2483</td>\n",
       "      <td>18</td>\n",
       "      <td>2496</td>\n",
       "      <td>2432</td>\n",
       "      <td>2424</td>\n",
       "      <td>2496</td>\n",
       "      <td>2206</td>\n",
       "      <td>10</td>\n",
       "    </tr>\n",
       "    <tr>\n",
       "      <th>2 user reviews</th>\n",
       "      <td>1756</td>\n",
       "      <td>0</td>\n",
       "      <td>0</td>\n",
       "      <td>0</td>\n",
       "      <td>0</td>\n",
       "      <td>0</td>\n",
       "      <td>0</td>\n",
       "      <td>0</td>\n",
       "      <td>1756</td>\n",
       "      <td>0</td>\n",
       "      <td>...</td>\n",
       "      <td>1756</td>\n",
       "      <td>1633</td>\n",
       "      <td>1745</td>\n",
       "      <td>14</td>\n",
       "      <td>1756</td>\n",
       "      <td>1693</td>\n",
       "      <td>1692</td>\n",
       "      <td>1756</td>\n",
       "      <td>1554</td>\n",
       "      <td>12</td>\n",
       "    </tr>\n",
       "    <tr>\n",
       "      <th>3 user reviews</th>\n",
       "      <td>1231</td>\n",
       "      <td>0</td>\n",
       "      <td>0</td>\n",
       "      <td>0</td>\n",
       "      <td>0</td>\n",
       "      <td>0</td>\n",
       "      <td>0</td>\n",
       "      <td>0</td>\n",
       "      <td>1231</td>\n",
       "      <td>0</td>\n",
       "      <td>...</td>\n",
       "      <td>1231</td>\n",
       "      <td>1127</td>\n",
       "      <td>1223</td>\n",
       "      <td>11</td>\n",
       "      <td>1231</td>\n",
       "      <td>1186</td>\n",
       "      <td>1186</td>\n",
       "      <td>1231</td>\n",
       "      <td>1070</td>\n",
       "      <td>8</td>\n",
       "    </tr>\n",
       "    <tr>\n",
       "      <th>4 user reviews</th>\n",
       "      <td>964</td>\n",
       "      <td>0</td>\n",
       "      <td>0</td>\n",
       "      <td>0</td>\n",
       "      <td>0</td>\n",
       "      <td>0</td>\n",
       "      <td>0</td>\n",
       "      <td>0</td>\n",
       "      <td>964</td>\n",
       "      <td>0</td>\n",
       "      <td>...</td>\n",
       "      <td>964</td>\n",
       "      <td>882</td>\n",
       "      <td>960</td>\n",
       "      <td>7</td>\n",
       "      <td>964</td>\n",
       "      <td>946</td>\n",
       "      <td>931</td>\n",
       "      <td>964</td>\n",
       "      <td>851</td>\n",
       "      <td>7</td>\n",
       "    </tr>\n",
       "    <tr>\n",
       "      <th>5 user reviews</th>\n",
       "      <td>846</td>\n",
       "      <td>0</td>\n",
       "      <td>0</td>\n",
       "      <td>0</td>\n",
       "      <td>0</td>\n",
       "      <td>0</td>\n",
       "      <td>0</td>\n",
       "      <td>0</td>\n",
       "      <td>846</td>\n",
       "      <td>0</td>\n",
       "      <td>...</td>\n",
       "      <td>846</td>\n",
       "      <td>771</td>\n",
       "      <td>836</td>\n",
       "      <td>5</td>\n",
       "      <td>846</td>\n",
       "      <td>819</td>\n",
       "      <td>817</td>\n",
       "      <td>846</td>\n",
       "      <td>738</td>\n",
       "      <td>6</td>\n",
       "    </tr>\n",
       "  </tbody>\n",
       "</table>\n",
       "<p>5 rows × 27 columns</p>\n",
       "</div>"
      ],
      "text/plain": [
       "                Unnamed: 0  username  hours  products  product_id  page_order  \\\n",
       "sentiment                                                                       \n",
       "1 user reviews        2496         0      0         0           0           0   \n",
       "2 user reviews        1756         0      0         0           0           0   \n",
       "3 user reviews        1231         0      0         0           0           0   \n",
       "4 user reviews         964         0      0         0           0           0   \n",
       "5 user reviews         846         0      0         0           0           0   \n",
       "\n",
       "                date  text  early_access  page  ...   url  release_date  tags  \\\n",
       "sentiment                                       ...                             \n",
       "1 user reviews     0     0          2496     0  ...  2496          2348  2483   \n",
       "2 user reviews     0     0          1756     0  ...  1756          1633  1745   \n",
       "3 user reviews     0     0          1231     0  ...  1231          1127  1223   \n",
       "4 user reviews     0     0           964     0  ...   964           882   960   \n",
       "5 user reviews     0     0           846     0  ...   846           771   836   \n",
       "\n",
       "                discount_price  reviews_url  specs  price    id  developer  \\\n",
       "sentiment                                                                    \n",
       "1 user reviews              18         2496   2432   2424  2496       2206   \n",
       "2 user reviews              14         1756   1693   1692  1756       1554   \n",
       "3 user reviews              11         1231   1186   1186  1231       1070   \n",
       "4 user reviews               7          964    946    931   964        851   \n",
       "5 user reviews               5          846    819    817   846        738   \n",
       "\n",
       "                metascore  \n",
       "sentiment                  \n",
       "1 user reviews         10  \n",
       "2 user reviews         12  \n",
       "3 user reviews          8  \n",
       "4 user reviews          7  \n",
       "5 user reviews          6  \n",
       "\n",
       "[5 rows x 27 columns]"
      ]
     },
     "execution_count": 53,
     "metadata": {},
     "output_type": "execute_result"
    }
   ],
   "source": [
    "df1_by_users = combined.groupby(['sentiment']).count()\n",
    "df1_by_users.head()\n",
    "\n",
    "# Vemos cuántas calificaciones de juego realizó cada usuario"
   ]
  },
  {
   "cell_type": "code",
   "execution_count": 72,
   "metadata": {},
   "outputs": [
    {
     "name": "stdout",
     "output_type": "stream",
     "text": [
      "0         0\n",
      "1         0\n",
      "2         0\n",
      "3         0\n",
      "4         0\n",
      "         ..\n",
      "32130     0\n",
      "32131     0\n",
      "32132     0\n",
      "32133     1\n",
      "32134    16\n",
      "Name: sentiment, Length: 811442, dtype: int64\n"
     ]
    }
   ],
   "source": [
    "from sklearn.preprocessing import LabelEncoder\n",
    "\n",
    "lb_make = LabelEncoder()\n",
    "combined['sentiment'] = lb_make.fit_transform(combined['sentiment'])\n",
    "print(combined['sentiment'])"
   ]
  },
  {
   "cell_type": "code",
   "execution_count": 74,
   "metadata": {},
   "outputs": [
    {
     "data": {
      "text/html": [
       "<div>\n",
       "<style scoped>\n",
       "    .dataframe tbody tr th:only-of-type {\n",
       "        vertical-align: middle;\n",
       "    }\n",
       "\n",
       "    .dataframe tbody tr th {\n",
       "        vertical-align: top;\n",
       "    }\n",
       "\n",
       "    .dataframe thead th {\n",
       "        text-align: right;\n",
       "    }\n",
       "</style>\n",
       "<table border=\"1\" class=\"dataframe\">\n",
       "  <thead>\n",
       "    <tr style=\"text-align: right;\">\n",
       "      <th></th>\n",
       "      <th>Unnamed: 0</th>\n",
       "      <th>username</th>\n",
       "      <th>hours</th>\n",
       "      <th>products</th>\n",
       "      <th>product_id</th>\n",
       "      <th>page_order</th>\n",
       "      <th>date</th>\n",
       "      <th>text</th>\n",
       "      <th>early_access</th>\n",
       "      <th>page</th>\n",
       "      <th>...</th>\n",
       "      <th>release_date</th>\n",
       "      <th>tags</th>\n",
       "      <th>discount_price</th>\n",
       "      <th>reviews_url</th>\n",
       "      <th>specs</th>\n",
       "      <th>price</th>\n",
       "      <th>id</th>\n",
       "      <th>developer</th>\n",
       "      <th>sentiment</th>\n",
       "      <th>metascore</th>\n",
       "    </tr>\n",
       "  </thead>\n",
       "  <tbody>\n",
       "    <tr>\n",
       "      <th>0</th>\n",
       "      <td>0</td>\n",
       "      <td>Chaos Syren</td>\n",
       "      <td>0.1</td>\n",
       "      <td>41.0</td>\n",
       "      <td>725280.0</td>\n",
       "      <td>0.0</td>\n",
       "      <td>2017-12-17</td>\n",
       "      <td>This would not be acceptable as an entertainme...</td>\n",
       "      <td>False</td>\n",
       "      <td>1.0</td>\n",
       "      <td>...</td>\n",
       "      <td>NaN</td>\n",
       "      <td>NaN</td>\n",
       "      <td>NaN</td>\n",
       "      <td>NaN</td>\n",
       "      <td>NaN</td>\n",
       "      <td>NaN</td>\n",
       "      <td>NaN</td>\n",
       "      <td>NaN</td>\n",
       "      <td>0</td>\n",
       "      <td>NaN</td>\n",
       "    </tr>\n",
       "    <tr>\n",
       "      <th>1</th>\n",
       "      <td>1</td>\n",
       "      <td>Ariman1</td>\n",
       "      <td>13.2</td>\n",
       "      <td>1386.0</td>\n",
       "      <td>328100.0</td>\n",
       "      <td>2.0</td>\n",
       "      <td>2017-08-02</td>\n",
       "      <td>Addictive RPG ! Works fine on linux though it ...</td>\n",
       "      <td>False</td>\n",
       "      <td>1.0</td>\n",
       "      <td>...</td>\n",
       "      <td>NaN</td>\n",
       "      <td>NaN</td>\n",
       "      <td>NaN</td>\n",
       "      <td>NaN</td>\n",
       "      <td>NaN</td>\n",
       "      <td>NaN</td>\n",
       "      <td>NaN</td>\n",
       "      <td>NaN</td>\n",
       "      <td>0</td>\n",
       "      <td>NaN</td>\n",
       "    </tr>\n",
       "    <tr>\n",
       "      <th>2</th>\n",
       "      <td>2</td>\n",
       "      <td>freakfantom</td>\n",
       "      <td>0.1</td>\n",
       "      <td>1706.0</td>\n",
       "      <td>725280.0</td>\n",
       "      <td>5.0</td>\n",
       "      <td>2017-11-12</td>\n",
       "      <td>Прикольная стрелялка. Взял дешево на распродаже.</td>\n",
       "      <td>False</td>\n",
       "      <td>1.0</td>\n",
       "      <td>...</td>\n",
       "      <td>NaN</td>\n",
       "      <td>NaN</td>\n",
       "      <td>NaN</td>\n",
       "      <td>NaN</td>\n",
       "      <td>NaN</td>\n",
       "      <td>NaN</td>\n",
       "      <td>NaN</td>\n",
       "      <td>NaN</td>\n",
       "      <td>0</td>\n",
       "      <td>NaN</td>\n",
       "    </tr>\n",
       "    <tr>\n",
       "      <th>3</th>\n",
       "      <td>3</td>\n",
       "      <td>The_Cpt_FROGGY</td>\n",
       "      <td>7.8</td>\n",
       "      <td>2217.0</td>\n",
       "      <td>631920.0</td>\n",
       "      <td>0.0</td>\n",
       "      <td>2017-12-11</td>\n",
       "      <td>Somewhere on Zibylon:\\n~~~~~~~~~~~~~~~~~~\\nZib...</td>\n",
       "      <td>False</td>\n",
       "      <td>1.0</td>\n",
       "      <td>...</td>\n",
       "      <td>NaN</td>\n",
       "      <td>NaN</td>\n",
       "      <td>NaN</td>\n",
       "      <td>NaN</td>\n",
       "      <td>NaN</td>\n",
       "      <td>NaN</td>\n",
       "      <td>NaN</td>\n",
       "      <td>NaN</td>\n",
       "      <td>0</td>\n",
       "      <td>NaN</td>\n",
       "    </tr>\n",
       "    <tr>\n",
       "      <th>4</th>\n",
       "      <td>4</td>\n",
       "      <td>the_maker988</td>\n",
       "      <td>8.2</td>\n",
       "      <td>18.0</td>\n",
       "      <td>35140.0</td>\n",
       "      <td>7.0</td>\n",
       "      <td>2018-01-02</td>\n",
       "      <td>This game was way to linear for me, and compar...</td>\n",
       "      <td>False</td>\n",
       "      <td>1.0</td>\n",
       "      <td>...</td>\n",
       "      <td>NaN</td>\n",
       "      <td>NaN</td>\n",
       "      <td>NaN</td>\n",
       "      <td>NaN</td>\n",
       "      <td>NaN</td>\n",
       "      <td>NaN</td>\n",
       "      <td>NaN</td>\n",
       "      <td>NaN</td>\n",
       "      <td>0</td>\n",
       "      <td>NaN</td>\n",
       "    </tr>\n",
       "  </tbody>\n",
       "</table>\n",
       "<p>5 rows × 28 columns</p>\n",
       "</div>"
      ],
      "text/plain": [
       "   Unnamed: 0        username  hours  products  product_id  page_order  \\\n",
       "0           0     Chaos Syren    0.1      41.0    725280.0         0.0   \n",
       "1           1         Ariman1   13.2    1386.0    328100.0         2.0   \n",
       "2           2     freakfantom    0.1    1706.0    725280.0         5.0   \n",
       "3           3  The_Cpt_FROGGY    7.8    2217.0    631920.0         0.0   \n",
       "4           4    the_maker988    8.2      18.0     35140.0         7.0   \n",
       "\n",
       "         date                                               text  \\\n",
       "0  2017-12-17  This would not be acceptable as an entertainme...   \n",
       "1  2017-08-02  Addictive RPG ! Works fine on linux though it ...   \n",
       "2  2017-11-12   Прикольная стрелялка. Взял дешево на распродаже.   \n",
       "3  2017-12-11  Somewhere on Zibylon:\\n~~~~~~~~~~~~~~~~~~\\nZib...   \n",
       "4  2018-01-02  This game was way to linear for me, and compar...   \n",
       "\n",
       "   early_access  page  ...  release_date tags  discount_price reviews_url  \\\n",
       "0         False   1.0  ...           NaN  NaN             NaN         NaN   \n",
       "1         False   1.0  ...           NaN  NaN             NaN         NaN   \n",
       "2         False   1.0  ...           NaN  NaN             NaN         NaN   \n",
       "3         False   1.0  ...           NaN  NaN             NaN         NaN   \n",
       "4         False   1.0  ...           NaN  NaN             NaN         NaN   \n",
       "\n",
       "  specs price  id developer sentiment metascore  \n",
       "0   NaN   NaN NaN       NaN         0       NaN  \n",
       "1   NaN   NaN NaN       NaN         0       NaN  \n",
       "2   NaN   NaN NaN       NaN         0       NaN  \n",
       "3   NaN   NaN NaN       NaN         0       NaN  \n",
       "4   NaN   NaN NaN       NaN         0       NaN  \n",
       "\n",
       "[5 rows x 28 columns]"
      ]
     },
     "execution_count": 74,
     "metadata": {},
     "output_type": "execute_result"
    }
   ],
   "source": [
    "combined.head()"
   ]
  },
  {
   "cell_type": "markdown",
   "metadata": {},
   "source": [
    "3. ¿Cómo es la distribución de las calificaciones?¿Pueden concluir algo de ese gráfico?"
   ]
  },
  {
   "cell_type": "code",
   "execution_count": 73,
   "metadata": {},
   "outputs": [
    {
     "data": {
      "image/png": "[encoded data removed]",
      "text/plain": [
       "<Figure size 432x288 with 1 Axes>"
      ]
     },
     "metadata": {},
     "output_type": "display_data"
    }
   ],
   "source": [
    "combined['sentiment'].hist()\n",
    "plt.show()"
   ]
  },
  {
   "cell_type": "markdown",
   "metadata": {},
   "source": [
    "* El mayor número de calificaciones, está alrededor de 4, seguidas de 3, seguidas de 5."
   ]
  },
  {
   "cell_type": "markdown",
   "metadata": {},
   "source": [
    "4. ¿Cómo es la distribución del número de calificaciones por usuario?"
   ]
  },
  {
   "cell_type": "code",
   "execution_count": 76,
   "metadata": {},
   "outputs": [
    {
     "data": {
      "text/plain": [
       "123                         213\n",
       "Alex                        190\n",
       "Chris                       155\n",
       "Nick                        143\n",
       "Matt                        137\n",
       "                           ... \n",
       "Mconk1515                     1\n",
       "Jim toungebottom the 8th      1\n",
       "Squanjo                       1\n",
       "m⊕⊕- m⊕⊕                      1\n",
       "Pantalloons                   1\n",
       "Name: username, Length: 540338, dtype: int64"
      ]
     },
     "execution_count": 76,
     "metadata": {},
     "output_type": "execute_result"
    }
   ],
   "source": [
    "calificaciones_por_usuario = combined.username.value_counts() # Vemos por usuario, el conteo de dichas calificaciones\n",
    "calificaciones_por_usuario # 1er columnas es el ID del usuario, la segunda, la cantidad de calificaciones que dió"
   ]
  },
  {
   "cell_type": "code",
   "execution_count": 77,
   "metadata": {},
   "outputs": [
    {
     "data": {
      "text/plain": [
       "<matplotlib.axes._subplots.AxesSubplot at 0x1de8fd646d0>"
      ]
     },
     "execution_count": 77,
     "metadata": {},
     "output_type": "execute_result"
    },
    {
     "data": {
      "image/png": "[encoded data removed]",
      "text/plain": [
       "<Figure size 432x288 with 1 Axes>"
      ]
     },
     "metadata": {},
     "output_type": "display_data"
    }
   ],
   "source": [
    "calificaciones_por_usuario.hist(log = True)"
   ]
  },
  {
   "cell_type": "markdown",
   "metadata": {},
   "source": [
    "* Es el mismo que hicimos arriba, de cantidad de usuarios con más calificaciones."
   ]
  },
  {
   "cell_type": "markdown",
   "metadata": {},
   "source": [
    "5. ¿Cuál es el juego con más calificaciones?¿Cuántas tiene?¿Y la que menos calificaciones tiene?"
   ]
  },
  {
   "cell_type": "code",
   "execution_count": 81,
   "metadata": {},
   "outputs": [],
   "source": [
    "#juegos_por_vistos = combined.id.value_counts() # Hacemos un conteo por película, de los valores únicos por película (para c/ Id de película, cuántos hay)\n",
    "#juegos_por_vistos.index = combined.loc[juegos_por_vistos.index] # Obtenemos con índice que lo relacionamos con el título, para poder llenar el nombre\n",
    "#juegos_por_vistos # La película más calificada es Piratas del Caribe"
   ]
  },
  {
   "cell_type": "code",
   "execution_count": 30,
   "metadata": {},
   "outputs": [
    {
     "data": {
      "image/png": "[encoded data removed]",
      "text/plain": [
       "<Figure size 576x288 with 1 Axes>"
      ]
     },
     "metadata": {},
     "output_type": "display_data"
    }
   ],
   "source": [
    "#plt.figure(figsize = (8,4))\n",
    "#peliculas_por_vistos.hist(log = True, bins = 20)\n",
    "#plt.show()"
   ]
  },
  {
   "cell_type": "markdown",
   "metadata": {},
   "source": [
    "* Son pocas las películas que tienen altas calificaciones.\n",
    "* Hay bastantes películas que tienen pocas calificaciones."
   ]
  },
  {
   "cell_type": "markdown",
   "metadata": {},
   "source": [
    "### Entrenamiento"
   ]
  },
  {
   "cell_type": "code",
   "execution_count": 83,
   "metadata": {},
   "outputs": [],
   "source": [
    "data = Dataset.load_from_df(combined[['username', 'product_id','metascore']], reader)"
   ]
  },
  {
   "cell_type": "code",
   "execution_count": 84,
   "metadata": {},
   "outputs": [],
   "source": [
    "trainset, testset = train_test_split(data, test_size=.25) # OJO! Es el de Surprise. Es un Split del Dataset Completo"
   ]
  },
  {
   "cell_type": "markdown",
   "metadata": {},
   "source": [
    "Vamos a entrenar un algoritmo SVD. Explorar sus parámetros y su funcionamiento."
   ]
  },
  {
   "cell_type": "code",
   "execution_count": 86,
   "metadata": {},
   "outputs": [],
   "source": [
    "from surprise import SVD # OJO! Es también es de Surprise!\n",
    "algo = SVD() # Usamos los hiperparámetros predeterminados"
   ]
  },
  {
   "cell_type": "markdown",
   "metadata": {},
   "source": [
    "Entrenamos sobre el `trainset`"
   ]
  },
  {
   "cell_type": "code",
   "execution_count": 87,
   "metadata": {},
   "outputs": [
    {
     "data": {
      "text/plain": [
       "<surprise.prediction_algorithms.matrix_factorization.SVD at 0x1de8feb94f0>"
      ]
     },
     "execution_count": 87,
     "metadata": {},
     "output_type": "execute_result"
    }
   ],
   "source": [
    "algo.fit(trainset)\n",
    "\n",
    "# Entrenamos la Matriz de Utilidad de Train y de Test\n",
    "# No hay y\n",
    "# Entrena SVD sobre toda la Matriz de Utilidad (No s/ X e y)"
   ]
  },
  {
   "cell_type": "markdown",
   "metadata": {},
   "source": [
    "Y predecimos sobre el `testset`. Notar que para predecir sobre un conjunto de test se usa la función `test`."
   ]
  },
  {
   "cell_type": "code",
   "execution_count": 88,
   "metadata": {},
   "outputs": [],
   "source": [
    "predictions = algo.test(testset)"
   ]
  },
  {
   "cell_type": "markdown",
   "metadata": {},
   "source": [
    "Explorar las característica de `predictions` y alguno de sus elementos"
   ]
  },
  {
   "cell_type": "code",
   "execution_count": 89,
   "metadata": {},
   "outputs": [
    {
     "data": {
      "text/plain": [
       "Prediction(uid='GodHellios', iid=313340.0, r_ui=nan, est=5, details={'was_impossible': False})"
      ]
     },
     "execution_count": 89,
     "metadata": {},
     "output_type": "execute_result"
    }
   ],
   "source": [
    "predictions[1] # Predicción para 1 (para un usuario en particular)\n",
    "\n",
    "# uid: Id del Usuario\n",
    "# iid: Id del juego\n",
    "# r_ui: calificación que le da a ese juego en particular (la conocida)\n",
    "# est: estimación de la calificación (obtenida de SVD)\n",
    "# was imposible = False: fue posible calificar el juego"
   ]
  },
  {
   "cell_type": "markdown",
   "metadata": {},
   "source": [
    "En cambio, si queremos predecir para un usuario y una película en particular, usamos la función `predict`"
   ]
  },
  {
   "cell_type": "code",
   "execution_count": 90,
   "metadata": {},
   "outputs": [
    {
     "data": {
      "text/plain": [
       "Prediction(uid=132894, iid=28, r_ui=None, est=5, details={'was_impossible': False})"
      ]
     },
     "execution_count": 90,
     "metadata": {},
     "output_type": "execute_result"
    }
   ],
   "source": [
    "algo.predict(132894,28)"
   ]
  },
  {
   "cell_type": "markdown",
   "metadata": {},
   "source": [
    "* r_ui=None: El usuario no la calificó dicho juego."
   ]
  },
  {
   "cell_type": "code",
   "execution_count": null,
   "metadata": {},
   "outputs": [],
   "source": []
  },
  {
   "cell_type": "code",
   "execution_count": null,
   "metadata": {},
   "outputs": [],
   "source": []
  },
  {
   "cell_type": "code",
   "execution_count": null,
   "metadata": {},
   "outputs": [],
   "source": []
  },
  {
   "cell_type": "code",
   "execution_count": null,
   "metadata": {},
   "outputs": [],
   "source": []
  },
  {
   "cell_type": "code",
   "execution_count": null,
   "metadata": {},
   "outputs": [],
   "source": []
  }
 ],
 "metadata": {
  "colab": {
   "collapsed_sections": [],
   "name": "DS_Proyecto_03_SR.ipynb",
   "provenance": []
  },
  "kernelspec": {
   "display_name": "Python 3",
   "language": "python",
   "name": "python3"
  },
  "language_info": {
   "codemirror_mode": {
    "name": "ipython",
    "version": 3
   },
   "file_extension": ".py",
   "mimetype": "text/x-python",
   "name": "python",
   "nbconvert_exporter": "python",
   "pygments_lexer": "ipython3",
   "version": "3.8.5"
  }
 },
 "nbformat": 4,
 "nbformat_minor": 4
}
