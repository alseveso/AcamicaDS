{
 "cells": [
  {
   "cell_type": "markdown",
   "metadata": {
    "id": "gzJLet17WTzh"
   },
   "source": [
    "# Proyecto 03 - Sistemas de Recomendación\n",
    "\n",
    "## Dataset: STEAM\n",
    "\n",
    "**Recuerda descargar el dataset de [aquí](https://github.com/kang205/SASRec). Son dos archivos, uno de calificaciones y otro de información sobre los juegos.**\n",
    "\n",
    "En este notebook te dejamos unas celdas para que puedas comenzar a trabajar con este dataset. Sin embargo, **deberás** modificarlas para hacer un mejor manejo de datos. Algunas cosas a las que deberás prestar atención (tal vez no a todas):\n",
    "1. Tipos de datos: elige tipos de datos apropiados para cada columna.\n",
    "2. Descartar columnas poco informativas.\n",
    "3. Guardar en memoria datasets preprocesados para no tener que repetir código que tarde en correr.\n",
    "\n",
    "### Exploración de datos\n",
    "\n",
    "Dedícale un buen tiempo a hacer un Análisis Exploratorio de Datos. Elige preguntas que creas que puedas responder con este dataset. Por ejemplo, ¿cuáles son los juegos más populares?¿Y los menos populares?\n",
    "\n",
    "### Filtro Colaborativo\n",
    "\n",
    "Deberás implementar un sistema de recomendación colaborativo para este dataset. Ten en cuenta:\n",
    "\n",
    "1. Haz todas las transformaciones de datos que consideres necesarias. Justifica.\n",
    "1. Evalúa de forma apropiada sus resultados. Justifica la métrica elegida.\n",
    "1. Elige un modelo benchmark y compara tus resultados con este modelo.\n",
    "1. Optimiza los hiperparámetros de tu modelo.\n",
    "\n",
    "Puedes implementar un filtro colaborativo a partir de la similitud coseno o índice de Jaccard. ¿Puedes utilizar los métodos de la librería Surprise? Si no es así, busca implementaciones (por ejemplo, nuevas librerías) que sean apropiadas.\n",
    "\n",
    "Para comenzar a trabajar, puedes asumir que cada entrada es un enlace entre una persona usuaria y un item, **independientemente** de si la crítica es buena o mala. \n",
    "\n",
    "### Para pensar, investigar y, opcionalmente, implementar\n",
    "1. ¿Cómo harías para ponerle un valor a la calificación?\n",
    "1. ¿Cómo harías para agregar contenido? Por ejemplo, cuentas con el género, precio, fecha de lanzamiento y más información de los juegos.\n",
    "1. ¿Hay algo que te gustaría investigar o probar?\n",
    "\n",
    "### **¡Tómate tiempo para investigar y leer mucho!**"
   ]
  },
  {
   "cell_type": "code",
   "execution_count": 1,
   "metadata": {
    "id": "lWZhtUxEWTzj"
   },
   "outputs": [],
   "source": [
    "#import gzip\n",
    "#import pandas as pd\n",
    "\n",
    "#def parse(path):\n",
    "#    g = gzip.open(path, 'r')\n",
    "#    for l in g:\n",
    "#        yield eval(l)"
   ]
  },
  {
   "cell_type": "markdown",
   "metadata": {
    "id": "BmEM25k4WTzw"
   },
   "source": [
    "**Reviews**"
   ]
  },
  {
   "cell_type": "code",
   "execution_count": 2,
   "metadata": {
    "id": "abAXItn1WTz0"
   },
   "outputs": [],
   "source": [
    "#contador = 0\n",
    "#data_reviews = []\n",
    "# Vamos a guardar una de cada 10 reviews para no llenar la memoria RAM. Si pones n = 3, \n",
    "# abrira uno de cada tres, y asi.\n",
    "#n = 10\n",
    "#for l in parse('steam_reviews.json.gz'):\n",
    "#    if contador%n == 0:\n",
    "#        data_reviews.append(l)\n",
    "#    else:\n",
    "#        pass\n",
    "#    contador += 1"
   ]
  },
  {
   "cell_type": "code",
   "execution_count": 3,
   "metadata": {
    "id": "7GovAZQBWTz8"
   },
   "outputs": [],
   "source": [
    "#data_reviews = pd.DataFrame(data_reviews)"
   ]
  },
  {
   "cell_type": "code",
   "execution_count": 4,
   "metadata": {
    "id": "j24F0ZaYWT0E"
   },
   "outputs": [],
   "source": [
    "#data_reviews.head()"
   ]
  },
  {
   "cell_type": "code",
   "execution_count": 5,
   "metadata": {},
   "outputs": [],
   "source": [
    "#data_reviews.to_csv('new_data_reviews.csv')"
   ]
  },
  {
   "cell_type": "markdown",
   "metadata": {
    "id": "04ed3teRWT0T"
   },
   "source": [
    "**Games**"
   ]
  },
  {
   "cell_type": "code",
   "execution_count": 6,
   "metadata": {
    "id": "8wRb24Y5WT0U"
   },
   "outputs": [],
   "source": [
    "#data_games = []\n",
    "#for l in parse('steam_games.json.gz'):\n",
    "#    data_games.append(l)\n",
    "#data_games = pd.DataFrame(data_games)"
   ]
  },
  {
   "cell_type": "code",
   "execution_count": 7,
   "metadata": {
    "id": "sVR0Cs6SWT0b"
   },
   "outputs": [],
   "source": [
    "#data_games.head()"
   ]
  },
  {
   "cell_type": "code",
   "execution_count": 8,
   "metadata": {},
   "outputs": [],
   "source": [
    "#data_games.to_csv('new_data_games.csv')"
   ]
  },
  {
   "cell_type": "markdown",
   "metadata": {},
   "source": [
    "### 1. ANÁLISIS EXPLORATORIO DE DATOS"
   ]
  },
  {
   "cell_type": "markdown",
   "metadata": {},
   "source": [
    "#### 1.1 ANÁLISIS INICIAL"
   ]
  },
  {
   "cell_type": "markdown",
   "metadata": {},
   "source": [
    "__Qué es Steam?__  \n",
    "Steam es un sistema de distribución de juegos multiplataforma en línea, con alrededor de 75 millones de usuarios activos, alrededor de 172 millones de cuentas en total, que aloja más de 3000 juegos, lo que lo convierte en una plataforma ideal para el tipo de trabajo que aquí se presenta. El conjunto de datos contiene registros de más de 3000 juegos y aplicaciones.  \n",
    "\n",
    "Steam es un servicio de distribución digital de videojuegos de Valve. Se lanzó como un cliente de software independiente en septiembre de 2003 como una forma de que Valve proporcionara actualizaciones automáticas para sus juegos y se expandió para incluir juegos de editores externos. Steam también se ha expandido a una tienda digital móvil y basada en la web en línea.  \n",
    "\n",
    "De acuerdo con la popularidad del juego, la similitud de la descripción del juego, la calidad del juego y la preferencia del jugador por el juego, recomiendan el juego correspondiente al jugador del juego, de modo que Steam obtenga un mayor grado de satisfacción del cliente."
   ]
  },
  {
   "cell_type": "markdown",
   "metadata": {},
   "source": [
    "1. __Se importan las librerías__ necesarias para trabajar en la consigna."
   ]
  },
  {
   "cell_type": "code",
   "execution_count": 9,
   "metadata": {},
   "outputs": [],
   "source": [
    "import numpy as np\n",
    "import matplotlib.pyplot as plt\n",
    "import seaborn as sns\n",
    "sns.set()\n",
    "\n",
    "import pandas as pd\n",
    "\n",
    "import gc # garbage collector\n",
    "\n",
    "from surprise import Dataset # convertimos nuestro Dataframe en Dataset\n",
    "                             # es la estructura de datos que utiliza Surprise!, para almacenar la Matriz de Utilidad\n",
    "                             # es la forma de almacenar datos con menos memoria, ya que la Matriz de Utilidad es muy grande     \n",
    "from surprise import Reader # lector de Surprise!\n",
    "from surprise.model_selection import train_test_split\n",
    "# quita calificacione de usuario-película de forma aleatoria s/ toda la matriz de utilidad, teniendo cuidado de no quitarle..\n",
    "# ..todas las calificaciones a un usuario ni a una película"
   ]
  },
  {
   "cell_type": "markdown",
   "metadata": {},
   "source": [
    "2. __Se realiza la carga el dataset__ usando las funcionalidades de Pandas."
   ]
  },
  {
   "cell_type": "markdown",
   "metadata": {},
   "source": [
    "__DATA REVIEW__"
   ]
  },
  {
   "cell_type": "code",
   "execution_count": 10,
   "metadata": {},
   "outputs": [],
   "source": [
    "new_data_review = pd.read_csv('new_data_reviews.csv')"
   ]
  },
  {
   "cell_type": "code",
   "execution_count": 11,
   "metadata": {},
   "outputs": [
    {
     "data": {
      "text/plain": [
       "(779307, 13)"
      ]
     },
     "execution_count": 11,
     "metadata": {},
     "output_type": "execute_result"
    }
   ],
   "source": [
    "new_data_review.shape # Filas y columnas"
   ]
  },
  {
   "cell_type": "markdown",
   "metadata": {},
   "source": [
    "* *El Dataset, cuenta con **779.307 Filas**, y **13 Columnas**.*"
   ]
  },
  {
   "cell_type": "code",
   "execution_count": 12,
   "metadata": {},
   "outputs": [
    {
     "data": {
      "text/html": [
       "<div>\n",
       "<style scoped>\n",
       "    .dataframe tbody tr th:only-of-type {\n",
       "        vertical-align: middle;\n",
       "    }\n",
       "\n",
       "    .dataframe tbody tr th {\n",
       "        vertical-align: top;\n",
       "    }\n",
       "\n",
       "    .dataframe thead th {\n",
       "        text-align: right;\n",
       "    }\n",
       "</style>\n",
       "<table border=\"1\" class=\"dataframe\">\n",
       "  <thead>\n",
       "    <tr style=\"text-align: right;\">\n",
       "      <th></th>\n",
       "      <th>Unnamed: 0</th>\n",
       "      <th>username</th>\n",
       "      <th>hours</th>\n",
       "      <th>products</th>\n",
       "      <th>product_id</th>\n",
       "      <th>page_order</th>\n",
       "      <th>date</th>\n",
       "      <th>text</th>\n",
       "      <th>early_access</th>\n",
       "      <th>page</th>\n",
       "      <th>user_id</th>\n",
       "      <th>compensation</th>\n",
       "      <th>found_funny</th>\n",
       "    </tr>\n",
       "  </thead>\n",
       "  <tbody>\n",
       "    <tr>\n",
       "      <th>0</th>\n",
       "      <td>0</td>\n",
       "      <td>Chaos Syren</td>\n",
       "      <td>0.1</td>\n",
       "      <td>41.0</td>\n",
       "      <td>725280</td>\n",
       "      <td>0</td>\n",
       "      <td>2017-12-17</td>\n",
       "      <td>This would not be acceptable as an entertainme...</td>\n",
       "      <td>False</td>\n",
       "      <td>1</td>\n",
       "      <td>NaN</td>\n",
       "      <td>NaN</td>\n",
       "      <td>NaN</td>\n",
       "    </tr>\n",
       "    <tr>\n",
       "      <th>1</th>\n",
       "      <td>1</td>\n",
       "      <td>Ariman1</td>\n",
       "      <td>13.2</td>\n",
       "      <td>1386.0</td>\n",
       "      <td>328100</td>\n",
       "      <td>2</td>\n",
       "      <td>2017-08-02</td>\n",
       "      <td>Addictive RPG ! Works fine on linux though it ...</td>\n",
       "      <td>False</td>\n",
       "      <td>1</td>\n",
       "      <td>NaN</td>\n",
       "      <td>NaN</td>\n",
       "      <td>NaN</td>\n",
       "    </tr>\n",
       "    <tr>\n",
       "      <th>2</th>\n",
       "      <td>2</td>\n",
       "      <td>freakfantom</td>\n",
       "      <td>0.1</td>\n",
       "      <td>1706.0</td>\n",
       "      <td>725280</td>\n",
       "      <td>5</td>\n",
       "      <td>2017-11-12</td>\n",
       "      <td>Прикольная стрелялка. Взял дешево на распродаже.</td>\n",
       "      <td>False</td>\n",
       "      <td>1</td>\n",
       "      <td>NaN</td>\n",
       "      <td>NaN</td>\n",
       "      <td>NaN</td>\n",
       "    </tr>\n",
       "  </tbody>\n",
       "</table>\n",
       "</div>"
      ],
      "text/plain": [
       "   Unnamed: 0     username  hours  products  product_id  page_order  \\\n",
       "0           0  Chaos Syren    0.1      41.0      725280           0   \n",
       "1           1      Ariman1   13.2    1386.0      328100           2   \n",
       "2           2  freakfantom    0.1    1706.0      725280           5   \n",
       "\n",
       "         date                                               text  \\\n",
       "0  2017-12-17  This would not be acceptable as an entertainme...   \n",
       "1  2017-08-02  Addictive RPG ! Works fine on linux though it ...   \n",
       "2  2017-11-12   Прикольная стрелялка. Взял дешево на распродаже.   \n",
       "\n",
       "   early_access  page  user_id compensation  found_funny  \n",
       "0         False     1      NaN          NaN          NaN  \n",
       "1         False     1      NaN          NaN          NaN  \n",
       "2         False     1      NaN          NaN          NaN  "
      ]
     },
     "execution_count": 12,
     "metadata": {},
     "output_type": "execute_result"
    }
   ],
   "source": [
    "new_data_review.head(3) # Primeras 3 instancias (filas)"
   ]
  },
  {
   "cell_type": "markdown",
   "metadata": {},
   "source": [
    "__DATA GAMES__"
   ]
  },
  {
   "cell_type": "code",
   "execution_count": 13,
   "metadata": {},
   "outputs": [],
   "source": [
    "new_data_games = pd.read_csv('new_data_games.csv')"
   ]
  },
  {
   "cell_type": "code",
   "execution_count": 14,
   "metadata": {},
   "outputs": [
    {
     "data": {
      "text/plain": [
       "(32135, 17)"
      ]
     },
     "execution_count": 14,
     "metadata": {},
     "output_type": "execute_result"
    }
   ],
   "source": [
    "new_data_games.shape # Filas y columnas"
   ]
  },
  {
   "cell_type": "markdown",
   "metadata": {},
   "source": [
    "* *El Dataset, cuenta con **32.135 Filas**, y **13 Columnas**.*"
   ]
  },
  {
   "cell_type": "code",
   "execution_count": 15,
   "metadata": {},
   "outputs": [
    {
     "data": {
      "text/html": [
       "<div>\n",
       "<style scoped>\n",
       "    .dataframe tbody tr th:only-of-type {\n",
       "        vertical-align: middle;\n",
       "    }\n",
       "\n",
       "    .dataframe tbody tr th {\n",
       "        vertical-align: top;\n",
       "    }\n",
       "\n",
       "    .dataframe thead th {\n",
       "        text-align: right;\n",
       "    }\n",
       "</style>\n",
       "<table border=\"1\" class=\"dataframe\">\n",
       "  <thead>\n",
       "    <tr style=\"text-align: right;\">\n",
       "      <th></th>\n",
       "      <th>Unnamed: 0</th>\n",
       "      <th>publisher</th>\n",
       "      <th>genres</th>\n",
       "      <th>app_name</th>\n",
       "      <th>title</th>\n",
       "      <th>url</th>\n",
       "      <th>release_date</th>\n",
       "      <th>tags</th>\n",
       "      <th>discount_price</th>\n",
       "      <th>reviews_url</th>\n",
       "      <th>specs</th>\n",
       "      <th>price</th>\n",
       "      <th>early_access</th>\n",
       "      <th>id</th>\n",
       "      <th>developer</th>\n",
       "      <th>sentiment</th>\n",
       "      <th>metascore</th>\n",
       "    </tr>\n",
       "  </thead>\n",
       "  <tbody>\n",
       "    <tr>\n",
       "      <th>0</th>\n",
       "      <td>0</td>\n",
       "      <td>Kotoshiro</td>\n",
       "      <td>['Action', 'Casual', 'Indie', 'Simulation', 'S...</td>\n",
       "      <td>Lost Summoner Kitty</td>\n",
       "      <td>Lost Summoner Kitty</td>\n",
       "      <td>http://store.steampowered.com/app/761140/Lost_...</td>\n",
       "      <td>2018-01-04</td>\n",
       "      <td>['Strategy', 'Action', 'Indie', 'Casual', 'Sim...</td>\n",
       "      <td>4.49</td>\n",
       "      <td>http://steamcommunity.com/app/761140/reviews/?...</td>\n",
       "      <td>['Single-player']</td>\n",
       "      <td>4.99</td>\n",
       "      <td>False</td>\n",
       "      <td>761140.0</td>\n",
       "      <td>Kotoshiro</td>\n",
       "      <td>NaN</td>\n",
       "      <td>NaN</td>\n",
       "    </tr>\n",
       "    <tr>\n",
       "      <th>1</th>\n",
       "      <td>1</td>\n",
       "      <td>Making Fun, Inc.</td>\n",
       "      <td>['Free to Play', 'Indie', 'RPG', 'Strategy']</td>\n",
       "      <td>Ironbound</td>\n",
       "      <td>Ironbound</td>\n",
       "      <td>http://store.steampowered.com/app/643980/Ironb...</td>\n",
       "      <td>2018-01-04</td>\n",
       "      <td>['Free to Play', 'Strategy', 'Indie', 'RPG', '...</td>\n",
       "      <td>NaN</td>\n",
       "      <td>http://steamcommunity.com/app/643980/reviews/?...</td>\n",
       "      <td>['Single-player', 'Multi-player', 'Online Mult...</td>\n",
       "      <td>Free To Play</td>\n",
       "      <td>False</td>\n",
       "      <td>643980.0</td>\n",
       "      <td>Secret Level SRL</td>\n",
       "      <td>Mostly Positive</td>\n",
       "      <td>NaN</td>\n",
       "    </tr>\n",
       "    <tr>\n",
       "      <th>2</th>\n",
       "      <td>2</td>\n",
       "      <td>Poolians.com</td>\n",
       "      <td>['Casual', 'Free to Play', 'Indie', 'Simulatio...</td>\n",
       "      <td>Real Pool 3D - Poolians</td>\n",
       "      <td>Real Pool 3D - Poolians</td>\n",
       "      <td>http://store.steampowered.com/app/670290/Real_...</td>\n",
       "      <td>2017-07-24</td>\n",
       "      <td>['Free to Play', 'Simulation', 'Sports', 'Casu...</td>\n",
       "      <td>NaN</td>\n",
       "      <td>http://steamcommunity.com/app/670290/reviews/?...</td>\n",
       "      <td>['Single-player', 'Multi-player', 'Online Mult...</td>\n",
       "      <td>Free to Play</td>\n",
       "      <td>False</td>\n",
       "      <td>670290.0</td>\n",
       "      <td>Poolians.com</td>\n",
       "      <td>Mostly Positive</td>\n",
       "      <td>NaN</td>\n",
       "    </tr>\n",
       "  </tbody>\n",
       "</table>\n",
       "</div>"
      ],
      "text/plain": [
       "   Unnamed: 0         publisher  \\\n",
       "0           0         Kotoshiro   \n",
       "1           1  Making Fun, Inc.   \n",
       "2           2      Poolians.com   \n",
       "\n",
       "                                              genres                 app_name  \\\n",
       "0  ['Action', 'Casual', 'Indie', 'Simulation', 'S...      Lost Summoner Kitty   \n",
       "1       ['Free to Play', 'Indie', 'RPG', 'Strategy']                Ironbound   \n",
       "2  ['Casual', 'Free to Play', 'Indie', 'Simulatio...  Real Pool 3D - Poolians   \n",
       "\n",
       "                     title                                                url  \\\n",
       "0      Lost Summoner Kitty  http://store.steampowered.com/app/761140/Lost_...   \n",
       "1                Ironbound  http://store.steampowered.com/app/643980/Ironb...   \n",
       "2  Real Pool 3D - Poolians  http://store.steampowered.com/app/670290/Real_...   \n",
       "\n",
       "  release_date                                               tags  \\\n",
       "0   2018-01-04  ['Strategy', 'Action', 'Indie', 'Casual', 'Sim...   \n",
       "1   2018-01-04  ['Free to Play', 'Strategy', 'Indie', 'RPG', '...   \n",
       "2   2017-07-24  ['Free to Play', 'Simulation', 'Sports', 'Casu...   \n",
       "\n",
       "   discount_price                                        reviews_url  \\\n",
       "0            4.49  http://steamcommunity.com/app/761140/reviews/?...   \n",
       "1             NaN  http://steamcommunity.com/app/643980/reviews/?...   \n",
       "2             NaN  http://steamcommunity.com/app/670290/reviews/?...   \n",
       "\n",
       "                                               specs         price  \\\n",
       "0                                  ['Single-player']          4.99   \n",
       "1  ['Single-player', 'Multi-player', 'Online Mult...  Free To Play   \n",
       "2  ['Single-player', 'Multi-player', 'Online Mult...  Free to Play   \n",
       "\n",
       "   early_access        id         developer        sentiment  metascore  \n",
       "0         False  761140.0         Kotoshiro              NaN        NaN  \n",
       "1         False  643980.0  Secret Level SRL  Mostly Positive        NaN  \n",
       "2         False  670290.0      Poolians.com  Mostly Positive        NaN  "
      ]
     },
     "execution_count": 15,
     "metadata": {},
     "output_type": "execute_result"
    }
   ],
   "source": [
    "new_data_games.head(3) # Primeras 3 instancias (filas)"
   ]
  },
  {
   "cell_type": "markdown",
   "metadata": {},
   "source": [
    "3. __Valores Faltantes:__ se imprimen en pantalla los nombres de las columnas y cuántos valores faltantes hay por columna. En un principio es a mera exposición, ya que por el momento no vamos a descartar ninguno de ellos,ni realizar imputación de datos."
   ]
  },
  {
   "cell_type": "markdown",
   "metadata": {},
   "source": [
    "__DATA REVIEW__"
   ]
  },
  {
   "cell_type": "code",
   "execution_count": 16,
   "metadata": {},
   "outputs": [
    {
     "data": {
      "text/plain": [
       "Unnamed: 0           0\n",
       "username            18\n",
       "hours             2637\n",
       "products          1566\n",
       "product_id           0\n",
       "page_order           0\n",
       "date                 0\n",
       "text              1839\n",
       "early_access         0\n",
       "page                 0\n",
       "user_id         461967\n",
       "compensation    764719\n",
       "found_funny     659143\n",
       "dtype: int64"
      ]
     },
     "execution_count": 16,
     "metadata": {},
     "output_type": "execute_result"
    }
   ],
   "source": [
    "new_data_review.isnull().sum() # Nombres de las columnas y su cantidad de faltantes"
   ]
  },
  {
   "cell_type": "markdown",
   "metadata": {},
   "source": [
    "* *Variables con elementos faltantes:*  \n",
    "    *1. `compensation` **98%** (764.719);*  \n",
    "    *2. `found_funny` **86%** (659.143);*  \n",
    "    *3. `user_id` 59% c/u (461.967);*  \n",
    "    *4. `hours` 0,3% (2.637);*  \n",
    "    *5. `text` 0,2% (1.839);*  \n",
    "    *6. `product` 0,2% (1.566).*"
   ]
  },
  {
   "cell_type": "markdown",
   "metadata": {},
   "source": [
    "__DATA GAMES__"
   ]
  },
  {
   "cell_type": "code",
   "execution_count": 17,
   "metadata": {},
   "outputs": [
    {
     "data": {
      "text/plain": [
       "Unnamed: 0            0\n",
       "publisher          8062\n",
       "genres             3283\n",
       "app_name              2\n",
       "title              2050\n",
       "url                   0\n",
       "release_date       2067\n",
       "tags                163\n",
       "discount_price    31910\n",
       "reviews_url           2\n",
       "specs               670\n",
       "price              1377\n",
       "early_access          0\n",
       "id                    2\n",
       "developer          3299\n",
       "sentiment          7182\n",
       "metascore         29528\n",
       "dtype: int64"
      ]
     },
     "execution_count": 17,
     "metadata": {},
     "output_type": "execute_result"
    }
   ],
   "source": [
    "new_data_games.isnull().sum() # Nombres de las columnas y su cantidad de faltantes"
   ]
  },
  {
   "cell_type": "markdown",
   "metadata": {},
   "source": [
    "* *Casi todos las Variables tienen elementos faltantes. Detallamos las principales:*  \n",
    "    *1. `discount_price` **98%** (31.910);*  \n",
    "    *2. `metascore` **98%** (29.528);*  \n",
    "    *3. `publisher` 59% c/u (8.062);*  \n",
    "    *4. `sentiment` 0,3% (7.182);*  \n",
    "    *5. `developer` 0,2% (3.299);*  \n",
    "    *6. `genres` 0,2% (3.283).*\n",
    "    \n",
    "* *Cabe aclarar que el `id` de los juegos, tienen 2 valores faltantes.*\n",
    "* *`metascore` refiere a la media de todas las reseñas recibidas para dicho juego.*"
   ]
  },
  {
   "cell_type": "code",
   "execution_count": 18,
   "metadata": {},
   "outputs": [],
   "source": [
    "# new_data_games[new_data_games.id == '35140']"
   ]
  },
  {
   "cell_type": "markdown",
   "metadata": {},
   "source": [
    "#### 1.2 FILTRO COLABORATIVO"
   ]
  },
  {
   "cell_type": "markdown",
   "metadata": {},
   "source": [
    "* __Recomendación Colaborativa:__ se buscan Usuarios similares a mi, y de acuerdo a ello, se usan los productos que ellos consumen para recomendarmelos a mí (que yo no he usado, consumido, escuchado, etc.). Se utiliza lo que se sabe de mí y en función de ello se buscan usuarios que se parecen a mí.\n",
    "    * Ventajas: no necesito tener info acerca de los productos.\n",
    "    * Desventajas: necesitamos tener la matríz de utilidad (que es muy dispersa) y llenarla es costosa en tiempo y dinero.\n",
    "    \n",
    "* Necesitamos un dataset donde cada fila represente un `usuario`, un `juego` y la `calificación del usuario` a ese juego. Es decir, tiras de tres componentes. Hay otra información que puede ser útil, pero con esos tres datos ya podemos implementar un filtro colaborativo."
   ]
  },
  {
   "cell_type": "markdown",
   "metadata": {},
   "source": [
    "CASO PARTICULAR STEAM\n",
    "* No hay registros tanto en el sitio web Steam, sobre las calificaciones continuas de estos usuarios. En realidad, en la plataforma, los usuarios sólo dan \"Recomendación\" o \"No Recomendación\", lo que significa revisiones binarias, positivas y negativas, incluso en el sitio web del usuario, todavía no hay ningún mecanismo sobre las calificaciones continuas como una estrella a cinco estrellas.\n",
    "* Para obtener calificaciones continuas sobre la interacción entre los usuarios y los juegos, debemos suponer un mecanismo de interacción de calificación de los juegos por parte de los usuarios. Ya que las concentraciones de los usuarios sobre los juegos pueden ser ajustadas por sus `tiempos de juego`, podemos asumir que el tiempo de juego es una información bastante persuasiva sobre los intereses de los usuarios.\n",
    "* Por lo tanto, aquí asumimos que la mediana del tiempo de juego es una parte muy importante de los intereses."
   ]
  },
  {
   "cell_type": "markdown",
   "metadata": {},
   "source": [
    "1. Seleccionamos aquellos **features que nos seran útiles** a la hora de aplicar un **filtro colaborativo**."
   ]
  },
  {
   "cell_type": "markdown",
   "metadata": {},
   "source": [
    "DATA REVIEWS"
   ]
  },
  {
   "cell_type": "code",
   "execution_count": 19,
   "metadata": {},
   "outputs": [
    {
     "name": "stdout",
     "output_type": "stream",
     "text": [
      "(779307, 13)\n"
     ]
    },
    {
     "data": {
      "text/html": [
       "<div>\n",
       "<style scoped>\n",
       "    .dataframe tbody tr th:only-of-type {\n",
       "        vertical-align: middle;\n",
       "    }\n",
       "\n",
       "    .dataframe tbody tr th {\n",
       "        vertical-align: top;\n",
       "    }\n",
       "\n",
       "    .dataframe thead th {\n",
       "        text-align: right;\n",
       "    }\n",
       "</style>\n",
       "<table border=\"1\" class=\"dataframe\">\n",
       "  <thead>\n",
       "    <tr style=\"text-align: right;\">\n",
       "      <th></th>\n",
       "      <th>Unnamed: 0</th>\n",
       "      <th>username</th>\n",
       "      <th>hours</th>\n",
       "      <th>products</th>\n",
       "      <th>product_id</th>\n",
       "      <th>page_order</th>\n",
       "      <th>date</th>\n",
       "      <th>text</th>\n",
       "      <th>early_access</th>\n",
       "      <th>page</th>\n",
       "      <th>user_id</th>\n",
       "      <th>compensation</th>\n",
       "      <th>found_funny</th>\n",
       "    </tr>\n",
       "  </thead>\n",
       "  <tbody>\n",
       "    <tr>\n",
       "      <th>0</th>\n",
       "      <td>0</td>\n",
       "      <td>Chaos Syren</td>\n",
       "      <td>0.1</td>\n",
       "      <td>41.0</td>\n",
       "      <td>725280</td>\n",
       "      <td>0</td>\n",
       "      <td>2017-12-17</td>\n",
       "      <td>This would not be acceptable as an entertainme...</td>\n",
       "      <td>False</td>\n",
       "      <td>1</td>\n",
       "      <td>NaN</td>\n",
       "      <td>NaN</td>\n",
       "      <td>NaN</td>\n",
       "    </tr>\n",
       "    <tr>\n",
       "      <th>1</th>\n",
       "      <td>1</td>\n",
       "      <td>Ariman1</td>\n",
       "      <td>13.2</td>\n",
       "      <td>1386.0</td>\n",
       "      <td>328100</td>\n",
       "      <td>2</td>\n",
       "      <td>2017-08-02</td>\n",
       "      <td>Addictive RPG ! Works fine on linux though it ...</td>\n",
       "      <td>False</td>\n",
       "      <td>1</td>\n",
       "      <td>NaN</td>\n",
       "      <td>NaN</td>\n",
       "      <td>NaN</td>\n",
       "    </tr>\n",
       "    <tr>\n",
       "      <th>2</th>\n",
       "      <td>2</td>\n",
       "      <td>freakfantom</td>\n",
       "      <td>0.1</td>\n",
       "      <td>1706.0</td>\n",
       "      <td>725280</td>\n",
       "      <td>5</td>\n",
       "      <td>2017-11-12</td>\n",
       "      <td>Прикольная стрелялка. Взял дешево на распродаже.</td>\n",
       "      <td>False</td>\n",
       "      <td>1</td>\n",
       "      <td>NaN</td>\n",
       "      <td>NaN</td>\n",
       "      <td>NaN</td>\n",
       "    </tr>\n",
       "    <tr>\n",
       "      <th>3</th>\n",
       "      <td>3</td>\n",
       "      <td>The_Cpt_FROGGY</td>\n",
       "      <td>7.8</td>\n",
       "      <td>2217.0</td>\n",
       "      <td>631920</td>\n",
       "      <td>0</td>\n",
       "      <td>2017-12-11</td>\n",
       "      <td>Somewhere on Zibylon:\\n~~~~~~~~~~~~~~~~~~\\nZib...</td>\n",
       "      <td>False</td>\n",
       "      <td>1</td>\n",
       "      <td>7.656120e+16</td>\n",
       "      <td>Product received for free</td>\n",
       "      <td>NaN</td>\n",
       "    </tr>\n",
       "    <tr>\n",
       "      <th>4</th>\n",
       "      <td>4</td>\n",
       "      <td>the_maker988</td>\n",
       "      <td>8.2</td>\n",
       "      <td>18.0</td>\n",
       "      <td>35140</td>\n",
       "      <td>7</td>\n",
       "      <td>2018-01-02</td>\n",
       "      <td>This game was way to linear for me, and compar...</td>\n",
       "      <td>False</td>\n",
       "      <td>1</td>\n",
       "      <td>7.656120e+16</td>\n",
       "      <td>NaN</td>\n",
       "      <td>NaN</td>\n",
       "    </tr>\n",
       "  </tbody>\n",
       "</table>\n",
       "</div>"
      ],
      "text/plain": [
       "   Unnamed: 0        username  hours  products  product_id  page_order  \\\n",
       "0           0     Chaos Syren    0.1      41.0      725280           0   \n",
       "1           1         Ariman1   13.2    1386.0      328100           2   \n",
       "2           2     freakfantom    0.1    1706.0      725280           5   \n",
       "3           3  The_Cpt_FROGGY    7.8    2217.0      631920           0   \n",
       "4           4    the_maker988    8.2      18.0       35140           7   \n",
       "\n",
       "         date                                               text  \\\n",
       "0  2017-12-17  This would not be acceptable as an entertainme...   \n",
       "1  2017-08-02  Addictive RPG ! Works fine on linux though it ...   \n",
       "2  2017-11-12   Прикольная стрелялка. Взял дешево на распродаже.   \n",
       "3  2017-12-11  Somewhere on Zibylon:\\n~~~~~~~~~~~~~~~~~~\\nZib...   \n",
       "4  2018-01-02  This game was way to linear for me, and compar...   \n",
       "\n",
       "   early_access  page       user_id               compensation  found_funny  \n",
       "0         False     1           NaN                        NaN          NaN  \n",
       "1         False     1           NaN                        NaN          NaN  \n",
       "2         False     1           NaN                        NaN          NaN  \n",
       "3         False     1  7.656120e+16  Product received for free          NaN  \n",
       "4         False     1  7.656120e+16                        NaN          NaN  "
      ]
     },
     "execution_count": 19,
     "metadata": {},
     "output_type": "execute_result"
    }
   ],
   "source": [
    "df = pd.read_csv('new_data_reviews.csv', dtype={'hours': np.float, 'product_id': np.int})\n",
    "print(df.shape)\n",
    "df.head()"
   ]
  },
  {
   "cell_type": "code",
   "execution_count": 20,
   "metadata": {},
   "outputs": [
    {
     "data": {
      "text/html": [
       "<div>\n",
       "<style scoped>\n",
       "    .dataframe tbody tr th:only-of-type {\n",
       "        vertical-align: middle;\n",
       "    }\n",
       "\n",
       "    .dataframe tbody tr th {\n",
       "        vertical-align: top;\n",
       "    }\n",
       "\n",
       "    .dataframe thead th {\n",
       "        text-align: right;\n",
       "    }\n",
       "</style>\n",
       "<table border=\"1\" class=\"dataframe\">\n",
       "  <thead>\n",
       "    <tr style=\"text-align: right;\">\n",
       "      <th></th>\n",
       "      <th>username</th>\n",
       "      <th>hours</th>\n",
       "      <th>product_id</th>\n",
       "    </tr>\n",
       "  </thead>\n",
       "  <tbody>\n",
       "    <tr>\n",
       "      <th>0</th>\n",
       "      <td>Chaos Syren</td>\n",
       "      <td>0.1</td>\n",
       "      <td>725280</td>\n",
       "    </tr>\n",
       "    <tr>\n",
       "      <th>1</th>\n",
       "      <td>Ariman1</td>\n",
       "      <td>13.2</td>\n",
       "      <td>328100</td>\n",
       "    </tr>\n",
       "    <tr>\n",
       "      <th>2</th>\n",
       "      <td>freakfantom</td>\n",
       "      <td>0.1</td>\n",
       "      <td>725280</td>\n",
       "    </tr>\n",
       "    <tr>\n",
       "      <th>3</th>\n",
       "      <td>The_Cpt_FROGGY</td>\n",
       "      <td>7.8</td>\n",
       "      <td>631920</td>\n",
       "    </tr>\n",
       "    <tr>\n",
       "      <th>4</th>\n",
       "      <td>the_maker988</td>\n",
       "      <td>8.2</td>\n",
       "      <td>35140</td>\n",
       "    </tr>\n",
       "    <tr>\n",
       "      <th>...</th>\n",
       "      <td>...</td>\n",
       "      <td>...</td>\n",
       "      <td>...</td>\n",
       "    </tr>\n",
       "    <tr>\n",
       "      <th>779302</th>\n",
       "      <td>Vidaar</td>\n",
       "      <td>783.5</td>\n",
       "      <td>252490</td>\n",
       "    </tr>\n",
       "    <tr>\n",
       "      <th>779303</th>\n",
       "      <td>Nikolai Belinski</td>\n",
       "      <td>55.1</td>\n",
       "      <td>252490</td>\n",
       "    </tr>\n",
       "    <tr>\n",
       "      <th>779304</th>\n",
       "      <td>RancorZealot</td>\n",
       "      <td>203.5</td>\n",
       "      <td>252490</td>\n",
       "    </tr>\n",
       "    <tr>\n",
       "      <th>779305</th>\n",
       "      <td>Jerry</td>\n",
       "      <td>139.8</td>\n",
       "      <td>252490</td>\n",
       "    </tr>\n",
       "    <tr>\n",
       "      <th>779306</th>\n",
       "      <td>Helk</td>\n",
       "      <td>15375.0</td>\n",
       "      <td>252490</td>\n",
       "    </tr>\n",
       "  </tbody>\n",
       "</table>\n",
       "<p>779307 rows × 3 columns</p>\n",
       "</div>"
      ],
      "text/plain": [
       "                username    hours  product_id\n",
       "0            Chaos Syren      0.1      725280\n",
       "1                Ariman1     13.2      328100\n",
       "2            freakfantom      0.1      725280\n",
       "3         The_Cpt_FROGGY      7.8      631920\n",
       "4           the_maker988      8.2       35140\n",
       "...                  ...      ...         ...\n",
       "779302            Vidaar    783.5      252490\n",
       "779303  Nikolai Belinski     55.1      252490\n",
       "779304      RancorZealot    203.5      252490\n",
       "779305             Jerry    139.8      252490\n",
       "779306              Helk  15375.0      252490\n",
       "\n",
       "[779307 rows x 3 columns]"
      ]
     },
     "execution_count": 20,
     "metadata": {},
     "output_type": "execute_result"
    }
   ],
   "source": [
    "df1 = df[['username','hours','product_id']]\n",
    "df1"
   ]
  },
  {
   "cell_type": "code",
   "execution_count": 21,
   "metadata": {},
   "outputs": [
    {
     "data": {
      "text/plain": [
       "username        18\n",
       "hours         2637\n",
       "product_id       0\n",
       "dtype: int64"
      ]
     },
     "execution_count": 21,
     "metadata": {},
     "output_type": "execute_result"
    }
   ],
   "source": [
    "df1.isnull().sum()"
   ]
  },
  {
   "cell_type": "code",
   "execution_count": 22,
   "metadata": {},
   "outputs": [
    {
     "name": "stderr",
     "output_type": "stream",
     "text": [
      "C:\\Users\\Ale\\anaconda3\\envs\\ds\\lib\\site-packages\\pandas\\core\\series.py:4517: SettingWithCopyWarning: \n",
      "A value is trying to be set on a copy of a slice from a DataFrame\n",
      "\n",
      "See the caveats in the documentation: https://pandas.pydata.org/pandas-docs/stable/user_guide/indexing.html#returning-a-view-versus-a-copy\n",
      "  return super().fillna(\n"
     ]
    }
   ],
   "source": [
    "df1.username.fillna(\"nan\", inplace = True)"
   ]
  },
  {
   "cell_type": "code",
   "execution_count": 23,
   "metadata": {},
   "outputs": [
    {
     "data": {
      "text/plain": [
       "username         0\n",
       "hours         2637\n",
       "product_id       0\n",
       "dtype: int64"
      ]
     },
     "execution_count": 23,
     "metadata": {},
     "output_type": "execute_result"
    }
   ],
   "source": [
    "df1.isnull().sum()"
   ]
  },
  {
   "cell_type": "code",
   "execution_count": 24,
   "metadata": {},
   "outputs": [
    {
     "name": "stdout",
     "output_type": "stream",
     "text": [
      "0          62543\n",
      "1          26902\n",
      "2         434602\n",
      "3         347902\n",
      "4         503849\n",
      "           ...  \n",
      "779302    366849\n",
      "779303    242193\n",
      "779304    276240\n",
      "779305    168748\n",
      "779306    147490\n",
      "Name: username, Length: 779307, dtype: int32\n"
     ]
    },
    {
     "name": "stderr",
     "output_type": "stream",
     "text": [
      "<ipython-input-24-4630c51b0d71>:4: SettingWithCopyWarning: \n",
      "A value is trying to be set on a copy of a slice from a DataFrame.\n",
      "Try using .loc[row_indexer,col_indexer] = value instead\n",
      "\n",
      "See the caveats in the documentation: https://pandas.pydata.org/pandas-docs/stable/user_guide/indexing.html#returning-a-view-versus-a-copy\n",
      "  df1['username'] = le.fit_transform(df1['username'])\n"
     ]
    }
   ],
   "source": [
    "from sklearn.preprocessing import LabelEncoder\n",
    "\n",
    "le = LabelEncoder()\n",
    "df1['username'] = le.fit_transform(df1['username'])\n",
    "print(df1['username'])"
   ]
  },
  {
   "cell_type": "code",
   "execution_count": 25,
   "metadata": {},
   "outputs": [
    {
     "name": "stdout",
     "output_type": "stream",
     "text": [
      "0          62543\n",
      "1          26902\n",
      "2         434602\n",
      "3         347902\n",
      "4         503849\n",
      "           ...  \n",
      "779302    366849\n",
      "779303    242193\n",
      "779304    276240\n",
      "779305    168748\n",
      "779306    147490\n",
      "Name: username, Length: 779307, dtype: int64\n"
     ]
    },
    {
     "name": "stderr",
     "output_type": "stream",
     "text": [
      "<ipython-input-25-4bc64a8da8a2>:3: SettingWithCopyWarning: \n",
      "A value is trying to be set on a copy of a slice from a DataFrame.\n",
      "Try using .loc[row_indexer,col_indexer] = value instead\n",
      "\n",
      "See the caveats in the documentation: https://pandas.pydata.org/pandas-docs/stable/user_guide/indexing.html#returning-a-view-versus-a-copy\n",
      "  df1['username'] = le.fit_transform(df1['username'])\n"
     ]
    }
   ],
   "source": [
    "from sklearn.preprocessing import OneHotEncoder\n",
    "onehotencoder = OneHotEncoder()\n",
    "df1['username'] = le.fit_transform(df1['username'])\n",
    "print(df1['username'])"
   ]
  },
  {
   "cell_type": "code",
   "execution_count": 26,
   "metadata": {},
   "outputs": [
    {
     "data": {
      "text/html": [
       "<div>\n",
       "<style scoped>\n",
       "    .dataframe tbody tr th:only-of-type {\n",
       "        vertical-align: middle;\n",
       "    }\n",
       "\n",
       "    .dataframe tbody tr th {\n",
       "        vertical-align: top;\n",
       "    }\n",
       "\n",
       "    .dataframe thead th {\n",
       "        text-align: right;\n",
       "    }\n",
       "</style>\n",
       "<table border=\"1\" class=\"dataframe\">\n",
       "  <thead>\n",
       "    <tr style=\"text-align: right;\">\n",
       "      <th></th>\n",
       "      <th>username</th>\n",
       "      <th>hours</th>\n",
       "      <th>product_id</th>\n",
       "    </tr>\n",
       "  </thead>\n",
       "  <tbody>\n",
       "    <tr>\n",
       "      <th>0</th>\n",
       "      <td>62543</td>\n",
       "      <td>0.1</td>\n",
       "      <td>725280</td>\n",
       "    </tr>\n",
       "    <tr>\n",
       "      <th>1</th>\n",
       "      <td>26902</td>\n",
       "      <td>13.2</td>\n",
       "      <td>328100</td>\n",
       "    </tr>\n",
       "    <tr>\n",
       "      <th>2</th>\n",
       "      <td>434602</td>\n",
       "      <td>0.1</td>\n",
       "      <td>725280</td>\n",
       "    </tr>\n",
       "    <tr>\n",
       "      <th>3</th>\n",
       "      <td>347902</td>\n",
       "      <td>7.8</td>\n",
       "      <td>631920</td>\n",
       "    </tr>\n",
       "    <tr>\n",
       "      <th>4</th>\n",
       "      <td>503849</td>\n",
       "      <td>8.2</td>\n",
       "      <td>35140</td>\n",
       "    </tr>\n",
       "    <tr>\n",
       "      <th>...</th>\n",
       "      <td>...</td>\n",
       "      <td>...</td>\n",
       "      <td>...</td>\n",
       "    </tr>\n",
       "    <tr>\n",
       "      <th>779302</th>\n",
       "      <td>366849</td>\n",
       "      <td>783.5</td>\n",
       "      <td>252490</td>\n",
       "    </tr>\n",
       "    <tr>\n",
       "      <th>779303</th>\n",
       "      <td>242193</td>\n",
       "      <td>55.1</td>\n",
       "      <td>252490</td>\n",
       "    </tr>\n",
       "    <tr>\n",
       "      <th>779304</th>\n",
       "      <td>276240</td>\n",
       "      <td>203.5</td>\n",
       "      <td>252490</td>\n",
       "    </tr>\n",
       "    <tr>\n",
       "      <th>779305</th>\n",
       "      <td>168748</td>\n",
       "      <td>139.8</td>\n",
       "      <td>252490</td>\n",
       "    </tr>\n",
       "    <tr>\n",
       "      <th>779306</th>\n",
       "      <td>147490</td>\n",
       "      <td>15375.0</td>\n",
       "      <td>252490</td>\n",
       "    </tr>\n",
       "  </tbody>\n",
       "</table>\n",
       "<p>779307 rows × 3 columns</p>\n",
       "</div>"
      ],
      "text/plain": [
       "        username    hours  product_id\n",
       "0          62543      0.1      725280\n",
       "1          26902     13.2      328100\n",
       "2         434602      0.1      725280\n",
       "3         347902      7.8      631920\n",
       "4         503849      8.2       35140\n",
       "...          ...      ...         ...\n",
       "779302    366849    783.5      252490\n",
       "779303    242193     55.1      252490\n",
       "779304    276240    203.5      252490\n",
       "779305    168748    139.8      252490\n",
       "779306    147490  15375.0      252490\n",
       "\n",
       "[779307 rows x 3 columns]"
      ]
     },
     "execution_count": 26,
     "metadata": {},
     "output_type": "execute_result"
    }
   ],
   "source": [
    "df1"
   ]
  },
  {
   "cell_type": "code",
   "execution_count": 27,
   "metadata": {},
   "outputs": [
    {
     "data": {
      "text/html": [
       "<div>\n",
       "<style scoped>\n",
       "    .dataframe tbody tr th:only-of-type {\n",
       "        vertical-align: middle;\n",
       "    }\n",
       "\n",
       "    .dataframe tbody tr th {\n",
       "        vertical-align: top;\n",
       "    }\n",
       "\n",
       "    .dataframe thead th {\n",
       "        text-align: right;\n",
       "    }\n",
       "</style>\n",
       "<table border=\"1\" class=\"dataframe\">\n",
       "  <thead>\n",
       "    <tr style=\"text-align: right;\">\n",
       "      <th></th>\n",
       "      <th>username</th>\n",
       "      <th>hours</th>\n",
       "      <th>product_id</th>\n",
       "    </tr>\n",
       "  </thead>\n",
       "  <tbody>\n",
       "    <tr>\n",
       "      <th>count</th>\n",
       "      <td>779307.000000</td>\n",
       "      <td>776670.000000</td>\n",
       "      <td>779307.000000</td>\n",
       "    </tr>\n",
       "    <tr>\n",
       "      <th>mean</th>\n",
       "      <td>263409.447684</td>\n",
       "      <td>111.843832</td>\n",
       "      <td>251489.822053</td>\n",
       "    </tr>\n",
       "    <tr>\n",
       "      <th>std</th>\n",
       "      <td>154075.622285</td>\n",
       "      <td>390.145376</td>\n",
       "      <td>149975.370469</td>\n",
       "    </tr>\n",
       "    <tr>\n",
       "      <th>min</th>\n",
       "      <td>0.000000</td>\n",
       "      <td>0.000000</td>\n",
       "      <td>10.000000</td>\n",
       "    </tr>\n",
       "    <tr>\n",
       "      <th>25%</th>\n",
       "      <td>130630.500000</td>\n",
       "      <td>4.000000</td>\n",
       "      <td>203770.000000</td>\n",
       "    </tr>\n",
       "    <tr>\n",
       "      <th>50%</th>\n",
       "      <td>260874.000000</td>\n",
       "      <td>15.300000</td>\n",
       "      <td>252490.000000</td>\n",
       "    </tr>\n",
       "    <tr>\n",
       "      <th>75%</th>\n",
       "      <td>391979.500000</td>\n",
       "      <td>59.600000</td>\n",
       "      <td>346110.000000</td>\n",
       "    </tr>\n",
       "    <tr>\n",
       "      <th>max</th>\n",
       "      <td>540338.000000</td>\n",
       "      <td>28164.000000</td>\n",
       "      <td>773900.000000</td>\n",
       "    </tr>\n",
       "  </tbody>\n",
       "</table>\n",
       "</div>"
      ],
      "text/plain": [
       "            username          hours     product_id\n",
       "count  779307.000000  776670.000000  779307.000000\n",
       "mean   263409.447684     111.843832  251489.822053\n",
       "std    154075.622285     390.145376  149975.370469\n",
       "min         0.000000       0.000000      10.000000\n",
       "25%    130630.500000       4.000000  203770.000000\n",
       "50%    260874.000000      15.300000  252490.000000\n",
       "75%    391979.500000      59.600000  346110.000000\n",
       "max    540338.000000   28164.000000  773900.000000"
      ]
     },
     "execution_count": 27,
     "metadata": {},
     "output_type": "execute_result"
    }
   ],
   "source": [
    "df1.describe()"
   ]
  },
  {
   "cell_type": "code",
   "execution_count": 28,
   "metadata": {},
   "outputs": [
    {
     "name": "stdout",
     "output_type": "stream",
     "text": [
      "        username    hours  product_id ranking\n",
      "0          62543      0.1      725280       1\n",
      "1          26902     13.2      328100       1\n",
      "2         434602      0.1      725280       1\n",
      "3         347902      7.8      631920       1\n",
      "4         503849      8.2       35140       1\n",
      "...          ...      ...         ...     ...\n",
      "779302    366849    783.5      252490       1\n",
      "779303    242193     55.1      252490       1\n",
      "779304    276240    203.5      252490       1\n",
      "779305    168748    139.8      252490       1\n",
      "779306    147490  15375.0      252490       4\n",
      "\n",
      "[779307 rows x 4 columns]\n"
     ]
    },
    {
     "name": "stderr",
     "output_type": "stream",
     "text": [
      "<ipython-input-28-01ea7a159fe0>:4: SettingWithCopyWarning: \n",
      "A value is trying to be set on a copy of a slice from a DataFrame.\n",
      "Try using .loc[row_indexer,col_indexer] = value instead\n",
      "\n",
      "See the caveats in the documentation: https://pandas.pydata.org/pandas-docs/stable/user_guide/indexing.html#returning-a-view-versus-a-copy\n",
      "  df1['ranking'] = pd.cut(df1['hours'], bins,labels=labels)\n"
     ]
    }
   ],
   "source": [
    "bins = [0, 4696, 9388, 14082, 18776, 23470]\n",
    "labels =[1,2,3,4,5]\n",
    "\n",
    "df1['ranking'] = pd.cut(df1['hours'], bins,labels=labels)\n",
    "\n",
    "print (df1)"
   ]
  },
  {
   "cell_type": "code",
   "execution_count": 29,
   "metadata": {},
   "outputs": [
    {
     "data": {
      "text/html": [
       "<div>\n",
       "<style scoped>\n",
       "    .dataframe tbody tr th:only-of-type {\n",
       "        vertical-align: middle;\n",
       "    }\n",
       "\n",
       "    .dataframe tbody tr th {\n",
       "        vertical-align: top;\n",
       "    }\n",
       "\n",
       "    .dataframe thead th {\n",
       "        text-align: right;\n",
       "    }\n",
       "</style>\n",
       "<table border=\"1\" class=\"dataframe\">\n",
       "  <thead>\n",
       "    <tr style=\"text-align: right;\">\n",
       "      <th></th>\n",
       "      <th>username</th>\n",
       "      <th>ranking</th>\n",
       "      <th>product_id</th>\n",
       "    </tr>\n",
       "  </thead>\n",
       "  <tbody>\n",
       "    <tr>\n",
       "      <th>0</th>\n",
       "      <td>62543</td>\n",
       "      <td>1</td>\n",
       "      <td>725280</td>\n",
       "    </tr>\n",
       "    <tr>\n",
       "      <th>1</th>\n",
       "      <td>26902</td>\n",
       "      <td>1</td>\n",
       "      <td>328100</td>\n",
       "    </tr>\n",
       "    <tr>\n",
       "      <th>2</th>\n",
       "      <td>434602</td>\n",
       "      <td>1</td>\n",
       "      <td>725280</td>\n",
       "    </tr>\n",
       "    <tr>\n",
       "      <th>3</th>\n",
       "      <td>347902</td>\n",
       "      <td>1</td>\n",
       "      <td>631920</td>\n",
       "    </tr>\n",
       "    <tr>\n",
       "      <th>4</th>\n",
       "      <td>503849</td>\n",
       "      <td>1</td>\n",
       "      <td>35140</td>\n",
       "    </tr>\n",
       "    <tr>\n",
       "      <th>...</th>\n",
       "      <td>...</td>\n",
       "      <td>...</td>\n",
       "      <td>...</td>\n",
       "    </tr>\n",
       "    <tr>\n",
       "      <th>779302</th>\n",
       "      <td>366849</td>\n",
       "      <td>1</td>\n",
       "      <td>252490</td>\n",
       "    </tr>\n",
       "    <tr>\n",
       "      <th>779303</th>\n",
       "      <td>242193</td>\n",
       "      <td>1</td>\n",
       "      <td>252490</td>\n",
       "    </tr>\n",
       "    <tr>\n",
       "      <th>779304</th>\n",
       "      <td>276240</td>\n",
       "      <td>1</td>\n",
       "      <td>252490</td>\n",
       "    </tr>\n",
       "    <tr>\n",
       "      <th>779305</th>\n",
       "      <td>168748</td>\n",
       "      <td>1</td>\n",
       "      <td>252490</td>\n",
       "    </tr>\n",
       "    <tr>\n",
       "      <th>779306</th>\n",
       "      <td>147490</td>\n",
       "      <td>4</td>\n",
       "      <td>252490</td>\n",
       "    </tr>\n",
       "  </tbody>\n",
       "</table>\n",
       "<p>779307 rows × 3 columns</p>\n",
       "</div>"
      ],
      "text/plain": [
       "        username ranking  product_id\n",
       "0          62543       1      725280\n",
       "1          26902       1      328100\n",
       "2         434602       1      725280\n",
       "3         347902       1      631920\n",
       "4         503849       1       35140\n",
       "...          ...     ...         ...\n",
       "779302    366849       1      252490\n",
       "779303    242193       1      252490\n",
       "779304    276240       1      252490\n",
       "779305    168748       1      252490\n",
       "779306    147490       4      252490\n",
       "\n",
       "[779307 rows x 3 columns]"
      ]
     },
     "execution_count": 29,
     "metadata": {},
     "output_type": "execute_result"
    }
   ],
   "source": [
    "df1 = df1[['username','ranking','product_id']]\n",
    "df1"
   ]
  },
  {
   "cell_type": "code",
   "execution_count": 30,
   "metadata": {},
   "outputs": [
    {
     "data": {
      "text/plain": [
       "username         int64\n",
       "ranking       category\n",
       "product_id       int32\n",
       "dtype: object"
      ]
     },
     "execution_count": 30,
     "metadata": {},
     "output_type": "execute_result"
    }
   ],
   "source": [
    "df1.dtypes"
   ]
  },
  {
   "cell_type": "code",
   "execution_count": 31,
   "metadata": {},
   "outputs": [
    {
     "name": "stderr",
     "output_type": "stream",
     "text": [
      "<ipython-input-31-400bbfe0c1c7>:2: SettingWithCopyWarning: \n",
      "A value is trying to be set on a copy of a slice from a DataFrame.\n",
      "Try using .loc[row_indexer,col_indexer] = value instead\n",
      "\n",
      "See the caveats in the documentation: https://pandas.pydata.org/pandas-docs/stable/user_guide/indexing.html#returning-a-view-versus-a-copy\n",
      "  df1['ranking'] = le.fit_transform(df1['ranking'])\n"
     ]
    },
    {
     "name": "stdout",
     "output_type": "stream",
     "text": [
      "0         0\n",
      "1         0\n",
      "2         0\n",
      "3         0\n",
      "4         0\n",
      "         ..\n",
      "779302    0\n",
      "779303    0\n",
      "779304    0\n",
      "779305    0\n",
      "779306    3\n",
      "Name: ranking, Length: 779307, dtype: int64\n"
     ]
    }
   ],
   "source": [
    "le = LabelEncoder()\n",
    "df1['ranking'] = le.fit_transform(df1['ranking'])\n",
    "print(df1['ranking'])"
   ]
  },
  {
   "cell_type": "code",
   "execution_count": 32,
   "metadata": {},
   "outputs": [
    {
     "data": {
      "text/plain": [
       "username      int64\n",
       "ranking       int64\n",
       "product_id    int32\n",
       "dtype: object"
      ]
     },
     "execution_count": 32,
     "metadata": {},
     "output_type": "execute_result"
    }
   ],
   "source": [
    "df1.dtypes"
   ]
  },
  {
   "cell_type": "markdown",
   "metadata": {},
   "source": [
    "CONSIDERACIÓN DE HORAS DE JUEGO\n",
    "* Con el fin de comparar la mediana del tiempo de juego, vamos a comparar la mediana del tiempo de juego de cada usuario individual en 'X' juego, con la mediana del tiempo de juego de todos los usuarios.\n",
    "* Luego usaremos el algoritmo para dividir esta comparación de estas dos medianas de tiempos de juego en un rango de 1 a 5, entonces esto nos ayudará a llenar las clasificaciones continuas de DataFrame.\n",
    "* En cuanto al tiempo de juego medio de los usuarios para un juego, los comparamos con el tiempo de juego total de este juego por parte de los usuarios.\n",
    "* Teniendo en cuenta que la mayoría de los usuarios darán una crítica positiva a un juego, si jugaron estos juegos incluso con un tiempo no muy largo, todavía aman este juego a menos que este juego sea bastante terrible, aquí elegimos por \"top100 para siempre\", por lo que son todos juegos muy populares, la mayoría de ellos tienen tasas positivas bastante altas que superan el 90%. Por lo tanto, daremos un nivel positivo de medición para las calificaciones.\n",
    "\n",
    "DETERMINACIÓN DE RANKING\n",
    "* Suponemos entonces, que si el tiempo de juego de un usuario para 'X' juego, es mayor que el tiempo de juego de dicho juego por el total de usuarios, la calificación del usuario para 'X' juego es **5**.\n",
    "* Si el tiempo de juego del usuario es menor que el tiempo de juego medio pero mayor que 0,8 multiplicado por la mediana del tiempo de juego, la calificación se asume como **4**.\n",
    "* Si el tiempo de juego del usuario es inferior a 0,8 multiplicado por el tiempo medio de juego, pero superior a 0,5 multiplicado por el tiempo medio de juego, la calificación se asume como **3**.\n",
    "*  Si el tiempo de juego del usuario es inferior a 0,5 multiplicado por el tiempo medio de juego pero superior a 0,1 multiplicado por el tiempo medio de juego, la calificación se asume como **2**.\n",
    "* Si el tiempo de juego del usuario es inferior a 0,1 multiplicado por la mediana del tiempo de juego, la calificación se asume como **1**.\n",
    "* Los juegos sin tiempo de juego en esta lista de perfiles de usuarios, por no relevar preferencia sobre el mismo, se considera con calificación **0**."
   ]
  },
  {
   "cell_type": "markdown",
   "metadata": {},
   "source": [
    "DATA GAMES"
   ]
  },
  {
   "cell_type": "code",
   "execution_count": 30,
   "metadata": {},
   "outputs": [
    {
     "data": {
      "text/html": [
       "<div>\n",
       "<style scoped>\n",
       "    .dataframe tbody tr th:only-of-type {\n",
       "        vertical-align: middle;\n",
       "    }\n",
       "\n",
       "    .dataframe tbody tr th {\n",
       "        vertical-align: top;\n",
       "    }\n",
       "\n",
       "    .dataframe thead th {\n",
       "        text-align: right;\n",
       "    }\n",
       "</style>\n",
       "<table border=\"1\" class=\"dataframe\">\n",
       "  <thead>\n",
       "    <tr style=\"text-align: right;\">\n",
       "      <th></th>\n",
       "      <th>title</th>\n",
       "      <th>id</th>\n",
       "    </tr>\n",
       "  </thead>\n",
       "  <tbody>\n",
       "    <tr>\n",
       "      <th>0</th>\n",
       "      <td>Lost Summoner Kitty</td>\n",
       "      <td>761140.0</td>\n",
       "    </tr>\n",
       "    <tr>\n",
       "      <th>1</th>\n",
       "      <td>Ironbound</td>\n",
       "      <td>643980.0</td>\n",
       "    </tr>\n",
       "    <tr>\n",
       "      <th>2</th>\n",
       "      <td>Real Pool 3D - Poolians</td>\n",
       "      <td>670290.0</td>\n",
       "    </tr>\n",
       "    <tr>\n",
       "      <th>3</th>\n",
       "      <td>å¼¹ç¸äºº2222</td>\n",
       "      <td>767400.0</td>\n",
       "    </tr>\n",
       "    <tr>\n",
       "      <th>4</th>\n",
       "      <td>NaN</td>\n",
       "      <td>773570.0</td>\n",
       "    </tr>\n",
       "  </tbody>\n",
       "</table>\n",
       "</div>"
      ],
      "text/plain": [
       "                     title        id\n",
       "0      Lost Summoner Kitty  761140.0\n",
       "1                Ironbound  643980.0\n",
       "2  Real Pool 3D - Poolians  670290.0\n",
       "3            å¼¹ç¸äºº2222  767400.0\n",
       "4                      NaN  773570.0"
      ]
     },
     "execution_count": 30,
     "metadata": {},
     "output_type": "execute_result"
    }
   ],
   "source": [
    "df_titulo = pd.read_csv('new_data_games.csv', encoding = \"ISO-8859-1\", usecols = [4,13])\n",
    "df_titulo.head()"
   ]
  },
  {
   "cell_type": "code",
   "execution_count": 31,
   "metadata": {},
   "outputs": [
    {
     "data": {
      "text/html": [
       "<div>\n",
       "<style scoped>\n",
       "    .dataframe tbody tr th:only-of-type {\n",
       "        vertical-align: middle;\n",
       "    }\n",
       "\n",
       "    .dataframe tbody tr th {\n",
       "        vertical-align: top;\n",
       "    }\n",
       "\n",
       "    .dataframe thead th {\n",
       "        text-align: right;\n",
       "    }\n",
       "</style>\n",
       "<table border=\"1\" class=\"dataframe\">\n",
       "  <thead>\n",
       "    <tr style=\"text-align: right;\">\n",
       "      <th></th>\n",
       "      <th>id</th>\n",
       "      <th>title</th>\n",
       "    </tr>\n",
       "  </thead>\n",
       "  <tbody>\n",
       "    <tr>\n",
       "      <th>0</th>\n",
       "      <td>761140.0</td>\n",
       "      <td>Lost Summoner Kitty</td>\n",
       "    </tr>\n",
       "    <tr>\n",
       "      <th>1</th>\n",
       "      <td>643980.0</td>\n",
       "      <td>Ironbound</td>\n",
       "    </tr>\n",
       "    <tr>\n",
       "      <th>2</th>\n",
       "      <td>670290.0</td>\n",
       "      <td>Real Pool 3D - Poolians</td>\n",
       "    </tr>\n",
       "    <tr>\n",
       "      <th>3</th>\n",
       "      <td>767400.0</td>\n",
       "      <td>å¼¹ç¸äºº2222</td>\n",
       "    </tr>\n",
       "    <tr>\n",
       "      <th>4</th>\n",
       "      <td>773570.0</td>\n",
       "      <td>NaN</td>\n",
       "    </tr>\n",
       "  </tbody>\n",
       "</table>\n",
       "</div>"
      ],
      "text/plain": [
       "         id                    title\n",
       "0  761140.0      Lost Summoner Kitty\n",
       "1  643980.0                Ironbound\n",
       "2  670290.0  Real Pool 3D - Poolians\n",
       "3  767400.0            å¼¹ç¸äºº2222\n",
       "4  773570.0                      NaN"
      ]
     },
     "execution_count": 31,
     "metadata": {},
     "output_type": "execute_result"
    }
   ],
   "source": [
    "df_titulo = df_titulo[['id','title']]\n",
    "df_titulo.head()"
   ]
  },
  {
   "cell_type": "code",
   "execution_count": 32,
   "metadata": {},
   "outputs": [
    {
     "data": {
      "text/html": [
       "<div>\n",
       "<style scoped>\n",
       "    .dataframe tbody tr th:only-of-type {\n",
       "        vertical-align: middle;\n",
       "    }\n",
       "\n",
       "    .dataframe tbody tr th {\n",
       "        vertical-align: top;\n",
       "    }\n",
       "\n",
       "    .dataframe thead th {\n",
       "        text-align: right;\n",
       "    }\n",
       "</style>\n",
       "<table border=\"1\" class=\"dataframe\">\n",
       "  <thead>\n",
       "    <tr style=\"text-align: right;\">\n",
       "      <th></th>\n",
       "      <th>product_id</th>\n",
       "      <th>title</th>\n",
       "    </tr>\n",
       "  </thead>\n",
       "  <tbody>\n",
       "    <tr>\n",
       "      <th>0</th>\n",
       "      <td>761140.0</td>\n",
       "      <td>Lost Summoner Kitty</td>\n",
       "    </tr>\n",
       "    <tr>\n",
       "      <th>1</th>\n",
       "      <td>643980.0</td>\n",
       "      <td>Ironbound</td>\n",
       "    </tr>\n",
       "    <tr>\n",
       "      <th>2</th>\n",
       "      <td>670290.0</td>\n",
       "      <td>Real Pool 3D - Poolians</td>\n",
       "    </tr>\n",
       "    <tr>\n",
       "      <th>3</th>\n",
       "      <td>767400.0</td>\n",
       "      <td>å¼¹ç¸äºº2222</td>\n",
       "    </tr>\n",
       "    <tr>\n",
       "      <th>4</th>\n",
       "      <td>773570.0</td>\n",
       "      <td>NaN</td>\n",
       "    </tr>\n",
       "    <tr>\n",
       "      <th>...</th>\n",
       "      <td>...</td>\n",
       "      <td>...</td>\n",
       "    </tr>\n",
       "    <tr>\n",
       "      <th>32130</th>\n",
       "      <td>773640.0</td>\n",
       "      <td>Colony On Mars</td>\n",
       "    </tr>\n",
       "    <tr>\n",
       "      <th>32131</th>\n",
       "      <td>733530.0</td>\n",
       "      <td>LOGistICAL: South Africa</td>\n",
       "    </tr>\n",
       "    <tr>\n",
       "      <th>32132</th>\n",
       "      <td>610660.0</td>\n",
       "      <td>Russian Roads</td>\n",
       "    </tr>\n",
       "    <tr>\n",
       "      <th>32133</th>\n",
       "      <td>658870.0</td>\n",
       "      <td>EXIT 2 - Directions</td>\n",
       "    </tr>\n",
       "    <tr>\n",
       "      <th>32134</th>\n",
       "      <td>681550.0</td>\n",
       "      <td>NaN</td>\n",
       "    </tr>\n",
       "  </tbody>\n",
       "</table>\n",
       "<p>32135 rows × 2 columns</p>\n",
       "</div>"
      ],
      "text/plain": [
       "       product_id                     title\n",
       "0        761140.0       Lost Summoner Kitty\n",
       "1        643980.0                 Ironbound\n",
       "2        670290.0   Real Pool 3D - Poolians\n",
       "3        767400.0             å¼¹ç¸äºº2222\n",
       "4        773570.0                       NaN\n",
       "...           ...                       ...\n",
       "32130    773640.0            Colony On Mars\n",
       "32131    733530.0  LOGistICAL: South Africa\n",
       "32132    610660.0             Russian Roads\n",
       "32133    658870.0       EXIT 2 - Directions\n",
       "32134    681550.0                       NaN\n",
       "\n",
       "[32135 rows x 2 columns]"
      ]
     },
     "execution_count": 32,
     "metadata": {},
     "output_type": "execute_result"
    }
   ],
   "source": [
    "df_new = df_titulo.rename(columns={'id':'product_id'})\n",
    "df_new"
   ]
  },
  {
   "cell_type": "code",
   "execution_count": 33,
   "metadata": {},
   "outputs": [],
   "source": [
    "df_title = df_new[df_new['product_id'].notna()]"
   ]
  },
  {
   "cell_type": "code",
   "execution_count": 34,
   "metadata": {},
   "outputs": [
    {
     "data": {
      "text/plain": [
       "product_id       0\n",
       "title         2049\n",
       "dtype: int64"
      ]
     },
     "execution_count": 34,
     "metadata": {},
     "output_type": "execute_result"
    }
   ],
   "source": [
    "df_title.isnull().sum()"
   ]
  },
  {
   "cell_type": "code",
   "execution_count": 35,
   "metadata": {},
   "outputs": [
    {
     "name": "stdout",
     "output_type": "stream",
     "text": [
      "0        761140.0\n",
      "1        643980.0\n",
      "2        670290.0\n",
      "3        767400.0\n",
      "4        773570.0\n",
      "           ...   \n",
      "32130    773640.0\n",
      "32131    733530.0\n",
      "32132    610660.0\n",
      "32133    658870.0\n",
      "32134    681550.0\n",
      "Name: product_id, Length: 32133, dtype: float64\n"
     ]
    }
   ],
   "source": [
    "print(df_title['product_id'])"
   ]
  },
  {
   "cell_type": "code",
   "execution_count": 36,
   "metadata": {},
   "outputs": [
    {
     "name": "stderr",
     "output_type": "stream",
     "text": [
      "<ipython-input-36-9206b7264802>:1: SettingWithCopyWarning: \n",
      "A value is trying to be set on a copy of a slice from a DataFrame.\n",
      "Try using .loc[row_indexer,col_indexer] = value instead\n",
      "\n",
      "See the caveats in the documentation: https://pandas.pydata.org/pandas-docs/stable/user_guide/indexing.html#returning-a-view-versus-a-copy\n",
      "  df_title[('product_id')] = df_title['product_id'].astype(int)\n"
     ]
    }
   ],
   "source": [
    "df_title[('product_id')] = df_title['product_id'].astype(int)"
   ]
  },
  {
   "cell_type": "code",
   "execution_count": 37,
   "metadata": {},
   "outputs": [
    {
     "name": "stdout",
     "output_type": "stream",
     "text": [
      "0        761140\n",
      "1        643980\n",
      "2        670290\n",
      "3        767400\n",
      "4        773570\n",
      "          ...  \n",
      "32130    773640\n",
      "32131    733530\n",
      "32132    610660\n",
      "32133    658870\n",
      "32134    681550\n",
      "Name: product_id, Length: 32133, dtype: int32\n"
     ]
    }
   ],
   "source": [
    "print(df_title['product_id'])"
   ]
  },
  {
   "cell_type": "code",
   "execution_count": 38,
   "metadata": {},
   "outputs": [
    {
     "data": {
      "text/html": [
       "<div>\n",
       "<style scoped>\n",
       "    .dataframe tbody tr th:only-of-type {\n",
       "        vertical-align: middle;\n",
       "    }\n",
       "\n",
       "    .dataframe tbody tr th {\n",
       "        vertical-align: top;\n",
       "    }\n",
       "\n",
       "    .dataframe thead th {\n",
       "        text-align: right;\n",
       "    }\n",
       "</style>\n",
       "<table border=\"1\" class=\"dataframe\">\n",
       "  <thead>\n",
       "    <tr style=\"text-align: right;\">\n",
       "      <th></th>\n",
       "      <th>product_id</th>\n",
       "      <th>title</th>\n",
       "    </tr>\n",
       "  </thead>\n",
       "  <tbody>\n",
       "    <tr>\n",
       "      <th>0</th>\n",
       "      <td>761140</td>\n",
       "      <td>Lost Summoner Kitty</td>\n",
       "    </tr>\n",
       "    <tr>\n",
       "      <th>1</th>\n",
       "      <td>643980</td>\n",
       "      <td>Ironbound</td>\n",
       "    </tr>\n",
       "    <tr>\n",
       "      <th>2</th>\n",
       "      <td>670290</td>\n",
       "      <td>Real Pool 3D - Poolians</td>\n",
       "    </tr>\n",
       "    <tr>\n",
       "      <th>3</th>\n",
       "      <td>767400</td>\n",
       "      <td>å¼¹ç¸äºº2222</td>\n",
       "    </tr>\n",
       "    <tr>\n",
       "      <th>4</th>\n",
       "      <td>773570</td>\n",
       "      <td>NaN</td>\n",
       "    </tr>\n",
       "    <tr>\n",
       "      <th>...</th>\n",
       "      <td>...</td>\n",
       "      <td>...</td>\n",
       "    </tr>\n",
       "    <tr>\n",
       "      <th>32130</th>\n",
       "      <td>773640</td>\n",
       "      <td>Colony On Mars</td>\n",
       "    </tr>\n",
       "    <tr>\n",
       "      <th>32131</th>\n",
       "      <td>733530</td>\n",
       "      <td>LOGistICAL: South Africa</td>\n",
       "    </tr>\n",
       "    <tr>\n",
       "      <th>32132</th>\n",
       "      <td>610660</td>\n",
       "      <td>Russian Roads</td>\n",
       "    </tr>\n",
       "    <tr>\n",
       "      <th>32133</th>\n",
       "      <td>658870</td>\n",
       "      <td>EXIT 2 - Directions</td>\n",
       "    </tr>\n",
       "    <tr>\n",
       "      <th>32134</th>\n",
       "      <td>681550</td>\n",
       "      <td>NaN</td>\n",
       "    </tr>\n",
       "  </tbody>\n",
       "</table>\n",
       "<p>32133 rows × 2 columns</p>\n",
       "</div>"
      ],
      "text/plain": [
       "       product_id                     title\n",
       "0          761140       Lost Summoner Kitty\n",
       "1          643980                 Ironbound\n",
       "2          670290   Real Pool 3D - Poolians\n",
       "3          767400             å¼¹ç¸äºº2222\n",
       "4          773570                       NaN\n",
       "...           ...                       ...\n",
       "32130      773640            Colony On Mars\n",
       "32131      733530  LOGistICAL: South Africa\n",
       "32132      610660             Russian Roads\n",
       "32133      658870       EXIT 2 - Directions\n",
       "32134      681550                       NaN\n",
       "\n",
       "[32133 rows x 2 columns]"
      ]
     },
     "execution_count": 38,
     "metadata": {},
     "output_type": "execute_result"
    }
   ],
   "source": [
    "df_title"
   ]
  },
  {
   "cell_type": "code",
   "execution_count": 39,
   "metadata": {},
   "outputs": [],
   "source": [
    "df_title = df_title.set_index('product_id', drop=True)"
   ]
  },
  {
   "cell_type": "code",
   "execution_count": 40,
   "metadata": {},
   "outputs": [
    {
     "data": {
      "text/html": [
       "<div>\n",
       "<style scoped>\n",
       "    .dataframe tbody tr th:only-of-type {\n",
       "        vertical-align: middle;\n",
       "    }\n",
       "\n",
       "    .dataframe tbody tr th {\n",
       "        vertical-align: top;\n",
       "    }\n",
       "\n",
       "    .dataframe thead th {\n",
       "        text-align: right;\n",
       "    }\n",
       "</style>\n",
       "<table border=\"1\" class=\"dataframe\">\n",
       "  <thead>\n",
       "    <tr style=\"text-align: right;\">\n",
       "      <th></th>\n",
       "      <th>title</th>\n",
       "    </tr>\n",
       "    <tr>\n",
       "      <th>product_id</th>\n",
       "      <th></th>\n",
       "    </tr>\n",
       "  </thead>\n",
       "  <tbody>\n",
       "    <tr>\n",
       "      <th>761140</th>\n",
       "      <td>Lost Summoner Kitty</td>\n",
       "    </tr>\n",
       "    <tr>\n",
       "      <th>643980</th>\n",
       "      <td>Ironbound</td>\n",
       "    </tr>\n",
       "    <tr>\n",
       "      <th>670290</th>\n",
       "      <td>Real Pool 3D - Poolians</td>\n",
       "    </tr>\n",
       "    <tr>\n",
       "      <th>767400</th>\n",
       "      <td>å¼¹ç¸äºº2222</td>\n",
       "    </tr>\n",
       "    <tr>\n",
       "      <th>773570</th>\n",
       "      <td>NaN</td>\n",
       "    </tr>\n",
       "    <tr>\n",
       "      <th>...</th>\n",
       "      <td>...</td>\n",
       "    </tr>\n",
       "    <tr>\n",
       "      <th>773640</th>\n",
       "      <td>Colony On Mars</td>\n",
       "    </tr>\n",
       "    <tr>\n",
       "      <th>733530</th>\n",
       "      <td>LOGistICAL: South Africa</td>\n",
       "    </tr>\n",
       "    <tr>\n",
       "      <th>610660</th>\n",
       "      <td>Russian Roads</td>\n",
       "    </tr>\n",
       "    <tr>\n",
       "      <th>658870</th>\n",
       "      <td>EXIT 2 - Directions</td>\n",
       "    </tr>\n",
       "    <tr>\n",
       "      <th>681550</th>\n",
       "      <td>NaN</td>\n",
       "    </tr>\n",
       "  </tbody>\n",
       "</table>\n",
       "<p>32133 rows × 1 columns</p>\n",
       "</div>"
      ],
      "text/plain": [
       "                               title\n",
       "product_id                          \n",
       "761140           Lost Summoner Kitty\n",
       "643980                     Ironbound\n",
       "670290       Real Pool 3D - Poolians\n",
       "767400                 å¼¹ç¸äºº2222\n",
       "773570                           NaN\n",
       "...                              ...\n",
       "773640                Colony On Mars\n",
       "733530      LOGistICAL: South Africa\n",
       "610660                 Russian Roads\n",
       "658870           EXIT 2 - Directions\n",
       "681550                           NaN\n",
       "\n",
       "[32133 rows x 1 columns]"
      ]
     },
     "execution_count": 40,
     "metadata": {},
     "output_type": "execute_result"
    }
   ],
   "source": [
    "df_title"
   ]
  },
  {
   "cell_type": "markdown",
   "metadata": {},
   "source": [
    "#### 1.3 EXPLORANDO EL DATASET"
   ]
  },
  {
   "cell_type": "markdown",
   "metadata": {},
   "source": [
    "1. ¿Cuántos usuarios únicos hay?"
   ]
  },
  {
   "cell_type": "code",
   "execution_count": 41,
   "metadata": {},
   "outputs": [
    {
     "name": "stdout",
     "output_type": "stream",
     "text": [
      "540339\n"
     ]
    }
   ],
   "source": [
    "print(len(df1['username'].unique()))"
   ]
  },
  {
   "cell_type": "markdown",
   "metadata": {},
   "source": [
    "* 540339 usuarios jugaron al juego."
   ]
  },
  {
   "cell_type": "markdown",
   "metadata": {},
   "source": [
    "2. ¿Cuántos juegos jugó cada usuario?"
   ]
  },
  {
   "cell_type": "code",
   "execution_count": 42,
   "metadata": {},
   "outputs": [
    {
     "data": {
      "text/html": [
       "<div>\n",
       "<style scoped>\n",
       "    .dataframe tbody tr th:only-of-type {\n",
       "        vertical-align: middle;\n",
       "    }\n",
       "\n",
       "    .dataframe tbody tr th {\n",
       "        vertical-align: top;\n",
       "    }\n",
       "\n",
       "    .dataframe thead th {\n",
       "        text-align: right;\n",
       "    }\n",
       "</style>\n",
       "<table border=\"1\" class=\"dataframe\">\n",
       "  <thead>\n",
       "    <tr style=\"text-align: right;\">\n",
       "      <th></th>\n",
       "      <th>product_id</th>\n",
       "      <th>ranking</th>\n",
       "    </tr>\n",
       "    <tr>\n",
       "      <th>username</th>\n",
       "      <th></th>\n",
       "      <th></th>\n",
       "    </tr>\n",
       "  </thead>\n",
       "  <tbody>\n",
       "    <tr>\n",
       "      <th>0</th>\n",
       "      <td>1</td>\n",
       "      <td>1</td>\n",
       "    </tr>\n",
       "    <tr>\n",
       "      <th>1</th>\n",
       "      <td>2</td>\n",
       "      <td>2</td>\n",
       "    </tr>\n",
       "    <tr>\n",
       "      <th>2</th>\n",
       "      <td>1</td>\n",
       "      <td>1</td>\n",
       "    </tr>\n",
       "    <tr>\n",
       "      <th>3</th>\n",
       "      <td>2</td>\n",
       "      <td>2</td>\n",
       "    </tr>\n",
       "    <tr>\n",
       "      <th>4</th>\n",
       "      <td>1</td>\n",
       "      <td>1</td>\n",
       "    </tr>\n",
       "  </tbody>\n",
       "</table>\n",
       "</div>"
      ],
      "text/plain": [
       "          product_id  ranking\n",
       "username                     \n",
       "0                  1        1\n",
       "1                  2        2\n",
       "2                  1        1\n",
       "3                  2        2\n",
       "4                  1        1"
      ]
     },
     "execution_count": 42,
     "metadata": {},
     "output_type": "execute_result"
    }
   ],
   "source": [
    "df1_by_users = df1.groupby(['username']).count()\n",
    "df1_by_users.head()\n",
    "\n",
    "# Vemos cuántas calificaciones de películar realizó cada usuario"
   ]
  },
  {
   "cell_type": "code",
   "execution_count": 44,
   "metadata": {},
   "outputs": [
    {
     "data": {
      "image/png": "[encoded data removed]",
      "text/plain": [
       "<Figure size 432x288 with 1 Axes>"
      ]
     },
     "metadata": {},
     "output_type": "display_data"
    }
   ],
   "source": [
    "plt.hist(df1_by_users.ranking, log= True)\n",
    "plt.show() # Entre 0 y 25 usuarios son los que más horas jugaron"
   ]
  },
  {
   "cell_type": "markdown",
   "metadata": {},
   "source": [
    "* Entre 0 y 25 usuarios son los que más horas jugaron."
   ]
  },
  {
   "cell_type": "markdown",
   "metadata": {},
   "source": [
    "3. ¿Cómo es la distribución de las horas jugadas?"
   ]
  },
  {
   "cell_type": "code",
   "execution_count": 45,
   "metadata": {},
   "outputs": [
    {
     "data": {
      "image/png": "[encoded data removed]",
      "text/plain": [
       "<Figure size 432x288 with 1 Axes>"
      ]
     },
     "metadata": {},
     "output_type": "display_data"
    }
   ],
   "source": [
    "df1['ranking'].hist()\n",
    "plt.show()"
   ]
  },
  {
   "cell_type": "markdown",
   "metadata": {},
   "source": [
    "* El mayor número de horas jugadas, es de alrededor de 2.500 hs."
   ]
  },
  {
   "cell_type": "markdown",
   "metadata": {},
   "source": [
    "4. ¿Cómo es la distribución del número de horas jugadas por usuario?"
   ]
  },
  {
   "cell_type": "code",
   "execution_count": 46,
   "metadata": {},
   "outputs": [
    {
     "data": {
      "text/plain": [
       "5463      213\n",
       "19181     190\n",
       "65614     155\n",
       "240929    143\n",
       "215286    137\n",
       "         ... \n",
       "35667       1\n",
       "45908       1\n",
       "47957       1\n",
       "41814       1\n",
       "0           1\n",
       "Name: username, Length: 540339, dtype: int64"
      ]
     },
     "execution_count": 46,
     "metadata": {},
     "output_type": "execute_result"
    }
   ],
   "source": [
    "horas_por_usuario = df1.username.value_counts() # Vemos por usuario, el conteo de dichas calificaciones\n",
    "horas_por_usuario # 1er columnas es el ID del usuario, la segunda, la cantidad de calificaciones que dió"
   ]
  },
  {
   "cell_type": "code",
   "execution_count": 47,
   "metadata": {},
   "outputs": [
    {
     "data": {
      "text/plain": [
       "<matplotlib.axes._subplots.AxesSubplot at 0x26f1acf16a0>"
      ]
     },
     "execution_count": 47,
     "metadata": {},
     "output_type": "execute_result"
    },
    {
     "data": {
      "image/png": "[encoded data removed]",
      "text/plain": [
       "<Figure size 432x288 with 1 Axes>"
      ]
     },
     "metadata": {},
     "output_type": "display_data"
    }
   ],
   "source": [
    "horas_por_usuario.hist(log = True)"
   ]
  },
  {
   "cell_type": "markdown",
   "metadata": {},
   "source": [
    "* Es el mismo que hicimos arriba, de cantidad de usuarios con más horas jugadas."
   ]
  },
  {
   "cell_type": "markdown",
   "metadata": {},
   "source": [
    "5. ¿Cuál es el juego con más horas jugadas?¿Cuántas tiene?¿Y la que menos horas jugadas tiene?"
   ]
  },
  {
   "cell_type": "code",
   "execution_count": 52,
   "metadata": {},
   "outputs": [
    {
     "data": {
      "text/plain": [
       "title\n",
       "Rust                           18373\n",
       "Borderlands 2                  10221\n",
       "Fallout 4                       7321\n",
       "Grand Theft Auto V              7113\n",
       "Undertale                       5976\n",
       "                               ...  \n",
       "Nine Worlds - A Viking saga        1\n",
       "Hoyle Official Casino Games        1\n",
       "Expander                           1\n",
       "Slumlord Simulator                 1\n",
       "A.I. Space Corps                   1\n",
       "Name: product_id, Length: 12665, dtype: int64"
      ]
     },
     "execution_count": 52,
     "metadata": {},
     "output_type": "execute_result"
    }
   ],
   "source": [
    "juegos_por_horas = df1.product_id.value_counts() # Hacemos un conteo por película, de los valores únicos por película (para c/ Id de película, cuántos hay)\n",
    "juegos_por_horas.index = df_title.loc[juegos_por_horas.index][1:].title # Obtenemos con índice que lo relacionamos con el título, para poder llenar el nombre\n",
    "juegos_por_horas # La película más jugada es Team Fortress 2"
   ]
  },
  {
   "cell_type": "code",
   "execution_count": 48,
   "metadata": {},
   "outputs": [
    {
     "data": {
      "text/plain": [
       "440       18373\n",
       "252490    10221\n",
       "49520      7321\n",
       "377160     7113\n",
       "271590     5976\n",
       "          ...  \n",
       "700460        1\n",
       "532950        1\n",
       "410470        1\n",
       "746430        1\n",
       "423180        1\n",
       "Name: product_id, Length: 12665, dtype: int64"
      ]
     },
     "execution_count": 48,
     "metadata": {},
     "output_type": "execute_result"
    }
   ],
   "source": [
    "df1.product_id.value_counts()"
   ]
  },
  {
   "cell_type": "code",
   "execution_count": 60,
   "metadata": {},
   "outputs": [
    {
     "data": {
      "text/plain": [
       "product_id\n",
       "440                   Team Fortress 2\n",
       "252490                           Rust\n",
       "49520                   Borderlands 2\n",
       "377160                      Fallout 4\n",
       "271590             Grand Theft Auto V\n",
       "                     ...             \n",
       "700460    Nine Worlds - A Viking saga\n",
       "532950    Hoyle Official Casino Games\n",
       "410470                       Expander\n",
       "746430             Slumlord Simulator\n",
       "423180               A.I. Space Corps\n",
       "Name: title, Length: 12666, dtype: object"
      ]
     },
     "execution_count": 60,
     "metadata": {},
     "output_type": "execute_result"
    }
   ],
   "source": [
    "df_title.loc[juegos_por_horas.index].title"
   ]
  },
  {
   "cell_type": "code",
   "execution_count": 53,
   "metadata": {},
   "outputs": [
    {
     "data": {
      "image/png": "[encoded data removed]",
      "text/plain": [
       "<Figure size 576x288 with 1 Axes>"
      ]
     },
     "metadata": {},
     "output_type": "display_data"
    }
   ],
   "source": [
    "plt.figure(figsize = (8,4))\n",
    "juegos_por_horas.hist(log = True, bins = 20)\n",
    "plt.show()"
   ]
  },
  {
   "cell_type": "markdown",
   "metadata": {},
   "source": [
    "* Son pocos los juegos que tienen muchas horas jugadas."
   ]
  },
  {
   "cell_type": "markdown",
   "metadata": {},
   "source": [
    "### 2. ENTRENAMIENTO"
   ]
  },
  {
   "cell_type": "markdown",
   "metadata": {},
   "source": [
    "Primero, llevamos el dataset al formato que le gusta a la biblioteca. ¿En qué orden tienen que estar los atributos? Investigar qué hace la clase `Reader` y cuáles son sus parámetros."
   ]
  },
  {
   "cell_type": "code",
   "execution_count": 54,
   "metadata": {},
   "outputs": [],
   "source": [
    "reader = Reader() # Para que pueda leer Surprise"
   ]
  },
  {
   "cell_type": "markdown",
   "metadata": {},
   "source": [
    "Luego, creamos el `Dataset` de Surprise usando `Dataset.load_from_df`"
   ]
  },
  {
   "cell_type": "markdown",
   "metadata": {},
   "source": [
    "* Un Dataset de Surprise, es muy parecido a un Dataframe de Pandas, sólo que es una estructura que utiliza menos memoria."
   ]
  },
  {
   "cell_type": "code",
   "execution_count": 55,
   "metadata": {},
   "outputs": [],
   "source": [
    "N_filas = 100000 # Limitamos el dataset a N_filas\n",
    "\n",
    "data = Dataset.load_from_df(df1[['username','ranking','product_id']][:N_filas], reader) # Decimos cuáles y cuántas filas elegimos\n",
    "# Cargamos un Dataset, a partir de un Dataframe"
   ]
  },
  {
   "cell_type": "code",
   "execution_count": 56,
   "metadata": {},
   "outputs": [],
   "source": [
    "trainset, testset = train_test_split(data, test_size=.25) # OJO! Es el de Surprise. Es un Split del Dataset Completo"
   ]
  },
  {
   "cell_type": "markdown",
   "metadata": {},
   "source": [
    "Vamos a entrenar un algoritmo SVD. Explorar sus parámetros y su funcionamiento."
   ]
  },
  {
   "cell_type": "code",
   "execution_count": 57,
   "metadata": {},
   "outputs": [],
   "source": [
    "from surprise import SVD # OJO! Es también es de Surprise!\n",
    "algo = SVD() # Usamos los hiperparámetros predeterminados"
   ]
  },
  {
   "cell_type": "markdown",
   "metadata": {},
   "source": [
    "Entrenamos sobre el `trainset`"
   ]
  },
  {
   "cell_type": "code",
   "execution_count": 58,
   "metadata": {},
   "outputs": [
    {
     "data": {
      "text/plain": [
       "<surprise.prediction_algorithms.matrix_factorization.SVD at 0x26f1acf1c10>"
      ]
     },
     "execution_count": 58,
     "metadata": {},
     "output_type": "execute_result"
    }
   ],
   "source": [
    "algo.fit(trainset)\n",
    "\n",
    "# Entrenamos la Matriz de Utilidad de Train y de Test\n",
    "# No hay y\n",
    "# Entrena SVD sobre toda la Matriz de Utilidad (No s/ X e y)"
   ]
  },
  {
   "cell_type": "markdown",
   "metadata": {},
   "source": [
    "Y predecimos sobre el `testset`. Notar que para predecir sobre un conjunto de test se usa la función `test`."
   ]
  },
  {
   "cell_type": "code",
   "execution_count": 59,
   "metadata": {},
   "outputs": [],
   "source": [
    "predictions = algo.test(testset)"
   ]
  },
  {
   "cell_type": "markdown",
   "metadata": {},
   "source": [
    "Explorar las característica de `predictions` y alguno de sus elementos"
   ]
  },
  {
   "cell_type": "code",
   "execution_count": 60,
   "metadata": {},
   "outputs": [
    {
     "data": {
      "text/plain": [
       "Prediction(uid=329800, iid=1, r_ui=275670.0, est=5, details={'was_impossible': False})"
      ]
     },
     "execution_count": 60,
     "metadata": {},
     "output_type": "execute_result"
    }
   ],
   "source": [
    "predictions[1] # Predicción para 1 (para un usuario en particular)\n",
    "\n",
    "# uid: Id del Usuario\n",
    "# iid: Id del juego\n",
    "# r_ui: calificación que le da a ese juego en particular (la conocida)\n",
    "# est: estimación de la calificación (obtenida de SVD)\n",
    "# was imposible = False: fue posible calificar el juego"
   ]
  },
  {
   "cell_type": "markdown",
   "metadata": {},
   "source": [
    "En cambio, si queremos predecir para un usuario y un juego en particular, usamos la función `predict`"
   ]
  },
  {
   "cell_type": "code",
   "execution_count": 61,
   "metadata": {},
   "outputs": [
    {
     "data": {
      "text/plain": [
       "Prediction(uid=1345, iid=28, r_ui=None, est=5, details={'was_impossible': False})"
      ]
     },
     "execution_count": 61,
     "metadata": {},
     "output_type": "execute_result"
    }
   ],
   "source": [
    "algo.predict(1345,28)"
   ]
  },
  {
   "cell_type": "markdown",
   "metadata": {},
   "source": [
    "* r_ui=None: El usuario no la calificó dicho juego."
   ]
  },
  {
   "cell_type": "markdown",
   "metadata": {},
   "source": [
    "Exploremos un usuario, veamos cuáles juegos le gustaron y cuáles les recomienda el sistema.\n",
    "\n",
    "Juegos que le gustaron"
   ]
  },
  {
   "cell_type": "code",
   "execution_count": 63,
   "metadata": {},
   "outputs": [
    {
     "data": {
      "text/html": [
       "<div>\n",
       "<style scoped>\n",
       "    .dataframe tbody tr th:only-of-type {\n",
       "        vertical-align: middle;\n",
       "    }\n",
       "\n",
       "    .dataframe tbody tr th {\n",
       "        vertical-align: top;\n",
       "    }\n",
       "\n",
       "    .dataframe thead th {\n",
       "        text-align: right;\n",
       "    }\n",
       "</style>\n",
       "<table border=\"1\" class=\"dataframe\">\n",
       "  <thead>\n",
       "    <tr style=\"text-align: right;\">\n",
       "      <th></th>\n",
       "      <th>username</th>\n",
       "      <th>product_id</th>\n",
       "      <th>ranking</th>\n",
       "      <th>title</th>\n",
       "    </tr>\n",
       "  </thead>\n",
       "  <tbody>\n",
       "  </tbody>\n",
       "</table>\n",
       "</div>"
      ],
      "text/plain": [
       "Empty DataFrame\n",
       "Columns: [username, product_id, ranking, title]\n",
       "Index: []"
      ]
     },
     "execution_count": 63,
     "metadata": {},
     "output_type": "execute_result"
    }
   ],
   "source": [
    "usuario = 7654\n",
    "rating = 4   # le pedimos los juegos a las haya rankeado con 4 o 5 puntos\n",
    "df_user = df1[(df1['username'] == usuario) & (df1['ranking'] >= rating)]\n",
    "df_user = df_user.reset_index(drop=True)\n",
    "df_user['title'] = df_title['title'].loc[df_user.product_id].values\n",
    "df_user"
   ]
  },
  {
   "cell_type": "markdown",
   "metadata": {},
   "source": [
    "Creamos donde vamos a guardar las recomendaciones para 1 usuario en particular"
   ]
  },
  {
   "cell_type": "code",
   "execution_count": 64,
   "metadata": {},
   "outputs": [
    {
     "name": "stdout",
     "output_type": "stream",
     "text": [
      "(4499, 1)\n"
     ]
    },
    {
     "data": {
      "text/html": [
       "<div>\n",
       "<style scoped>\n",
       "    .dataframe tbody tr th:only-of-type {\n",
       "        vertical-align: middle;\n",
       "    }\n",
       "\n",
       "    .dataframe tbody tr th {\n",
       "        vertical-align: top;\n",
       "    }\n",
       "\n",
       "    .dataframe thead th {\n",
       "        text-align: right;\n",
       "    }\n",
       "</style>\n",
       "<table border=\"1\" class=\"dataframe\">\n",
       "  <thead>\n",
       "    <tr style=\"text-align: right;\">\n",
       "      <th></th>\n",
       "      <th>title</th>\n",
       "    </tr>\n",
       "    <tr>\n",
       "      <th>product_id</th>\n",
       "      <th></th>\n",
       "    </tr>\n",
       "  </thead>\n",
       "  <tbody>\n",
       "    <tr>\n",
       "      <th>761140</th>\n",
       "      <td>Lost Summoner Kitty</td>\n",
       "    </tr>\n",
       "    <tr>\n",
       "      <th>643980</th>\n",
       "      <td>Ironbound</td>\n",
       "    </tr>\n",
       "    <tr>\n",
       "      <th>670290</th>\n",
       "      <td>Real Pool 3D - Poolians</td>\n",
       "    </tr>\n",
       "    <tr>\n",
       "      <th>767400</th>\n",
       "      <td>å¼¹ç¸äºº2222</td>\n",
       "    </tr>\n",
       "    <tr>\n",
       "      <th>773570</th>\n",
       "      <td>NaN</td>\n",
       "    </tr>\n",
       "  </tbody>\n",
       "</table>\n",
       "</div>"
      ],
      "text/plain": [
       "                              title\n",
       "product_id                         \n",
       "761140          Lost Summoner Kitty\n",
       "643980                    Ironbound\n",
       "670290      Real Pool 3D - Poolians\n",
       "767400                å¼¹ç¸äºº2222\n",
       "773570                          NaN"
      ]
     },
     "execution_count": 64,
     "metadata": {},
     "output_type": "execute_result"
    }
   ],
   "source": [
    "recomendaciones_usuario = df_title.iloc[:4499].copy()\n",
    "print(recomendaciones_usuario.shape)\n",
    "recomendaciones_usuario.head()"
   ]
  },
  {
   "cell_type": "markdown",
   "metadata": {},
   "source": [
    "Sacamos del dataframe todas los juegos que ya sabemos que vio"
   ]
  },
  {
   "cell_type": "code",
   "execution_count": 65,
   "metadata": {},
   "outputs": [
    {
     "name": "stdout",
     "output_type": "stream",
     "text": [
      "(1, 3)\n"
     ]
    },
    {
     "data": {
      "text/html": [
       "<div>\n",
       "<style scoped>\n",
       "    .dataframe tbody tr th:only-of-type {\n",
       "        vertical-align: middle;\n",
       "    }\n",
       "\n",
       "    .dataframe tbody tr th {\n",
       "        vertical-align: top;\n",
       "    }\n",
       "\n",
       "    .dataframe thead th {\n",
       "        text-align: right;\n",
       "    }\n",
       "</style>\n",
       "<table border=\"1\" class=\"dataframe\">\n",
       "  <thead>\n",
       "    <tr style=\"text-align: right;\">\n",
       "      <th></th>\n",
       "      <th>username</th>\n",
       "      <th>product_id</th>\n",
       "      <th>ranking</th>\n",
       "    </tr>\n",
       "  </thead>\n",
       "  <tbody>\n",
       "    <tr>\n",
       "      <th>581094</th>\n",
       "      <td>7654</td>\n",
       "      <td>340170</td>\n",
       "      <td>1</td>\n",
       "    </tr>\n",
       "  </tbody>\n",
       "</table>\n",
       "</div>"
      ],
      "text/plain": [
       "        username  product_id ranking\n",
       "581094      7654      340170       1"
      ]
     },
     "execution_count": 65,
     "metadata": {},
     "output_type": "execute_result"
    }
   ],
   "source": [
    "usuario_vistas = df1[df1['username'] == usuario]\n",
    "print(usuario_vistas.shape)\n",
    "usuario_vistas.head()"
   ]
  },
  {
   "cell_type": "markdown",
   "metadata": {},
   "source": [
    "Vemos las recomendaciones que ya podemos hacerle a dicho usuario"
   ]
  },
  {
   "cell_type": "code",
   "execution_count": 66,
   "metadata": {},
   "outputs": [
    {
     "data": {
      "text/html": [
       "<div>\n",
       "<style scoped>\n",
       "    .dataframe tbody tr th:only-of-type {\n",
       "        vertical-align: middle;\n",
       "    }\n",
       "\n",
       "    .dataframe tbody tr th {\n",
       "        vertical-align: top;\n",
       "    }\n",
       "\n",
       "    .dataframe thead th {\n",
       "        text-align: right;\n",
       "    }\n",
       "</style>\n",
       "<table border=\"1\" class=\"dataframe\">\n",
       "  <thead>\n",
       "    <tr style=\"text-align: right;\">\n",
       "      <th></th>\n",
       "      <th>product_id</th>\n",
       "      <th>title</th>\n",
       "    </tr>\n",
       "  </thead>\n",
       "  <tbody>\n",
       "    <tr>\n",
       "      <th>0</th>\n",
       "      <td>761140</td>\n",
       "      <td>Lost Summoner Kitty</td>\n",
       "    </tr>\n",
       "    <tr>\n",
       "      <th>1</th>\n",
       "      <td>643980</td>\n",
       "      <td>Ironbound</td>\n",
       "    </tr>\n",
       "    <tr>\n",
       "      <th>2</th>\n",
       "      <td>670290</td>\n",
       "      <td>Real Pool 3D - Poolians</td>\n",
       "    </tr>\n",
       "    <tr>\n",
       "      <th>3</th>\n",
       "      <td>767400</td>\n",
       "      <td>å¼¹ç¸äºº2222</td>\n",
       "    </tr>\n",
       "    <tr>\n",
       "      <th>4</th>\n",
       "      <td>773570</td>\n",
       "      <td>NaN</td>\n",
       "    </tr>\n",
       "  </tbody>\n",
       "</table>\n",
       "</div>"
      ],
      "text/plain": [
       "   product_id                    title\n",
       "0      761140      Lost Summoner Kitty\n",
       "1      643980                Ironbound\n",
       "2      670290  Real Pool 3D - Poolians\n",
       "3      767400            å¼¹ç¸äºº2222\n",
       "4      773570                      NaN"
      ]
     },
     "execution_count": 66,
     "metadata": {},
     "output_type": "execute_result"
    }
   ],
   "source": [
    "recomendaciones_usuario.drop(usuario_vistas.product_id, inplace = True)\n",
    "recomendaciones_usuario = recomendaciones_usuario.reset_index()\n",
    "recomendaciones_usuario.head()"
   ]
  },
  {
   "cell_type": "markdown",
   "metadata": {},
   "source": [
    "Y hacemos las recomendaciones, con el Id de película específico, y ordenados de mayor a menor.  \n",
    "Abajo la Recomendación con su valor."
   ]
  },
  {
   "cell_type": "code",
   "execution_count": 67,
   "metadata": {},
   "outputs": [],
   "source": [
    "recomendaciones_usuario['Estimate_Score'] = recomendaciones_usuario['product_id'].apply(lambda x: algo.predict(usuario, x).est)"
   ]
  },
  {
   "cell_type": "code",
   "execution_count": 68,
   "metadata": {},
   "outputs": [
    {
     "name": "stdout",
     "output_type": "stream",
     "text": [
      "      product_id                                        title  Estimate_Score\n",
      "0         761140                          Lost Summoner Kitty               5\n",
      "2996      336770                             Pilot Brothers 2               5\n",
      "3002      340290                                     Dr.Green               5\n",
      "3001      340570                                     WolfWars               5\n",
      "3000      334300                                 Fake Colours               5\n",
      "2999      340220                               Shadows of War               5\n",
      "2998      337070  Dimmdrive :: Gaming Ramdrive @ 10,000+ MB/s               5\n",
      "2997      336380                              Catmouth Island               5\n",
      "2995      322170                                Geometry Dash               5\n",
      "3004      338590                 The Race for the White House               5\n"
     ]
    }
   ],
   "source": [
    "recomendaciones_usuario = recomendaciones_usuario.sort_values('Estimate_Score', ascending=False)\n",
    "print(recomendaciones_usuario.head(10))\n",
    "# Recomendaciones con valuaciones estimadas por debajo"
   ]
  },
  {
   "cell_type": "markdown",
   "metadata": {},
   "source": [
    "### 3. EVALUACIÓN\n",
    "\n",
    "Para el conjunto de `testset`, evaluamos el error RMSE entre las predicciones y las verdaderas calificaciones que le habían dado a las películas. Para eso, buscar en la documentación cómo se hace."
   ]
  },
  {
   "cell_type": "code",
   "execution_count": 69,
   "metadata": {},
   "outputs": [
    {
     "name": "stdout",
     "output_type": "stream",
     "text": [
      "RMSE: 293047.8356\n"
     ]
    },
    {
     "data": {
      "text/plain": [
       "293047.8356142149"
      ]
     },
     "execution_count": 69,
     "metadata": {},
     "output_type": "execute_result"
    }
   ],
   "source": [
    "from surprise import accuracy\n",
    "\n",
    "accuracy.rmse(predictions)"
   ]
  },
  {
   "cell_type": "markdown",
   "metadata": {},
   "source": [
    "__Nota:__ con `SVD++`, se reducirá aún más el Error."
   ]
  },
  {
   "cell_type": "markdown",
   "metadata": {},
   "source": [
    "Después de las recomendaciones de juegos que incluyen calificaciones de juegos, usamos RMSE como evaluaciones de resultados de nuestras recomendaciones. A medida que se amplíe el conjunto de datos, se mejorarán las evaluaciones de RMSE. Lo que significa que nuestras recomendaciones tendrían calificaciones más altas para los usuarios."
   ]
  },
  {
   "cell_type": "markdown",
   "metadata": {},
   "source": [
    "### 4. OPTIMIZACIÓN DE PARÁMETROS\n",
    "\n",
    "**Ejercicio**: hacer un gráfico del desempeño del modelo en función del número de factores del `SVD`."
   ]
  },
  {
   "cell_type": "code",
   "execution_count": 70,
   "metadata": {},
   "outputs": [
    {
     "name": "stdout",
     "output_type": "stream",
     "text": [
      "\n",
      "Número de Factores: 1\n",
      "Evaluating RMSE of algorithm SVD on 3 split(s).\n",
      "\n",
      "                  Fold 1  Fold 2  Fold 3  Mean    Std     \n",
      "RMSE (testset)    292478.6590294001.3579292557.7947293012.6039699.9007\n",
      "Fit time          2.34    2.25    2.44    2.34    0.08    \n",
      "Test time         0.45    0.49    0.51    0.48    0.03    \n",
      "\n",
      "Número de Factores: 2\n",
      "Evaluating RMSE of algorithm SVD on 3 split(s).\n",
      "\n",
      "                  Fold 1  Fold 2  Fold 3  Mean    Std     \n",
      "RMSE (testset)    292812.4218292788.6175293438.8060293013.2818301.0479\n",
      "Fit time          2.28    2.25    2.30    2.27    0.02    \n",
      "Test time         0.57    0.44    0.45    0.48    0.06    \n",
      "\n",
      "Número de Factores: 4\n",
      "Evaluating RMSE of algorithm SVD on 3 split(s).\n",
      "\n",
      "                  Fold 1  Fold 2  Fold 3  Mean    Std     \n",
      "RMSE (testset)    293275.3080292472.2567293291.9815293013.1821382.5526\n",
      "Fit time          2.31    2.51    2.80    2.54    0.20    \n",
      "Test time         0.42    0.63    0.58    0.55    0.09    \n",
      "\n",
      "Número de Factores: 8\n",
      "Evaluating RMSE of algorithm SVD on 3 split(s).\n",
      "\n",
      "                  Fold 1  Fold 2  Fold 3  Mean    Std     \n",
      "RMSE (testset)    292613.3482293996.2118292428.2496293012.6032699.6093\n",
      "Fit time          2.75    2.87    2.54    2.72    0.13    \n",
      "Test time         0.56    0.56    0.44    0.52    0.06    \n",
      "\n",
      "Número de Factores: 16\n",
      "Evaluating RMSE of algorithm SVD on 3 split(s).\n",
      "\n",
      "                  Fold 1  Fold 2  Fold 3  Mean    Std     \n",
      "RMSE (testset)    292684.3921293833.5108292520.6635293012.8555584.1280\n",
      "Fit time          2.94    3.33    3.58    3.28    0.26    \n",
      "Test time         0.44    0.52    0.44    0.46    0.04    \n",
      "\n",
      "Número de Factores: 32\n",
      "Evaluating RMSE of algorithm SVD on 3 split(s).\n",
      "\n",
      "                  Fold 1  Fold 2  Fold 3  Mean    Std     \n",
      "RMSE (testset)    293793.1949293431.8517291811.4315293012.1594861.7628\n",
      "Fit time          3.87    3.83    3.76    3.82    0.05    \n",
      "Test time         0.44    0.44    0.53    0.47    0.04    \n",
      "\n",
      "Número de Factores: 64\n",
      "Evaluating RMSE of algorithm SVD on 3 split(s).\n",
      "\n",
      "                  Fold 1  Fold 2  Fold 3  Mean    Std     \n",
      "RMSE (testset)    291689.1395293922.0351293424.4786293011.8844957.1246\n",
      "Fit time          5.39    5.43    5.35    5.39    0.04    \n",
      "Test time         0.55    0.53    0.44    0.51    0.05    \n",
      "\n",
      "Número de Factores: 128\n",
      "Evaluating RMSE of algorithm SVD on 3 split(s).\n",
      "\n",
      "                  Fold 1  Fold 2  Fold 3  Mean    Std     \n",
      "RMSE (testset)    292713.7443293049.4653293276.8288293013.3461231.2927\n",
      "Fit time          8.65    8.60    9.10    8.79    0.23    \n",
      "Test time         0.44    0.44    0.55    0.47    0.05    \n",
      "\n",
      "Número de Factores: 256\n",
      "Evaluating RMSE of algorithm SVD on 3 split(s).\n",
      "\n",
      "                  Fold 1  Fold 2  Fold 3  Mean    Std     \n",
      "RMSE (testset)    292680.7093293701.9179292656.4709293013.0327487.2159\n",
      "Fit time          16.10   15.09   15.02   15.40   0.49    \n",
      "Test time         0.53    0.56    0.55    0.55    0.01    \n"
     ]
    }
   ],
   "source": [
    "from surprise.model_selection import cross_validate\n",
    "\n",
    "rmse_test_means = []\n",
    "factores = [1,2,4,8,16,32,64,128,256] # Determinamos cuántos valores latentes queremos descubrir\n",
    "\n",
    "for factor in factores:\n",
    "    print(f'\\nNúmero de Factores: {factor}')\n",
    "    algo = SVD(n_factors=factor)\n",
    "    cv = cross_validate(algo, data, measures=['RMSE'], cv = 3, verbose=True)\n",
    "    rmse_test_means.append(np.mean(cv['test_rmse']))\n",
    "    \n",
    "# Va a hacer muchas Ejecuciones, y en c/u de ellas va a ir evaluando los resultados (éste es el proceso manual)"
   ]
  },
  {
   "cell_type": "code",
   "execution_count": 71,
   "metadata": {},
   "outputs": [
    {
     "data": {
      "image/png": "[encoded data removed]",
      "text/plain": [
       "<Figure size 432x288 with 1 Axes>"
      ]
     },
     "metadata": {},
     "output_type": "display_data"
    }
   ],
   "source": [
    "plt.scatter(factores, rmse_test_means)\n",
    "plt.xlabel('Numero de factores')\n",
    "plt.ylabel('Error RMSE')\n",
    "plt.show()"
   ]
  },
  {
   "cell_type": "markdown",
   "metadata": {},
   "source": [
    "**Ejercicio**: recordar que, cuando entrenamos un `SVD`, estamos usando descenso por gradiente para minimizar una función de costo. Usar `GridSearchCV` para buscar valores óptimos para los siguientes parámetros (tres por parámetros, utilizar los valores default de referencia): `n_factors`, `n_epochs`, `lr_all` y `reg_all`. Estudiar qué representa cada uno de ellos mientras esperan. Tomarse un café."
   ]
  },
  {
   "cell_type": "code",
   "execution_count": 72,
   "metadata": {},
   "outputs": [],
   "source": [
    "# La otra manera de decubrir los valores latentes, pero de forma automática, es a través de Gridsearch\n",
    "\n",
    "from surprise.model_selection import GridSearchCV\n",
    "\n",
    "param_grid = {'n_factors': [5,50,100],'n_epochs': [5, 10,20], 'lr_all': [0.001, 0.002, 0.005],\n",
    "              'reg_all': [0.002, 0.02, 0.2]}\n",
    "gs = GridSearchCV(SVD, param_grid, measures=['rmse'], cv=3, n_jobs = -1)\n",
    "gs.fit(data)\n",
    "\n",
    "# n_jobs = -1: usa todos los cores de procesamiento de la máquina"
   ]
  },
  {
   "cell_type": "code",
   "execution_count": 73,
   "metadata": {},
   "outputs": [
    {
     "name": "stdout",
     "output_type": "stream",
     "text": [
      "293012.11159115715\n",
      "{'n_factors': 5, 'n_epochs': 5, 'lr_all': 0.001, 'reg_all': 0.02}\n"
     ]
    }
   ],
   "source": [
    "print(gs.best_score['rmse'])\n",
    "print(gs.best_params['rmse'])"
   ]
  },
  {
   "cell_type": "code",
   "execution_count": null,
   "metadata": {},
   "outputs": [],
   "source": []
  },
  {
   "cell_type": "code",
   "execution_count": null,
   "metadata": {},
   "outputs": [],
   "source": []
  },
  {
   "cell_type": "markdown",
   "metadata": {},
   "source": [
    "En cinco partes,  \n",
    "que se basan en la popularidad,  \n",
    "la calidad, el contenido,  \n",
    "el filtrado colaborativo  \n",
    "recomendaciones sobre la escala."
   ]
  },
  {
   "cell_type": "code",
   "execution_count": null,
   "metadata": {},
   "outputs": [],
   "source": []
  },
  {
   "cell_type": "markdown",
   "metadata": {},
   "source": [
    "Ver usuarios que juegan la misma cantidad de horas cada juego. Esos serán parecidos a mi."
   ]
  },
  {
   "cell_type": "markdown",
   "metadata": {},
   "source": [
    "matriz usuario usuario y producto producto"
   ]
  },
  {
   "cell_type": "markdown",
   "metadata": {},
   "source": [
    "user id horas  \n",
    "horas product id  \n",
    "labelencoding de username\n",
    "\n",
    "modelo con horas  \n",
    "modelos con metascore\n",
    "\n",
    "las hacemos por separado"
   ]
  },
  {
   "cell_type": "markdown",
   "metadata": {},
   "source": [
    "filtro colaborativo  \n",
    "reduccion de dimensionalidad con SVD"
   ]
  },
  {
   "cell_type": "code",
   "execution_count": null,
   "metadata": {},
   "outputs": [],
   "source": []
  },
  {
   "cell_type": "code",
   "execution_count": null,
   "metadata": {},
   "outputs": [],
   "source": []
  }
 ],
 "metadata": {
  "colab": {
   "collapsed_sections": [],
   "name": "DS_Proyecto_03_SR.ipynb",
   "provenance": []
  },
  "kernelspec": {
   "display_name": "Python 3",
   "language": "python",
   "name": "python3"
  },
  "language_info": {
   "codemirror_mode": {
    "name": "ipython",
    "version": 3
   },
   "file_extension": ".py",
   "mimetype": "text/x-python",
   "name": "python",
   "nbconvert_exporter": "python",
   "pygments_lexer": "ipython3",
   "version": "3.8.5"
  }
 },
 "nbformat": 4,
 "nbformat_minor": 4
}
