{
 "cells": [
  {
   "cell_type": "markdown",
   "metadata": {
    "id": "gzJLet17WTzh"
   },
   "source": [
    "# Proyecto 03 - Sistemas de Recomendación\n",
    "\n",
    "\n",
    "## Dataset: STEAM\n",
    "## Consignas\n",
    "\n",
    "**Recuerda descargar el dataset de [aquí](https://github.com/kang205/SASRec). Son dos archivos, uno de calificaciones y otro de información sobre los juegos.**\n",
    "\n",
    "En este notebook te dejamos unas celdas para que puedas comenzar a trabajar con este dataset. Sin embargo, **deberás** modificarlas para hacer un mejor manejo de datos. Algunas cosas a las que deberás prestar atención (tal vez no a todas):\n",
    "1. Tipos de datos: elige tipos de datos apropiados para cada columna.\n",
    "2. Descartar columnas poco informativas.\n",
    "3. Guardar en memoria datasets preprocesados para no tener que repetir código que tarde en correr.\n",
    "\n",
    "### Exploración de datos\n",
    "\n",
    "Dedícale un buen tiempo a hacer un Análisis Exploratorio de Datos. Elige preguntas que creas que puedas responder con este dataset. Por ejemplo, ¿cuáles son los juegos más populares?¿Y los menos populares?\n",
    "\n",
    "### Filtro Colaborativo\n",
    "\n",
    "Deberás implementar un sistema de recomendación colaborativo para este dataset. Ten en cuenta:\n",
    "\n",
    "1. Haz todas las transformaciones de datos que consideres necesarias. Justifica.\n",
    "1. Evalúa de forma apropiada sus resultados. Justifica la métrica elegida.\n",
    "1. Elige un modelo benchmark y compara tus resultados con este modelo.\n",
    "1. Optimiza los hiperparámetros de tu modelo.\n",
    "\n",
    "Puedes implementar un filtro colaborativo a partir de la similitud coseno o índice de Jaccard. ¿Puedes utilizar los métodos de la librería Surprise? Si no es así, busca implementaciones (por ejemplo, nuevas librerías) que sean apropiadas.\n",
    "\n",
    "Para comenzar a trabajar, puedes asumir que cada entrada es un enlace entre una persona usuaria y un item, **independientemente** de si la crítica es buena o mala. \n",
    "\n",
    "### Para pensar, investigar y, opcionalmente, implementar\n",
    "1. ¿Cómo harías para ponerle un valor a la calificación?\n",
    "1. ¿Cómo harías para agregar contenido? Por ejemplo, cuentas con el género, precio, fecha de lanzamiento y más información de los juegos.\n",
    "1. ¿Hay algo que te gustaría investigar o probar?"
   ]
  },
  {
   "cell_type": "markdown",
   "metadata": {},
   "source": [
    "## Parte A - Exploración de Datos"
   ]
  },
  {
   "cell_type": "markdown",
   "metadata": {},
   "source": [
    "### 1. CONVERTIMOS ARCHIVOS JSON A CSV"
   ]
  },
  {
   "cell_type": "code",
   "execution_count": 1,
   "metadata": {
    "id": "lWZhtUxEWTzj"
   },
   "outputs": [],
   "source": [
    "import gzip\n",
    "import pandas as pd\n",
    "\n",
    "def parse(path):\n",
    "    g = gzip.open(path, 'r')\n",
    "    for l in g:\n",
    "        yield eval(l)"
   ]
  },
  {
   "cell_type": "markdown",
   "metadata": {
    "id": "BmEM25k4WTzw"
   },
   "source": [
    "#### 1.1 REVIEWS"
   ]
  },
  {
   "cell_type": "code",
   "execution_count": null,
   "metadata": {
    "id": "abAXItn1WTz0"
   },
   "outputs": [],
   "source": [
    "contador = 0\n",
    "data_reviews = []\n",
    " # Vamos a guardar una de cada 10 reviews para no llenar la memoria RAM.\n",
    "n = 10\n",
    "for l in parse('steam_reviews.json.gz'):\n",
    "    if contador%n == 0:\n",
    "        data_reviews.append(l)\n",
    "    else:\n",
    "        pass\n",
    "    contador += 1"
   ]
  },
  {
   "cell_type": "code",
   "execution_count": null,
   "metadata": {
    "id": "7GovAZQBWTz8"
   },
   "outputs": [],
   "source": [
    "data_reviews = pd.DataFrame(data_reviews)"
   ]
  },
  {
   "cell_type": "code",
   "execution_count": null,
   "metadata": {
    "id": "j24F0ZaYWT0E"
   },
   "outputs": [],
   "source": [
    "data_reviews.head()"
   ]
  },
  {
   "cell_type": "code",
   "execution_count": null,
   "metadata": {},
   "outputs": [],
   "source": [
    "data_reviews.to_csv('new_data_reviews.csv')"
   ]
  },
  {
   "cell_type": "markdown",
   "metadata": {
    "id": "04ed3teRWT0T"
   },
   "source": [
    "#### 1.2 GAMES"
   ]
  },
  {
   "cell_type": "code",
   "execution_count": null,
   "metadata": {
    "id": "8wRb24Y5WT0U"
   },
   "outputs": [],
   "source": [
    "data_games = []\n",
    "for l in parse('steam_games.json.gz'):\n",
    "    data_games.append(l)\n",
    "data_games = pd.DataFrame(data_games)"
   ]
  },
  {
   "cell_type": "code",
   "execution_count": null,
   "metadata": {
    "id": "sVR0Cs6SWT0b"
   },
   "outputs": [],
   "source": [
    "data_games.head()"
   ]
  },
  {
   "cell_type": "code",
   "execution_count": null,
   "metadata": {},
   "outputs": [],
   "source": [
    "data_games.to_csv('new_data_games.csv')"
   ]
  },
  {
   "cell_type": "markdown",
   "metadata": {},
   "source": [
    "### 2. BREVE DESCRIPCIÓN DE STEAM"
   ]
  },
  {
   "cell_type": "markdown",
   "metadata": {},
   "source": [
    "__Steam__ es un sistema de distribución de juegos multiplataforma en línea, con alrededor de 75 millones de usuarios activos, alrededor de 172 millones de cuentas en total, que aloja más de 3000 juegos, lo que lo convierte en una plataforma ideal para el tipo de trabajo que aquí se presenta. El conjunto de datos contiene registros de más de 3200 juegos y aplicaciones.  \n",
    "\n",
    "Steam es un servicio de distribución digital de videojuegos de Valve. Se lanzó como un cliente de software independiente en septiembre de 2003 como una forma de que Valve proporcionara actualizaciones automáticas para sus juegos y luego, se expandió para incluir juegos de editores externos. Steam también se ha expandido a una tienda digital móvil y basada en la web en línea.  \n",
    "\n",
    "De acuerdo con la **popularidad del juego, la similitud de la descripción del juego, la calidad del juego y la preferencia del jugador por el juego**, recomiendan el juego correspondiente al jugador del juego, de modo que Steam obtenga un mayor grado de satisfacción del cliente."
   ]
  },
  {
   "cell_type": "markdown",
   "metadata": {},
   "source": [
    "### 3. ANÁLISIS EXPLORATORIO DE DATOS"
   ]
  },
  {
   "cell_type": "markdown",
   "metadata": {},
   "source": [
    "1. __Se importan las librerías__ necesarias para trabajar en la consigna."
   ]
  },
  {
   "cell_type": "code",
   "execution_count": null,
   "metadata": {},
   "outputs": [],
   "source": [
    "import numpy as np\n",
    "import matplotlib.pyplot as plt\n",
    "import seaborn as sns\n",
    "sns.set()\n",
    "\n",
    "import pandas as pd\n",
    "\n",
    "import gc # garbage collector\n",
    "\n",
    "from surprise import Dataset     \n",
    "from surprise import Reader\n",
    "from surprise.model_selection import train_test_split"
   ]
  },
  {
   "cell_type": "markdown",
   "metadata": {},
   "source": [
    "2. __Se realiza la carga el dataset__ usando las funcionalidades de Pandas."
   ]
  },
  {
   "cell_type": "markdown",
   "metadata": {},
   "source": [
    "__DATA REVIEW__"
   ]
  },
  {
   "cell_type": "code",
   "execution_count": null,
   "metadata": {},
   "outputs": [],
   "source": [
    "new_data_reviews = pd.read_csv('new_data_reviews.csv')"
   ]
  },
  {
   "cell_type": "code",
   "execution_count": null,
   "metadata": {},
   "outputs": [],
   "source": [
    "new_data_reviews.shape # Filas y columnas"
   ]
  },
  {
   "cell_type": "markdown",
   "metadata": {},
   "source": [
    "* *El Dataset, cuenta con **779.307 Filas**, y **13 Columnas**.*"
   ]
  },
  {
   "cell_type": "code",
   "execution_count": null,
   "metadata": {},
   "outputs": [],
   "source": [
    "new_data_reviews.head(3) # Primeras 3 instancias (filas)"
   ]
  },
  {
   "cell_type": "markdown",
   "metadata": {},
   "source": [
    "__DATA GAMES__"
   ]
  },
  {
   "cell_type": "code",
   "execution_count": null,
   "metadata": {},
   "outputs": [],
   "source": [
    "new_data_games = pd.read_csv('new_data_games.csv')"
   ]
  },
  {
   "cell_type": "code",
   "execution_count": null,
   "metadata": {},
   "outputs": [],
   "source": [
    "new_data_games.shape # Filas y columnas"
   ]
  },
  {
   "cell_type": "markdown",
   "metadata": {},
   "source": [
    "* *El Dataset, cuenta con **32.135 Filas**, y **17 Columnas**.*"
   ]
  },
  {
   "cell_type": "code",
   "execution_count": null,
   "metadata": {},
   "outputs": [],
   "source": [
    "new_data_games.head(3) # Primeras 3 instancias (filas)"
   ]
  },
  {
   "cell_type": "markdown",
   "metadata": {},
   "source": [
    "3. __Valores Faltantes:__ se imprimen en pantalla los nombres de las columnas y cuántos valores faltantes hay por columna. En un principio es a mera exposición, ya que por el momento no vamos a descartar ninguno de ellos, ni realizar imputación de datos."
   ]
  },
  {
   "cell_type": "markdown",
   "metadata": {},
   "source": [
    "__DATA REVIEW__"
   ]
  },
  {
   "cell_type": "code",
   "execution_count": null,
   "metadata": {},
   "outputs": [],
   "source": [
    "new_data_reviews.isnull().sum() # Nombres de las columnas y su cantidad de faltantes"
   ]
  },
  {
   "cell_type": "markdown",
   "metadata": {},
   "source": [
    "* *Variables con elementos faltantes:*  \n",
    "    *1. `compensation` **98%** (764.719);*  \n",
    "    *2. `found_funny` **86%** (659.143);*  \n",
    "    *3. `user_id` 59% c/u (461.967);*  \n",
    "    *4. `hours` 0,3% (2.637);*  \n",
    "    *5. `text` 0,2% (1.839);*  \n",
    "    *6. `product` 0,2% (1.566).*"
   ]
  },
  {
   "cell_type": "markdown",
   "metadata": {},
   "source": [
    "__DATA GAMES__"
   ]
  },
  {
   "cell_type": "code",
   "execution_count": null,
   "metadata": {},
   "outputs": [],
   "source": [
    "new_data_games.isnull().sum() # Nombres de las columnas y su cantidad de faltantes"
   ]
  },
  {
   "cell_type": "markdown",
   "metadata": {},
   "source": [
    "* *Casi todas las Variables tienen elementos faltantes. Detallamos las principales:*  \n",
    "    *1. `discount_price` **98%** (31.910);*  \n",
    "    *2. `metascore` **98%** (29.528);*  \n",
    "    *3. `publisher` 59% c/u (8.062);*  \n",
    "    *4. `sentiment` 0,3% (7.182);*  \n",
    "    *5. `developer` 0,2% (3.299);*  \n",
    "    *6. `genres` 0,2% (3.283).*\n",
    "    \n",
    "* *Cabe aclarar que la columna `id`, sólo tiene 2 valores faltantes.*\n",
    "* *`metascore` refiere a la media de todas las reseñas recibidas para dicho juego.*"
   ]
  },
  {
   "cell_type": "markdown",
   "metadata": {},
   "source": [
    "4. Reseñas a partir de la calificación __sentiment.__"
   ]
  },
  {
   "cell_type": "code",
   "execution_count": null,
   "metadata": {},
   "outputs": [],
   "source": [
    "pd.unique(new_data_games['sentiment'])"
   ]
  },
  {
   "cell_type": "code",
   "execution_count": null,
   "metadata": {},
   "outputs": [],
   "source": [
    "print(new_data_games['sentiment'].value_counts())"
   ]
  },
  {
   "cell_type": "code",
   "execution_count": null,
   "metadata": {},
   "outputs": [],
   "source": [
    "print(new_data_games['sentiment'].value_counts().sum())"
   ]
  },
  {
   "cell_type": "markdown",
   "metadata": {},
   "source": [
    "* *En total tenemos 24953 reseñas a partir de `sentiment`.*"
   ]
  },
  {
   "cell_type": "code",
   "execution_count": null,
   "metadata": {},
   "outputs": [],
   "source": [
    "sns.countplot(data = new_data_games, y = 'sentiment', order = new_data_games['sentiment'].value_counts().index, palette='pastel')\n",
    "plt.title('Número de Calificaciones por Tipo')"
   ]
  },
  {
   "cell_type": "markdown",
   "metadata": {},
   "source": [
    "* *Podemos observar, que existe un tipo de calificación -`sentiment`-, que divide a los juegos en distintas reseñas, como ser, Muy Positivo, Positivo, Negativo, Muy Negativo, etc..*\n",
    "* *Sin embargo, también tenemos dentro de la misma, reseñas que van de 1 user reviews a 9 user reviews, las cuales son poco viables rankear, ya que es difícil dar un orden a las mismas.*"
   ]
  },
  {
   "cell_type": "markdown",
   "metadata": {},
   "source": [
    "5. Reseñas a partir de la calificaciones __metascore.__"
   ]
  },
  {
   "cell_type": "code",
   "execution_count": null,
   "metadata": {},
   "outputs": [],
   "source": [
    "pd.unique(new_data_games['metascore'])"
   ]
  },
  {
   "cell_type": "code",
   "execution_count": null,
   "metadata": {},
   "outputs": [],
   "source": [
    "print(new_data_games['metascore'].value_counts())"
   ]
  },
  {
   "cell_type": "code",
   "execution_count": null,
   "metadata": {},
   "outputs": [],
   "source": [
    "print(new_data_games['metascore'].value_counts().sum())"
   ]
  },
  {
   "cell_type": "markdown",
   "metadata": {},
   "source": [
    "* *En total tenemos 2607 reseñas a partir de la calificación `metascore`.*"
   ]
  },
  {
   "cell_type": "code",
   "execution_count": null,
   "metadata": {},
   "outputs": [],
   "source": [
    "plt.figure(figsize = (15,13))\n",
    "sns.countplot(data = new_data_games, y = 'metascore', order = new_data_games['metascore'].value_counts().index, palette='pastel')\n",
    "plt.title('Número de Calificaciones por Tipo')"
   ]
  },
  {
   "cell_type": "markdown",
   "metadata": {},
   "source": [
    "* *Si bien `metascore` parece ser una buena forma de darle puntuación a los juegos, la cantidad de calificaciones disponibles es realmente baja en función al dataset total de `reviews`.*\n",
    "* *En total tenemos 2607 reseñas a partir de `metascore`, lo cual representa un 0,3% del dataset.*"
   ]
  },
  {
   "cell_type": "markdown",
   "metadata": {},
   "source": [
    "### 4. PREPARACIÓN Y TRANSFORMACIÓN DE DATOS PARA RECOMENDACIÓN COLABORATIVA"
   ]
  },
  {
   "cell_type": "markdown",
   "metadata": {},
   "source": [
    "* Los métodos de **filtrado colaborativo** construyen un modelo basado en el comportamiento pasado de los usuarios (artículos comprados anteriormente, películas vistas y calificadas, etc.) y utilizan las decisiones tomadas por los usuarios actuales y otros. Este modelo se utiliza luego para predecir elementos (o calificaciones de elementos) en los que el usuario puede estar interesado.\n",
    "    * Ventajas: no necesitamos tener información acerca de los productos.\n",
    "    * Desventajas: necesitamos tener la matríz de utilidad (que es muy dispersa) y llenarla es costosa en tiempo y dinero.\n",
    "  \n",
    "  \n",
    "* Para implementarlo, necesitamos un dataset donde cada fila represente un `usuario`, un `juego` y la `calificación del usuario` a ese juego. Es decir, tiras de tres componentes. Hay otra información que puede ser útil, pero con esos tres datos ya podemos implementar un filtro colaborativo."
   ]
  },
  {
   "cell_type": "markdown",
   "metadata": {},
   "source": [
    "CASO PARTICULAR STEAM\n",
    "* No hay registros tanto en el sitio web Steam, sobre las calificaciones continuas de estos usuarios. En realidad, en la plataforma, los usuarios sólo dan \"Recomendación\" o \"No Recomendación\", lo que significa revisiones binarias, positivas y negativas, incluso en el sitio web del usuario, todavía no hay ningún mecanismo sobre las calificaciones continuas como una estrella a cinco estrellas.\n",
    "* Para obtener calificaciones continuas sobre la interacción entre los usuarios y los juegos, debemos suponer un mecanismo de interacción de calificación de los juegos por parte de los usuarios. Ya que las concentraciones de los usuarios sobre los juegos pueden ser ajustadas por sus `tiempos de juego`, podemos asumir que el tiempo de juego es una información bastante persuasiva sobre los intereses de los usuarios.\n",
    "* Por lo tanto, __aquí asumimos que el `tiempo de juego` es una parte muy importante de los intereses.__"
   ]
  },
  {
   "cell_type": "markdown",
   "metadata": {},
   "source": [
    "#### 4.1 DATA REVIEWS"
   ]
  },
  {
   "cell_type": "markdown",
   "metadata": {},
   "source": [
    "1. Seleccionamos aquellos **features que nos seran útiles** a la hora de realizar las predicciones."
   ]
  },
  {
   "cell_type": "markdown",
   "metadata": {},
   "source": [
    "* *Según lo explicado en el punto anterior, en éste caso vamos a considerar los features de `username`, `product_id` y `hours`, ya que son los que nos van a ser útiles a la hora de realizar nuestro filtro colaborativo*."
   ]
  },
  {
   "cell_type": "code",
   "execution_count": null,
   "metadata": {},
   "outputs": [],
   "source": [
    "df = pd.read_csv('new_data_reviews.csv', dtype={'hours': np.float, 'product_id': np.int})\n",
    "print(df.shape)"
   ]
  },
  {
   "cell_type": "code",
   "execution_count": null,
   "metadata": {},
   "outputs": [],
   "source": [
    "df1 = df[['username','hours','product_id']]\n",
    "df1"
   ]
  },
  {
   "cell_type": "markdown",
   "metadata": {},
   "source": [
    "* *Nos quedamos con los 3 features indicados anteriormente.*"
   ]
  },
  {
   "cell_type": "markdown",
   "metadata": {},
   "source": [
    "2. __Valores Faltantes:__ visualización y tratamiento."
   ]
  },
  {
   "cell_type": "code",
   "execution_count": null,
   "metadata": {},
   "outputs": [],
   "source": [
    "df1.isnull().sum()"
   ]
  },
  {
   "cell_type": "markdown",
   "metadata": {},
   "source": [
    "* *Los valores fatantes representan menos del 0,3% del total de instancias, por lo que se procede a eliminarlos, ya que no deberían generar grandes distorsiones en el dataset.*"
   ]
  },
  {
   "cell_type": "code",
   "execution_count": null,
   "metadata": {},
   "outputs": [],
   "source": [
    "df2 = df1.dropna()"
   ]
  },
  {
   "cell_type": "code",
   "execution_count": null,
   "metadata": {},
   "outputs": [],
   "source": [
    "df2.isnull().sum()"
   ]
  },
  {
   "cell_type": "code",
   "execution_count": null,
   "metadata": {},
   "outputs": [],
   "source": [
    "print(df2.shape)"
   ]
  },
  {
   "cell_type": "markdown",
   "metadata": {},
   "source": [
    "3. __Outliers:__ visualización y tratamiento de valores atípicos en `horas`, la cual será la que utilizaremos luego para elaborar los Ratings."
   ]
  },
  {
   "cell_type": "code",
   "execution_count": null,
   "metadata": {},
   "outputs": [],
   "source": [
    "plt.figure(figsize = (6,4))\n",
    "sns.boxplot(data = df2, y = 'hours', palette= 'pastel')\n",
    "plt.title('Cantidad Horas Jugadas por Usuario por Juego')\n",
    "plt.ticklabel_format(axis = 'y', style = 'plain')"
   ]
  },
  {
   "cell_type": "markdown",
   "metadata": {},
   "source": [
    "* *Se procede a descartar los datos atípicos para `horas`, en éste caso aquellos valores ubicados por encima de 21.000 horas de juego.*"
   ]
  },
  {
   "cell_type": "code",
   "execution_count": null,
   "metadata": {},
   "outputs": [],
   "source": [
    "mask_hours = (df2['hours'] <= 21000)\n",
    "df3 = df2[mask_hours]\n",
    "\n",
    "df3['hours'].describe()"
   ]
  },
  {
   "cell_type": "code",
   "execution_count": null,
   "metadata": {},
   "outputs": [],
   "source": [
    "print(df3.shape)"
   ]
  },
  {
   "cell_type": "markdown",
   "metadata": {},
   "source": [
    "* *El **Dataset Final de Reviews con el que vamos a trabajar**, representa aprox. un **99,7% del Dataset Original Descargado**.*"
   ]
  },
  {
   "cell_type": "markdown",
   "metadata": {},
   "source": [
    "4. __Encoders:__ aplicación de LabelEncoder s/ `username`."
   ]
  },
  {
   "cell_type": "markdown",
   "metadata": {},
   "source": [
    "* *Cada nombre de usuario es **único**, lo cual se refleja en el feature `username` de nuestro dataset.*\n",
    "* *Si bien Surpr!se puede trabajar con features bajo éstas condiciones, **se decide asignarle un Id a cada usuario único**, a fin de facilitar comparaciones a futuro.*"
   ]
  },
  {
   "cell_type": "code",
   "execution_count": null,
   "metadata": {},
   "outputs": [],
   "source": [
    "from sklearn.preprocessing import LabelEncoder\n",
    "\n",
    "le = LabelEncoder()\n",
    "df3['username'] = le.fit_transform(df3['username'])\n",
    "print(df1['username'])"
   ]
  },
  {
   "cell_type": "code",
   "execution_count": null,
   "metadata": {},
   "outputs": [],
   "source": [
    "df3"
   ]
  },
  {
   "cell_type": "markdown",
   "metadata": {},
   "source": [
    "* *Como se observa en la columna de `username`, ahora cada usuario se encuentra representado por un Id Number.*"
   ]
  },
  {
   "cell_type": "markdown",
   "metadata": {},
   "source": [
    "5. __Determinación de Calificaciones:__ confección de un `rating` a partir de las horas jugadas."
   ]
  },
  {
   "cell_type": "markdown",
   "metadata": {},
   "source": [
    "* *La **cantidad de horas jugadas por cada usuario para cada juego**, será para el presente estudio, determinante a la hora de establecer las calificaciones.*\n",
    "* *Se establecerán 5 puntuaciones que **van del 1 a 5**, determinadas en función a la distribución de los datos (quintiles).*\n",
    "* *Se escoje dicha elección, para que en cada una de las puntuaciones se halle una cantidad de valores similares.*"
   ]
  },
  {
   "cell_type": "markdown",
   "metadata": {},
   "source": [
    "* *A modo de demostración, se expone la concentración de datos resultante para un tipo de rating, si simplemente hubiéramos optado por tomar el valor máximo de horas, es decir 20573, y lo dividiéramos en 5 Bins.*"
   ]
  },
  {
   "cell_type": "code",
   "execution_count": null,
   "metadata": {},
   "outputs": [],
   "source": [
    "demo = df2"
   ]
  },
  {
   "cell_type": "code",
   "execution_count": null,
   "metadata": {},
   "outputs": [],
   "source": [
    "bins = [0, 4114.6, 8229.2, 12343.8, 16458.4, 20573]\n",
    "labels =[1,2,3,4,5]\n",
    "\n",
    "demo['rating'] = pd.cut(demo['hours'], bins,labels=labels)"
   ]
  },
  {
   "cell_type": "code",
   "execution_count": null,
   "metadata": {},
   "outputs": [],
   "source": [
    "demo['rating'].value_counts(normalize=True)"
   ]
  },
  {
   "cell_type": "code",
   "execution_count": null,
   "metadata": {},
   "outputs": [],
   "source": [
    "fig = plt.figure()\n",
    "fig, ax = plt.subplots(figsize = (6,4))\n",
    "plt.title('Cantidad de Calificaciones por Rating')\n",
    "sns.countplot(data=demo, x ='rating')"
   ]
  },
  {
   "cell_type": "markdown",
   "metadata": {},
   "source": [
    "* *Vemos que visualmente, todas las calificaciones prarecerían quedar en **rating = 1**, y ésto ocurre porque concentra el **99,85%** de los datos.*"
   ]
  },
  {
   "cell_type": "markdown",
   "metadata": {},
   "source": [
    "* *Ahora sí, **aplicamos la modalidad elegida** de dividir los datos en **quintiles**.*"
   ]
  },
  {
   "cell_type": "code",
   "execution_count": null,
   "metadata": {},
   "outputs": [],
   "source": [
    "df3['rating'] = pd.qcut(df3.hours, 5, labels=['1', '2', '3', '4', '5'])\n",
    "print (df3)"
   ]
  },
  {
   "cell_type": "code",
   "execution_count": null,
   "metadata": {},
   "outputs": [],
   "source": [
    "df3['rating'].value_counts(normalize=True)"
   ]
  },
  {
   "cell_type": "markdown",
   "metadata": {},
   "source": [
    "* *Se cumple la simétrica distribución de los datos.*\n",
    "* *A continuación graficamos.*"
   ]
  },
  {
   "cell_type": "code",
   "execution_count": null,
   "metadata": {},
   "outputs": [],
   "source": [
    "fig = plt.figure()\n",
    "fig, ax = plt.subplots(figsize = (6,4))\n",
    "plt.title('Cantidad de Calificaciones por Rating')\n",
    "sns.countplot(data=df3, x ='rating')"
   ]
  },
  {
   "cell_type": "code",
   "execution_count": null,
   "metadata": {},
   "outputs": [],
   "source": [
    "pd.unique(df3['rating'])"
   ]
  },
  {
   "cell_type": "markdown",
   "metadata": {},
   "source": [
    "* *Los valores resultan categóricos, ordenados de menor a mayor.*\n",
    "* *Los pasamos a enteros, con el fin de poder seguir explorando sus datos.*"
   ]
  },
  {
   "cell_type": "code",
   "execution_count": null,
   "metadata": {},
   "outputs": [],
   "source": [
    "df3['rating'] = df3['rating'].astype(int)"
   ]
  },
  {
   "cell_type": "markdown",
   "metadata": {},
   "source": [
    "* *Eliminamos la columna de `hours`, dejando en su remplazo la confeccionada de `rating` y reordenamos para una mejor visualización.*"
   ]
  },
  {
   "cell_type": "code",
   "execution_count": null,
   "metadata": {},
   "outputs": [],
   "source": [
    "final_reviews = df3[['username','product_id','rating']]\n",
    "final_reviews"
   ]
  },
  {
   "cell_type": "code",
   "execution_count": null,
   "metadata": {},
   "outputs": [],
   "source": [
    "final_reviews.dtypes"
   ]
  },
  {
   "cell_type": "markdown",
   "metadata": {},
   "source": [
    "* *Tenemos int32 para todos los features, lo cual nos permitirá un mejor procesamiento de datos en función a la memoria a utilizar.*"
   ]
  },
  {
   "cell_type": "markdown",
   "metadata": {},
   "source": [
    "* *Obtenemos finalmente el **Dataset de Reviews**, con Usuarios, Id de Productos y Rating, que vamos a utilizar para seguir explorando los datos y sus relaciones con Data Games y además, será la base para entrenar el modelo elegido y realizar las recomendaciones de juegos propuestas.*"
   ]
  },
  {
   "cell_type": "code",
   "execution_count": null,
   "metadata": {},
   "outputs": [],
   "source": [
    "if True:\n",
    "    final_reviews.to_csv('final_reviews.csv', index= False) # Guardamos el Dataset modificado en un nuevo archivo"
   ]
  },
  {
   "cell_type": "markdown",
   "metadata": {},
   "source": [
    "#### 4.2 DATA GAMES"
   ]
  },
  {
   "cell_type": "markdown",
   "metadata": {},
   "source": [
    "1. Seleccionamos aquellos **features que nos seran útiles** a la hora de realizar las predicciones."
   ]
  },
  {
   "cell_type": "markdown",
   "metadata": {},
   "source": [
    "* *En éste caso, serán útiles las columnas de `title`, para poder identificar el nombre de los juegos, y del `id` de los juegos, para realizar el cruce de datos con Data Reviews, ya que es éste último el feature, el que tienen en común ambos Datasets.*"
   ]
  },
  {
   "cell_type": "code",
   "execution_count": null,
   "metadata": {},
   "outputs": [],
   "source": [
    "df_titulo = pd.read_csv('new_data_games.csv', encoding = \"ISO-8859-1\", usecols = [4,13])\n",
    "print(df_titulo.shape)\n",
    "df_titulo.head()"
   ]
  },
  {
   "cell_type": "markdown",
   "metadata": {},
   "source": [
    "2. Se **intercambian** las columnas, y se **renombra** la de `id`, a fin de que coincida con el dataset de Reviews."
   ]
  },
  {
   "cell_type": "code",
   "execution_count": null,
   "metadata": {},
   "outputs": [],
   "source": [
    "df_titulo = df_titulo[['id','title']]\n",
    "df_titulo.head()"
   ]
  },
  {
   "cell_type": "code",
   "execution_count": null,
   "metadata": {},
   "outputs": [],
   "source": [
    "df_new = df_titulo.rename(columns={'id':'product_id'})\n",
    "df_new"
   ]
  },
  {
   "cell_type": "markdown",
   "metadata": {},
   "source": [
    "3. __Valores Faltantes:__ visualización y tratamiento."
   ]
  },
  {
   "cell_type": "code",
   "execution_count": null,
   "metadata": {},
   "outputs": [],
   "source": [
    "df_new.isnull().sum()"
   ]
  },
  {
   "cell_type": "markdown",
   "metadata": {},
   "source": [
    "* *Los valores fatantes representan el 6,4% del total de instancias.*\n",
    "* *Se procede a eliminar todos ellos, ya que sin `product_id` no podemos cruzar los datos con el dataframe de Reviews, y sin `title` no podremos realizar las recomendaciones.*"
   ]
  },
  {
   "cell_type": "code",
   "execution_count": null,
   "metadata": {},
   "outputs": [],
   "source": [
    "df_new_2 = df_new.dropna()"
   ]
  },
  {
   "cell_type": "code",
   "execution_count": null,
   "metadata": {},
   "outputs": [],
   "source": [
    "df_new_2"
   ]
  },
  {
   "cell_type": "code",
   "execution_count": null,
   "metadata": {},
   "outputs": [],
   "source": [
    "df_new_2.isnull().sum()"
   ]
  },
  {
   "cell_type": "markdown",
   "metadata": {},
   "source": [
    "* *El **Dataset Final de Games con el que vamos a trabajar**, representa aprox. un **93,6% del Dataset Original Descargado**.*"
   ]
  },
  {
   "cell_type": "markdown",
   "metadata": {},
   "source": [
    "4. Tratamiento del feature `product_id`, a fin de **indexarla** para realizar el cruce con el Dataset de Reviews en Surpr!se."
   ]
  },
  {
   "cell_type": "code",
   "execution_count": null,
   "metadata": {},
   "outputs": [],
   "source": [
    "df_new_2.dtypes"
   ]
  },
  {
   "cell_type": "markdown",
   "metadata": {},
   "source": [
    "* *Precisamos que el tipo de dato sea entero para `product_id`, a fin de poder realizar su indexación.* "
   ]
  },
  {
   "cell_type": "code",
   "execution_count": null,
   "metadata": {},
   "outputs": [],
   "source": [
    "df_new_2[('product_id')] = df_new_2['product_id'].astype(int)"
   ]
  },
  {
   "cell_type": "markdown",
   "metadata": {},
   "source": [
    "* *Ahora sí, se indexa la columna `pruduct_id`.*"
   ]
  },
  {
   "cell_type": "code",
   "execution_count": null,
   "metadata": {},
   "outputs": [],
   "source": [
    "df_title = df_new_2.set_index('product_id', drop=True)\n",
    "df_title"
   ]
  },
  {
   "cell_type": "code",
   "execution_count": null,
   "metadata": {},
   "outputs": [],
   "source": [
    "df_title.dtypes"
   ]
  },
  {
   "cell_type": "markdown",
   "metadata": {},
   "source": [
    "* *Luego, el tipo de dato de `pruduct_id` y `title` resultan ser **object**, siendo acorde para llevar a cabo nuestras recomendaciones a posteriori.*"
   ]
  },
  {
   "cell_type": "markdown",
   "metadata": {},
   "source": [
    "5. __Eliminación__ de juegos __repetidos__."
   ]
  },
  {
   "cell_type": "markdown",
   "metadata": {},
   "source": [
    "* *Se eliminan aquellos valores que se encuentran duplicados en `product_id`, ya que sólo puede haber 1 juego con el mismo Id.*"
   ]
  },
  {
   "cell_type": "code",
   "execution_count": null,
   "metadata": {},
   "outputs": [],
   "source": [
    "print(df_title.loc[612880])"
   ]
  },
  {
   "cell_type": "code",
   "execution_count": null,
   "metadata": {},
   "outputs": [],
   "source": [
    "df_title = df_title[~df_title.index.duplicated(keep='first')]"
   ]
  },
  {
   "cell_type": "code",
   "execution_count": null,
   "metadata": {},
   "outputs": [],
   "source": [
    "df_title"
   ]
  },
  {
   "cell_type": "markdown",
   "metadata": {},
   "source": [
    "* *Sólo había 1 juego duplicado.*"
   ]
  },
  {
   "cell_type": "markdown",
   "metadata": {},
   "source": [
    "* *Obtuvimos el **Dataset de Games** final, con Usuarios y Id de Productos como Index, para poder realizar el cruce de datos con Reviews, y que será utilizado para los mismos objetivos antes nombrados, es decir, seguir explorando los datos, y servir de base para entrenar el modelo elegido y realizar las recomendaciones de juegos propuestas.*"
   ]
  },
  {
   "cell_type": "markdown",
   "metadata": {},
   "source": [
    "### 5. EXPLORANDO EL COMPORTAMIENTO DE LOS DATOS Y SU RELACIÓN ENTRE AMBOS DATASETS"
   ]
  },
  {
   "cell_type": "markdown",
   "metadata": {},
   "source": [
    "* *Realizamos distintas preguntas, con el fin de realizar un Análisis Exploratorio de Datos más profundo y enfocado a nuestro objetivo de Recomendar Juegos.*"
   ]
  },
  {
   "cell_type": "markdown",
   "metadata": {},
   "source": [
    "1. ¿Cuántos usuarios únicos hay?"
   ]
  },
  {
   "cell_type": "code",
   "execution_count": null,
   "metadata": {},
   "outputs": [],
   "source": [
    "print(len(final_reviews['username'].unique()))"
   ]
  },
  {
   "cell_type": "markdown",
   "metadata": {},
   "source": [
    "* *539030 usuarios calificaron juegos.*"
   ]
  },
  {
   "cell_type": "markdown",
   "metadata": {},
   "source": [
    "2. ¿Cuántos juegos únicos hay?"
   ]
  },
  {
   "cell_type": "code",
   "execution_count": null,
   "metadata": {},
   "outputs": [],
   "source": [
    "print(len(df_new_2['product_id'].unique())) # Se utiliza df_new_2, porque es donde product_id aún no se encuentra indexado"
   ]
  },
  {
   "cell_type": "markdown",
   "metadata": {},
   "source": [
    "* *En total se trabajará con 30083 juegos.*"
   ]
  },
  {
   "cell_type": "markdown",
   "metadata": {},
   "source": [
    "3. ¿Cuántas reseñas se realizaron?"
   ]
  },
  {
   "cell_type": "code",
   "execution_count": null,
   "metadata": {},
   "outputs": [],
   "source": [
    "final_reviews['rating'].shape"
   ]
  },
  {
   "cell_type": "markdown",
   "metadata": {},
   "source": [
    "* *Existen un total de 776650 calificaciones realizadas.*"
   ]
  },
  {
   "cell_type": "markdown",
   "metadata": {},
   "source": [
    "4. Podemos obtener el nombre de un juego dado su `Id`."
   ]
  },
  {
   "cell_type": "code",
   "execution_count": null,
   "metadata": {},
   "outputs": [],
   "source": [
    "product_id = 4574\n",
    "print(df_new_2.loc[product_id])"
   ]
  },
  {
   "cell_type": "code",
   "execution_count": null,
   "metadata": {},
   "outputs": [],
   "source": [
    "product_id = 27432\n",
    "print(df_new_2.loc[product_id])"
   ]
  },
  {
   "cell_type": "markdown",
   "metadata": {},
   "source": [
    "5. ¿Cuántos juegos calificó cada usuario?"
   ]
  },
  {
   "cell_type": "code",
   "execution_count": null,
   "metadata": {},
   "outputs": [],
   "source": [
    "calificaciones_por_usuario = final_reviews.username.value_counts()\n",
    "calificaciones_por_usuario"
   ]
  },
  {
   "cell_type": "markdown",
   "metadata": {},
   "source": [
    "* *La primer columna es el ID del usuario y la segunda, la cantidad de calificaciones que dió.*\n",
    "* *El usuario 5442 es el que mas calificaciones realizó (juegos jugó), con un total de 213 calificaciones.*"
   ]
  },
  {
   "cell_type": "markdown",
   "metadata": {},
   "source": [
    "6. ¿Cómo es la distribución del número de calificaciones por usuario?"
   ]
  },
  {
   "cell_type": "code",
   "execution_count": null,
   "metadata": {},
   "outputs": [],
   "source": [
    "calificaciones_por_usuario.hist(log = True)\n",
    "\n",
    "plt.xlabel('Cantidad de Calificaciones')\n",
    "plt.ylabel('Cantidad de Usuarios')\n",
    "plt.title('Cantidad de Calificaciones por Usuarios')\n",
    "plt.show()"
   ]
  },
  {
   "cell_type": "markdown",
   "metadata": {},
   "source": [
    "* *Vemos cuántas calificaciones de juegos realizó cada usuario.*\n",
    "* *Alrededor del 10% de los usuarios, son los que más calificaciones han realizado (o juegos han jugado).*"
   ]
  },
  {
   "cell_type": "markdown",
   "metadata": {},
   "source": [
    "7. ¿Cuáles son los juegos más populares? ¿Cuántas calificaciones tiene? ¿Y los juegos menos populares?"
   ]
  },
  {
   "cell_type": "code",
   "execution_count": null,
   "metadata": {},
   "outputs": [],
   "source": [
    "juegos_por_jugados = final_reviews.product_id.value_counts()\n",
    "juegos_por_jugados.index = df_title.loc[juegos_por_jugados.index].title\n",
    "juegos_por_jugados"
   ]
  },
  {
   "cell_type": "markdown",
   "metadata": {},
   "source": [
    "* *Se realiza un conteo por juego, de los valores únicos por juego (para c/ Id de juego, cuántos hay).*\n",
    "* *El juego jugado por mayor cantidad de usuarios, es Team Fortress con 18372 calificaciones.*\n",
    "* *5 de los juegos jugados 1 sola vez (menos calificados) son The Perks of Being a Wallflower, CitiesCorp Concept - Build Everything on Your Own, Island Racer, Island Racer, The Frost y DP Animation Maker.*"
   ]
  },
  {
   "cell_type": "markdown",
   "metadata": {},
   "source": [
    "8. ¿Cuál es la calificación promedio de cada juego?"
   ]
  },
  {
   "cell_type": "markdown",
   "metadata": {},
   "source": [
    "* *Primero, unimos los dataset de reviews y games*"
   ]
  },
  {
   "cell_type": "code",
   "execution_count": null,
   "metadata": {},
   "outputs": [],
   "source": [
    "game_data = pd.merge(final_reviews, df_title, on='product_id')\n",
    "game_data"
   ]
  },
  {
   "cell_type": "markdown",
   "metadata": {},
   "source": [
    "* *Observamos los primeros 5 juegos mejor puntuados, en forma descendente.*"
   ]
  },
  {
   "cell_type": "code",
   "execution_count": null,
   "metadata": {},
   "outputs": [],
   "source": [
    "game_data.groupby('title')['rating'].mean().sort_values(ascending=False).head()"
   ]
  },
  {
   "cell_type": "markdown",
   "metadata": {},
   "source": [
    "* *Sin embargo, hay un problema. Un juego puede llegar a la cima de la lista anterior incluso si sólo un usuario le ha dado cinco estrellas. Por lo tanto, las estadísticas anteriores pueden ser engañosas. Normalmente, un juego que es realmente bueno obtiene una calificación más alta por un gran número de usuarios.*\n",
    "* *Ahora volvamos a ver el número total de calificaciones de juego:*"
   ]
  },
  {
   "cell_type": "code",
   "execution_count": null,
   "metadata": {},
   "outputs": [],
   "source": [
    "game_data.groupby('title')['rating'].count().sort_values(ascending=False).head()"
   ]
  },
  {
   "cell_type": "markdown",
   "metadata": {},
   "source": [
    "* *Ahora que sabemos que tanto la calificación promedio por juego como el número de calificaciones por juego son atributos importantes, crearemos un nuevo marco de datos que contenga ambos atributos.*\n",
    "* *Crearemos un nuevo dataframe de datos llamado `ratings_mean_count` y primero añadiremos la clasificación media de cada juego a este dataframe de datos de la siguiente manera:*"
   ]
  },
  {
   "cell_type": "code",
   "execution_count": null,
   "metadata": {},
   "outputs": [],
   "source": [
    "ratings_mean_count = pd.DataFrame(game_data.groupby('title')['rating'].mean())"
   ]
  },
  {
   "cell_type": "markdown",
   "metadata": {},
   "source": [
    "* *A continuación, añadiremos el número de calificaciones de un juego al cuadro de datos, con el conteo de la media de calificaciones.*"
   ]
  },
  {
   "cell_type": "code",
   "execution_count": null,
   "metadata": {},
   "outputs": [],
   "source": [
    "ratings_mean_count['rating_counts'] = pd.DataFrame(game_data.groupby('title')['rating'].count())\n",
    "ratings_mean_count.head()"
   ]
  },
  {
   "cell_type": "markdown",
   "metadata": {},
   "source": [
    "* *Podemos ver el título del juego, junto con la calificación promedio y el número de calificaciones de los juegos.*"
   ]
  },
  {
   "cell_type": "code",
   "execution_count": null,
   "metadata": {},
   "outputs": [],
   "source": [
    "plt.figure(figsize=(7,5))\n",
    "plt.rcParams['patch.force_edgecolor'] = True\n",
    "ratings_mean_count['rating'].hist(bins=50)\n",
    "plt.xlabel('Calificación Promedio')\n",
    "plt.ylabel('Cantidad de Juegos')\n",
    "plt.title('Cantidad de Juegos por Calificación Promedio')"
   ]
  },
  {
   "cell_type": "markdown",
   "metadata": {},
   "source": [
    "* *En nuestro caso, los juegos con un mayor número de valoraciones suelen tener también una valoración media baja.*"
   ]
  },
  {
   "cell_type": "markdown",
   "metadata": {},
   "source": [
    "## Parte B - Modelo de Machine Learning"
   ]
  },
  {
   "cell_type": "markdown",
   "metadata": {},
   "source": [
    "Los sistemas de recomendación se encuentran entre las aplicaciones más populares de la ciencia de datos en la actualidad. Se utilizan para predecir la \"calificación\" o \"preferencia\" que un usuario le daría a un artículo. Casi todas las grandes empresas de tecnología los han aplicado de alguna forma. Amazon lo usa para sugerir productos a los clientes, YouTube lo usa para decidir qué video reproducir a continuación en la reproducción automática y Facebook lo usa para recomendar páginas que les gusten y personas a seguir."
   ]
  },
  {
   "cell_type": "markdown",
   "metadata": {},
   "source": [
    "__Motores de filtrado colaborativo:__ estos sistemas se utilizan ampliamente e intentan predecir la calificación o preferencia que un usuario daría a un elemento en función de las calificaciones y preferencias pasadas de otros usuarios. Los filtros colaborativos no requieren metadatos de elementos como sus homólogos basados en contenido.  \n",
    "\n",
    "Hay __3 enfoques:__  \n",
    "* Filtrado colaborativo usuario-usuario;\n",
    "* Filtrado colaborativo item-item y;\n",
    "* Factorización matricial."
   ]
  },
  {
   "cell_type": "markdown",
   "metadata": {},
   "source": [
    "*Se trabajará con __Surpr!se__, tanto para el Benchmark como en el modelo SVD elegido, para construir y analizar nuestro sistemas de recomendación, trabajando para ello con datos de calificación explícitos.*"
   ]
  },
  {
   "cell_type": "markdown",
   "metadata": {},
   "source": [
    "### 1. MODELO BENCHMARK: FILTRO COLABORATIVO ITEM-ITEM + KNN BASIC"
   ]
  },
  {
   "cell_type": "markdown",
   "metadata": {},
   "source": [
    "#### 1.1 ENCONTRANDO SIMILITUDES ENTRE JUEGOS"
   ]
  },
  {
   "cell_type": "markdown",
   "metadata": {},
   "source": [
    "__FILTRADO COLABORATIVO ITEM-ITEM (JUEGO-JUEGO)__\n",
    "\n",
    "Ventajas:\n",
    "* La recomendación no necesita entrenarse con frecuencia a pesar de que cambien las preferencias de los usuarios.\n",
    "* Es computacionalmente más barato, ya que, en muchos casos, hay muchos más usuarios que elementos. Tiene sentido utilizar el filtrado basado en elementos en este caso.\n",
    "\n",
    "Un ejemplo famoso de filtrado basado en elementos es  el  motor de recomendaciones de Amazon ."
   ]
  },
  {
   "cell_type": "markdown",
   "metadata": {},
   "source": [
    "* *En el presente análisis, usaremos la **correlación entre las clasificaciones** de un juego como la **métrica de la similitud**.*"
   ]
  },
  {
   "cell_type": "markdown",
   "metadata": {
    "colab_type": "text",
    "id": "COhQck8031mN"
   },
   "source": [
    "* *Utilizaremos el dataset fusionado en el punto anterior **(game_data)**, ya que tiene los features seleccionados de los datasets de reviews y games en uno solo.*\n",
    "* *Vamos a descartar usuarios con el objetivo de achicar la base de datos. Se realizará de una manera **ad-hoc**.*\n",
    "* *Descartaremos aquellos usuarios que califican poco (menos de 5 calificaciones) o mucho (más de 5000 calificaciones).*"
   ]
  },
  {
   "cell_type": "code",
   "execution_count": null,
   "metadata": {
    "colab": {},
    "colab_type": "code",
    "id": "Ay606mXL31mU",
    "outputId": "d0c01557-712f-44f4-b06f-a5f215e34dae"
   },
   "outputs": [],
   "source": [
    "mask_usuarios_descartables = np.logical_or(game_data.username.value_counts() <= 5, game_data.username.value_counts() > 5000)\n",
    "usuarios_descartables = mask_usuarios_descartables[mask_usuarios_descartables].index.values\n",
    "print(len(usuarios_descartables))"
   ]
  },
  {
   "cell_type": "code",
   "execution_count": null,
   "metadata": {
    "colab": {},
    "colab_type": "code",
    "id": "uRA84qBF31mf",
    "outputId": "742f0ac3-e1ee-4210-9c14-1fe5662d3f41"
   },
   "outputs": [],
   "source": [
    "mascara_descartables = game_data.username.isin(usuarios_descartables)\n",
    "print(mascara_descartables.sum())"
   ]
  },
  {
   "cell_type": "code",
   "execution_count": null,
   "metadata": {
    "colab": {},
    "colab_type": "code",
    "id": "fGIgQSb-31mm",
    "outputId": "865a9673-779e-4c3c-932d-f2dbb7510472"
   },
   "outputs": [],
   "source": [
    "print(game_data.shape)\n",
    "game_data = game_data[~mascara_descartables]\n",
    "print(game_data.shape)"
   ]
  },
  {
   "cell_type": "markdown",
   "metadata": {
    "colab_type": "text",
    "id": "H3osfCq331nD"
   },
   "source": [
    "* *También vamos a descartar también aquellos juegos que tengan pocas calificaciones (menos de 100). Esto, lo hacemos con el objetivo de achicar la matriz de utilidad aún más.*"
   ]
  },
  {
   "cell_type": "code",
   "execution_count": null,
   "metadata": {
    "colab": {},
    "colab_type": "code",
    "id": "oTBotIlU31nG",
    "outputId": "ab7de6f5-68de-4fa1-a1a1-f39a8df43d58"
   },
   "outputs": [],
   "source": [
    "mask_items_descartables = game_data.product_id.value_counts() <= 100\n",
    "# mask_items_descartables\n",
    "items_descartables = mask_items_descartables[mask_items_descartables].index.values\n",
    "# items_descartables\n",
    "print(len(items_descartables))"
   ]
  },
  {
   "cell_type": "code",
   "execution_count": null,
   "metadata": {
    "colab": {},
    "colab_type": "code",
    "id": "cAYJEljQ31nR",
    "outputId": "0b6cf820-8f43-40cd-e37a-89074ba6e552"
   },
   "outputs": [],
   "source": [
    "mascara_descartables = game_data.product_id.isin(items_descartables)\n",
    "print(mascara_descartables.sum())"
   ]
  },
  {
   "cell_type": "code",
   "execution_count": null,
   "metadata": {
    "colab": {},
    "colab_type": "code",
    "id": "wVHkvleL31nX",
    "outputId": "6e3d3507-051a-432f-e428-a075d659bd2e"
   },
   "outputs": [],
   "source": [
    "print(game_data.shape)\n",
    "metascore_data = game_data[~mascara_descartables]\n",
    "print(game_data.shape)"
   ]
  },
  {
   "cell_type": "markdown",
   "metadata": {},
   "source": [
    "* *Para encontrar la **correlación entre las clasificaciones del juego**, necesitamos crear una matriz donde cada columna sea el nombre del juego y cada fila contenga la clasificación asignada por un usuario específico a ese juego.*\n",
    "* *Esta matriz tendrá **muchos valores nulos**, ya que cada juego no está clasificado por todos los usuarios.*\n",
    "* *Crearemos la matriz de títulos de juegos y las correspondientes clasificaciones de los usuarios.*"
   ]
  },
  {
   "cell_type": "code",
   "execution_count": null,
   "metadata": {},
   "outputs": [],
   "source": [
    "user_game_rating = game_data.pivot_table(index='username', columns='title', values='rating')\n",
    "user_game_rating"
   ]
  },
  {
   "cell_type": "markdown",
   "metadata": {},
   "source": [
    "* *Vemos que nuestra matriz, posee 8898 filas y 8611 columnas, por lo que podremos trabajar con más facilidad.*\n",
    "* *Cada columna contiene todas las clasificaciones de los usuarios de un juego en particular.*"
   ]
  },
  {
   "cell_type": "markdown",
   "metadata": {},
   "source": [
    "* *Primero, chequeamos cuales son los juegos más populares luego de los filtros.*"
   ]
  },
  {
   "cell_type": "code",
   "execution_count": null,
   "metadata": {},
   "outputs": [],
   "source": [
    "game_data.groupby('title')['rating'].count().sort_values(ascending=False).head()"
   ]
  },
  {
   "cell_type": "markdown",
   "metadata": {},
   "source": [
    "* *`Team Fortress 2` sigue siendo el que más calificaciones tiene, mientras que `Rust` conserva el segundo lugar.*"
   ]
  },
  {
   "cell_type": "markdown",
   "metadata": {},
   "source": [
    "* *Luego, buscaremos todas las clasificaciones de usuarios para el juego `Team Fortress 2` y encontremos los juegos similares a él.*\n",
    "* *Escogimos éste juego porque, como se indicó anteriormente, tiene el mayor número de clasificaciones y queremos encontrar la correlación entre los juegos que tienen un mayor número de clasificaciones.*"
   ]
  },
  {
   "cell_type": "code",
   "execution_count": null,
   "metadata": {},
   "outputs": [],
   "source": [
    "team_fortress_2_ratings = user_game_rating['Team Fortress 2']\n",
    "team_fortress_2_ratings.head()"
   ]
  },
  {
   "cell_type": "markdown",
   "metadata": {},
   "source": [
    "* *Recuperaremos todas los juegos que son similares a `Team Fortress 2`.*\n",
    "* *Podemos encontrar la correlación entre las clasificaciones de usuario de Team Fortress 2 y todas los demás juegos usando la función corrwith() como se muestra a continuación:*"
   ]
  },
  {
   "cell_type": "code",
   "execution_count": null,
   "metadata": {},
   "outputs": [],
   "source": [
    "games_like_team_fortress_2 = user_game_rating.corrwith(team_fortress_2_ratings)\n",
    "\n",
    "corr_team_fortress_2 = pd.DataFrame(games_like_team_fortress_2, columns=['Correlation'])\n",
    "corr_team_fortress_2.dropna(inplace=True)\n",
    "corr_team_fortress_2.head()"
   ]
  },
  {
   "cell_type": "markdown",
   "metadata": {},
   "source": [
    "* *Ahora, vamos a ordenar los juegos en orden descendente de correlación para ver los juegos altamente correlacionadas en la parte superior.*"
   ]
  },
  {
   "cell_type": "code",
   "execution_count": null,
   "metadata": {},
   "outputs": [],
   "source": [
    "corr_team_fortress_2.sort_values('Correlation', ascending=False).head()"
   ]
  },
  {
   "cell_type": "markdown",
   "metadata": {},
   "source": [
    "* *Podemos ver que algunos juegos que tienen una alta correlación con Team Fortress 2 no son muy conocidas.*\n",
    "* *Esto muestra que la correlación por sí sola no es una buena medida para la similitud porque puede haber un usuario que haya visto Team Fortress 2 y otros pocos juegos y que los haya calificado a todos con 5.*\n",
    "* *Una solución a este problema es recuperar sólo aquellos juegos correlacionados que tengan al menos más de 50 clasificaciones.*\n",
    "* *Para ello, añadiremos la columna rating_counts del cuadro de datos rating_mean_count a nuestro cuadro de datos corr_team_fortress_2.*"
   ]
  },
  {
   "cell_type": "markdown",
   "metadata": {},
   "source": [
    "* *Primero veamos la calificación promedio de cada juego.*"
   ]
  },
  {
   "cell_type": "code",
   "execution_count": null,
   "metadata": {},
   "outputs": [],
   "source": [
    "ratings_mean_count_ = pd.DataFrame(game_data.groupby('title')['rating'].mean())"
   ]
  },
  {
   "cell_type": "markdown",
   "metadata": {},
   "source": [
    "* *Luego, incorporamos el número de clasificaciones de un juego al cuadro de datos de la cuenta media de clasificaciones.*"
   ]
  },
  {
   "cell_type": "code",
   "execution_count": null,
   "metadata": {},
   "outputs": [],
   "source": [
    "ratings_mean_count_['rating_counts'] = pd.DataFrame(game_data.groupby('title')['rating'].count())\n",
    "ratings_mean_count_.head()"
   ]
  },
  {
   "cell_type": "code",
   "execution_count": null,
   "metadata": {},
   "outputs": [],
   "source": [
    "corr_team_fortress_2 = corr_team_fortress_2.join(ratings_mean_count_['rating_counts'])\n",
    "corr_team_fortress_2.head()"
   ]
  },
  {
   "cell_type": "markdown",
   "metadata": {},
   "source": [
    "* *Ahora, filtremos los juegos correlacionados con Team Fortress 2, que tienen más de 50 clasificaciones.*"
   ]
  },
  {
   "cell_type": "code",
   "execution_count": null,
   "metadata": {},
   "outputs": [],
   "source": [
    "corr_team_fortress_2[corr_team_fortress_2 ['rating_counts']>50].sort_values('Correlation', ascending=False).head()"
   ]
  },
  {
   "cell_type": "markdown",
   "metadata": {},
   "source": [
    "* *Podemos ver los juegos que están altamente correlacionadas con Team Fortress 2.*\n",
    "* *Los juegos de la lista son todos juegos disparos en primera persona, y como Team Fortress 2 es un juego muy famoso en ese género, hay una alta probabilidad de que estos juegos estén altamente correlacionadas.*\n",
    "* *Por lo tanto, **hemos creado un simple sistema de recomendación**.*"
   ]
  },
  {
   "cell_type": "markdown",
   "metadata": {},
   "source": [
    "#### 1.2. MODELO BENCHMARK: SURPRISE - KNN BASIC"
   ]
  },
  {
   "cell_type": "markdown",
   "metadata": {},
   "source": [
    "* *Se elige como Benckmark, un simple algoritmo de filtrado colaborativo basado en memoria, que se deriva directamente de un enfoque básico de vecinos más cercanos.*"
   ]
  },
  {
   "cell_type": "code",
   "execution_count": null,
   "metadata": {},
   "outputs": [],
   "source": [
    "reader = Reader()\n",
    "\n",
    "from surprise import KNNBasic\n",
    "from surprise import Dataset\n",
    "from surprise import accuracy\n",
    "\n",
    "data = Dataset.load_from_df(game_data[['username','product_id','rating']], reader)\n",
    "\n",
    "trainset, testset = train_test_split(data, test_size=.25)\n",
    "\n",
    "# Se construye el algoritmo y se entrena.\n",
    "algo_KNN = KNNBasic()\n",
    "algo_KNN.fit(trainset)\n",
    "predictions_KNN = algo_KNN.test(testset)\n",
    "accuracy.rmse(predictions_KNN)"
   ]
  },
  {
   "cell_type": "markdown",
   "metadata": {},
   "source": [
    "* *Si bien el error obtenido medido a través de RMSE resulta razonable, esperamos obtener un mejor resultado con el modelo elegido SVD, que desarrollaremos en el siguiente apartado.*"
   ]
  },
  {
   "cell_type": "markdown",
   "metadata": {},
   "source": [
    "### 2. MODELO PREDICTIVO ELEGIDO: RECOMENDACIÓN COLABORATIVA + MODELO SVD"
   ]
  },
  {
   "cell_type": "markdown",
   "metadata": {},
   "source": [
    "#### 2.1 MODELO PREDICTIVO ELEGIDO: FACTORIZACIÓN MATRICIAL. MODELO SVD CON SURPR!SE"
   ]
  },
  {
   "cell_type": "markdown",
   "metadata": {},
   "source": [
    "* *El **Modelo de ML elegido es SVD**, basado en factorización matricial.*\n",
    "* *El **Dataset utilizado** para llevar a cabo el modelo, es el de **final_reviews**, que luego será cruzado con df_title con el fin de visualizar el título de los juegos recomendados, una vez realizadas las predicciones:* "
   ]
  },
  {
   "cell_type": "markdown",
   "metadata": {},
   "source": [
    "* *Llevaremos adelante los siguientes pasos:*\n",
    "    * *Se carga el Dataset.*\n",
    "    * *Ya aplicamos anteriormente el Reader, para que Surpr!se pueda leer el dataset.*\n",
    "    * *Se crea el Dataset de Surpr!se usando `Dataset.load_from_df`.*\n",
    "    * *Se realiza un train_test_split.*\n",
    "    * *Se entrena un algoritmo SVD.*\n",
    "    * *Entrenamos sobre el `trainset`.*\n",
    "    * *Predecimos sobre el `testset`.*\n",
    "    * *Para el conjunto de `testset`, evaluamos el error RMSE entre las predicciones y las verdaderas calificaciones que le habían dado a los juegos.*"
   ]
  },
  {
   "cell_type": "code",
   "execution_count": null,
   "metadata": {},
   "outputs": [],
   "source": [
    "df_svd = pd.read_csv('final_reviews.csv')\n",
    "print(df_svd.shape)\n",
    "df_svd.head()"
   ]
  },
  {
   "cell_type": "code",
   "execution_count": null,
   "metadata": {},
   "outputs": [],
   "source": [
    "N_filas = 100000 # Limitamos el dataset a N_filas\n",
    "\n",
    "data_svd = Dataset.load_from_df(df_svd[['username','product_id','rating']][:N_filas], reader)"
   ]
  },
  {
   "cell_type": "code",
   "execution_count": null,
   "metadata": {},
   "outputs": [],
   "source": [
    "from surprise import SVD\n",
    "from surprise import Dataset\n",
    "from surprise import accuracy\n",
    "from surprise.model_selection import KFold\n",
    "\n",
    "# Se define un iterador de validación cruzada\n",
    "kf = KFold(n_splits=3)\n",
    "\n",
    "algo = SVD()\n",
    "\n",
    "for trainset, testset in kf.split(data):\n",
    "\n",
    "    # Algoritmo train and test.\n",
    "    algo.fit(trainset)\n",
    "    predictions = algo.test(testset)\n",
    "\n",
    "    # Calcula e imprime el RMSE\n",
    "    accuracy.rmse(predictions, verbose=True)"
   ]
  },
  {
   "cell_type": "markdown",
   "metadata": {},
   "source": [
    "* *Usamos RMSE como evaluaciones de resultados de nuestras recomendaciones. A medida que se amplíe el conjunto de datos, se mejorarán las evaluaciones de RMSE.*"
   ]
  },
  {
   "cell_type": "markdown",
   "metadata": {},
   "source": [
    "* *En éste caso, vemos que efectivamente el resultado obtenido fue mejor que el de KNN Basic.*"
   ]
  },
  {
   "cell_type": "markdown",
   "metadata": {},
   "source": [
    "#### 2.2 OPTIMIZACIÓN DE HIPERPARÁMETROS"
   ]
  },
  {
   "cell_type": "markdown",
   "metadata": {},
   "source": [
    "* *Realizaremos una optimización de hiperparámetros a partir de GridSearch, para hacer una búsqueda de fuerza bruta de los hiperparámetros para el algoritmo SVD.*"
   ]
  },
  {
   "cell_type": "code",
   "execution_count": null,
   "metadata": {},
   "outputs": [],
   "source": [
    "from surprise import SVD\n",
    "from surprise import Dataset\n",
    "from surprise.model_selection import GridSearchCV\n",
    "\n",
    "param_grid = {'n_factors':[5,25,50], 'n_epochs': [5,10,20], 'lr_all': [0.001,0.002,0.005],\n",
    "              'reg_all': [0.002, 0.02, 0.2]}\n",
    "gs = GridSearchCV(SVD, param_grid, measures=['rmse'], cv=3)\n",
    "\n",
    "gs.fit(data)\n",
    "\n",
    "# Mejor RMSE Score\n",
    "print(gs.best_score['rmse'])\n",
    "\n",
    "# Combinación de parámetros que dan la mejor puntuación de RMSE\n",
    "print(gs.best_params['rmse'])"
   ]
  },
  {
   "cell_type": "markdown",
   "metadata": {},
   "source": [
    "* *Aquí estamos evaluando el RMSE promedio en un procedimiento de validación cruzada de 3 veces.*"
   ]
  },
  {
   "cell_type": "markdown",
   "metadata": {},
   "source": [
    "* *Ahora podemos usar el algoritmo que produce el mejor RMSE.*\n",
    "* *Tomamos la instancia del algoritmo con el conjunto óptimo de parámetros, y los utilizamos para realizar las predicciones:*"
   ]
  },
  {
   "cell_type": "code",
   "execution_count": null,
   "metadata": {},
   "outputs": [],
   "source": [
    "algo_gs = gs.best_estimator['rmse']\n",
    "algo_gs.fit(data.build_full_trainset())"
   ]
  },
  {
   "cell_type": "code",
   "execution_count": null,
   "metadata": {},
   "outputs": [],
   "source": [
    "predictions_gs = algo_gs.test(testset)\n",
    "accuracy.rmse(predictions_gs, verbose=True)"
   ]
  },
  {
   "cell_type": "markdown",
   "metadata": {},
   "source": [
    "* *El valor del RMSE obtenido con el modelo SVD una vez aplicada la optimización de hiperparámetros, es realmente mejor que el obtenido del modelo Benchmark.*"
   ]
  },
  {
   "cell_type": "markdown",
   "metadata": {},
   "source": [
    "#### 2.3 COMPARACION ENTRE MODELOS"
   ]
  },
  {
   "cell_type": "markdown",
   "metadata": {},
   "source": [
    "* Comparación del desempeño de los modelos de ML utilizados con Surpr!se."
   ]
  },
  {
   "cell_type": "markdown",
   "metadata": {},
   "source": [
    "| Modelos con Surprise | RMSE |                   Hiperparámetros Utilizados                  |\n",
    "|:--------------------:|:----:|:-------------------------------------------------------------:|\n",
    "|       KNN Basic      | 1.24 |             neighbors min = 1, neighbors máx = 40             |\n",
    "|          SVD         | 0.95 | n_factors = 5, n_epochs = 20, lr_all = 0.005, reg_all = 0.002 |"
   ]
  },
  {
   "cell_type": "markdown",
   "metadata": {},
   "source": [
    "* *__La factorización Matricial con SVD__ fue el modelo con mejor desempeño, y mejor aún habiendo optimizado sus hiperparámetros.*\n",
    "* *Éste resultado, era realmente el esperado, ya que se trata de un algoritmo eficiente y fácil de usar que ofrece un alto rendimiento y precisión en comparación con otros algoritmos con Surpr!se.*\n",
    "* *Si bien los métodos de filtrado colaborativo basados en items (nuestro modelo Benchmark) o en usuarios son simples e intuitivos, las técnicas de factorización matricial suelen ser más efectivas porque nos permiten descubrir las características latentes que subyacen a las interacciones entre los usuarios y los elementos.*\n",
    "* *Para ello, descomposición vectorial singular (SVD), emplea el uso del descenso de gradiente para minimizar el error al cuadrado entre la calificación predicha y la calificación real, obteniendo finalmente el mejor modelo.*"
   ]
  },
  {
   "cell_type": "markdown",
   "metadata": {},
   "source": [
    "#### 2.4 REALIZANDO PREDICCIONES - RECOMENDACIÓN COLABORATIVA"
   ]
  },
  {
   "cell_type": "markdown",
   "metadata": {},
   "source": [
    "*Exploraremos las característica de `predictions` y alguno de sus elementos.*"
   ]
  },
  {
   "cell_type": "markdown",
   "metadata": {},
   "source": [
    "1. Realizamos **una predicción para un usuario en particular (aleatorio)**."
   ]
  },
  {
   "cell_type": "code",
   "execution_count": null,
   "metadata": {},
   "outputs": [],
   "source": [
    "predictions_gs[1]\n",
    "\n",
    "# uid: Id del Usuario\n",
    "# iid: Id del juego\n",
    "# r_ui: calificación que le da a ese juego en particular (la conocida)\n",
    "# est: estimación de la calificación (obtenida de SVD)\n",
    "# was imposible = False: fue posible calificar el juego"
   ]
  },
  {
   "cell_type": "markdown",
   "metadata": {},
   "source": [
    "* *En éste caso, la predicción parece haberse acercado bastante a la predicción efectivamente dada por el usuario uid.*"
   ]
  },
  {
   "cell_type": "markdown",
   "metadata": {},
   "source": [
    "2. Realizamos **una predicción para un usuario y un juego determinados por nosotros** (mediante la función `predict`)"
   ]
  },
  {
   "cell_type": "code",
   "execution_count": null,
   "metadata": {},
   "outputs": [],
   "source": [
    "algo_gs.predict(50262, 35143)"
   ]
  },
  {
   "cell_type": "markdown",
   "metadata": {},
   "source": [
    "* *r_ui=None: El usuario no la calificó dicho juego.*"
   ]
  },
  {
   "cell_type": "markdown",
   "metadata": {},
   "source": [
    "3. Observamos, cuáles son las **mejores predicciones realizadas y cuales las peores**."
   ]
  },
  {
   "cell_type": "code",
   "execution_count": null,
   "metadata": {},
   "outputs": [],
   "source": [
    "# Copyright (c) Microsoft Corporation. All rights reserved.\n",
    "# Licensed under the MIT License.\n",
    "\n",
    "def invert_dictionary(dictionary):\n",
    "    \"\"\"Invert a dictionary\n",
    "    Args: \n",
    "        dictionary (dict): A dictionary\n",
    "    Returns:\n",
    "        dict: inverted dictionary\n",
    "    \"\"\"\n",
    "    return {v: k for k, v in dictionary.items()}\n",
    "\n",
    "def surprise_trainset_to_df(trainset, col_user=\"uid\", col_item=\"iid\", col_rating=\"rating\"): \n",
    "    df = pd.DataFrame(trainset.all_ratings(), columns=[col_user, col_item, col_rating])\n",
    "    map_user = trainset._inner2raw_id_users if trainset._inner2raw_id_users is not None else invert_dictionary(trainset._raw2inner_id_users)\n",
    "    map_item = trainset._inner2raw_id_items if trainset._inner2raw_id_items is not None else invert_dictionary(trainset._raw2inner_id_items)\n",
    "    df[col_user] = df[col_user].map(map_user)\n",
    "    df[col_item] = df[col_item].map(map_item)\n",
    "    return df\n",
    "\n",
    "trainset_df = surprise_trainset_to_df(trainset)"
   ]
  },
  {
   "cell_type": "markdown",
   "metadata": {},
   "source": [
    "* *A través de Surpr!se, elaboramos un Dataframe con los usuarios películas y ratings.*"
   ]
  },
  {
   "cell_type": "code",
   "execution_count": null,
   "metadata": {},
   "outputs": [],
   "source": [
    "trainset_df.head()"
   ]
  },
  {
   "cell_type": "code",
   "execution_count": null,
   "metadata": {},
   "outputs": [],
   "source": [
    "def get_Iu(uid):\n",
    "    \"\"\" return the number of items rated by given user\n",
    "    args: \n",
    "      uid: the id of the user\n",
    "    returns: \n",
    "      the number of items rated by the user\n",
    "    \"\"\"\n",
    "    try:\n",
    "        return len(trainset.ur[trainset.to_inner_uid(uid)])\n",
    "    except ValueError: # user was not part of the trainset\n",
    "        return 0\n",
    "    \n",
    "def get_Ui(iid):\n",
    "    \"\"\" return number of users that have rated given item\n",
    "    args:\n",
    "      iid: the raw id of the item\n",
    "    returns:\n",
    "      the number of users that have rated the item.\n",
    "    \"\"\"\n",
    "    try: \n",
    "        return len(trainset.ir[trainset.to_inner_iid(iid)])\n",
    "    except ValueError:\n",
    "        return 0\n",
    "    \n",
    "df = pd.DataFrame(predictions, columns=['uid', 'iid', 'rui', 'est', 'details'])\n",
    "df['Iu'] = df.uid.apply(get_Iu)\n",
    "df['Ui'] = df.iid.apply(get_Ui)\n",
    "df['err'] = abs(df.est - df.rui)\n",
    "best_predictions = df.sort_values(by='err')[:10]\n",
    "worst_predictions = df.sort_values(by='err')[-10:]"
   ]
  },
  {
   "cell_type": "markdown",
   "metadata": {},
   "source": [
    "* *Luego, podemos determinar el **error resultante** de las predicciones para combinación de usuario/juego, a partir de la diferencia existente entre la calificación real y la predicción realizada.*"
   ]
  },
  {
   "cell_type": "code",
   "execution_count": null,
   "metadata": {},
   "outputs": [],
   "source": [
    "df.head()"
   ]
  },
  {
   "cell_type": "markdown",
   "metadata": {},
   "source": [
    "* *Las ordenamos de mayor a menor y de menor a mayor.*"
   ]
  },
  {
   "cell_type": "markdown",
   "metadata": {},
   "source": [
    "__MEJORES PREDICCIONES__"
   ]
  },
  {
   "cell_type": "code",
   "execution_count": null,
   "metadata": {},
   "outputs": [],
   "source": [
    "best_predictions.head()"
   ]
  },
  {
   "cell_type": "markdown",
   "metadata": {},
   "source": [
    "* *Se observan las mejores predicciones, donde el error es igual a 0.*"
   ]
  },
  {
   "cell_type": "markdown",
   "metadata": {},
   "source": [
    "__PEORES PREDICCIONES__"
   ]
  },
  {
   "cell_type": "code",
   "execution_count": null,
   "metadata": {},
   "outputs": [],
   "source": [
    "worst_predictions.head()"
   ]
  },
  {
   "cell_type": "markdown",
   "metadata": {},
   "source": [
    "* *Obtenemos las peores predicciones, donde el error es cercano a 4, es decir que se calificó 1 y se predijo cerca de 5 o viceversa.*"
   ]
  },
  {
   "cell_type": "markdown",
   "metadata": {},
   "source": [
    "4. Finalmente, visualiamos el **Top-N de recomendaciones para cada usuario de un conjunto de predicciones.**"
   ]
  },
  {
   "cell_type": "code",
   "execution_count": null,
   "metadata": {},
   "outputs": [],
   "source": [
    "def get_top_n(predictions, n=5):\n",
    "\n",
    "    # Primero mapea las predicciones a cada usuario.\n",
    "    top_n = defaultdict(list)\n",
    "    for uid, iid, true_r, est, _ in predictions:\n",
    "        top_n[uid].append((iid, est))\n",
    "\n",
    "    # Luego ordena las predicciones para cada usuario y trae las k highest ones.\n",
    "    for uid, user_ratings in top_n.items():\n",
    "        user_ratings.sort(key=lambda x: x[1], reverse=True)\n",
    "        top_n[uid] = user_ratings[:n]\n",
    "\n",
    "    return top_n"
   ]
  },
  {
   "cell_type": "markdown",
   "metadata": {},
   "source": [
    "* *Imprimimos los artículos recomendados para cada usuario.*"
   ]
  },
  {
   "cell_type": "code",
   "execution_count": null,
   "metadata": {},
   "outputs": [],
   "source": [
    "from collections import defaultdict\n",
    "top_n = get_top_n(predictions, n=5)\n",
    "\n",
    "for uid, user_ratings in top_n.items():\n",
    "    print(uid, [iid for (iid, _) in user_ratings])"
   ]
  },
  {
   "cell_type": "markdown",
   "metadata": {},
   "source": [
    "* *Y las recomendaciones para un usuario en particular, con sus respectivos ratings.*"
   ]
  },
  {
   "cell_type": "code",
   "execution_count": null,
   "metadata": {},
   "outputs": [],
   "source": [
    "print(top_n[538371])"
   ]
  },
  {
   "cell_type": "markdown",
   "metadata": {},
   "source": [
    "5. Finalmente, vemos cuáles juegos le gustaron a un determinado usuario y **cuáles le recomienda el sistema**."
   ]
  },
  {
   "cell_type": "code",
   "execution_count": null,
   "metadata": {},
   "outputs": [],
   "source": [
    "usuario = 398896\n",
    "rating = 4   # Le pedimos los juegos que tengan un rating de 4 o más\n",
    "df_user = df_svd[(df_svd['username'] == usuario) & (df_svd['rating'] >= rating)]\n",
    "df_user = df_user.reset_index(drop=True)\n",
    "df_user['title'] = df_title['title'].loc[df_user.product_id].values\n",
    "df_user"
   ]
  },
  {
   "cell_type": "markdown",
   "metadata": {},
   "source": [
    "* *El juego que más le gustó al usuario fue Stranded Deep, seguido por Saints Row: The Third y Windward.*"
   ]
  },
  {
   "cell_type": "markdown",
   "metadata": {},
   "source": [
    "* *Ahora, creamos el Dataframe donde vamos a guardar las recomendaciones para un usuario en particular.*"
   ]
  },
  {
   "cell_type": "code",
   "execution_count": null,
   "metadata": {},
   "outputs": [],
   "source": [
    "recomendaciones_usuario = df_title.iloc[:398896].copy()\n",
    "print(recomendaciones_usuario.shape)\n",
    "recomendaciones_usuario.head()"
   ]
  },
  {
   "cell_type": "markdown",
   "metadata": {},
   "source": [
    "* *Luego, quitamos del Dataframe todas los juegos que ya sabemos que vio.*"
   ]
  },
  {
   "cell_type": "code",
   "execution_count": null,
   "metadata": {},
   "outputs": [],
   "source": [
    "usuario_vistas = df_svd[df_svd['username'] == usuario]\n",
    "print(usuario_vistas.shape)\n",
    "usuario_vistas"
   ]
  },
  {
   "cell_type": "markdown",
   "metadata": {},
   "source": [
    "* *¡Vemos las recomendaciones que ya podemos hacerle a dicho usuario!*"
   ]
  },
  {
   "cell_type": "code",
   "execution_count": null,
   "metadata": {},
   "outputs": [],
   "source": [
    "recomendaciones_usuario.drop(usuario_vistas.product_id, inplace = True)\n",
    "recomendaciones_usuario = recomendaciones_usuario.reset_index()\n",
    "recomendaciones_usuario.head()"
   ]
  },
  {
   "cell_type": "markdown",
   "metadata": {},
   "source": [
    "* *__Y hacemos las recomendaciones!!!__, con el Id de juego específico, y ordenados de mayor a menor. Abajo la recomendación con su valor.*"
   ]
  },
  {
   "cell_type": "code",
   "execution_count": null,
   "metadata": {},
   "outputs": [],
   "source": [
    "recomendaciones_usuario['Estimate_Score'] = recomendaciones_usuario['product_id'].apply(lambda x: algo.predict(usuario, x).est)"
   ]
  },
  {
   "cell_type": "code",
   "execution_count": null,
   "metadata": {},
   "outputs": [],
   "source": [
    "recomendaciones_usuario = recomendaciones_usuario.sort_values('Estimate_Score', ascending=False)\n",
    "print(recomendaciones_usuario.head(10))\n",
    "# Recomendaciones con valuaciones estimadas por debajo"
   ]
  },
  {
   "cell_type": "markdown",
   "metadata": {},
   "source": [
    "![FireworksUrl](https://seguridadpcs.files.wordpress.com/2018/12/fuegos-artificiales.gif?w=400 \"fireworks\")"
   ]
  },
  {
   "cell_type": "markdown",
   "metadata": {},
   "source": [
    "## Parte C - Investigación"
   ]
  },
  {
   "cell_type": "markdown",
   "metadata": {},
   "source": [
    "Con el fin de aplicar una herramienta más de las aprendidas en la seccción de 'Aplicaciones' de Acámica, ver su funcionamiento y resultados, sería interesante probar un **Sistema de recomendación basado en NLP (Natural Language Processing).**\n",
    "\n",
    "La idea sería construir un Sistema de Recomendación Basado en Contenido con un enfoque de Procesamiento de Lenguaje Natural. \n",
    "\n",
    "¿En qué se diferencia de los sistemas de recomendación basados en contenido?\n",
    "Los métodos de filtrado basados en contenido se basan en una descripción del elemento y un perfil de las preferencias del usuario. Estos métodos se adaptan mejor a situaciones en las que hay datos conocidos sobre un elemento (nombre, ubicación, descripción, etc.), pero no sobre el usuario. Los recomendadores basados en contenido tratan la recomendación como un problema de clasificación específico del usuario y aprenden un clasificador para los gustos y disgustos del usuario en función de las características del producto.\n",
    "\n",
    "Si bien muchas veces basarse en contenidos no es lo ideal, ya que las preferencias de los usuarios cambian constantemente, éste enfoque es muy útil cuando se trata de productos que se destacan por una descripción o un título (datos de texto en general), como noticias, trabajos, libros, etc.  \n",
    "\n",
    "... y en el **caso particular de Steam**, y como hemos idicado anteriormente, no contamos con un tipo de calificación específico y lo ideal sería poder transcribir y hacer uso de aquello que comentan los usuarios de cada juego a partir del feature `text`, donde puede estimarse qué es lo que se está pensando de esos juegos..."
   ]
  },
  {
   "cell_type": "markdown",
   "metadata": {},
   "source": [
    "En relación a los **resultados esperados**, supongo se alcanzaría una predicción de juegos más razonable y **real**, ya que en el presente estudio, la determinación de los ratings por horas fue realizada ad hoc, sin profundizar en si la cantidad de horas jugadas de un juego en particular tienen relación con la antigüedad que tiene el juego, el género del mismo, si es gratis o no, si es de competición o no, etc.\n",
    "\n",
    "Por medio de la librería __NTLK__, utilizada en los Notebooks de práctica y quizás otras más, esperaría poder realizar un buen Preprocesamiento de los Datos.  \n",
    "\n",
    "Como guía, por ejemplo, podría servir el siguiente link encontrado de [Building NLP COntent Based Recommender Systems](https://medium.com/@armandj.olivares/building-nlp-content-based-recommender-systems-b104a709c042), aunque está claro que el Sistema de Recomendación a generar, requerirá mucha más lectura y estudio, como ocurrió con los proyectos hasta ahora confeccionados."
   ]
  }
 ],
 "metadata": {
  "colab": {
   "collapsed_sections": [],
   "name": "DS_Proyecto_03_SR.ipynb",
   "provenance": []
  },
  "kernelspec": {
   "display_name": "Python 3",
   "language": "python",
   "name": "python3"
  },
  "language_info": {
   "codemirror_mode": {
    "name": "ipython",
    "version": 3
   },
   "file_extension": ".py",
   "mimetype": "text/x-python",
   "name": "python",
   "nbconvert_exporter": "python",
   "pygments_lexer": "ipython3",
   "version": "3.8.5"
  }
 },
 "nbformat": 4,
 "nbformat_minor": 4
}
