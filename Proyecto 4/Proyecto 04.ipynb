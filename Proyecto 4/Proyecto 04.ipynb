{
 "cells": [
  {
   "cell_type": "markdown",
   "metadata": {},
   "source": [
    "# Informe Final Carrera\n",
    "Profundiza y ajusta la resolución de tus proyectos: agrega al menos una fuente de datos o prueba un modelo que hasta el momento no hayas aplicado. Elabora un informe ?nal que describa el proceso de toma de decisiones. Sustenta la razón por la cual usaste las librerías y aplicaste los métodos al dataset. Todos tus hallazgos deberán ser comunicados en función de la problemática y las preguntas que buscabas responder."
   ]
  },
  {
   "cell_type": "code",
   "execution_count": 1,
   "metadata": {},
   "outputs": [],
   "source": [
    "import numpy as np\n",
    "import pandas as pd\n",
    "import matplotlib.pyplot as plt\n",
    "import seaborn as sns\n",
    "sns.set()"
   ]
  },
  {
   "cell_type": "markdown",
   "metadata": {},
   "source": [
    "### Dataset I"
   ]
  },
  {
   "cell_type": "markdown",
   "metadata": {},
   "source": [
    "#### Explorando el Dataset"
   ]
  },
  {
   "cell_type": "code",
   "execution_count": 2,
   "metadata": {},
   "outputs": [],
   "source": [
    "banksim = pd.read_csv('bs140513_032310.csv')"
   ]
  },
  {
   "cell_type": "code",
   "execution_count": 3,
   "metadata": {},
   "outputs": [
    {
     "data": {
      "text/plain": [
       "(594643, 10)"
      ]
     },
     "execution_count": 3,
     "metadata": {},
     "output_type": "execute_result"
    }
   ],
   "source": [
    "banksim.shape"
   ]
  },
  {
   "cell_type": "code",
   "execution_count": 4,
   "metadata": {},
   "outputs": [
    {
     "data": {
      "text/html": [
       "<div>\n",
       "<style scoped>\n",
       "    .dataframe tbody tr th:only-of-type {\n",
       "        vertical-align: middle;\n",
       "    }\n",
       "\n",
       "    .dataframe tbody tr th {\n",
       "        vertical-align: top;\n",
       "    }\n",
       "\n",
       "    .dataframe thead th {\n",
       "        text-align: right;\n",
       "    }\n",
       "</style>\n",
       "<table border=\"1\" class=\"dataframe\">\n",
       "  <thead>\n",
       "    <tr style=\"text-align: right;\">\n",
       "      <th></th>\n",
       "      <th>step</th>\n",
       "      <th>customer</th>\n",
       "      <th>age</th>\n",
       "      <th>gender</th>\n",
       "      <th>zipcodeOri</th>\n",
       "      <th>merchant</th>\n",
       "      <th>zipMerchant</th>\n",
       "      <th>category</th>\n",
       "      <th>amount</th>\n",
       "      <th>fraud</th>\n",
       "    </tr>\n",
       "  </thead>\n",
       "  <tbody>\n",
       "    <tr>\n",
       "      <th>0</th>\n",
       "      <td>0</td>\n",
       "      <td>'C1093826151'</td>\n",
       "      <td>'4'</td>\n",
       "      <td>'M'</td>\n",
       "      <td>'28007'</td>\n",
       "      <td>'M348934600'</td>\n",
       "      <td>'28007'</td>\n",
       "      <td>'es_transportation'</td>\n",
       "      <td>4.55</td>\n",
       "      <td>0</td>\n",
       "    </tr>\n",
       "    <tr>\n",
       "      <th>1</th>\n",
       "      <td>0</td>\n",
       "      <td>'C352968107'</td>\n",
       "      <td>'2'</td>\n",
       "      <td>'M'</td>\n",
       "      <td>'28007'</td>\n",
       "      <td>'M348934600'</td>\n",
       "      <td>'28007'</td>\n",
       "      <td>'es_transportation'</td>\n",
       "      <td>39.68</td>\n",
       "      <td>0</td>\n",
       "    </tr>\n",
       "    <tr>\n",
       "      <th>2</th>\n",
       "      <td>0</td>\n",
       "      <td>'C2054744914'</td>\n",
       "      <td>'4'</td>\n",
       "      <td>'F'</td>\n",
       "      <td>'28007'</td>\n",
       "      <td>'M1823072687'</td>\n",
       "      <td>'28007'</td>\n",
       "      <td>'es_transportation'</td>\n",
       "      <td>26.89</td>\n",
       "      <td>0</td>\n",
       "    </tr>\n",
       "    <tr>\n",
       "      <th>3</th>\n",
       "      <td>0</td>\n",
       "      <td>'C1760612790'</td>\n",
       "      <td>'3'</td>\n",
       "      <td>'M'</td>\n",
       "      <td>'28007'</td>\n",
       "      <td>'M348934600'</td>\n",
       "      <td>'28007'</td>\n",
       "      <td>'es_transportation'</td>\n",
       "      <td>17.25</td>\n",
       "      <td>0</td>\n",
       "    </tr>\n",
       "    <tr>\n",
       "      <th>4</th>\n",
       "      <td>0</td>\n",
       "      <td>'C757503768'</td>\n",
       "      <td>'5'</td>\n",
       "      <td>'M'</td>\n",
       "      <td>'28007'</td>\n",
       "      <td>'M348934600'</td>\n",
       "      <td>'28007'</td>\n",
       "      <td>'es_transportation'</td>\n",
       "      <td>35.72</td>\n",
       "      <td>0</td>\n",
       "    </tr>\n",
       "  </tbody>\n",
       "</table>\n",
       "</div>"
      ],
      "text/plain": [
       "   step       customer  age gender zipcodeOri       merchant zipMerchant  \\\n",
       "0     0  'C1093826151'  '4'    'M'    '28007'   'M348934600'     '28007'   \n",
       "1     0   'C352968107'  '2'    'M'    '28007'   'M348934600'     '28007'   \n",
       "2     0  'C2054744914'  '4'    'F'    '28007'  'M1823072687'     '28007'   \n",
       "3     0  'C1760612790'  '3'    'M'    '28007'   'M348934600'     '28007'   \n",
       "4     0   'C757503768'  '5'    'M'    '28007'   'M348934600'     '28007'   \n",
       "\n",
       "              category  amount  fraud  \n",
       "0  'es_transportation'    4.55      0  \n",
       "1  'es_transportation'   39.68      0  \n",
       "2  'es_transportation'   26.89      0  \n",
       "3  'es_transportation'   17.25      0  \n",
       "4  'es_transportation'   35.72      0  "
      ]
     },
     "execution_count": 4,
     "metadata": {},
     "output_type": "execute_result"
    }
   ],
   "source": [
    "banksim.head()"
   ]
  },
  {
   "cell_type": "markdown",
   "metadata": {},
   "source": [
    "Step: Esta característica representa el día desde el comienzo de la simulación. Tiene 180 pasos, por lo que la simulación duró virtualmente 6 meses.  \n",
    "Customer: Esta característica representa la identificación del cliente.  \n",
    "zipCodeOrigin: El código postal de origen/fuente.  \n",
    "Merchant: La identificación del comerciante.  \n",
    "zipMerchant: El código postal del comerciante.  \n",
    "Edad: Edad categorizada.  \n",
    "0: <= 18,  \n",
    "1: 19-25,  \n",
    "2: 26-35,  \n",
    "3: 36-45,  \n",
    "4: 46:55,  \n",
    "5: 56:65,  \n",
    "6: > 65  \n",
    "U: Desconocido  \n",
    "Gender: Género para el cliente.  \n",
    "E : Enterprise,  \n",
    "F: Mujer,  \n",
    "M: Hombre,  \n",
    "U: Desconocido  \n",
    "Category: Categoría de la compra. No escribiré todas las categorías aquí, las veremos más tarde en el análisis.  \n",
    "Amount: Cantidad de la compra.  \n",
    "Fraud: Variable objetivo que muestra si la transacción es fraudulenta(1)."
   ]
  },
  {
   "cell_type": "code",
   "execution_count": 5,
   "metadata": {},
   "outputs": [
    {
     "name": "stdout",
     "output_type": "stream",
     "text": [
      "<class 'pandas.core.frame.DataFrame'>\n",
      "RangeIndex: 594643 entries, 0 to 594642\n",
      "Data columns (total 10 columns):\n",
      " #   Column       Non-Null Count   Dtype  \n",
      "---  ------       --------------   -----  \n",
      " 0   step         594643 non-null  int64  \n",
      " 1   customer     594643 non-null  object \n",
      " 2   age          594643 non-null  object \n",
      " 3   gender       594643 non-null  object \n",
      " 4   zipcodeOri   594643 non-null  object \n",
      " 5   merchant     594643 non-null  object \n",
      " 6   zipMerchant  594643 non-null  object \n",
      " 7   category     594643 non-null  object \n",
      " 8   amount       594643 non-null  float64\n",
      " 9   fraud        594643 non-null  int64  \n",
      "dtypes: float64(1), int64(2), object(7)\n",
      "memory usage: 45.4+ MB\n"
     ]
    }
   ],
   "source": [
    "banksim.info()"
   ]
  },
  {
   "cell_type": "code",
   "execution_count": 6,
   "metadata": {},
   "outputs": [
    {
     "data": {
      "text/plain": [
       "step           0\n",
       "customer       0\n",
       "age            0\n",
       "gender         0\n",
       "zipcodeOri     0\n",
       "merchant       0\n",
       "zipMerchant    0\n",
       "category       0\n",
       "amount         0\n",
       "fraud          0\n",
       "dtype: int64"
      ]
     },
     "execution_count": 6,
     "metadata": {},
     "output_type": "execute_result"
    }
   ],
   "source": [
    "banksim.isnull().sum()"
   ]
  },
  {
   "cell_type": "code",
   "execution_count": 7,
   "metadata": {},
   "outputs": [
    {
     "name": "stdout",
     "output_type": "stream",
     "text": [
      "0         4\n",
      "1         2\n",
      "2         4\n",
      "3         3\n",
      "4         5\n",
      "         ..\n",
      "594638    3\n",
      "594639    4\n",
      "594640    2\n",
      "594641    5\n",
      "594642    4\n",
      "Name: age, Length: 594643, dtype: int32\n"
     ]
    }
   ],
   "source": [
    "from sklearn.preprocessing import LabelEncoder\n",
    "\n",
    "le = LabelEncoder()\n",
    "banksim['age'] = le.fit_transform(banksim['age'])\n",
    "print(banksim['age'])"
   ]
  },
  {
   "cell_type": "code",
   "execution_count": 8,
   "metadata": {},
   "outputs": [
    {
     "data": {
      "text/html": [
       "<div>\n",
       "<style scoped>\n",
       "    .dataframe tbody tr th:only-of-type {\n",
       "        vertical-align: middle;\n",
       "    }\n",
       "\n",
       "    .dataframe tbody tr th {\n",
       "        vertical-align: top;\n",
       "    }\n",
       "\n",
       "    .dataframe thead th {\n",
       "        text-align: right;\n",
       "    }\n",
       "</style>\n",
       "<table border=\"1\" class=\"dataframe\">\n",
       "  <thead>\n",
       "    <tr style=\"text-align: right;\">\n",
       "      <th></th>\n",
       "      <th>step</th>\n",
       "      <th>age</th>\n",
       "      <th>amount</th>\n",
       "    </tr>\n",
       "  </thead>\n",
       "  <tbody>\n",
       "    <tr>\n",
       "      <th>count</th>\n",
       "      <td>594643.0</td>\n",
       "      <td>594643.0</td>\n",
       "      <td>594643.0</td>\n",
       "    </tr>\n",
       "    <tr>\n",
       "      <th>mean</th>\n",
       "      <td>95.0</td>\n",
       "      <td>3.0</td>\n",
       "      <td>38.0</td>\n",
       "    </tr>\n",
       "    <tr>\n",
       "      <th>std</th>\n",
       "      <td>51.0</td>\n",
       "      <td>1.0</td>\n",
       "      <td>111.0</td>\n",
       "    </tr>\n",
       "    <tr>\n",
       "      <th>min</th>\n",
       "      <td>0.0</td>\n",
       "      <td>0.0</td>\n",
       "      <td>0.0</td>\n",
       "    </tr>\n",
       "    <tr>\n",
       "      <th>25%</th>\n",
       "      <td>52.0</td>\n",
       "      <td>2.0</td>\n",
       "      <td>14.0</td>\n",
       "    </tr>\n",
       "    <tr>\n",
       "      <th>50%</th>\n",
       "      <td>97.0</td>\n",
       "      <td>3.0</td>\n",
       "      <td>27.0</td>\n",
       "    </tr>\n",
       "    <tr>\n",
       "      <th>75%</th>\n",
       "      <td>139.0</td>\n",
       "      <td>4.0</td>\n",
       "      <td>43.0</td>\n",
       "    </tr>\n",
       "    <tr>\n",
       "      <th>max</th>\n",
       "      <td>179.0</td>\n",
       "      <td>7.0</td>\n",
       "      <td>8330.0</td>\n",
       "    </tr>\n",
       "  </tbody>\n",
       "</table>\n",
       "</div>"
      ],
      "text/plain": [
       "           step       age    amount\n",
       "count  594643.0  594643.0  594643.0\n",
       "mean       95.0       3.0      38.0\n",
       "std        51.0       1.0     111.0\n",
       "min         0.0       0.0       0.0\n",
       "25%        52.0       2.0      14.0\n",
       "50%        97.0       3.0      27.0\n",
       "75%       139.0       4.0      43.0\n",
       "max       179.0       7.0    8330.0"
      ]
     },
     "execution_count": 8,
     "metadata": {},
     "output_type": "execute_result"
    }
   ],
   "source": [
    "banksim[['step','age','amount']].describe().round()"
   ]
  },
  {
   "cell_type": "code",
   "execution_count": 9,
   "metadata": {},
   "outputs": [
    {
     "data": {
      "text/html": [
       "<div>\n",
       "<style scoped>\n",
       "    .dataframe tbody tr th:only-of-type {\n",
       "        vertical-align: middle;\n",
       "    }\n",
       "\n",
       "    .dataframe tbody tr th {\n",
       "        vertical-align: top;\n",
       "    }\n",
       "\n",
       "    .dataframe thead th {\n",
       "        text-align: right;\n",
       "    }\n",
       "</style>\n",
       "<table border=\"1\" class=\"dataframe\">\n",
       "  <thead>\n",
       "    <tr style=\"text-align: right;\">\n",
       "      <th></th>\n",
       "      <th>step</th>\n",
       "      <th>age</th>\n",
       "      <th>amount</th>\n",
       "    </tr>\n",
       "  </thead>\n",
       "  <tbody>\n",
       "    <tr>\n",
       "      <th>count</th>\n",
       "      <td>594643.0</td>\n",
       "      <td>594643.0</td>\n",
       "      <td>594643.0</td>\n",
       "    </tr>\n",
       "    <tr>\n",
       "      <th>mean</th>\n",
       "      <td>95.0</td>\n",
       "      <td>3.0</td>\n",
       "      <td>38.0</td>\n",
       "    </tr>\n",
       "    <tr>\n",
       "      <th>std</th>\n",
       "      <td>51.0</td>\n",
       "      <td>1.0</td>\n",
       "      <td>111.0</td>\n",
       "    </tr>\n",
       "    <tr>\n",
       "      <th>min</th>\n",
       "      <td>0.0</td>\n",
       "      <td>0.0</td>\n",
       "      <td>0.0</td>\n",
       "    </tr>\n",
       "    <tr>\n",
       "      <th>25%</th>\n",
       "      <td>52.0</td>\n",
       "      <td>2.0</td>\n",
       "      <td>14.0</td>\n",
       "    </tr>\n",
       "    <tr>\n",
       "      <th>50%</th>\n",
       "      <td>97.0</td>\n",
       "      <td>3.0</td>\n",
       "      <td>27.0</td>\n",
       "    </tr>\n",
       "    <tr>\n",
       "      <th>75%</th>\n",
       "      <td>139.0</td>\n",
       "      <td>4.0</td>\n",
       "      <td>43.0</td>\n",
       "    </tr>\n",
       "    <tr>\n",
       "      <th>max</th>\n",
       "      <td>179.0</td>\n",
       "      <td>7.0</td>\n",
       "      <td>8330.0</td>\n",
       "    </tr>\n",
       "  </tbody>\n",
       "</table>\n",
       "</div>"
      ],
      "text/plain": [
       "           step       age    amount\n",
       "count  594643.0  594643.0  594643.0\n",
       "mean       95.0       3.0      38.0\n",
       "std        51.0       1.0     111.0\n",
       "min         0.0       0.0       0.0\n",
       "25%        52.0       2.0      14.0\n",
       "50%        97.0       3.0      27.0\n",
       "75%       139.0       4.0      43.0\n",
       "max       179.0       7.0    8330.0"
      ]
     },
     "execution_count": 9,
     "metadata": {},
     "output_type": "execute_result"
    }
   ],
   "source": [
    "banksim[['step','age','amount']].describe().round()"
   ]
  },
  {
   "cell_type": "markdown",
   "metadata": {},
   "source": [
    "Los datos de los fraudes estarán desequilibrados como se ve en el gráfico de abajo y en el recuento de instancias. Para equilibrar el conjunto de datos se pueden realizar técnicas de sobremuestreo o submuestreo. El sobremuestreo es aumentar el número de la clase minoritaria generando instancias de la clase minoritaria. El submuestreo consiste en reducir el número de instancias de la clase mayoritaria mediante la selección de puntos aleatorios de la misma hasta que sea igual a la clase minoritaria. Ambas operaciones tienen algunos riesgos: El sobremuestreo creará copias o puntos de datos similares que a veces no serían útiles para el caso de la detección de fraudes porque las transacciones fraudulentas pueden variar. El submuestreo significa que perdimos puntos de datos y, por lo tanto, información. Realizaremos una técnica de sobremuestreo llamada SMOTE (Técnica de sobremuestreo de minorías sintéticas). SMOTE creará nuevos puntos de datos de la clase minoritaria utilizando las instancias vecinas, de modo que las muestras generadas no son copias exactas, sino que son similares a las instancias que tenemos."
   ]
  },
  {
   "cell_type": "markdown",
   "metadata": {},
   "source": [
    "#### Fraude"
   ]
  },
  {
   "cell_type": "code",
   "execution_count": 10,
   "metadata": {},
   "outputs": [
    {
     "data": {
      "text/plain": [
       "array([0, 1], dtype=int64)"
      ]
     },
     "execution_count": 10,
     "metadata": {},
     "output_type": "execute_result"
    }
   ],
   "source": [
    "pd.unique(banksim['fraud'])"
   ]
  },
  {
   "cell_type": "code",
   "execution_count": 11,
   "metadata": {},
   "outputs": [
    {
     "name": "stdout",
     "output_type": "stream",
     "text": [
      "0    587443\n",
      "1      7200\n",
      "Name: fraud, dtype: int64\n"
     ]
    }
   ],
   "source": [
    "print(banksim['fraud'].value_counts())"
   ]
  },
  {
   "cell_type": "code",
   "execution_count": 12,
   "metadata": {},
   "outputs": [
    {
     "name": "stdout",
     "output_type": "stream",
     "text": [
      "594643\n"
     ]
    }
   ],
   "source": [
    "print(banksim['fraud'].value_counts().sum())"
   ]
  },
  {
   "cell_type": "code",
   "execution_count": 13,
   "metadata": {},
   "outputs": [
    {
     "data": {
      "text/plain": [
       "Text(0.5, 1.0, 'Número de Customers')"
      ]
     },
     "execution_count": 13,
     "metadata": {},
     "output_type": "execute_result"
    },
    {
     "data": {
      "image/png": "[encoded data removed]",
      "text/plain": [
       "<Figure size 432x288 with 1 Axes>"
      ]
     },
     "metadata": {},
     "output_type": "display_data"
    }
   ],
   "source": [
    "sns.countplot(data = banksim, x = 'fraud', order = banksim['fraud'].value_counts().index, palette='pastel')\n",
    "plt.title('Número de Customers')"
   ]
  },
  {
   "cell_type": "markdown",
   "metadata": {},
   "source": [
    "Podemos ver la cantidad media y el porcentaje de fraude por categoría a continuación. Parece que el ocio y los viajes son las categorías más seleccionadas por los defraudadores. Los defraudadores eligieron las categorías en las que la gente gasta más en promedio. Confirmemos esta hipótesis comprobando la cantidad de fraude y de no fraude que se ha tramitado."
   ]
  },
  {
   "cell_type": "code",
   "execution_count": 14,
   "metadata": {},
   "outputs": [
    {
     "name": "stdout",
     "output_type": "stream",
     "text": [
      "Cantidad media y porcentaje por categoriaa                               amount     fraud\n",
      "category                                      \n",
      "'es_barsandrestaurants'    43.461014  0.018829\n",
      "'es_contents'              44.547571  0.000000\n",
      "'es_fashion'               65.666642  0.017973\n",
      "'es_food'                  37.070405  0.000000\n",
      "'es_health'               135.621367  0.105126\n",
      "'es_home'                 165.670846  0.152064\n",
      "'es_hotelservices'        205.614249  0.314220\n",
      "'es_hyper'                 45.970421  0.045917\n",
      "'es_leisure'              288.911303  0.949900\n",
      "'es_otherservices'        135.881524  0.250000\n",
      "'es_sportsandtoys'        215.715280  0.495252\n",
      "'es_tech'                 120.947937  0.066667\n",
      "'es_transportation'        26.958187  0.000000\n",
      "'es_travel'              2250.409190  0.793956\n",
      "'es_wellnessandbeauty'     65.511221  0.047594\n"
     ]
    },
    {
     "name": "stderr",
     "output_type": "stream",
     "text": [
      "<ipython-input-14-e747060d8e56>:1: FutureWarning: Indexing with multiple keys (implicitly converted to a tuple of keys) will be deprecated, use a list instead.\n",
      "  print(\"Cantidad media y porcentaje por categoriaa\",banksim.groupby('category')['amount','fraud'].mean())\n"
     ]
    }
   ],
   "source": [
    "print(\"Cantidad media y porcentaje por categoriaa\",banksim.groupby('category')['amount','fraud'].mean())"
   ]
  },
  {
   "cell_type": "markdown",
   "metadata": {},
   "source": [
    "Nuestra hipótesis de que los defraudadores elijan las categorías en las que la gente gasta más es sólo parcialmente correcta, pero como podemos ver en el cuadro siguiente podemos decir con confianza que una transacción fraudulenta será mucho más (unas cuatro veces o más) que el promedio de esa categoría."
   ]
  },
  {
   "cell_type": "code",
   "execution_count": 15,
   "metadata": {},
   "outputs": [],
   "source": [
    "# Create two dataframes with fraud and non-fraud data \n",
    "df_fraud = banksim.loc[banksim.fraud == 1] \n",
    "df_non_fraud = banksim.loc[banksim.fraud == 0]"
   ]
  },
  {
   "cell_type": "code",
   "execution_count": 16,
   "metadata": {},
   "outputs": [
    {
     "data": {
      "text/html": [
       "<div>\n",
       "<style scoped>\n",
       "    .dataframe tbody tr th:only-of-type {\n",
       "        vertical-align: middle;\n",
       "    }\n",
       "\n",
       "    .dataframe tbody tr th {\n",
       "        vertical-align: top;\n",
       "    }\n",
       "\n",
       "    .dataframe thead th {\n",
       "        text-align: right;\n",
       "    }\n",
       "</style>\n",
       "<table border=\"1\" class=\"dataframe\">\n",
       "  <thead>\n",
       "    <tr style=\"text-align: right;\">\n",
       "      <th></th>\n",
       "      <th>Fraudulent</th>\n",
       "      <th>Non-Fraudulent</th>\n",
       "      <th>Percent(%)</th>\n",
       "    </tr>\n",
       "  </thead>\n",
       "  <tbody>\n",
       "    <tr>\n",
       "      <th>'es_transportation'</th>\n",
       "      <td>NaN</td>\n",
       "      <td>26.958187</td>\n",
       "      <td>0.000000</td>\n",
       "    </tr>\n",
       "    <tr>\n",
       "      <th>'es_food'</th>\n",
       "      <td>NaN</td>\n",
       "      <td>37.070405</td>\n",
       "      <td>0.000000</td>\n",
       "    </tr>\n",
       "    <tr>\n",
       "      <th>'es_hyper'</th>\n",
       "      <td>169.255429</td>\n",
       "      <td>40.037145</td>\n",
       "      <td>4.591669</td>\n",
       "    </tr>\n",
       "    <tr>\n",
       "      <th>'es_barsandrestaurants'</th>\n",
       "      <td>164.092667</td>\n",
       "      <td>41.145997</td>\n",
       "      <td>1.882944</td>\n",
       "    </tr>\n",
       "    <tr>\n",
       "      <th>'es_contents'</th>\n",
       "      <td>NaN</td>\n",
       "      <td>44.547571</td>\n",
       "      <td>0.000000</td>\n",
       "    </tr>\n",
       "    <tr>\n",
       "      <th>'es_wellnessandbeauty'</th>\n",
       "      <td>229.422535</td>\n",
       "      <td>57.320219</td>\n",
       "      <td>4.759380</td>\n",
       "    </tr>\n",
       "    <tr>\n",
       "      <th>'es_fashion'</th>\n",
       "      <td>247.008190</td>\n",
       "      <td>62.347674</td>\n",
       "      <td>1.797335</td>\n",
       "    </tr>\n",
       "    <tr>\n",
       "      <th>'es_leisure'</th>\n",
       "      <td>300.286878</td>\n",
       "      <td>73.230400</td>\n",
       "      <td>94.989980</td>\n",
       "    </tr>\n",
       "    <tr>\n",
       "      <th>'es_otherservices'</th>\n",
       "      <td>316.469605</td>\n",
       "      <td>75.685497</td>\n",
       "      <td>25.000000</td>\n",
       "    </tr>\n",
       "    <tr>\n",
       "      <th>'es_sportsandtoys'</th>\n",
       "      <td>345.366811</td>\n",
       "      <td>88.502738</td>\n",
       "      <td>49.525237</td>\n",
       "    </tr>\n",
       "    <tr>\n",
       "      <th>'es_tech'</th>\n",
       "      <td>415.274114</td>\n",
       "      <td>99.924638</td>\n",
       "      <td>6.666667</td>\n",
       "    </tr>\n",
       "    <tr>\n",
       "      <th>'es_health'</th>\n",
       "      <td>407.031338</td>\n",
       "      <td>103.737228</td>\n",
       "      <td>10.512614</td>\n",
       "    </tr>\n",
       "    <tr>\n",
       "      <th>'es_hotelservices'</th>\n",
       "      <td>421.823339</td>\n",
       "      <td>106.548545</td>\n",
       "      <td>31.422018</td>\n",
       "    </tr>\n",
       "    <tr>\n",
       "      <th>'es_home'</th>\n",
       "      <td>457.484834</td>\n",
       "      <td>113.338409</td>\n",
       "      <td>15.206445</td>\n",
       "    </tr>\n",
       "    <tr>\n",
       "      <th>'es_travel'</th>\n",
       "      <td>2660.802872</td>\n",
       "      <td>669.025533</td>\n",
       "      <td>79.395604</td>\n",
       "    </tr>\n",
       "  </tbody>\n",
       "</table>\n",
       "</div>"
      ],
      "text/plain": [
       "                          Fraudulent  Non-Fraudulent  Percent(%)\n",
       "'es_transportation'              NaN       26.958187    0.000000\n",
       "'es_food'                        NaN       37.070405    0.000000\n",
       "'es_hyper'                169.255429       40.037145    4.591669\n",
       "'es_barsandrestaurants'   164.092667       41.145997    1.882944\n",
       "'es_contents'                    NaN       44.547571    0.000000\n",
       "'es_wellnessandbeauty'    229.422535       57.320219    4.759380\n",
       "'es_fashion'              247.008190       62.347674    1.797335\n",
       "'es_leisure'              300.286878       73.230400   94.989980\n",
       "'es_otherservices'        316.469605       75.685497   25.000000\n",
       "'es_sportsandtoys'        345.366811       88.502738   49.525237\n",
       "'es_tech'                 415.274114       99.924638    6.666667\n",
       "'es_health'               407.031338      103.737228   10.512614\n",
       "'es_hotelservices'        421.823339      106.548545   31.422018\n",
       "'es_home'                 457.484834      113.338409   15.206445\n",
       "'es_travel'              2660.802872      669.025533   79.395604"
      ]
     },
     "execution_count": 16,
     "metadata": {},
     "output_type": "execute_result"
    }
   ],
   "source": [
    "pd.concat([df_fraud.groupby('category')['amount'].mean(),df_non_fraud.groupby('category')['amount'].mean(),\\\n",
    "           banksim.groupby('category')['fraud'].mean()*100],keys=[\"Fraudulent\",\"Non-Fraudulent\",\"Percent(%)\"],axis=1,\\\n",
    "          sort=False).sort_values(by=['Non-Fraudulent'])"
   ]
  },
  {
   "cell_type": "markdown",
   "metadata": {},
   "source": [
    "Las categorías de gasto promedio son similares; entre 0-500 descartando los valores atípicos, excepto la categoría de viajes que es muy alta."
   ]
  },
  {
   "cell_type": "code",
   "execution_count": 17,
   "metadata": {},
   "outputs": [
    {
     "name": "stderr",
     "output_type": "stream",
     "text": [
      "No handles with labels found to put in legend.\n"
     ]
    },
    {
     "data": {
      "image/png": "[encoded data removed]",
      "text/plain": [
       "<Figure size 2160x720 with 1 Axes>"
      ]
     },
     "metadata": {},
     "output_type": "display_data"
    }
   ],
   "source": [
    "# Plot histograms of the amounts in fraud and non-fraud data \n",
    "plt.figure(figsize=(30,10))\n",
    "sns.boxplot(x=banksim.category,y=banksim.amount)\n",
    "plt.title(\"Boxplot for the Amount spend in category\")\n",
    "plt.ylim(0,4000)\n",
    "plt.legend()\n",
    "plt.show()"
   ]
  },
  {
   "cell_type": "markdown",
   "metadata": {},
   "source": [
    "Una vez más podemos ver en el histograma de abajo que las transacciones fradulentas son menos en cuenta pero más en cantidad."
   ]
  },
  {
   "cell_type": "code",
   "execution_count": 18,
   "metadata": {},
   "outputs": [
    {
     "data": {
      "image/png": "[encoded data removed]",
      "text/plain": [
       "<Figure size 432x288 with 1 Axes>"
      ]
     },
     "metadata": {},
     "output_type": "display_data"
    }
   ],
   "source": [
    "plt.hist(df_fraud.amount, alpha=0.5, label='fraud',bins=100)\n",
    "plt.hist(df_non_fraud.amount, alpha=0.5, label='nonfraud',bins=100)\n",
    "plt.title(\"Histogram for fraudulent and nonfraudulent payments\")\n",
    "plt.ylim(0,10000)\n",
    "plt.xlim(0,1000)\n",
    "plt.legend()\n",
    "plt.show()"
   ]
  },
  {
   "cell_type": "markdown",
   "metadata": {},
   "source": [
    "Con más de 400 ya poderíamos decir que haya fraude."
   ]
  },
  {
   "cell_type": "markdown",
   "metadata": {},
   "source": [
    "Parece que el fraude ocurre más en edades iguales y menores de 18 años (0º categoría). ¿Puede ser debido a que los estafadores piensan que habría menos consecuencias si muestran su edad más joven, o tal vez realmente son jóvenes."
   ]
  },
  {
   "cell_type": "code",
   "execution_count": 19,
   "metadata": {},
   "outputs": [
    {
     "name": "stdout",
     "output_type": "stream",
     "text": [
      "   Age  Fraud Percent\n",
      "7    7       0.594228\n",
      "6    6       0.974826\n",
      "5    5       1.095112\n",
      "1    1       1.185254\n",
      "3    3       1.192815\n",
      "2    2       1.251401\n",
      "4    4       1.293281\n",
      "0    0       1.957586\n"
     ]
    }
   ],
   "source": [
    "print((banksim.groupby('age')['fraud'].mean()*100).reset_index().rename(columns={'age':'Age','fraud' : 'Fraud Percent'}).sort_values(by='Fraud Percent'))"
   ]
  },
  {
   "cell_type": "markdown",
   "metadata": {},
   "source": [
    "#### Cliente"
   ]
  },
  {
   "cell_type": "code",
   "execution_count": 20,
   "metadata": {},
   "outputs": [
    {
     "data": {
      "text/plain": [
       "array([\"'C1093826151'\", \"'C352968107'\", \"'C2054744914'\", ...,\n",
       "       \"'C1014783484'\", \"'C849065220'\", \"'C1809646275'\"], dtype=object)"
      ]
     },
     "execution_count": 20,
     "metadata": {},
     "output_type": "execute_result"
    }
   ],
   "source": [
    "pd.unique(banksim['customer'])"
   ]
  },
  {
   "cell_type": "code",
   "execution_count": 21,
   "metadata": {},
   "outputs": [
    {
     "name": "stdout",
     "output_type": "stream",
     "text": [
      "'C1978250683'    265\n",
      "'C1275518867'    252\n",
      "'C806399525'     237\n",
      "'C515668508'     205\n",
      "'C1338396147'    195\n",
      "                ... \n",
      "'C1345586046'      6\n",
      "'C1156745710'      6\n",
      "'C1809646275'      5\n",
      "'C1743702978'      5\n",
      "'C1404665203'      5\n",
      "Name: customer, Length: 4112, dtype: int64\n"
     ]
    }
   ],
   "source": [
    "print(banksim['customer'].value_counts())"
   ]
  },
  {
   "cell_type": "code",
   "execution_count": 22,
   "metadata": {},
   "outputs": [
    {
     "name": "stdout",
     "output_type": "stream",
     "text": [
      "594643\n"
     ]
    }
   ],
   "source": [
    "print(banksim['customer'].value_counts().sum())"
   ]
  },
  {
   "cell_type": "code",
   "execution_count": 23,
   "metadata": {},
   "outputs": [],
   "source": [
    "#sns.countplot(data = banksim, y = 'customer', order = banksim['customer'].value_counts().index, palette='pastel')\n",
    "#plt.title('Número de Customers')"
   ]
  },
  {
   "cell_type": "markdown",
   "metadata": {},
   "source": [
    "#### Pasos"
   ]
  },
  {
   "cell_type": "code",
   "execution_count": 24,
   "metadata": {},
   "outputs": [
    {
     "data": {
      "text/plain": [
       "array([  0,   1,   2,   3,   4,   5,   6,   7,   8,   9,  10,  11,  12,\n",
       "        13,  14,  15,  16,  17,  18,  19,  20,  21,  22,  23,  24,  25,\n",
       "        26,  27,  28,  29,  30,  31,  32,  33,  34,  35,  36,  37,  38,\n",
       "        39,  40,  41,  42,  43,  44,  45,  46,  47,  48,  49,  50,  51,\n",
       "        52,  53,  54,  55,  56,  57,  58,  59,  60,  61,  62,  63,  64,\n",
       "        65,  66,  67,  68,  69,  70,  71,  72,  73,  74,  75,  76,  77,\n",
       "        78,  79,  80,  81,  82,  83,  84,  85,  86,  87,  88,  89,  90,\n",
       "        91,  92,  93,  94,  95,  96,  97,  98,  99, 100, 101, 102, 103,\n",
       "       104, 105, 106, 107, 108, 109, 110, 111, 112, 113, 114, 115, 116,\n",
       "       117, 118, 119, 120, 121, 122, 123, 124, 125, 126, 127, 128, 129,\n",
       "       130, 131, 132, 133, 134, 135, 136, 137, 138, 139, 140, 141, 142,\n",
       "       143, 144, 145, 146, 147, 148, 149, 150, 151, 152, 153, 154, 155,\n",
       "       156, 157, 158, 159, 160, 161, 162, 163, 164, 165, 166, 167, 168,\n",
       "       169, 170, 171, 172, 173, 174, 175, 176, 177, 178, 179], dtype=int64)"
      ]
     },
     "execution_count": 24,
     "metadata": {},
     "output_type": "execute_result"
    }
   ],
   "source": [
    "pd.unique(banksim['step'])"
   ]
  },
  {
   "cell_type": "code",
   "execution_count": 25,
   "metadata": {},
   "outputs": [
    {
     "name": "stdout",
     "output_type": "stream",
     "text": [
      "175    3774\n",
      "177    3758\n",
      "152    3746\n",
      "178    3743\n",
      "174    3743\n",
      "       ... \n",
      "5      2525\n",
      "3      2499\n",
      "2      2462\n",
      "0      2430\n",
      "1      2424\n",
      "Name: step, Length: 180, dtype: int64\n"
     ]
    }
   ],
   "source": [
    "print(banksim['step'].value_counts())"
   ]
  },
  {
   "cell_type": "code",
   "execution_count": 26,
   "metadata": {},
   "outputs": [
    {
     "name": "stdout",
     "output_type": "stream",
     "text": [
      "594643\n"
     ]
    }
   ],
   "source": [
    "print(banksim['step'].value_counts().sum())"
   ]
  },
  {
   "cell_type": "markdown",
   "metadata": {},
   "source": [
    "#### Zip Code"
   ]
  },
  {
   "cell_type": "code",
   "execution_count": 27,
   "metadata": {},
   "outputs": [
    {
     "data": {
      "text/plain": [
       "array([\"'28007'\"], dtype=object)"
      ]
     },
     "execution_count": 27,
     "metadata": {},
     "output_type": "execute_result"
    }
   ],
   "source": [
    "pd.unique(banksim['zipcodeOri'])"
   ]
  },
  {
   "cell_type": "code",
   "execution_count": 28,
   "metadata": {},
   "outputs": [
    {
     "name": "stdout",
     "output_type": "stream",
     "text": [
      "'28007'    594643\n",
      "Name: zipcodeOri, dtype: int64\n"
     ]
    }
   ],
   "source": [
    "print(banksim['zipcodeOri'].value_counts())"
   ]
  },
  {
   "cell_type": "code",
   "execution_count": 29,
   "metadata": {},
   "outputs": [
    {
     "name": "stdout",
     "output_type": "stream",
     "text": [
      "594643\n"
     ]
    }
   ],
   "source": [
    "print(banksim['zipcodeOri'].value_counts().sum())"
   ]
  },
  {
   "cell_type": "code",
   "execution_count": 30,
   "metadata": {},
   "outputs": [
    {
     "data": {
      "text/plain": [
       "array([\"'28007'\"], dtype=object)"
      ]
     },
     "execution_count": 30,
     "metadata": {},
     "output_type": "execute_result"
    }
   ],
   "source": [
    "pd.unique(banksim['zipMerchant'])"
   ]
  },
  {
   "cell_type": "code",
   "execution_count": 31,
   "metadata": {},
   "outputs": [
    {
     "name": "stdout",
     "output_type": "stream",
     "text": [
      "'28007'    594643\n",
      "Name: zipMerchant, dtype: int64\n"
     ]
    }
   ],
   "source": [
    "print(banksim['zipMerchant'].value_counts())"
   ]
  },
  {
   "cell_type": "code",
   "execution_count": 32,
   "metadata": {},
   "outputs": [
    {
     "name": "stdout",
     "output_type": "stream",
     "text": [
      "594643\n"
     ]
    }
   ],
   "source": [
    "print(banksim['zipMerchant'].value_counts().sum())"
   ]
  },
  {
   "cell_type": "markdown",
   "metadata": {},
   "source": [
    "#### Categoria"
   ]
  },
  {
   "cell_type": "code",
   "execution_count": 33,
   "metadata": {},
   "outputs": [
    {
     "data": {
      "text/plain": [
       "array([\"'es_transportation'\", \"'es_health'\", \"'es_otherservices'\",\n",
       "       \"'es_food'\", \"'es_hotelservices'\", \"'es_barsandrestaurants'\",\n",
       "       \"'es_tech'\", \"'es_sportsandtoys'\", \"'es_wellnessandbeauty'\",\n",
       "       \"'es_hyper'\", \"'es_fashion'\", \"'es_home'\", \"'es_contents'\",\n",
       "       \"'es_travel'\", \"'es_leisure'\"], dtype=object)"
      ]
     },
     "execution_count": 33,
     "metadata": {},
     "output_type": "execute_result"
    }
   ],
   "source": [
    "pd.unique(banksim['category'])"
   ]
  },
  {
   "cell_type": "code",
   "execution_count": 34,
   "metadata": {},
   "outputs": [
    {
     "name": "stdout",
     "output_type": "stream",
     "text": [
      "'es_transportation'        505119\n",
      "'es_food'                   26254\n",
      "'es_health'                 16133\n",
      "'es_wellnessandbeauty'      15086\n",
      "'es_fashion'                 6454\n",
      "'es_barsandrestaurants'      6373\n",
      "'es_hyper'                   6098\n",
      "'es_sportsandtoys'           4002\n",
      "'es_tech'                    2370\n",
      "'es_home'                    1986\n",
      "'es_hotelservices'           1744\n",
      "'es_otherservices'            912\n",
      "'es_contents'                 885\n",
      "'es_travel'                   728\n",
      "'es_leisure'                  499\n",
      "Name: category, dtype: int64\n"
     ]
    }
   ],
   "source": [
    "print(banksim['category'].value_counts())"
   ]
  },
  {
   "cell_type": "code",
   "execution_count": 35,
   "metadata": {},
   "outputs": [
    {
     "name": "stdout",
     "output_type": "stream",
     "text": [
      "594643\n"
     ]
    }
   ],
   "source": [
    "print(banksim['category'].value_counts().sum())"
   ]
  },
  {
   "cell_type": "markdown",
   "metadata": {},
   "source": [
    "#### Monto"
   ]
  },
  {
   "cell_type": "code",
   "execution_count": 36,
   "metadata": {},
   "outputs": [
    {
     "data": {
      "text/plain": [
       "array([  4.55,  39.68,  26.89, ..., 249.18, 224.81, 190.31])"
      ]
     },
     "execution_count": 36,
     "metadata": {},
     "output_type": "execute_result"
    }
   ],
   "source": [
    "pd.unique(banksim['amount'])"
   ]
  },
  {
   "cell_type": "code",
   "execution_count": 37,
   "metadata": {},
   "outputs": [
    {
     "name": "stdout",
     "output_type": "stream",
     "text": [
      "14.93     146\n",
      "26.67     146\n",
      "17.57     145\n",
      "17.26     143\n",
      "16.12     143\n",
      "         ... \n",
      "751.43      1\n",
      "274.43      1\n",
      "517.95      1\n",
      "105.02      1\n",
      "429.60      1\n",
      "Name: amount, Length: 23767, dtype: int64\n"
     ]
    }
   ],
   "source": [
    "print(banksim['amount'].value_counts())"
   ]
  },
  {
   "cell_type": "code",
   "execution_count": 38,
   "metadata": {},
   "outputs": [
    {
     "name": "stdout",
     "output_type": "stream",
     "text": [
      "594643\n"
     ]
    }
   ],
   "source": [
    "print(banksim['amount'].value_counts().sum())"
   ]
  },
  {
   "cell_type": "markdown",
   "metadata": {},
   "source": [
    "### Correlaciones"
   ]
  },
  {
   "cell_type": "code",
   "execution_count": 44,
   "metadata": {},
   "outputs": [
    {
     "name": "stdout",
     "output_type": "stream",
     "text": [
      "0         2\n",
      "1         2\n",
      "2         1\n",
      "3         2\n",
      "4         2\n",
      "         ..\n",
      "594638    1\n",
      "594639    1\n",
      "594640    1\n",
      "594641    2\n",
      "594642    1\n",
      "Name: gender, Length: 594643, dtype: int32\n"
     ]
    }
   ],
   "source": [
    "from sklearn.preprocessing import OneHotEncoder\n",
    "\n",
    "oe = OneHotEncoder()\n",
    "banksim['gender'] = le.fit_transform(banksim['gender'])\n",
    "print(banksim['gender'])"
   ]
  },
  {
   "cell_type": "code",
   "execution_count": 41,
   "metadata": {},
   "outputs": [
    {
     "name": "stdout",
     "output_type": "stream",
     "text": [
      "0         12\n",
      "1         12\n",
      "2         12\n",
      "3         12\n",
      "4         12\n",
      "          ..\n",
      "594638    12\n",
      "594639    12\n",
      "594640     2\n",
      "594641    12\n",
      "594642    12\n",
      "Name: category, Length: 594643, dtype: int32\n"
     ]
    }
   ],
   "source": [
    "banksim['category'] = le.fit_transform(banksim['category'])\n",
    "print(banksim['category'])"
   ]
  },
  {
   "cell_type": "code",
   "execution_count": 45,
   "metadata": {},
   "outputs": [
    {
     "data": {
      "image/png": "[encoded data removed]",
      "text/plain": [
       "<Figure size 432x432 with 2 Axes>"
      ]
     },
     "metadata": {},
     "output_type": "display_data"
    }
   ],
   "source": [
    "corr = banksim[['age','gender','category','amount','fraud']].corr()\n",
    "plt.figure(figsize=(6,6))\n",
    "sns.heatmap(corr, cbar = True,  square = True, annot=True, fmt= '.2f',annot_kws={'size': 15}, cmap= 'Set2')\n",
    "plt.xticks(rotation = 45)\n",
    "plt.yticks(rotation = 45)\n",
    "plt.title('Correlación entre Variables - Pearson')\n",
    "plt.show()"
   ]
  },
  {
   "cell_type": "code",
   "execution_count": 47,
   "metadata": {},
   "outputs": [
    {
     "name": "stdout",
     "output_type": "stream",
     "text": [
      "        step       customer  age  gender zipcodeOri       merchant  \\\n",
      "0          0  'C1093826151'    4       2    '28007'   'M348934600'   \n",
      "1          0   'C352968107'    2       2    '28007'   'M348934600'   \n",
      "2          0  'C2054744914'    4       1    '28007'  'M1823072687'   \n",
      "3          0  'C1760612790'    3       2    '28007'   'M348934600'   \n",
      "4          0   'C757503768'    5       2    '28007'   'M348934600'   \n",
      "...      ...            ...  ...     ...        ...            ...   \n",
      "594638   179  'C1753498738'    3       1    '28007'  'M1823072687'   \n",
      "594639   179   'C650108285'    4       1    '28007'  'M1823072687'   \n",
      "594640   179   'C123623130'    2       1    '28007'   'M349281107'   \n",
      "594641   179  'C1499363341'    5       2    '28007'  'M1823072687'   \n",
      "594642   179   'C616528518'    4       1    '28007'  'M1823072687'   \n",
      "\n",
      "       zipMerchant  amount  fraud  category_0  ...  category_5  category_6  \\\n",
      "0          '28007'    4.55      0           0  ...           0           0   \n",
      "1          '28007'   39.68      0           0  ...           0           0   \n",
      "2          '28007'   26.89      0           0  ...           0           0   \n",
      "3          '28007'   17.25      0           0  ...           0           0   \n",
      "4          '28007'   35.72      0           0  ...           0           0   \n",
      "...            ...     ...    ...         ...  ...         ...         ...   \n",
      "594638     '28007'   20.53      0           0  ...           0           0   \n",
      "594639     '28007'   50.73      0           0  ...           0           0   \n",
      "594640     '28007'   22.44      0           0  ...           0           0   \n",
      "594641     '28007'   14.46      0           0  ...           0           0   \n",
      "594642     '28007'   26.93      0           0  ...           0           0   \n",
      "\n",
      "        category_7  category_8  category_9  category_10  category_11  \\\n",
      "0                0           0           0            0            0   \n",
      "1                0           0           0            0            0   \n",
      "2                0           0           0            0            0   \n",
      "3                0           0           0            0            0   \n",
      "4                0           0           0            0            0   \n",
      "...            ...         ...         ...          ...          ...   \n",
      "594638           0           0           0            0            0   \n",
      "594639           0           0           0            0            0   \n",
      "594640           0           0           0            0            0   \n",
      "594641           0           0           0            0            0   \n",
      "594642           0           0           0            0            0   \n",
      "\n",
      "        category_12  category_13  category_14  \n",
      "0                 1            0            0  \n",
      "1                 1            0            0  \n",
      "2                 1            0            0  \n",
      "3                 1            0            0  \n",
      "4                 1            0            0  \n",
      "...             ...          ...          ...  \n",
      "594638            1            0            0  \n",
      "594639            1            0            0  \n",
      "594640            0            0            0  \n",
      "594641            1            0            0  \n",
      "594642            1            0            0  \n",
      "\n",
      "[594643 rows x 24 columns]\n"
     ]
    }
   ],
   "source": [
    "df = pd.get_dummies(banksim, columns=['category'])\n",
    "print (df)"
   ]
  },
  {
   "cell_type": "code",
   "execution_count": null,
   "metadata": {},
   "outputs": [],
   "source": []
  }
 ],
 "metadata": {
  "kernelspec": {
   "display_name": "Python 3",
   "language": "python",
   "name": "python3"
  },
  "language_info": {
   "codemirror_mode": {
    "name": "ipython",
    "version": 3
   },
   "file_extension": ".py",
   "mimetype": "text/x-python",
   "name": "python",
   "nbconvert_exporter": "python",
   "pygments_lexer": "ipython3",
   "version": "3.8.5"
  }
 },
 "nbformat": 4,
 "nbformat_minor": 4
}
