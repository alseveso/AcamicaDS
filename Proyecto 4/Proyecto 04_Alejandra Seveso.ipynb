{
 "cells": [
  {
   "cell_type": "markdown",
   "metadata": {},
   "source": [
    "# Informe Final Carrera\n",
    "Profundiza y ajusta la resolución de tus proyectos: agrega al menos una fuente de datos o prueba un modelo que hasta el momento no hayas aplicado. Elabora un informe final que describa el proceso de toma de decisiones. Sustenta la razón por la cual usaste las librerías y aplicaste los métodos al dataset. Todos tus hallazgos deberán ser comunicados en función de la problemática y las preguntas que buscabas responder."
   ]
  },
  {
   "cell_type": "markdown",
   "metadata": {},
   "source": [
    "## Fraude Bancario"
   ]
  },
  {
   "cell_type": "markdown",
   "metadata": {},
   "source": [
    "En el presente proyecto, abordaremos la problemática del **Fraude Bancario**.  \n",
    "En el contexto de un cambiante panorama bancario global, donde las redes de sucursales se están reduciendo, los volúmenes de pagos digitales aumentan y los pagos se procesan en segundos, los estafadores están encontrando creativamente nuevas formas de robar a los bancos y sus clientes."
   ]
  },
  {
   "cell_type": "markdown",
   "metadata": {},
   "source": [
    "De acuerdo a la Encuesta Global de Fraude Bancario 2019 realizado por KPMG, podemos observar, entre los hallazgos principales, los siguientes:\n",
    "* Más de la mitad de los encuestados en todo el mundo experimentaron aumentos tanto en el valor total como en el volumen del fraude externo. El aumento de las tipologías de fraude en todo el mundo desde 2015 hasta 2018 incluye el robo de identidad y la toma de posesión de la cuenta, los ataques cibernéticos, las tarjetas sin fraude y las estafas autorizadas de pago automático;\n",
    "* Los bancos a nivel mundial están viendo una tendencia creciente en las estafas. Los estafadores están manipulando y obligando a los clientes a hacer pagos a ellos, sin pasar por los controles bancarios;\n",
    "* La Banca Abierta se considera un desafío importante en el riesgo de fraude de los bancos, ya que los bancos de todo el mundo se están preparando para abrir sus puertas a terceros para acceder a los datos de sus clientes;\n",
    "* Los estafadores son cada vez más sofisticados y pueden cambiar y adaptar rápidamente sus enfoques. Los bancos deben ser ágiles para responder a las nuevas amenazas y adoptar nuevos enfoques y tecnologías para predecir y prevenir el fraude;\n",
    "* En cada región, los bancos encuestados consideraron que el desafío más importante en el riesgo de fraude son los ciberataques."
   ]
  },
  {
   "cell_type": "markdown",
   "metadata": {},
   "source": [
    "## ¿Por qué aplicar modelos de Machine Learning?"
   ]
  },
  {
   "cell_type": "markdown",
   "metadata": {},
   "source": [
    "A diferencia de los **métodos basados en reglas**, los algoritmos de **Machine Learning** (aprendizaje automático) procesan los datos en bruto (sin procesar), como correos electrónicos o mensajes de texto, y luego aprenden de lo que toman como entrada, volviéndose más inteligentes a lo largo del camino.  \n",
    "Por otro lado, los **métodos basados en reglas** no pueden detectar ningún patrón nuevo en los datos, ya que sólo siguen un escenario preestablecido que no incluye patrones de actividad fraudulenta ligeramente modificados."
   ]
  },
  {
   "cell_type": "markdown",
   "metadata": {},
   "source": [
    "## Banksim Dataset"
   ]
  },
  {
   "cell_type": "markdown",
   "metadata": {},
   "source": [
    "* En el presente estudio, detectaremos las transacciones fraudulentas del conjunto de datos de **Banksim**.  \n",
    "* Éste es un **conjunto de datos generado sintéticamente**, y consiste en pagos de varios clientes hechos en diferentes períodos de tiempo y con diferentes cantidades.  \n",
    "* Para más información sobre el conjunto de datos (bs140513_032310.csv), se puede consultar la página de [Kaggle](https://www.kaggle.com/ntnu-testimon/banksim1).  "
   ]
  },
  {
   "cell_type": "markdown",
   "metadata": {},
   "source": [
    "Los pasos a seguir serán los siguientes:\n",
    "\n",
    "1. Análisis Exploratorio de Datos (EDA)\n",
    "2. Preprocesamiento de Datos\n",
    "3. Sobremuestreo (Oversampling) con SMOTE\n",
    "4. Series de Tiempo\n",
    "5. Modelos de Machine Learning\n",
    "6. PCA\n",
    "7. Comparación del desempeño de los Modelos Desarrollados\n",
    "8. Conclusión\n",
    "9. Recursos"
   ]
  },
  {
   "cell_type": "markdown",
   "metadata": {},
   "source": [
    "### 1. Análisis Exploratorio de Datos"
   ]
  },
  {
   "cell_type": "markdown",
   "metadata": {},
   "source": [
    "1. __Se importan las librerías__ necesarias para trabajar en la consigna."
   ]
  },
  {
   "cell_type": "code",
   "execution_count": 1,
   "metadata": {},
   "outputs": [],
   "source": [
    "import numpy as np\n",
    "import pandas as pd\n",
    "import matplotlib.pyplot as plt\n",
    "import seaborn as sns\n",
    "sns.set()"
   ]
  },
  {
   "cell_type": "markdown",
   "metadata": {},
   "source": [
    "2. __Se realiza la carga el dataset__ usando las funcionalidades de Pandas."
   ]
  },
  {
   "cell_type": "code",
   "execution_count": 2,
   "metadata": {},
   "outputs": [],
   "source": [
    "banksim = pd.read_csv('bs140513_032310.csv')"
   ]
  },
  {
   "cell_type": "code",
   "execution_count": 3,
   "metadata": {},
   "outputs": [
    {
     "data": {
      "text/plain": [
       "(594643, 10)"
      ]
     },
     "execution_count": 3,
     "metadata": {},
     "output_type": "execute_result"
    }
   ],
   "source": [
    "banksim.shape"
   ]
  },
  {
   "cell_type": "markdown",
   "metadata": {},
   "source": [
    "* *El Dataset, cuenta con **594.643 Filas**, y **10 Columnas**.*"
   ]
  },
  {
   "cell_type": "code",
   "execution_count": 4,
   "metadata": {},
   "outputs": [
    {
     "data": {
      "text/html": [
       "<div>\n",
       "<style scoped>\n",
       "    .dataframe tbody tr th:only-of-type {\n",
       "        vertical-align: middle;\n",
       "    }\n",
       "\n",
       "    .dataframe tbody tr th {\n",
       "        vertical-align: top;\n",
       "    }\n",
       "\n",
       "    .dataframe thead th {\n",
       "        text-align: right;\n",
       "    }\n",
       "</style>\n",
       "<table border=\"1\" class=\"dataframe\">\n",
       "  <thead>\n",
       "    <tr style=\"text-align: right;\">\n",
       "      <th></th>\n",
       "      <th>step</th>\n",
       "      <th>customer</th>\n",
       "      <th>age</th>\n",
       "      <th>gender</th>\n",
       "      <th>zipcodeOri</th>\n",
       "      <th>merchant</th>\n",
       "      <th>zipMerchant</th>\n",
       "      <th>category</th>\n",
       "      <th>amount</th>\n",
       "      <th>fraud</th>\n",
       "    </tr>\n",
       "  </thead>\n",
       "  <tbody>\n",
       "    <tr>\n",
       "      <th>0</th>\n",
       "      <td>0</td>\n",
       "      <td>'C1093826151'</td>\n",
       "      <td>'4'</td>\n",
       "      <td>'M'</td>\n",
       "      <td>'28007'</td>\n",
       "      <td>'M348934600'</td>\n",
       "      <td>'28007'</td>\n",
       "      <td>'es_transportation'</td>\n",
       "      <td>4.55</td>\n",
       "      <td>0</td>\n",
       "    </tr>\n",
       "    <tr>\n",
       "      <th>1</th>\n",
       "      <td>0</td>\n",
       "      <td>'C352968107'</td>\n",
       "      <td>'2'</td>\n",
       "      <td>'M'</td>\n",
       "      <td>'28007'</td>\n",
       "      <td>'M348934600'</td>\n",
       "      <td>'28007'</td>\n",
       "      <td>'es_transportation'</td>\n",
       "      <td>39.68</td>\n",
       "      <td>0</td>\n",
       "    </tr>\n",
       "    <tr>\n",
       "      <th>2</th>\n",
       "      <td>0</td>\n",
       "      <td>'C2054744914'</td>\n",
       "      <td>'4'</td>\n",
       "      <td>'F'</td>\n",
       "      <td>'28007'</td>\n",
       "      <td>'M1823072687'</td>\n",
       "      <td>'28007'</td>\n",
       "      <td>'es_transportation'</td>\n",
       "      <td>26.89</td>\n",
       "      <td>0</td>\n",
       "    </tr>\n",
       "    <tr>\n",
       "      <th>3</th>\n",
       "      <td>0</td>\n",
       "      <td>'C1760612790'</td>\n",
       "      <td>'3'</td>\n",
       "      <td>'M'</td>\n",
       "      <td>'28007'</td>\n",
       "      <td>'M348934600'</td>\n",
       "      <td>'28007'</td>\n",
       "      <td>'es_transportation'</td>\n",
       "      <td>17.25</td>\n",
       "      <td>0</td>\n",
       "    </tr>\n",
       "    <tr>\n",
       "      <th>4</th>\n",
       "      <td>0</td>\n",
       "      <td>'C757503768'</td>\n",
       "      <td>'5'</td>\n",
       "      <td>'M'</td>\n",
       "      <td>'28007'</td>\n",
       "      <td>'M348934600'</td>\n",
       "      <td>'28007'</td>\n",
       "      <td>'es_transportation'</td>\n",
       "      <td>35.72</td>\n",
       "      <td>0</td>\n",
       "    </tr>\n",
       "  </tbody>\n",
       "</table>\n",
       "</div>"
      ],
      "text/plain": [
       "   step       customer  age gender zipcodeOri       merchant zipMerchant  \\\n",
       "0     0  'C1093826151'  '4'    'M'    '28007'   'M348934600'     '28007'   \n",
       "1     0   'C352968107'  '2'    'M'    '28007'   'M348934600'     '28007'   \n",
       "2     0  'C2054744914'  '4'    'F'    '28007'  'M1823072687'     '28007'   \n",
       "3     0  'C1760612790'  '3'    'M'    '28007'   'M348934600'     '28007'   \n",
       "4     0   'C757503768'  '5'    'M'    '28007'   'M348934600'     '28007'   \n",
       "\n",
       "              category  amount  fraud  \n",
       "0  'es_transportation'    4.55      0  \n",
       "1  'es_transportation'   39.68      0  \n",
       "2  'es_transportation'   26.89      0  \n",
       "3  'es_transportation'   17.25      0  \n",
       "4  'es_transportation'   35.72      0  "
      ]
     },
     "execution_count": 4,
     "metadata": {},
     "output_type": "execute_result"
    }
   ],
   "source": [
    "banksim.head()"
   ]
  },
  {
   "cell_type": "markdown",
   "metadata": {},
   "source": [
    "3. Se realiza una __descripción__ de las características:  "
   ]
  },
  {
   "cell_type": "markdown",
   "metadata": {},
   "source": [
    "* *Step:* Representa el día desde el comienzo de la simulación. Tiene 180 pasos, por lo que la simulación dura virtualmente 6 meses.  \n",
    "* *Customer:* Representa la identificación del cliente.  \n",
    "* *zipCodeOrigin:* El código postal de origen/fuente.  \n",
    "* *Merchant:* La identificación del comerciante.  \n",
    "* *zipMerchant:* El código postal del comerciante.  \n",
    "* *Edad:* Edad categorizada, las cuales se detallan a continuación:  \n",
    "    * 0: <= 18,  \n",
    "    * 1: 19-25,  \n",
    "    * 2: 26-35,  \n",
    "    * 3: 36-45,  \n",
    "    * 4: 46-55,  \n",
    "    * 5: 56-65,  \n",
    "    * 6: > 65  \n",
    "    * U: Desconocido  \n",
    "* *Gender:* Género del cliente.  \n",
    "    * E : Enterprise,  \n",
    "    * F: Mujer,  \n",
    "    * M: Hombre,  \n",
    "    * U: Desconocido  \n",
    "* *Category:* Categoría de la compra. A posteriori se verán con más detalle.  \n",
    "* *Amount:* Monto (gasto) que implica la compra.  \n",
    "* *Fraud:* Variable objetivo que muestra si la transacción es fraudulenta **(1)** o no **(0)**."
   ]
  },
  {
   "cell_type": "markdown",
   "metadata": {},
   "source": [
    "4. __Info por Columna:__ Se imprimen los nombres de cada columna, se identifica a qué tipo de dato corresponden y se observan sus valores faltantes."
   ]
  },
  {
   "cell_type": "code",
   "execution_count": 5,
   "metadata": {},
   "outputs": [
    {
     "name": "stdout",
     "output_type": "stream",
     "text": [
      "<class 'pandas.core.frame.DataFrame'>\n",
      "RangeIndex: 594643 entries, 0 to 594642\n",
      "Data columns (total 10 columns):\n",
      " #   Column       Non-Null Count   Dtype  \n",
      "---  ------       --------------   -----  \n",
      " 0   step         594643 non-null  int64  \n",
      " 1   customer     594643 non-null  object \n",
      " 2   age          594643 non-null  object \n",
      " 3   gender       594643 non-null  object \n",
      " 4   zipcodeOri   594643 non-null  object \n",
      " 5   merchant     594643 non-null  object \n",
      " 6   zipMerchant  594643 non-null  object \n",
      " 7   category     594643 non-null  object \n",
      " 8   amount       594643 non-null  float64\n",
      " 9   fraud        594643 non-null  int64  \n",
      "dtypes: float64(1), int64(2), object(7)\n",
      "memory usage: 45.4+ MB\n"
     ]
    }
   ],
   "source": [
    "banksim.info()"
   ]
  },
  {
   "cell_type": "markdown",
   "metadata": {},
   "source": [
    "* *Ninguna columna tiene valores faltantes, lo cual es lógico por tratarse de un dataset sintético.*\n",
    "* *Por ello, es que no será necesario realizar imputación de valores.*"
   ]
  },
  {
   "cell_type": "markdown",
   "metadata": {},
   "source": [
    "**HASTA ACÁ OK!!**"
   ]
  },
  {
   "cell_type": "code",
   "execution_count": null,
   "metadata": {},
   "outputs": [],
   "source": []
  },
  {
   "cell_type": "markdown",
   "metadata": {},
   "source": [
    "5. Análisis del feature **Fraude**."
   ]
  },
  {
   "cell_type": "markdown",
   "metadata": {},
   "source": [
    "* *Los datos de los fraudes estarán desequilibrados como se ve en el gráfico de abajo y en el recuento de instancias.*  \n",
    "* *Para equilibrar el conjunto de datos se pueden realizar técnicas de sobremuestreo o submuestreo.*  \n",
    "* *El sobremuestreo es aumentar el número de la clase minoritaria generando instancias de la clase minoritaria.*  \n",
    "* *El submuestreo consiste en reducir el número de instancias de la clase mayoritaria mediante la selección de puntos aleatorios de la misma hasta que sea igual a la clase minoritaria.*  \n",
    "* *Ambas operaciones tienen algunos riesgos: El sobremuestreo creará copias o puntos de datos similares que a veces no serían útiles para el caso de la detección de fraudes porque las transacciones fraudulentas pueden variar. El submuestreo significa que perdimos puntos de datos y, por lo tanto, información.*  \n",
    "* *En el presente análisis, realizaremos una técnica de sobremuestreo llamada SMOTE (técnica de sobremuestreo de minorías sintéticas).*  \n",
    "* *SMOTE creará nuevos puntos de datos de la clase minoritaria utilizando las instancias vecinas, de modo que las muestras generadas no son copias exactas, sino que son similares a las instancias que tenemos.*"
   ]
  },
  {
   "cell_type": "code",
   "execution_count": 6,
   "metadata": {},
   "outputs": [
    {
     "data": {
      "text/plain": [
       "array([0, 1], dtype=int64)"
      ]
     },
     "execution_count": 6,
     "metadata": {},
     "output_type": "execute_result"
    }
   ],
   "source": [
    "pd.unique(banksim['fraud'])"
   ]
  },
  {
   "cell_type": "code",
   "execution_count": 7,
   "metadata": {},
   "outputs": [
    {
     "data": {
      "text/plain": [
       "Text(0.5, 1.0, 'Número de Customers')"
      ]
     },
     "execution_count": 7,
     "metadata": {},
     "output_type": "execute_result"
    },
    {
     "data": {
      "image/png": "[encoded data removed]",
      "text/plain": [
       "<Figure size 432x288 with 1 Axes>"
      ]
     },
     "metadata": {},
     "output_type": "display_data"
    }
   ],
   "source": [
    "sns.countplot(data = banksim, x = 'fraud', order = banksim['fraud'].value_counts().index, palette='pastel')\n",
    "plt.title('Número de Customers')"
   ]
  },
  {
   "cell_type": "code",
   "execution_count": 8,
   "metadata": {},
   "outputs": [
    {
     "name": "stdout",
     "output_type": "stream",
     "text": [
      "594643\n"
     ]
    }
   ],
   "source": [
    "print(banksim['fraud'].value_counts().sum())"
   ]
  },
  {
   "cell_type": "code",
   "execution_count": 9,
   "metadata": {},
   "outputs": [
    {
     "name": "stdout",
     "output_type": "stream",
     "text": [
      "0    587443\n",
      "1      7200\n",
      "Name: fraud, dtype: int64\n"
     ]
    }
   ],
   "source": [
    "print(banksim['fraud'].value_counts())"
   ]
  },
  {
   "cell_type": "markdown",
   "metadata": {},
   "source": [
    "* *Vemos que las instancias con fraude representan un 98,8% del total, pudiendo corroborarse el desbalanceo del dataset.*"
   ]
  },
  {
   "cell_type": "markdown",
   "metadata": {},
   "source": [
    "6. Análisis del feature **Fraude por Categoría**."
   ]
  },
  {
   "cell_type": "code",
   "execution_count": 10,
   "metadata": {},
   "outputs": [
    {
     "data": {
      "text/plain": [
       "array([\"'es_transportation'\", \"'es_health'\", \"'es_otherservices'\",\n",
       "       \"'es_food'\", \"'es_hotelservices'\", \"'es_barsandrestaurants'\",\n",
       "       \"'es_tech'\", \"'es_sportsandtoys'\", \"'es_wellnessandbeauty'\",\n",
       "       \"'es_hyper'\", \"'es_fashion'\", \"'es_home'\", \"'es_contents'\",\n",
       "       \"'es_travel'\", \"'es_leisure'\"], dtype=object)"
      ]
     },
     "execution_count": 10,
     "metadata": {},
     "output_type": "execute_result"
    }
   ],
   "source": [
    "pd.unique(banksim['category'])"
   ]
  },
  {
   "cell_type": "code",
   "execution_count": 11,
   "metadata": {},
   "outputs": [
    {
     "name": "stdout",
     "output_type": "stream",
     "text": [
      "'es_transportation'        505119\n",
      "'es_food'                   26254\n",
      "'es_health'                 16133\n",
      "'es_wellnessandbeauty'      15086\n",
      "'es_fashion'                 6454\n",
      "'es_barsandrestaurants'      6373\n",
      "'es_hyper'                   6098\n",
      "'es_sportsandtoys'           4002\n",
      "'es_tech'                    2370\n",
      "'es_home'                    1986\n",
      "'es_hotelservices'           1744\n",
      "'es_otherservices'            912\n",
      "'es_contents'                 885\n",
      "'es_travel'                   728\n",
      "'es_leisure'                  499\n",
      "Name: category, dtype: int64\n"
     ]
    }
   ],
   "source": [
    "print(banksim['category'].value_counts())"
   ]
  },
  {
   "cell_type": "markdown",
   "metadata": {},
   "source": [
    "* *Además, podemos ver la cantidad media y el porcentaje de fraude por categoría a continuación.*\n",
    "* *Parece que el **ocio y los viajes son las categorías más seleccionadas por los defraudadores**.*\n",
    "* *Los defraudadores eligieron las categorías en las que la gente gasta más en promedio. Confirmemos esta hipótesis comprobando la cantidad de fraude y de no fraude que se ha tramitado.*"
   ]
  },
  {
   "cell_type": "code",
   "execution_count": 12,
   "metadata": {},
   "outputs": [
    {
     "name": "stdout",
     "output_type": "stream",
     "text": [
      "Cantidad media y porcentaje por categoriaa                               amount     fraud\n",
      "category                                      \n",
      "'es_barsandrestaurants'    43.461014  0.018829\n",
      "'es_contents'              44.547571  0.000000\n",
      "'es_fashion'               65.666642  0.017973\n",
      "'es_food'                  37.070405  0.000000\n",
      "'es_health'               135.621367  0.105126\n",
      "'es_home'                 165.670846  0.152064\n",
      "'es_hotelservices'        205.614249  0.314220\n",
      "'es_hyper'                 45.970421  0.045917\n",
      "'es_leisure'              288.911303  0.949900\n",
      "'es_otherservices'        135.881524  0.250000\n",
      "'es_sportsandtoys'        215.715280  0.495252\n",
      "'es_tech'                 120.947937  0.066667\n",
      "'es_transportation'        26.958187  0.000000\n",
      "'es_travel'              2250.409190  0.793956\n",
      "'es_wellnessandbeauty'     65.511221  0.047594\n"
     ]
    },
    {
     "name": "stderr",
     "output_type": "stream",
     "text": [
      "<ipython-input-12-e747060d8e56>:1: FutureWarning: Indexing with multiple keys (implicitly converted to a tuple of keys) will be deprecated, use a list instead.\n",
      "  print(\"Cantidad media y porcentaje por categoriaa\",banksim.groupby('category')['amount','fraud'].mean())\n"
     ]
    }
   ],
   "source": [
    "print(\"Cantidad media y porcentaje por categoriaa\",banksim.groupby('category')['amount','fraud'].mean())"
   ]
  },
  {
   "cell_type": "markdown",
   "metadata": {},
   "source": [
    "7. Análisis de los features **Fraude por Monto o Gasto**."
   ]
  },
  {
   "cell_type": "code",
   "execution_count": 13,
   "metadata": {},
   "outputs": [
    {
     "data": {
      "text/html": [
       "<div>\n",
       "<style scoped>\n",
       "    .dataframe tbody tr th:only-of-type {\n",
       "        vertical-align: middle;\n",
       "    }\n",
       "\n",
       "    .dataframe tbody tr th {\n",
       "        vertical-align: top;\n",
       "    }\n",
       "\n",
       "    .dataframe thead th {\n",
       "        text-align: right;\n",
       "    }\n",
       "</style>\n",
       "<table border=\"1\" class=\"dataframe\">\n",
       "  <thead>\n",
       "    <tr style=\"text-align: right;\">\n",
       "      <th></th>\n",
       "      <th>amount</th>\n",
       "    </tr>\n",
       "  </thead>\n",
       "  <tbody>\n",
       "    <tr>\n",
       "      <th>count</th>\n",
       "      <td>594643.0</td>\n",
       "    </tr>\n",
       "    <tr>\n",
       "      <th>mean</th>\n",
       "      <td>38.0</td>\n",
       "    </tr>\n",
       "    <tr>\n",
       "      <th>std</th>\n",
       "      <td>111.0</td>\n",
       "    </tr>\n",
       "    <tr>\n",
       "      <th>min</th>\n",
       "      <td>0.0</td>\n",
       "    </tr>\n",
       "    <tr>\n",
       "      <th>25%</th>\n",
       "      <td>14.0</td>\n",
       "    </tr>\n",
       "    <tr>\n",
       "      <th>50%</th>\n",
       "      <td>27.0</td>\n",
       "    </tr>\n",
       "    <tr>\n",
       "      <th>75%</th>\n",
       "      <td>43.0</td>\n",
       "    </tr>\n",
       "    <tr>\n",
       "      <th>max</th>\n",
       "      <td>8330.0</td>\n",
       "    </tr>\n",
       "  </tbody>\n",
       "</table>\n",
       "</div>"
      ],
      "text/plain": [
       "         amount\n",
       "count  594643.0\n",
       "mean       38.0\n",
       "std       111.0\n",
       "min         0.0\n",
       "25%        14.0\n",
       "50%        27.0\n",
       "75%        43.0\n",
       "max      8330.0"
      ]
     },
     "execution_count": 13,
     "metadata": {},
     "output_type": "execute_result"
    }
   ],
   "source": [
    "banksim[['amount']].describe().round()"
   ]
  },
  {
   "cell_type": "code",
   "execution_count": 14,
   "metadata": {},
   "outputs": [
    {
     "data": {
      "image/png": "[encoded data removed]",
      "text/plain": [
       "<Figure size 432x432 with 2 Axes>"
      ]
     },
     "metadata": {},
     "output_type": "display_data"
    }
   ],
   "source": [
    "corr = banksim[['fraud','amount']].corr()\n",
    "plt.figure(figsize=(6,6))\n",
    "sns.heatmap(corr, cbar = True,  square = True, annot=True, fmt= '.2f',annot_kws={'size': 15}, cmap= 'Set2')\n",
    "plt.xticks(rotation = 45)\n",
    "plt.yticks(rotation = 45)\n",
    "plt.title('Correlación entre Variables - Pearson')\n",
    "plt.show()"
   ]
  },
  {
   "cell_type": "markdown",
   "metadata": {},
   "source": [
    "* *Como vemos en el cuadro siguiente, podemos decir que en una transacción fraudulenta, será mucho mayor el monto o gasto (`amount`) -unas cuatro veces o más-, que el monto o gasto promedio para dicha categoría.*"
   ]
  },
  {
   "cell_type": "code",
   "execution_count": 15,
   "metadata": {},
   "outputs": [],
   "source": [
    "# Create two dataframes with fraud and non-fraud data \n",
    "df_fraud = banksim.loc[banksim.fraud == 1] \n",
    "df_non_fraud = banksim.loc[banksim.fraud == 0]"
   ]
  },
  {
   "cell_type": "code",
   "execution_count": 16,
   "metadata": {},
   "outputs": [
    {
     "data": {
      "text/html": [
       "<div>\n",
       "<style scoped>\n",
       "    .dataframe tbody tr th:only-of-type {\n",
       "        vertical-align: middle;\n",
       "    }\n",
       "\n",
       "    .dataframe tbody tr th {\n",
       "        vertical-align: top;\n",
       "    }\n",
       "\n",
       "    .dataframe thead th {\n",
       "        text-align: right;\n",
       "    }\n",
       "</style>\n",
       "<table border=\"1\" class=\"dataframe\">\n",
       "  <thead>\n",
       "    <tr style=\"text-align: right;\">\n",
       "      <th></th>\n",
       "      <th>Fraudulent</th>\n",
       "      <th>Non-Fraudulent</th>\n",
       "      <th>Percent(%)</th>\n",
       "    </tr>\n",
       "  </thead>\n",
       "  <tbody>\n",
       "    <tr>\n",
       "      <th>'es_transportation'</th>\n",
       "      <td>NaN</td>\n",
       "      <td>26.958187</td>\n",
       "      <td>0.000000</td>\n",
       "    </tr>\n",
       "    <tr>\n",
       "      <th>'es_food'</th>\n",
       "      <td>NaN</td>\n",
       "      <td>37.070405</td>\n",
       "      <td>0.000000</td>\n",
       "    </tr>\n",
       "    <tr>\n",
       "      <th>'es_hyper'</th>\n",
       "      <td>169.255429</td>\n",
       "      <td>40.037145</td>\n",
       "      <td>4.591669</td>\n",
       "    </tr>\n",
       "    <tr>\n",
       "      <th>'es_barsandrestaurants'</th>\n",
       "      <td>164.092667</td>\n",
       "      <td>41.145997</td>\n",
       "      <td>1.882944</td>\n",
       "    </tr>\n",
       "    <tr>\n",
       "      <th>'es_contents'</th>\n",
       "      <td>NaN</td>\n",
       "      <td>44.547571</td>\n",
       "      <td>0.000000</td>\n",
       "    </tr>\n",
       "    <tr>\n",
       "      <th>'es_wellnessandbeauty'</th>\n",
       "      <td>229.422535</td>\n",
       "      <td>57.320219</td>\n",
       "      <td>4.759380</td>\n",
       "    </tr>\n",
       "    <tr>\n",
       "      <th>'es_fashion'</th>\n",
       "      <td>247.008190</td>\n",
       "      <td>62.347674</td>\n",
       "      <td>1.797335</td>\n",
       "    </tr>\n",
       "    <tr>\n",
       "      <th>'es_leisure'</th>\n",
       "      <td>300.286878</td>\n",
       "      <td>73.230400</td>\n",
       "      <td>94.989980</td>\n",
       "    </tr>\n",
       "    <tr>\n",
       "      <th>'es_otherservices'</th>\n",
       "      <td>316.469605</td>\n",
       "      <td>75.685497</td>\n",
       "      <td>25.000000</td>\n",
       "    </tr>\n",
       "    <tr>\n",
       "      <th>'es_sportsandtoys'</th>\n",
       "      <td>345.366811</td>\n",
       "      <td>88.502738</td>\n",
       "      <td>49.525237</td>\n",
       "    </tr>\n",
       "    <tr>\n",
       "      <th>'es_tech'</th>\n",
       "      <td>415.274114</td>\n",
       "      <td>99.924638</td>\n",
       "      <td>6.666667</td>\n",
       "    </tr>\n",
       "    <tr>\n",
       "      <th>'es_health'</th>\n",
       "      <td>407.031338</td>\n",
       "      <td>103.737228</td>\n",
       "      <td>10.512614</td>\n",
       "    </tr>\n",
       "    <tr>\n",
       "      <th>'es_hotelservices'</th>\n",
       "      <td>421.823339</td>\n",
       "      <td>106.548545</td>\n",
       "      <td>31.422018</td>\n",
       "    </tr>\n",
       "    <tr>\n",
       "      <th>'es_home'</th>\n",
       "      <td>457.484834</td>\n",
       "      <td>113.338409</td>\n",
       "      <td>15.206445</td>\n",
       "    </tr>\n",
       "    <tr>\n",
       "      <th>'es_travel'</th>\n",
       "      <td>2660.802872</td>\n",
       "      <td>669.025533</td>\n",
       "      <td>79.395604</td>\n",
       "    </tr>\n",
       "  </tbody>\n",
       "</table>\n",
       "</div>"
      ],
      "text/plain": [
       "                          Fraudulent  Non-Fraudulent  Percent(%)\n",
       "'es_transportation'              NaN       26.958187    0.000000\n",
       "'es_food'                        NaN       37.070405    0.000000\n",
       "'es_hyper'                169.255429       40.037145    4.591669\n",
       "'es_barsandrestaurants'   164.092667       41.145997    1.882944\n",
       "'es_contents'                    NaN       44.547571    0.000000\n",
       "'es_wellnessandbeauty'    229.422535       57.320219    4.759380\n",
       "'es_fashion'              247.008190       62.347674    1.797335\n",
       "'es_leisure'              300.286878       73.230400   94.989980\n",
       "'es_otherservices'        316.469605       75.685497   25.000000\n",
       "'es_sportsandtoys'        345.366811       88.502738   49.525237\n",
       "'es_tech'                 415.274114       99.924638    6.666667\n",
       "'es_health'               407.031338      103.737228   10.512614\n",
       "'es_hotelservices'        421.823339      106.548545   31.422018\n",
       "'es_home'                 457.484834      113.338409   15.206445\n",
       "'es_travel'              2660.802872      669.025533   79.395604"
      ]
     },
     "execution_count": 16,
     "metadata": {},
     "output_type": "execute_result"
    }
   ],
   "source": [
    "pd.concat([df_fraud.groupby('category')['amount'].mean(),df_non_fraud.groupby('category')['amount'].mean(),\\\n",
    "           banksim.groupby('category')['fraud'].mean()*100],keys=[\"Fraudulent\",\"Non-Fraudulent\",\"Percent(%)\"],axis=1,\\\n",
    "          sort=False).sort_values(by=['Non-Fraudulent'])"
   ]
  },
  {
   "cell_type": "markdown",
   "metadata": {},
   "source": [
    "* *Las categorías de gasto promedio son similares; entre 0-500 descartando los valores atípicos, excepto la categoría de viajes, que es muy alta.*"
   ]
  },
  {
   "cell_type": "code",
   "execution_count": 17,
   "metadata": {},
   "outputs": [
    {
     "name": "stderr",
     "output_type": "stream",
     "text": [
      "No handles with labels found to put in legend.\n"
     ]
    },
    {
     "data": {
      "image/png": "[encoded data removed]",
      "text/plain": [
       "<Figure size 2160x720 with 1 Axes>"
      ]
     },
     "metadata": {},
     "output_type": "display_data"
    }
   ],
   "source": [
    "# Plot histograms of the amounts in fraud and non-fraud data \n",
    "plt.figure(figsize=(30,10))\n",
    "sns.boxplot(data = banksim, x = 'category', y = 'amount', palette='pastel')\n",
    "plt.title(\"Gasto realizado por categoría\")\n",
    "plt.ylim(0,4000)\n",
    "plt.legend()\n",
    "plt.show()"
   ]
  },
  {
   "cell_type": "markdown",
   "metadata": {},
   "source": [
    "* *Una vez más podemos ver en el histograma de abajo que las transacciones fradulentas son menos en cantidad pero más en monto.*"
   ]
  },
  {
   "cell_type": "code",
   "execution_count": 18,
   "metadata": {},
   "outputs": [
    {
     "data": {
      "image/png": "[encoded data removed]",
      "text/plain": [
       "<Figure size 432x288 with 1 Axes>"
      ]
     },
     "metadata": {},
     "output_type": "display_data"
    }
   ],
   "source": [
    "plt.hist(data = df_fraud, x = 'amount', alpha=0.5, label='fraud',bins=100)\n",
    "plt.hist(data = df_non_fraud, x = 'amount', alpha=0.5, label='nonfraud',bins=100)\n",
    "plt.title(\"Histogram transacciones fraudulentas y no fraudulentas\")\n",
    "plt.ylim(0,10000)\n",
    "plt.xlim(0,1000)\n",
    "plt.legend()\n",
    "plt.show()"
   ]
  },
  {
   "cell_type": "markdown",
   "metadata": {},
   "source": [
    "* *Con montos mayores a 400, ya poderíamos decir que hay fraude.*"
   ]
  },
  {
   "cell_type": "markdown",
   "metadata": {},
   "source": [
    "8. Análisis de los features **Fraude por Edad**."
   ]
  },
  {
   "cell_type": "code",
   "execution_count": 19,
   "metadata": {},
   "outputs": [
    {
     "data": {
      "text/plain": [
       "array([\"'4'\", \"'2'\", \"'3'\", \"'5'\", \"'1'\", \"'6'\", \"'U'\", \"'0'\"],\n",
       "      dtype=object)"
      ]
     },
     "execution_count": 19,
     "metadata": {},
     "output_type": "execute_result"
    }
   ],
   "source": [
    "pd.unique(banksim['age'])"
   ]
  },
  {
   "cell_type": "code",
   "execution_count": 20,
   "metadata": {},
   "outputs": [
    {
     "name": "stdout",
     "output_type": "stream",
     "text": [
      "'2'    187310\n",
      "'3'    147131\n",
      "'4'    109025\n",
      "'5'     62642\n",
      "'1'     58131\n",
      "'6'     26774\n",
      "'0'      2452\n",
      "'U'      1178\n",
      "Name: age, dtype: int64\n"
     ]
    }
   ],
   "source": [
    "print(banksim['age'].value_counts())"
   ]
  },
  {
   "cell_type": "markdown",
   "metadata": {},
   "source": [
    "* *Parece que **el fraude ocurre más en edades iguales y menores de 18 años (0º categoría)**. ¿Puede ser debido a que los estafadores piensan que habría menos consecuencias si muestran su edad más joven, o tal vez realmente son jóvenes.*"
   ]
  },
  {
   "cell_type": "code",
   "execution_count": 21,
   "metadata": {},
   "outputs": [
    {
     "name": "stdout",
     "output_type": "stream",
     "text": [
      "   Age  Fraud Percent\n",
      "7  'U'       0.594228\n",
      "6  '6'       0.974826\n",
      "5  '5'       1.095112\n",
      "1  '1'       1.185254\n",
      "3  '3'       1.192815\n",
      "2  '2'       1.251401\n",
      "4  '4'       1.293281\n",
      "0  '0'       1.957586\n"
     ]
    }
   ],
   "source": [
    "print((banksim.groupby('age')['fraud'].mean()*100).reset_index().rename(columns={'age':'Age','fraud' : 'Fraud Percent'}).sort_values(by='Fraud Percent'))"
   ]
  },
  {
   "cell_type": "markdown",
   "metadata": {},
   "source": [
    "9. Análisis del feature **Customer**."
   ]
  },
  {
   "cell_type": "code",
   "execution_count": 22,
   "metadata": {},
   "outputs": [
    {
     "data": {
      "text/plain": [
       "array([\"'C1093826151'\", \"'C352968107'\", \"'C2054744914'\", ...,\n",
       "       \"'C1014783484'\", \"'C849065220'\", \"'C1809646275'\"], dtype=object)"
      ]
     },
     "execution_count": 22,
     "metadata": {},
     "output_type": "execute_result"
    }
   ],
   "source": [
    "pd.unique(banksim['customer'])"
   ]
  },
  {
   "cell_type": "code",
   "execution_count": 23,
   "metadata": {},
   "outputs": [
    {
     "name": "stdout",
     "output_type": "stream",
     "text": [
      "'C1978250683'    265\n",
      "'C1275518867'    252\n",
      "'C806399525'     237\n",
      "'C515668508'     205\n",
      "'C1338396147'    195\n",
      "                ... \n",
      "'C1156745710'      6\n",
      "'C1345586046'      6\n",
      "'C1809646275'      5\n",
      "'C1743702978'      5\n",
      "'C1404665203'      5\n",
      "Name: customer, Length: 4112, dtype: int64\n"
     ]
    }
   ],
   "source": [
    "print(banksim['customer'].value_counts())"
   ]
  },
  {
   "cell_type": "markdown",
   "metadata": {},
   "source": [
    "10. Análisis del feature **Merchant**."
   ]
  },
  {
   "cell_type": "code",
   "execution_count": 24,
   "metadata": {},
   "outputs": [
    {
     "data": {
      "text/plain": [
       "array([\"'M348934600'\", \"'M1823072687'\", \"'M50039827'\", \"'M1888755466'\",\n",
       "       \"'M1053599405'\", \"'M85975013'\", \"'M480139044'\", \"'M692898500'\",\n",
       "       \"'M348875670'\", \"'M151143676'\", \"'M840466850'\", \"'M1741626453'\",\n",
       "       \"'M1535107174'\", \"'M855959430'\", \"'M349281107'\", \"'M209847108'\",\n",
       "       \"'M2122776122'\", \"'M1873032707'\", \"'M2011752106'\", \"'M857378720'\",\n",
       "       \"'M1198415165'\", \"'M1748431652'\", \"'M980657600'\", \"'M1352454843'\",\n",
       "       \"'M117188757'\", \"'M547558035'\", \"'M17379832'\", \"'M1649169323'\",\n",
       "       \"'M1946091778'\", \"'M97925176'\", \"'M923029380'\", \"'M1353266412'\",\n",
       "       \"'M1842530320'\", \"'M677738360'\", \"'M1313686961'\", \"'M732195782'\",\n",
       "       \"'M1600850729'\", \"'M1872033263'\", \"'M3697346'\", \"'M495352832'\",\n",
       "       \"'M1400236507'\", \"'M1294758098'\", \"'M1913465890'\", \"'M45060432'\",\n",
       "       \"'M78078399'\", \"'M2080407379'\", \"'M1788569036'\", \"'M1416436880'\",\n",
       "       \"'M933210764'\", \"'M1726401631'\"], dtype=object)"
      ]
     },
     "execution_count": 24,
     "metadata": {},
     "output_type": "execute_result"
    }
   ],
   "source": [
    "pd.unique(banksim['merchant'])"
   ]
  },
  {
   "cell_type": "code",
   "execution_count": 25,
   "metadata": {},
   "outputs": [
    {
     "name": "stdout",
     "output_type": "stream",
     "text": [
      "'M1823072687'    299693\n",
      "'M348934600'     205426\n",
      "'M85975013'       26254\n",
      "'M1053599405'      6821\n",
      "'M151143676'       6373\n",
      "'M855959430'       6098\n",
      "'M1946091778'      5343\n",
      "'M1913465890'      3988\n",
      "'M209847108'       3814\n",
      "'M480139044'       3508\n",
      "'M349281107'       2881\n",
      "'M1600850729'      2624\n",
      "'M1535107174'      1868\n",
      "'M980657600'       1769\n",
      "'M78078399'        1608\n",
      "'M1198415165'      1580\n",
      "'M840466850'       1399\n",
      "'M1649169323'      1173\n",
      "'M547558035'        949\n",
      "'M50039827'         916\n",
      "'M1888755466'       912\n",
      "'M692898500'        900\n",
      "'M1400236507'       776\n",
      "'M1842530320'       751\n",
      "'M732195782'        608\n",
      "'M97925176'         599\n",
      "'M45060432'         573\n",
      "'M1741626453'       528\n",
      "'M1313686961'       527\n",
      "'M1872033263'       525\n",
      "'M1352454843'       370\n",
      "'M677738360'        358\n",
      "'M2122776122'       341\n",
      "'M923029380'        323\n",
      "'M3697346'          308\n",
      "'M17379832'         282\n",
      "'M1748431652'       274\n",
      "'M1873032707'       250\n",
      "'M2011752106'       244\n",
      "'M1416436880'       220\n",
      "'M1294758098'       191\n",
      "'M1788569036'       181\n",
      "'M857378720'        122\n",
      "'M348875670'        107\n",
      "'M1353266412'        78\n",
      "'M495352832'         69\n",
      "'M933210764'         69\n",
      "'M2080407379'        48\n",
      "'M117188757'         21\n",
      "'M1726401631'         3\n",
      "Name: merchant, dtype: int64\n"
     ]
    }
   ],
   "source": [
    "print(banksim['merchant'].value_counts())"
   ]
  },
  {
   "cell_type": "markdown",
   "metadata": {},
   "source": [
    "11. Análisis de los features **Zip Code**."
   ]
  },
  {
   "cell_type": "code",
   "execution_count": 26,
   "metadata": {},
   "outputs": [
    {
     "name": "stdout",
     "output_type": "stream",
     "text": [
      "'28007'    594643\n",
      "Name: zipcodeOri, dtype: int64\n"
     ]
    }
   ],
   "source": [
    "print(banksim['zipcodeOri'].value_counts())"
   ]
  },
  {
   "cell_type": "code",
   "execution_count": 27,
   "metadata": {},
   "outputs": [
    {
     "name": "stdout",
     "output_type": "stream",
     "text": [
      "'28007'    594643\n",
      "Name: zipMerchant, dtype: int64\n"
     ]
    }
   ],
   "source": [
    "print(banksim['zipMerchant'].value_counts())"
   ]
  },
  {
   "cell_type": "markdown",
   "metadata": {},
   "source": [
    "* *Como se observa, hay un sólo tipo de Zip Code, tanto de Origen como de Comerciante, por lo que luego, en el preprocesamiento de datos, los descartaremos.*"
   ]
  },
  {
   "cell_type": "markdown",
   "metadata": {},
   "source": [
    "### 2. Preprocesamiento de Datos"
   ]
  },
  {
   "cell_type": "markdown",
   "metadata": {},
   "source": [
    "1. Descartamos las columnas de **Zip Code** y **Customer**."
   ]
  },
  {
   "cell_type": "code",
   "execution_count": 28,
   "metadata": {},
   "outputs": [],
   "source": [
    "banksim_reduced = banksim.drop(['zipcodeOri','zipMerchant','customer'],axis=1)"
   ]
  },
  {
   "cell_type": "code",
   "execution_count": 29,
   "metadata": {},
   "outputs": [
    {
     "data": {
      "text/html": [
       "<div>\n",
       "<style scoped>\n",
       "    .dataframe tbody tr th:only-of-type {\n",
       "        vertical-align: middle;\n",
       "    }\n",
       "\n",
       "    .dataframe tbody tr th {\n",
       "        vertical-align: top;\n",
       "    }\n",
       "\n",
       "    .dataframe thead th {\n",
       "        text-align: right;\n",
       "    }\n",
       "</style>\n",
       "<table border=\"1\" class=\"dataframe\">\n",
       "  <thead>\n",
       "    <tr style=\"text-align: right;\">\n",
       "      <th></th>\n",
       "      <th>step</th>\n",
       "      <th>age</th>\n",
       "      <th>gender</th>\n",
       "      <th>merchant</th>\n",
       "      <th>category</th>\n",
       "      <th>amount</th>\n",
       "      <th>fraud</th>\n",
       "    </tr>\n",
       "  </thead>\n",
       "  <tbody>\n",
       "    <tr>\n",
       "      <th>0</th>\n",
       "      <td>0</td>\n",
       "      <td>'4'</td>\n",
       "      <td>'M'</td>\n",
       "      <td>'M348934600'</td>\n",
       "      <td>'es_transportation'</td>\n",
       "      <td>4.55</td>\n",
       "      <td>0</td>\n",
       "    </tr>\n",
       "    <tr>\n",
       "      <th>1</th>\n",
       "      <td>0</td>\n",
       "      <td>'2'</td>\n",
       "      <td>'M'</td>\n",
       "      <td>'M348934600'</td>\n",
       "      <td>'es_transportation'</td>\n",
       "      <td>39.68</td>\n",
       "      <td>0</td>\n",
       "    </tr>\n",
       "    <tr>\n",
       "      <th>2</th>\n",
       "      <td>0</td>\n",
       "      <td>'4'</td>\n",
       "      <td>'F'</td>\n",
       "      <td>'M1823072687'</td>\n",
       "      <td>'es_transportation'</td>\n",
       "      <td>26.89</td>\n",
       "      <td>0</td>\n",
       "    </tr>\n",
       "    <tr>\n",
       "      <th>3</th>\n",
       "      <td>0</td>\n",
       "      <td>'3'</td>\n",
       "      <td>'M'</td>\n",
       "      <td>'M348934600'</td>\n",
       "      <td>'es_transportation'</td>\n",
       "      <td>17.25</td>\n",
       "      <td>0</td>\n",
       "    </tr>\n",
       "    <tr>\n",
       "      <th>4</th>\n",
       "      <td>0</td>\n",
       "      <td>'5'</td>\n",
       "      <td>'M'</td>\n",
       "      <td>'M348934600'</td>\n",
       "      <td>'es_transportation'</td>\n",
       "      <td>35.72</td>\n",
       "      <td>0</td>\n",
       "    </tr>\n",
       "  </tbody>\n",
       "</table>\n",
       "</div>"
      ],
      "text/plain": [
       "   step  age gender       merchant             category  amount  fraud\n",
       "0     0  '4'    'M'   'M348934600'  'es_transportation'    4.55      0\n",
       "1     0  '2'    'M'   'M348934600'  'es_transportation'   39.68      0\n",
       "2     0  '4'    'F'  'M1823072687'  'es_transportation'   26.89      0\n",
       "3     0  '3'    'M'   'M348934600'  'es_transportation'   17.25      0\n",
       "4     0  '5'    'M'   'M348934600'  'es_transportation'   35.72      0"
      ]
     },
     "execution_count": 29,
     "metadata": {},
     "output_type": "execute_result"
    }
   ],
   "source": [
    "banksim_reduced.head()"
   ]
  },
  {
   "cell_type": "markdown",
   "metadata": {},
   "source": [
    "* *Vemos que se eliminaron ambos Zip Codes y Customer.*"
   ]
  },
  {
   "cell_type": "markdown",
   "metadata": {},
   "source": [
    "* *Eliminamos Customer por ser una variable poco relevante para nuestro análisis por la amplitud de las opciones.*"
   ]
  },
  {
   "cell_type": "markdown",
   "metadata": {},
   "source": [
    "2. __Encoders:__ Se aplicará Categorical Encoder para transformar los features string a valores categóricos y se pasarà a int las variables age y step."
   ]
  },
  {
   "cell_type": "markdown",
   "metadata": {},
   "source": [
    "* *La elección de Encoder elegida, es porque las categorías a trabajar, son nominales, es decir que no tienen un orden.*"
   ]
  },
  {
   "cell_type": "code",
   "execution_count": 30,
   "metadata": {},
   "outputs": [],
   "source": [
    "for col_name in banksim_reduced.columns:\n",
    "    if(banksim_reduced[col_name].dtype == 'object'):\n",
    "        banksim_reduced[col_name]= banksim_reduced[col_name].astype('category')\n",
    "        banksim_reduced[col_name] = banksim_reduced[col_name].cat.codes"
   ]
  },
  {
   "cell_type": "code",
   "execution_count": 31,
   "metadata": {},
   "outputs": [
    {
     "data": {
      "text/html": [
       "<div>\n",
       "<style scoped>\n",
       "    .dataframe tbody tr th:only-of-type {\n",
       "        vertical-align: middle;\n",
       "    }\n",
       "\n",
       "    .dataframe tbody tr th {\n",
       "        vertical-align: top;\n",
       "    }\n",
       "\n",
       "    .dataframe thead th {\n",
       "        text-align: right;\n",
       "    }\n",
       "</style>\n",
       "<table border=\"1\" class=\"dataframe\">\n",
       "  <thead>\n",
       "    <tr style=\"text-align: right;\">\n",
       "      <th></th>\n",
       "      <th>step</th>\n",
       "      <th>age</th>\n",
       "      <th>gender</th>\n",
       "      <th>merchant</th>\n",
       "      <th>category</th>\n",
       "      <th>amount</th>\n",
       "      <th>fraud</th>\n",
       "    </tr>\n",
       "  </thead>\n",
       "  <tbody>\n",
       "    <tr>\n",
       "      <th>0</th>\n",
       "      <td>0</td>\n",
       "      <td>4</td>\n",
       "      <td>2</td>\n",
       "      <td>30</td>\n",
       "      <td>12</td>\n",
       "      <td>4.55</td>\n",
       "      <td>0</td>\n",
       "    </tr>\n",
       "    <tr>\n",
       "      <th>1</th>\n",
       "      <td>0</td>\n",
       "      <td>2</td>\n",
       "      <td>2</td>\n",
       "      <td>30</td>\n",
       "      <td>12</td>\n",
       "      <td>39.68</td>\n",
       "      <td>0</td>\n",
       "    </tr>\n",
       "    <tr>\n",
       "      <th>2</th>\n",
       "      <td>0</td>\n",
       "      <td>4</td>\n",
       "      <td>1</td>\n",
       "      <td>18</td>\n",
       "      <td>12</td>\n",
       "      <td>26.89</td>\n",
       "      <td>0</td>\n",
       "    </tr>\n",
       "    <tr>\n",
       "      <th>3</th>\n",
       "      <td>0</td>\n",
       "      <td>3</td>\n",
       "      <td>2</td>\n",
       "      <td>30</td>\n",
       "      <td>12</td>\n",
       "      <td>17.25</td>\n",
       "      <td>0</td>\n",
       "    </tr>\n",
       "    <tr>\n",
       "      <th>4</th>\n",
       "      <td>0</td>\n",
       "      <td>5</td>\n",
       "      <td>2</td>\n",
       "      <td>30</td>\n",
       "      <td>12</td>\n",
       "      <td>35.72</td>\n",
       "      <td>0</td>\n",
       "    </tr>\n",
       "  </tbody>\n",
       "</table>\n",
       "</div>"
      ],
      "text/plain": [
       "   step  age  gender  merchant  category  amount  fraud\n",
       "0     0    4       2        30        12    4.55      0\n",
       "1     0    2       2        30        12   39.68      0\n",
       "2     0    4       1        18        12   26.89      0\n",
       "3     0    3       2        30        12   17.25      0\n",
       "4     0    5       2        30        12   35.72      0"
      ]
     },
     "execution_count": 31,
     "metadata": {},
     "output_type": "execute_result"
    }
   ],
   "source": [
    "banksim_reduced.head()"
   ]
  },
  {
   "cell_type": "code",
   "execution_count": 32,
   "metadata": {},
   "outputs": [
    {
     "data": {
      "text/plain": [
       "step          int64\n",
       "age            int8\n",
       "gender         int8\n",
       "merchant       int8\n",
       "category       int8\n",
       "amount      float64\n",
       "fraud         int64\n",
       "dtype: object"
      ]
     },
     "execution_count": 32,
     "metadata": {},
     "output_type": "execute_result"
    }
   ],
   "source": [
    "banksim_reduced.dtypes"
   ]
  },
  {
   "cell_type": "code",
   "execution_count": 33,
   "metadata": {},
   "outputs": [
    {
     "data": {
      "text/html": [
       "<div>\n",
       "<style scoped>\n",
       "    .dataframe tbody tr th:only-of-type {\n",
       "        vertical-align: middle;\n",
       "    }\n",
       "\n",
       "    .dataframe tbody tr th {\n",
       "        vertical-align: top;\n",
       "    }\n",
       "\n",
       "    .dataframe thead th {\n",
       "        text-align: right;\n",
       "    }\n",
       "</style>\n",
       "<table border=\"1\" class=\"dataframe\">\n",
       "  <thead>\n",
       "    <tr style=\"text-align: right;\">\n",
       "      <th></th>\n",
       "      <th>step</th>\n",
       "      <th>age</th>\n",
       "      <th>gender</th>\n",
       "      <th>merchant</th>\n",
       "      <th>category</th>\n",
       "      <th>amount</th>\n",
       "      <th>fraud</th>\n",
       "    </tr>\n",
       "  </thead>\n",
       "  <tbody>\n",
       "    <tr>\n",
       "      <th>count</th>\n",
       "      <td>594643.000000</td>\n",
       "      <td>594643.000000</td>\n",
       "      <td>594643.000000</td>\n",
       "      <td>594643.000000</td>\n",
       "      <td>594643.000000</td>\n",
       "      <td>594643.000000</td>\n",
       "      <td>594643.000000</td>\n",
       "    </tr>\n",
       "    <tr>\n",
       "      <th>mean</th>\n",
       "      <td>94.986827</td>\n",
       "      <td>3.014151</td>\n",
       "      <td>1.451089</td>\n",
       "      <td>23.866580</td>\n",
       "      <td>11.066393</td>\n",
       "      <td>37.890135</td>\n",
       "      <td>0.012108</td>\n",
       "    </tr>\n",
       "    <tr>\n",
       "      <th>std</th>\n",
       "      <td>51.053632</td>\n",
       "      <td>1.335884</td>\n",
       "      <td>0.503291</td>\n",
       "      <td>8.590215</td>\n",
       "      <td>2.817118</td>\n",
       "      <td>111.402831</td>\n",
       "      <td>0.109369</td>\n",
       "    </tr>\n",
       "    <tr>\n",
       "      <th>min</th>\n",
       "      <td>0.000000</td>\n",
       "      <td>0.000000</td>\n",
       "      <td>0.000000</td>\n",
       "      <td>0.000000</td>\n",
       "      <td>0.000000</td>\n",
       "      <td>0.000000</td>\n",
       "      <td>0.000000</td>\n",
       "    </tr>\n",
       "    <tr>\n",
       "      <th>25%</th>\n",
       "      <td>52.000000</td>\n",
       "      <td>2.000000</td>\n",
       "      <td>1.000000</td>\n",
       "      <td>18.000000</td>\n",
       "      <td>12.000000</td>\n",
       "      <td>13.740000</td>\n",
       "      <td>0.000000</td>\n",
       "    </tr>\n",
       "    <tr>\n",
       "      <th>50%</th>\n",
       "      <td>97.000000</td>\n",
       "      <td>3.000000</td>\n",
       "      <td>1.000000</td>\n",
       "      <td>18.000000</td>\n",
       "      <td>12.000000</td>\n",
       "      <td>26.900000</td>\n",
       "      <td>0.000000</td>\n",
       "    </tr>\n",
       "    <tr>\n",
       "      <th>75%</th>\n",
       "      <td>139.000000</td>\n",
       "      <td>4.000000</td>\n",
       "      <td>2.000000</td>\n",
       "      <td>30.000000</td>\n",
       "      <td>12.000000</td>\n",
       "      <td>42.540000</td>\n",
       "      <td>0.000000</td>\n",
       "    </tr>\n",
       "    <tr>\n",
       "      <th>max</th>\n",
       "      <td>179.000000</td>\n",
       "      <td>7.000000</td>\n",
       "      <td>3.000000</td>\n",
       "      <td>49.000000</td>\n",
       "      <td>14.000000</td>\n",
       "      <td>8329.960000</td>\n",
       "      <td>1.000000</td>\n",
       "    </tr>\n",
       "  </tbody>\n",
       "</table>\n",
       "</div>"
      ],
      "text/plain": [
       "                step            age         gender       merchant  \\\n",
       "count  594643.000000  594643.000000  594643.000000  594643.000000   \n",
       "mean       94.986827       3.014151       1.451089      23.866580   \n",
       "std        51.053632       1.335884       0.503291       8.590215   \n",
       "min         0.000000       0.000000       0.000000       0.000000   \n",
       "25%        52.000000       2.000000       1.000000      18.000000   \n",
       "50%        97.000000       3.000000       1.000000      18.000000   \n",
       "75%       139.000000       4.000000       2.000000      30.000000   \n",
       "max       179.000000       7.000000       3.000000      49.000000   \n",
       "\n",
       "            category         amount          fraud  \n",
       "count  594643.000000  594643.000000  594643.000000  \n",
       "mean       11.066393      37.890135       0.012108  \n",
       "std         2.817118     111.402831       0.109369  \n",
       "min         0.000000       0.000000       0.000000  \n",
       "25%        12.000000      13.740000       0.000000  \n",
       "50%        12.000000      26.900000       0.000000  \n",
       "75%        12.000000      42.540000       0.000000  \n",
       "max        14.000000    8329.960000       1.000000  "
      ]
     },
     "execution_count": 33,
     "metadata": {},
     "output_type": "execute_result"
    }
   ],
   "source": [
    "banksim_reduced.describe()"
   ]
  },
  {
   "cell_type": "markdown",
   "metadata": {},
   "source": [
    "### 3. Sobremuestreo (Oversampling) con SMOTE"
   ]
  },
  {
   "cell_type": "markdown",
   "metadata": {},
   "source": [
    "* *Usando SMOTE (Técnica de Sobremuestreo de Minorías Sintéticas) [2] para equilibrar el conjunto de datos. Los resultados muestran que ahora tenemos el número exacto de instancias de clase (1 y 0)*"
   ]
  },
  {
   "cell_type": "markdown",
   "metadata": {},
   "source": [
    "1. Se **seleccionan las variables** predictoras (`X`) y la variable a predecir (`y`)."
   ]
  },
  {
   "cell_type": "code",
   "execution_count": 34,
   "metadata": {},
   "outputs": [
    {
     "name": "stdout",
     "output_type": "stream",
     "text": [
      "   step  age  gender  merchant  category  amount\n",
      "0     0    4       2        30        12    4.55\n",
      "1     0    2       2        30        12   39.68\n",
      "2     0    4       1        18        12   26.89\n",
      "3     0    3       2        30        12   17.25\n",
      "4     0    5       2        30        12   35.72 \n",
      "\n",
      "   fraud\n",
      "0      0\n",
      "1      0\n",
      "2      0\n",
      "3      0\n",
      "4      0\n"
     ]
    }
   ],
   "source": [
    "X = banksim_reduced[['step','age','gender','merchant','category','amount']]\n",
    "y = banksim_reduced[['fraud']]\n",
    "\n",
    "print(X.head(),\"\\n\")\n",
    "print(y.head())"
   ]
  },
  {
   "cell_type": "code",
   "execution_count": 35,
   "metadata": {},
   "outputs": [
    {
     "data": {
      "text/plain": [
       "fraud    7200\n",
       "dtype: int64"
      ]
     },
     "execution_count": 35,
     "metadata": {},
     "output_type": "execute_result"
    }
   ],
   "source": [
    "y[y==1].count()"
   ]
  },
  {
   "cell_type": "markdown",
   "metadata": {},
   "source": [
    "* *Vemos el desbalanceo de los datos.*"
   ]
  },
  {
   "cell_type": "markdown",
   "metadata": {},
   "source": [
    "2. Aplicamos **SMOTE**."
   ]
  },
  {
   "cell_type": "code",
   "execution_count": 36,
   "metadata": {},
   "outputs": [
    {
     "name": "stdout",
     "output_type": "stream",
     "text": [
      "fraud\n",
      "1        587443\n",
      "0        587443\n",
      "dtype: int64\n"
     ]
    }
   ],
   "source": [
    "from imblearn.over_sampling import SMOTE\n",
    "\n",
    "sm = SMOTE(random_state=42)\n",
    "X_res, y_res = sm.fit_resample(X, y)\n",
    "y_res = pd.DataFrame(y_res)\n",
    "print(y_res.value_counts())"
   ]
  },
  {
   "cell_type": "markdown",
   "metadata": {},
   "source": [
    "### 4. Series de Tiempo"
   ]
  },
  {
   "cell_type": "code",
   "execution_count": null,
   "metadata": {},
   "outputs": [],
   "source": []
  },
  {
   "cell_type": "code",
   "execution_count": null,
   "metadata": {},
   "outputs": [],
   "source": []
  },
  {
   "cell_type": "code",
   "execution_count": null,
   "metadata": {},
   "outputs": [],
   "source": []
  },
  {
   "cell_type": "markdown",
   "metadata": {},
   "source": [
    "### 5. Modelos de Machine Learning"
   ]
  },
  {
   "cell_type": "markdown",
   "metadata": {},
   "source": [
    "1. Se realiza el __Train Test Split__ para dividir el entrenamiento del test."
   ]
  },
  {
   "cell_type": "code",
   "execution_count": 37,
   "metadata": {},
   "outputs": [],
   "source": [
    "from sklearn.model_selection import train_test_split\n",
    "\n",
    "X_train, X_test, y_train, y_test = train_test_split(X_res,y_res,test_size=0.3,random_state=42,shuffle=True,stratify=y_res)"
   ]
  },
  {
   "cell_type": "markdown",
   "metadata": {},
   "source": [
    "2. Se define una función para trazar la __curva ROC_AUC__. Es una buena forma visual de ver el rendimiento de la clasificación."
   ]
  },
  {
   "cell_type": "code",
   "execution_count": 38,
   "metadata": {},
   "outputs": [],
   "source": [
    "# Función para trazar la curva ROC_AUC\n",
    "\n",
    "def plot_roc_auc(y_test, preds):\n",
    "    fpr, tpr, threshold = roc_curve(y_test, preds)\n",
    "    roc_auc = auc(fpr, tpr)\n",
    "    plt.title('ROC curve')\n",
    "    plt.plot(fpr, tpr, 'b', label = 'AUC = %0.2f' % roc_auc)\n",
    "    plt.legend(loc = 'lower right')\n",
    "    plt.plot([0, 1], [0, 1],'r--')\n",
    "    plt.xlim([0, 1])\n",
    "    plt.ylim([0, 1])\n",
    "    plt.ylabel('Ratio Verdadero Positivo')\n",
    "    plt.xlabel('Ratio Falso Positivo')\n",
    "    plt.show()"
   ]
  },
  {
   "cell_type": "markdown",
   "metadata": {},
   "source": [
    "* *Como ya he dicho antes, los conjuntos de datos sobre el fraude estarán desequilibrados y la mayoría de los casos no serán fraudulentos. Imagina que tenemos el conjunto de datos aquí y siempre estamos prediciendo que no será fraudulento. Nuestra precisión sería de casi el 99% para este conjunto de datos y sobre todo para otros también, ya que el porcentaje de fraude es muy bajo. Nuestra precisión es muy alta pero no estamos detectando ningún fraude, así que es un clasificador inútil. Por lo tanto, la puntuación de la precisión de la base debería ser mejor al menos que la predicción de siempre no fraudulento para realizar una detección.*"
   ]
  },
  {
   "cell_type": "markdown",
   "metadata": {},
   "source": [
    "#### 5.1 Modelo Benchmark - Árbol de Decisión"
   ]
  },
  {
   "cell_type": "code",
   "execution_count": 39,
   "metadata": {},
   "outputs": [
    {
     "name": "stdout",
     "output_type": "stream",
     "text": [
      "Reporte de Clasificación para Árbol de Decisión: \n",
      "               precision    recall  f1-score   support\n",
      "\n",
      "           0       0.98      0.95      0.97    176233\n",
      "           1       0.95      0.98      0.97    176233\n",
      "\n",
      "    accuracy                           0.97    352466\n",
      "   macro avg       0.97      0.97      0.97    352466\n",
      "weighted avg       0.97      0.97      0.97    352466\n",
      "\n",
      "Matriz de Confusión para Árbol de Decisión: \n",
      " [[167908   8325]\n",
      " [  3489 172744]]\n"
     ]
    },
    {
     "data": {
      "image/png": "[encoded data removed]",
      "text/plain": [
       "<Figure size 432x288 with 1 Axes>"
      ]
     },
     "metadata": {},
     "output_type": "display_data"
    }
   ],
   "source": [
    "from sklearn.tree import DecisionTreeClassifier\n",
    "from sklearn.metrics import classification_report\n",
    "from sklearn.metrics import confusion_matrix\n",
    "from sklearn.metrics import roc_curve, auc\n",
    "from sklearn.metrics import accuracy_score\n",
    "\n",
    "tree = DecisionTreeClassifier(max_depth=4, random_state=10)\n",
    "\n",
    "tree.fit(X_train,y_train)\n",
    "y_pred = tree.predict(X_test)\n",
    "\n",
    "\n",
    "print(\"Reporte de Clasificación para Árbol de Decisión: \\n\", classification_report(y_test, y_pred))\n",
    "print(\"Matriz de Confusión para Árbol de Decisión: \\n\", confusion_matrix(y_test,y_pred))\n",
    "plot_roc_auc(y_test, tree.predict_proba(X_test)[:,1])"
   ]
  },
  {
   "cell_type": "code",
   "execution_count": 40,
   "metadata": {},
   "outputs": [
    {
     "name": "stdout",
     "output_type": "stream",
     "text": [
      "[0.         0.         0.00701488 0.05213614 0.14516132 0.79568766]\n"
     ]
    }
   ],
   "source": [
    "print(tree.feature_importances_)"
   ]
  },
  {
   "cell_type": "markdown",
   "metadata": {},
   "source": [
    "#### 5.2. Random Forest Classifier"
   ]
  },
  {
   "cell_type": "markdown",
   "metadata": {},
   "source": [
    "* *__Aclaración:__ Los clasificadores basados en Árboles de decisión y los métodos de conjuntos basados en Árboles (RF, XGB) son invariantes al escalado de características (no lo requieren para converger a los errores mínimos), pero aún así, podría ser una buena idea reescalar / estandarizar su datos.  \n",
    "Es por ello, que en el presente apartado, se optó por llevar a cabo el modelo de XG-Boost, **sin previo escalado de los datos**.*"
   ]
  },
  {
   "cell_type": "markdown",
   "metadata": {},
   "source": [
    "##### 5.2.1 Se entrena y evalúa el modelo, con sus argumentos por defecto"
   ]
  },
  {
   "cell_type": "code",
   "execution_count": 41,
   "metadata": {},
   "outputs": [],
   "source": [
    "# Separamos los datos en train y test (held-out)\n",
    "X_train, X_test, y_train, y_test = train_test_split(X_res,y_res,test_size=0.3,random_state=42,shuffle=True,stratify=y_res)"
   ]
  },
  {
   "cell_type": "code",
   "execution_count": 42,
   "metadata": {},
   "outputs": [],
   "source": [
    "from sklearn.ensemble import RandomForestClassifier\n",
    "rf_clf = RandomForestClassifier() # Default n_estimators=100, max_depth=6"
   ]
  },
  {
   "cell_type": "code",
   "execution_count": 43,
   "metadata": {},
   "outputs": [
    {
     "data": {
      "text/plain": [
       "RandomForestClassifier()"
      ]
     },
     "execution_count": 43,
     "metadata": {},
     "output_type": "execute_result"
    }
   ],
   "source": [
    "rf_clf.fit(X_train, y_train.values.ravel())"
   ]
  },
  {
   "cell_type": "code",
   "execution_count": 44,
   "metadata": {},
   "outputs": [
    {
     "name": "stdout",
     "output_type": "stream",
     "text": [
      "0.9999987840762627\n",
      "0.9958549193397377\n"
     ]
    }
   ],
   "source": [
    "import sklearn.metrics as metrics\n",
    "\n",
    "y_train_pred = rf_clf.predict(X_train)\n",
    "y_test_pred = rf_clf.predict(X_test)\n",
    "print(metrics.accuracy_score(y_train, y_train_pred))\n",
    "print(metrics.accuracy_score(y_test, y_test_pred))"
   ]
  },
  {
   "cell_type": "code",
   "execution_count": 45,
   "metadata": {},
   "outputs": [
    {
     "name": "stdout",
     "output_type": "stream",
     "text": [
      "[0.02003753 0.0125965  0.03114377 0.20993477 0.32240288 0.40388455]\n"
     ]
    }
   ],
   "source": [
    "print(rf_clf.feature_importances_)"
   ]
  },
  {
   "cell_type": "markdown",
   "metadata": {},
   "source": [
    "* *`Surface Total` es el atributo mas importante, el que mejor separa los datos.*"
   ]
  },
  {
   "cell_type": "markdown",
   "metadata": {},
   "source": [
    "##### 5.2.2 Optimización de Hiperparámetros: RandomSerch"
   ]
  },
  {
   "cell_type": "code",
   "execution_count": 46,
   "metadata": {},
   "outputs": [
    {
     "name": "stdout",
     "output_type": "stream",
     "text": [
      "Fitting 2 folds for each of 32 candidates, totalling 64 fits\n"
     ]
    },
    {
     "name": "stderr",
     "output_type": "stream",
     "text": [
      "C:\\Users\\Ale\\anaconda3\\envs\\ds\\lib\\site-packages\\sklearn\\model_selection\\_search.py:278: UserWarning: The total space of parameters 32 is smaller than n_iter=50. Running 32 iterations. For exhaustive searches, use GridSearchCV.\n",
      "  warnings.warn(\n",
      "[Parallel(n_jobs=-1)]: Using backend LokyBackend with 4 concurrent workers.\n",
      "[Parallel(n_jobs=-1)]: Done  42 tasks      | elapsed: 15.8min\n",
      "[Parallel(n_jobs=-1)]: Done  64 out of  64 | elapsed: 29.3min finished\n"
     ]
    }
   ],
   "source": [
    "from sklearn.model_selection import cross_val_score,KFold\n",
    "from sklearn.model_selection import RandomizedSearchCV\n",
    "\n",
    "rf_clf = RandomForestClassifier()\n",
    "n_estimators = [50,100,150,200]\n",
    "max_features = ['auto', 'sqrt']\n",
    "max_depth = [2,4,6,8]\n",
    "\n",
    "param_grid = dict(max_depth=max_depth,max_features=max_features,n_estimators=n_estimators)\n",
    "kfold = KFold(n_splits=2, shuffle=True, random_state=0)\n",
    "ramdom = RandomizedSearchCV(estimator=rf_clf,param_distributions=param_grid,verbose=1,n_iter=32,cv=kfold,n_jobs=-1)\n",
    "# n_iter=32 --> The total space of parameters is 32.\n",
    "ramdom_result = ramdom.fit(X_train, y_train.values.ravel())"
   ]
  },
  {
   "cell_type": "code",
   "execution_count": 48,
   "metadata": {},
   "outputs": [
    {
     "name": "stdout",
     "output_type": "stream",
     "text": [
      "Mejores parametros: {'n_estimators': 100, 'max_features': 'sqrt', 'max_depth': 8}\n",
      "Mejor Score: 0.9806254711704482\n",
      "\n"
     ]
    }
   ],
   "source": [
    "print(\"Mejores parametros: \"+str(ramdom_result.best_params_))\n",
    "print(\"Mejor Score: \"+str(ramdom_result.best_score_)+'\\n')"
   ]
  },
  {
   "cell_type": "markdown",
   "metadata": {},
   "source": [
    "##### 5.2.3 Se entrena el modelo Random Forest con los argumentos obtenidos de RandomSearch"
   ]
  },
  {
   "cell_type": "code",
   "execution_count": 49,
   "metadata": {},
   "outputs": [
    {
     "name": "stderr",
     "output_type": "stream",
     "text": [
      "[Parallel(n_jobs=-1)]: Using backend ThreadingBackend with 4 concurrent workers.\n",
      "[Parallel(n_jobs=-1)]: Done  42 tasks      | elapsed:   28.2s\n",
      "[Parallel(n_jobs=-1)]: Done 192 tasks      | elapsed:  2.1min\n",
      "[Parallel(n_jobs=-1)]: Done 200 out of 200 | elapsed:  2.2min finished\n",
      "[Parallel(n_jobs=4)]: Using backend ThreadingBackend with 4 concurrent workers.\n",
      "[Parallel(n_jobs=4)]: Done  42 tasks      | elapsed:    0.7s\n",
      "[Parallel(n_jobs=4)]: Done 192 tasks      | elapsed:    3.3s\n",
      "[Parallel(n_jobs=4)]: Done 200 out of 200 | elapsed:    3.5s finished\n"
     ]
    },
    {
     "name": "stdout",
     "output_type": "stream",
     "text": [
      "Reporte de Clasificación para Random Forest Classifier: \n",
      "               precision    recall  f1-score   support\n",
      "\n",
      "           0       0.99      0.97      0.98    176233\n",
      "           1       0.97      0.99      0.98    176233\n",
      "\n",
      "    accuracy                           0.98    352466\n",
      "   macro avg       0.98      0.98      0.98    352466\n",
      "weighted avg       0.98      0.98      0.98    352466\n",
      "\n",
      "Matriz de Confusión para Random Forest Classifier: \n",
      " [[170567   5666]\n",
      " [  1274 174959]]\n"
     ]
    },
    {
     "name": "stderr",
     "output_type": "stream",
     "text": [
      "[Parallel(n_jobs=4)]: Using backend ThreadingBackend with 4 concurrent workers.\n",
      "[Parallel(n_jobs=4)]: Done  42 tasks      | elapsed:    0.7s\n",
      "[Parallel(n_jobs=4)]: Done 192 tasks      | elapsed:    3.4s\n",
      "[Parallel(n_jobs=4)]: Done 200 out of 200 | elapsed:    3.5s finished\n"
     ]
    },
    {
     "data": {
      "image/png": "[encoded data removed]",
      "text/plain": [
       "<Figure size 432x288 with 1 Axes>"
      ]
     },
     "metadata": {},
     "output_type": "display_data"
    }
   ],
   "source": [
    "rf_clf = RandomForestClassifier(n_estimators=200,max_depth=8,random_state=42,\n",
    "                                verbose=1,class_weight=\"balanced\",oob_score=True,max_features='auto',n_jobs=-1)\n",
    "\n",
    "rf_clf.fit(X_train,y_train.values.ravel())\n",
    "y_pred = rf_clf.predict(X_test)\n",
    "\n",
    "print(\"Reporte de Clasificación para Random Forest Classifier: \\n\", classification_report(y_test, y_pred))\n",
    "print(\"Matriz de Confusión para Random Forest Classifier: \\n\", confusion_matrix(y_test,y_pred))\n",
    "plot_roc_auc(y_test, rf_clf.predict_proba(X_test)[:,1])"
   ]
  },
  {
   "cell_type": "markdown",
   "metadata": {},
   "source": [
    "### 6. PCA"
   ]
  },
  {
   "cell_type": "markdown",
   "metadata": {},
   "source": [
    "#### 6.1 Aplicación del Modelo de Reducción de Dimensionalidad - PCA"
   ]
  },
  {
   "cell_type": "markdown",
   "metadata": {},
   "source": [
    "* *Se implementa la técnica de PCA, ya que es particularmente útil en el tratamiento de datos donde existen múltiples - colinealidades entre las características / variables, como ocurre en el presente estudio.*\n",
    "* *El análisis de componentes principales es una técnica matemática utilizada para la reducción de dimensionalidad. Su objetivo es reducir el número de features, conservando la mayor parte de la información original.*"
   ]
  },
  {
   "cell_type": "markdown",
   "metadata": {},
   "source": [
    "* *Como **X** vamos a considerar las 5 variables escaladas que sirven como predictoras, con el fin de luego reducir su dimensionalidad y como **y** al Precio.*\n",
    "* *Como se expuso anteriormente, entre ellas existen múltiples correlaciones, y a su vez, algunas de ellas parece tener influencia en la determinación de los precios (como las superficies), y otras no (ambientes, dormitorios y baños).*"
   ]
  },
  {
   "cell_type": "markdown",
   "metadata": {},
   "source": [
    "1. Se **seleccionan las variables** predictoras (`X`) y la variable a predecir (`y`)."
   ]
  },
  {
   "cell_type": "code",
   "execution_count": 50,
   "metadata": {},
   "outputs": [
    {
     "name": "stdout",
     "output_type": "stream",
     "text": [
      "   step  age  gender  merchant  category  amount\n",
      "0     0    4       2        30        12    4.55\n",
      "1     0    2       2        30        12   39.68\n",
      "2     0    4       1        18        12   26.89\n",
      "3     0    3       2        30        12   17.25\n",
      "4     0    5       2        30        12   35.72 \n",
      "\n",
      "   fraud\n",
      "0      0\n",
      "1      0\n",
      "2      0\n",
      "3      0\n",
      "4      0\n"
     ]
    }
   ],
   "source": [
    "X = banksim_reduced[['step','age','gender','merchant','category','amount']]\n",
    "y = banksim_reduced[['fraud']]\n",
    "\n",
    "print(X.head(),\"\\n\")\n",
    "print(y.head())"
   ]
  },
  {
   "cell_type": "markdown",
   "metadata": {},
   "source": [
    "2. Se **escalan los datos**. Normalizamos las X."
   ]
  },
  {
   "cell_type": "code",
   "execution_count": 51,
   "metadata": {},
   "outputs": [],
   "source": [
    "from sklearn.preprocessing import RobustScaler\n",
    "X_escalado = RobustScaler().fit_transform(X)"
   ]
  },
  {
   "cell_type": "markdown",
   "metadata": {},
   "source": [
    "1. Se define la **matriz de Covarianza**."
   ]
  },
  {
   "cell_type": "code",
   "execution_count": 52,
   "metadata": {},
   "outputs": [
    {
     "data": {
      "text/plain": [
       "array([[ 3.44361648e-01,  4.58305769e-04, -3.26954546e-04,\n",
       "        -6.56141593e-02, -2.85478624e-02, -1.80718097e-02],\n",
       "       [ 4.58305769e-04,  4.46146554e-01,  1.68764137e-03,\n",
       "         3.33398957e-03,  9.06201108e-03, -1.01526670e-02],\n",
       "       [-3.26954546e-04,  1.68764137e-03,  2.53302327e-01,\n",
       "        -2.69979540e-03,  1.09174944e-02, -2.50898845e-02],\n",
       "       [-6.56141593e-02,  3.33398957e-03, -2.69979540e-03,\n",
       "         5.12442990e-01, -4.94948445e-01,  1.82188582e-01],\n",
       "       [-2.85478624e-02,  9.06201108e-03,  1.09174944e-02,\n",
       "        -4.94948445e-01,  7.93615119e+00, -1.07595566e+00]])"
      ]
     },
     "execution_count": 52,
     "metadata": {},
     "output_type": "execute_result"
    }
   ],
   "source": [
    "# Matriz de covarianza\n",
    "features = X_escalado.T\n",
    "cov_matrix = np.cov(features)\n",
    "cov_matrix[:5]"
   ]
  },
  {
   "cell_type": "markdown",
   "metadata": {},
   "source": [
    "* En la diagonal de la matriz de covarianzas, tenemos varianzas, y los demás elementos son las covarianzas."
   ]
  },
  {
   "cell_type": "markdown",
   "metadata": {},
   "source": [
    "3. Se realiza la **Eigendecomposition**."
   ]
  },
  {
   "cell_type": "code",
   "execution_count": 53,
   "metadata": {},
   "outputs": [],
   "source": [
    "# Eigendecomposition\n",
    "valores, vectores = np.linalg.eig (cov_matrix) "
   ]
  },
  {
   "cell_type": "markdown",
   "metadata": {},
   "source": [
    "* *A partir de ésto, podemos calcular el porcentaje de varianza explicada (explained variance) por componente principal:*"
   ]
  },
  {
   "cell_type": "code",
   "execution_count": 54,
   "metadata": {},
   "outputs": [
    {
     "name": "stdout",
     "output_type": "stream",
     "text": [
      "0.6186115361298038 \n",
      " [0.6186115361298038]\n",
      "0.9377482760064417 \n",
      " [0.6186115361298038, 0.3191367398766379]\n",
      "0.9584706125874428 \n",
      " [0.6186115361298038, 0.3191367398766379, 0.020722336581001068]\n",
      "0.9767070632526247 \n",
      " [0.6186115361298038, 0.3191367398766379, 0.020722336581001068, 0.01823645066518185]\n",
      "0.9896459490949113 \n",
      " [0.6186115361298038, 0.3191367398766379, 0.020722336581001068, 0.01823645066518185, 0.012938885842286686]\n",
      "1.0000000000000002 \n",
      " [0.6186115361298038, 0.3191367398766379, 0.020722336581001068, 0.01823645066518185, 0.012938885842286686, 0.010354050905088829]\n"
     ]
    }
   ],
   "source": [
    "varianzas_explicadas = [] \n",
    "for i in range (len (valores)): \n",
    "    varianzas_explicadas.append (valores [i] / np.sum (valores)) \n",
    " \n",
    "    print (np.sum (varianzas_explicadas), '\\n', varianzas_explicadas)"
   ]
  },
  {
   "cell_type": "markdown",
   "metadata": {},
   "source": [
    "* *El primer valor (penúltima fila) es solo la suma de las varianzas explicadas y debe ser igual a 1. El segundo valor (última fila) es una matriz, que representa el porcentaje de varianza explicada por componente principal.*\n",
    "* *El primer componente principal representa el 81% de la varianza de los datos, el segundo el 11%.*"
   ]
  },
  {
   "cell_type": "markdown",
   "metadata": {},
   "source": [
    "* 4. **Visualizaciones**."
   ]
  },
  {
   "cell_type": "code",
   "execution_count": 55,
   "metadata": {},
   "outputs": [],
   "source": [
    "proyectado_1 = X_escalado.dot (vectores.T [0]) \n",
    "proyectado_2 = X_escalado.dot (vectores.T [1])\n",
    "res = pd.DataFrame (proyectado_1, columns = ['PC1']) \n",
    "res ['PC2'] = proyectado_2 \n",
    "res ['Y'] = y"
   ]
  },
  {
   "cell_type": "markdown",
   "metadata": {},
   "source": [
    "* *Primero se visualiza el conjunto de datos en una dimensión: como una línea (no incluímos a PC2).*"
   ]
  },
  {
   "cell_type": "code",
   "execution_count": 56,
   "metadata": {},
   "outputs": [
    {
     "name": "stderr",
     "output_type": "stream",
     "text": [
      "C:\\Users\\Ale\\anaconda3\\envs\\ds\\lib\\site-packages\\seaborn\\_decorators.py:36: FutureWarning: Pass the following variables as keyword args: x, y. From version 0.12, the only valid positional argument will be `data`, and passing other arguments without an explicit keyword will result in an error or misinterpretation.\n",
      "  warnings.warn(\n"
     ]
    },
    {
     "data": {
      "text/plain": [
       "<matplotlib.axes._subplots.AxesSubplot at 0x1841a1e1670>"
      ]
     },
     "execution_count": 56,
     "metadata": {},
     "output_type": "execute_result"
    },
    {
     "data": {
      "image/png": "[encoded data removed]",
      "text/plain": [
       "<Figure size 720x360 with 1 Axes>"
      ]
     },
     "metadata": {},
     "output_type": "display_data"
    }
   ],
   "source": [
    "import matplotlib.pyplot as plt\n",
    "import seaborn as sns\n",
    "\n",
    "plt.figure(figsize=(10, 5))\n",
    "sns.scatterplot (res ['PC1'], [0] * len (res), hue = res ['Y'], s = 200)"
   ]
  },
  {
   "cell_type": "markdown",
   "metadata": {},
   "source": [
    "* *Luego, se exponen los datos en un espacio 2D:*"
   ]
  },
  {
   "cell_type": "code",
   "execution_count": 57,
   "metadata": {},
   "outputs": [
    {
     "name": "stderr",
     "output_type": "stream",
     "text": [
      "C:\\Users\\Ale\\anaconda3\\envs\\ds\\lib\\site-packages\\seaborn\\_decorators.py:36: FutureWarning: Pass the following variables as keyword args: x, y. From version 0.12, the only valid positional argument will be `data`, and passing other arguments without an explicit keyword will result in an error or misinterpretation.\n",
      "  warnings.warn(\n"
     ]
    },
    {
     "data": {
      "text/plain": [
       "<matplotlib.axes._subplots.AxesSubplot at 0x18418ce70d0>"
      ]
     },
     "execution_count": 57,
     "metadata": {},
     "output_type": "execute_result"
    },
    {
     "data": {
      "image/png": "[encoded data removed]",
      "text/plain": [
       "<Figure size 720x360 with 1 Axes>"
      ]
     },
     "metadata": {},
     "output_type": "display_data"
    }
   ],
   "source": [
    "plt.figure (figsize = (10, 5)) \n",
    "sns.scatterplot(res['PC1'], res['PC2'], hue=res['Y'], s=100)"
   ]
  },
  {
   "cell_type": "markdown",
   "metadata": {},
   "source": [
    "* *En ambos gráficos se observa que las variables son difíciles de separar.*"
   ]
  },
  {
   "cell_type": "markdown",
   "metadata": {},
   "source": [
    "5. Vemos cómo funciona el **modelo PCA**, con 2 componentes principales."
   ]
  },
  {
   "cell_type": "code",
   "execution_count": 58,
   "metadata": {},
   "outputs": [
    {
     "name": "stdout",
     "output_type": "stream",
     "text": [
      "original shape:    (594643, 6)\n",
      "transformed shape: (594643, 2)\n"
     ]
    }
   ],
   "source": [
    "from sklearn.decomposition import PCA\n",
    "\n",
    "pca = PCA(n_components=2)\n",
    "X_pca = pca.fit_transform(X_escalado)\n",
    "print(\"original shape:   \", X.shape)\n",
    "print(\"transformed shape:\", X_pca.shape)"
   ]
  },
  {
   "cell_type": "code",
   "execution_count": 59,
   "metadata": {},
   "outputs": [
    {
     "name": "stdout",
     "output_type": "stream",
     "text": [
      "[[-9.97739996e-04 -7.71986275e-04 -1.78027050e-03  1.73779020e-02\n",
      "  -1.49104477e-01  9.88666325e-01]\n",
      " [-3.58305493e-03  9.79632821e-04  9.51385748e-04 -6.31924513e-02\n",
      "   9.86670204e-01  1.49913038e-01]]\n"
     ]
    }
   ],
   "source": [
    "print(pca.components_)"
   ]
  },
  {
   "cell_type": "markdown",
   "metadata": {},
   "source": [
    "* *Los datos transformados se han reducido a una sola dimensión.*\n",
    "* *La reducción de dimensionalidad de PCA, eliminó la información a lo largo del eje o ejes principales menos importantes, dejando solo el componente o componentes de los datos con la mayor varianza, en éste caso, el primer y segundo componente.*\n",
    "* *Éste conjunto de datos de dimensión reducida es, en algunos sentidos, \"lo suficientemente bueno\" para codificar las relaciones más importantes entre los puntos: a pesar de reducir la dimensión de los datos, la relación general entre los puntos de datos se conserva en su mayoría.*"
   ]
  },
  {
   "cell_type": "markdown",
   "metadata": {},
   "source": [
    "#### 6.2 Entrenamiento del modelo de Árbol de Decisión, previo PCA"
   ]
  },
  {
   "cell_type": "code",
   "execution_count": 60,
   "metadata": {},
   "outputs": [],
   "source": [
    "from sklearn.model_selection import train_test_split\n",
    "\n",
    "X_train, X_test, y_train, y_test = train_test_split(X_pca, y, test_size=0.30, random_state=10)"
   ]
  },
  {
   "cell_type": "code",
   "execution_count": 61,
   "metadata": {},
   "outputs": [],
   "source": [
    "from sklearn.tree import DecisionTreeRegressor\n",
    "from sklearn.metrics import mean_squared_error\n",
    "\n",
    "lista_rmse_train_dt = []\n",
    "lista_rmse_test_dt = []\n",
    "\n",
    "max_depths = [1,2,3,4,5,6,7,8,9,10,20,25,30,40,50,80]\n",
    "\n",
    "for max_depth in max_depths:\n",
    "\n",
    "    # Se define el modelo con la profundidad deseada\n",
    "    tree_regressor = DecisionTreeRegressor(max_depth = max_depth, random_state=10)\n",
    "    \n",
    "    tree_regressor.fit(X_train, y_train)\n",
    "    \n",
    "    y_train_pred = tree_regressor.predict(X_train)\n",
    "    rmse_train = np.sqrt(mean_squared_error(y_train, y_train_pred))\n",
    "    \n",
    "    y_test_pred = tree_regressor.predict(X_test)\n",
    "    rmse_test = np.sqrt(mean_squared_error(y_test, y_test_pred))\n",
    "    \n",
    "    lista_rmse_train_dt.append(rmse_train)\n",
    "    lista_rmse_test_dt.append(rmse_test)"
   ]
  },
  {
   "cell_type": "code",
   "execution_count": 62,
   "metadata": {},
   "outputs": [
    {
     "data": {
      "text/plain": [
       "Text(0.5, 1.0, 'Curva de Validación - Árbol de Decisión')"
      ]
     },
     "execution_count": 62,
     "metadata": {},
     "output_type": "execute_result"
    },
    {
     "data": {
      "image/png": "[encoded data removed]",
      "text/plain": [
       "<Figure size 576x288 with 1 Axes>"
      ]
     },
     "metadata": {},
     "output_type": "display_data"
    }
   ],
   "source": [
    "plt.figure(figsize = (8,4))\n",
    "plt.plot(max_depths, lista_rmse_train_dt,'o-',label='train' )\n",
    "plt.plot(max_depths, lista_rmse_test_dt,'o-',label='test')\n",
    "plt.legend()\n",
    "plt.xlabel(\"Max. Profundidad\")\n",
    "plt.ylabel(\"RMSE\")\n",
    "plt.title('Curva de Validación - Árbol de Decisión')"
   ]
  },
  {
   "cell_type": "code",
   "execution_count": 63,
   "metadata": {},
   "outputs": [
    {
     "data": {
      "text/plain": [
       "DecisionTreeRegressor(max_depth=10, random_state=42)"
      ]
     },
     "execution_count": 63,
     "metadata": {},
     "output_type": "execute_result"
    }
   ],
   "source": [
    "regresor = DecisionTreeRegressor(max_depth=10, random_state=42)\n",
    "regresor.fit(X_train,y_train)"
   ]
  },
  {
   "cell_type": "code",
   "execution_count": 64,
   "metadata": {},
   "outputs": [
    {
     "name": "stdout",
     "output_type": "stream",
     "text": [
      "Modelo: Árbol de Decisión-PCA\n",
      "Raíz del error cuadrático medio en Train: 0.05586313359928669\n",
      "Raíz del error cuadrático medio en Test: 0.06506419827317063\n"
     ]
    },
    {
     "name": "stderr",
     "output_type": "stream",
     "text": [
      "C:\\Users\\Ale\\anaconda3\\envs\\ds\\lib\\site-packages\\seaborn\\distributions.py:2551: FutureWarning: `distplot` is a deprecated function and will be removed in a future version. Please adapt your code to use either `displot` (a figure-level function with similar flexibility) or `histplot` (an axes-level function for histograms).\n",
      "  warnings.warn(msg, FutureWarning)\n",
      "C:\\Users\\Ale\\anaconda3\\envs\\ds\\lib\\site-packages\\seaborn\\distributions.py:2551: FutureWarning: `distplot` is a deprecated function and will be removed in a future version. Please adapt your code to use either `displot` (a figure-level function with similar flexibility) or `histplot` (an axes-level function for histograms).\n",
      "  warnings.warn(msg, FutureWarning)\n"
     ]
    },
    {
     "data": {
      "image/png": "[encoded data removed]",
      "text/plain": [
       "<Figure size 864x360 with 2 Axes>"
      ]
     },
     "metadata": {},
     "output_type": "display_data"
    }
   ],
   "source": [
    "modelo = ['Árbol de Decisión-PCA']\n",
    "\n",
    "for i, model in enumerate([regresor]):\n",
    "    y_train_pred = model.predict(X_train).reshape(416250,1)\n",
    "    y_test_pred = model.predict(X_test).reshape(178393,1)\n",
    "    \n",
    "    print(f'Modelo: {modelo[i]}')\n",
    "    rmse_train = np.sqrt(mean_squared_error(y_train, y_train_pred))\n",
    "    rmse_test = np.sqrt(mean_squared_error(y_test, y_test_pred))\n",
    "    print(f'Raíz del error cuadrático medio en Train: {rmse_train}')\n",
    "    print(f'Raíz del error cuadrático medio en Test: {rmse_test}')\n",
    "    \n",
    "    plt.figure(figsize = (12,5))\n",
    "\n",
    "    plt.subplot(1,2,1)\n",
    "    sns.distplot(y_train - y_train_pred, bins = 25, label = 'train')\n",
    "    sns.distplot(y_test - y_test_pred, bins = 25, label = 'test')\n",
    "    plt.xlabel('errores')\n",
    "    plt.title('Histograma de Errores')\n",
    "    plt.legend()\n",
    "\n",
    "    ax = plt.subplot(1,2,2)\n",
    "    ax.scatter(y_test,y_test_pred, s =2)    \n",
    "    lims = [\n",
    "    np.min([ax.get_xlim(), ax.get_ylim()]),  \n",
    "    np.max([ax.get_xlim(), ax.get_ylim()]),  \n",
    "    ]\n",
    "    \n",
    "    ax.plot(lims, lims, 'k-', alpha=0.75, zorder=0)\n",
    "    plt.xlabel('y (test)')\n",
    "    plt.ylabel('y_pred (test)')\n",
    "    plt.title('Gráfico de Dispersión')\n",
    "    \n",
    "    plt.tight_layout()\n",
    "    plt.show()"
   ]
  },
  {
   "cell_type": "markdown",
   "metadata": {},
   "source": [
    "* *Los RMSE tanto para Train como para Test, resultan mucho menores a los obtenidos en el Proyecto 1.*"
   ]
  },
  {
   "cell_type": "code",
   "execution_count": 65,
   "metadata": {},
   "outputs": [
    {
     "data": {
      "text/plain": [
       "array([0.74606797, 0.25393203])"
      ]
     },
     "execution_count": 65,
     "metadata": {},
     "output_type": "execute_result"
    }
   ],
   "source": [
    "regresor.feature_importances_"
   ]
  },
  {
   "cell_type": "markdown",
   "metadata": {},
   "source": [
    "* *La primer característica tiene una mayor importancia relativa a la hora de realizar predicciones (su importancia es del 88%).*"
   ]
  },
  {
   "cell_type": "markdown",
   "metadata": {},
   "source": [
    "### 7. Comparación del desempeño de los Modelos Desarrollados"
   ]
  },
  {
   "cell_type": "markdown",
   "metadata": {},
   "source": [
    "|      Modelo Parte A     | RMSE Train | RMSE Test | Hiperparámetro Utilizado |\n",
    "|:-----------------------:|:----------:|:---------:|:------------------------:|\n",
    "| Árbol de Decisión (PCA) |   55181.4  |  56606.9  |      max_depth = 10      |\n",
    "\n",
    "|   Modelos Parte B   | RMSE Train | RMSE Test |       Hiperparámetros Utilizados      |\n",
    "|:-------------------:|:----------:|:---------:|:-------------------------------------:|\n",
    "| Polynomial Features |   57870.9  |  57847.5  | PolyFeatures = 3, alpha (Ridge) = 0.1 |\n",
    "|       XG-Boost      |   45207.5  |  51105.5  |     n_estimators=100, max_depth=8     |"
   ]
  },
  {
   "cell_type": "markdown",
   "metadata": {},
   "source": [
    "* *En éste caso, fue **Random Forest fue el modelo con mejor desempeño**.*\n",
    "* *Éste resultado, era realmente el esperado, ya que se trata de un algoritmo eficiente y fácil de usar que ofrece un alto rendimiento y precisión en comparación con otros algoritmos.*\n",
    "* *XGBoost, por otro lado, hace divisiones hasta el max_depth especificado y luego comienza a podar el árbol hacia atrás y elimina las divisiones más allá de las cuales no hay ganancia positiva.*\n",
    "* *Es por ello que se considera uno de los modelos más eficientes a la hora de realizar predicciones.*\n",
    "* *Sin embargo, si bien XGBoost tiene una regularización incorporada L1 (Regresión de Lasso) y L2 (Regresión de Ridge) que evita que el modelo se sobreajuste, en nuestro caso se ve algo Sobreajustado, ya que el RMSE Train resulta notablemente inferior que el RMSE de Test.*"
   ]
  },
  {
   "cell_type": "markdown",
   "metadata": {
    "colab_type": "text",
    "id": "pQNvu9PlJvr7"
   },
   "source": [
    "#### Random Forest\n",
    "\n",
    "__Random Forest__ es un tipo de Ensamble en Machine Learning en donde combinaremos diversos árboles y la salida de cada uno se contará como “un voto” y la opción más votada será la respuesta del **Bosque Aleatorio**.\n",
    "\n",
    "Random Forest, al igual que el árbol e decisión, es un *modelo de aprendizaje supervisado para clasificación* (aunque también puede usarse para problemas de regresión).\n",
    "\n",
    "Random Forest, además de aplicar Bagging, también selecciona features al azar, de esa manera descorrelaciona aún más los distintos modelos de árbol creados.\n",
    "\n",
    "Random Forest funciona así:\n",
    "* Seleccionamos k features (columnas) de las m totales (siendo k menor a m) y creamos un árbol de decisión con esas k características.\n",
    "* Creamos n árboles variando siempre la cantidad de k features y también podríamos variar la cantidad de muestras que pasamos a esos árboles (esto es conocido como “bootstrap sample”)\n",
    "* Tomamos cada uno de los n árboles y le pedimos que hagan una misma clasificación. Guardamos el resultado de cada árbol obteniendo n salidas.\n",
    "* Calculamos los votos obtenidos para cada “clase” seleccionada y consideraremos a la más votada como la clasificación final de nuestro “bosque”.\n",
    "\n",
    "Contamos con una **doble aleatoriedad**: tanto en la selección del valor k de características para cada árbol como en la cantidad de muestras que usaremos para entrenar cada árbol creado."
   ]
  },
  {
   "cell_type": "markdown",
   "metadata": {},
   "source": [
    "El ajuste de los hiperparámetros puede ser ventajoso para crear un modelo que sea mejor en la clasificación. En el caso de un bosque aleatorio, puede no ser necesario, ya que los bosques aleatorios ya son muy buenos en la clasificación. Utilizar una búsqueda exhaustiva de cuadrículas para elegir los valores de los hiperparámetros también puede llevar mucho tiempo. Sin embargo, en los casos en que sólo hay unos pocos valores potenciales para sus hiperparámetros o cuando su modelo de clasificación inicial no es muy preciso, podría ser una buena idea investigar al menos el efecto de cambiar algunos de los valores de hiperparámetros en su modelo.\n",
    "\n",
    "Traducción realizada con la versión gratuita del traductor www.DeepL.com/Translator"
   ]
  },
  {
   "cell_type": "code",
   "execution_count": null,
   "metadata": {},
   "outputs": [],
   "source": []
  },
  {
   "cell_type": "code",
   "execution_count": null,
   "metadata": {},
   "outputs": [],
   "source": []
  },
  {
   "cell_type": "markdown",
   "metadata": {},
   "source": [
    "* *El modelo de **Árbol de Decisión habiendo aplicado PCA**, posee igualmente, una buena capacidad de predicción, por el hecho de haber realizado reducción de dimensionalidad, pasando de 5 features a 2 estimadores.*\n",
    "* *No se observa en éste caso sobrejuste, ya que los RMSE obtenidos para Train y Test son similares.*"
   ]
  },
  {
   "cell_type": "markdown",
   "metadata": {},
   "source": [
    "* *En el caso de **Polynomial Features**, lo que se hizo fue crear muchos atributos nuevos con combinaciones distintas, esperando aproximarse con esas combinaciones, a la función objetivo.*\n",
    "* *El modelo se desarrolló con PolynomialFeatures de Grado 3, ya que si bien mayores grados podría haber dado lugar a un mejor desempeño, no era muy recomendable teniendo el cuenta el número de features en nuestro dataset, y además porque su desempeño no parecía variar entre dicho Grado y el indicado como Óptimo (Grado = 5).*\n",
    "* *No se observó sobreajuste en el modelo, ya que se llevó adelante la regularización a través de L2 Ridge, sin embargo no se obtuvieron tan buenos resultados como en el caso de Arboles de Decisión previo PCA*."
   ]
  },
  {
   "cell_type": "markdown",
   "metadata": {},
   "source": [
    "### 8. Conclusion"
   ]
  },
  {
   "cell_type": "markdown",
   "metadata": {},
   "source": [
    "In this kernel we have tried to do fraud detection on a bank payment data and we have achieved remarkable results with our classifiers. Since fraud datasets have an imbalance class problem we performed an oversampling technique called SMOTE and generated new minority class examples. I haven't put the classification results without SMOTE here but i added them in my github repo before so if you are interested to compare both results you can also check my github repo.\n",
    "\n",
    "Thanks for taking the time to read or just view the results from my first kernel i hope you enjoyed it. I would be grateful for any kind of critique, suggestion or comment and i wish you to have a great day with lots of beautiful data!"
   ]
  },
  {
   "cell_type": "markdown",
   "metadata": {},
   "source": [
    "### 9. Resources"
   ]
  },
  {
   "cell_type": "markdown",
   "metadata": {},
   "source": [
    "[1]. Encuesta Global de Fraude Bancario 2019 - KPMG (Mayo 2019). Obtenido de https://home.kpmg/cr/es/home/tendencias/2019/07/fraude_bancario.html  \n",
    "[2]. SMOTE: Synthetic Minority Over-sampling Technique. Obtenido de https://machinelearningmastery.com/smote-oversampling-for-imbalanced-classification/"
   ]
  }
 ],
 "metadata": {
  "kernelspec": {
   "display_name": "Python 3",
   "language": "python",
   "name": "python3"
  },
  "language_info": {
   "codemirror_mode": {
    "name": "ipython",
    "version": 3
   },
   "file_extension": ".py",
   "mimetype": "text/x-python",
   "name": "python",
   "nbconvert_exporter": "python",
   "pygments_lexer": "ipython3",
   "version": "3.8.5"
  }
 },
 "nbformat": 4,
 "nbformat_minor": 4
}
