{
 "cells": [
  {
   "cell_type": "markdown",
   "metadata": {},
   "source": [
    "# Matplotlib #"
   ]
  },
  {
   "cell_type": "markdown",
   "metadata": {},
   "source": [
    "Los __gráficos de puntos y líneas__ operan sobre variables __numéricas__ y son útiles para la visualización de la relación entre un conjunto de puntos (x, y). \n",
    "Una buena práctica es __interpolar__, lo cual proporciona una predicción para la función f(x) sobre el rango completo de x posible. Esto nos permite hacer referencia a valores que no fueron medidos."
   ]
  },
  {
   "cell_type": "markdown",
   "metadata": {},
   "source": [
    "Los __histogramas__ operan sobre variables __numéricas__ y son útiles para representar mediciones. Son realizaciones de distribuciones de probabilidad. Una buena práctica es __no discriminar entre más de 100 bins__."
   ]
  },
  {
   "cell_type": "markdown",
   "metadata": {},
   "source": [
    "## Visualización con Matplotip ##"
   ]
  },
  {
   "cell_type": "markdown",
   "metadata": {},
   "source": [
    "### Challenge ###"
   ]
  },
  {
   "cell_type": "markdown",
   "metadata": {},
   "source": [
    "Busca algún tipo de gráfico que no hayamos visto en esta bitácora."
   ]
  },
  {
   "cell_type": "code",
   "execution_count": 2,
   "metadata": {},
   "outputs": [],
   "source": [
    "import numpy as np"
   ]
  },
  {
   "cell_type": "code",
   "execution_count": 3,
   "metadata": {},
   "outputs": [],
   "source": [
    "import matplotlib.pyplot as plt"
   ]
  },
  {
   "cell_type": "code",
   "execution_count": 4,
   "metadata": {},
   "outputs": [],
   "source": [
    "from scipy.stats import norm"
   ]
  },
  {
   "cell_type": "code",
   "execution_count": 5,
   "metadata": {},
   "outputs": [],
   "source": [
    "import pandas as pd"
   ]
  },
  {
   "cell_type": "markdown",
   "metadata": {},
   "source": [
    "Armar una nueva lista __c__ con:"
   ]
  },
  {
   "cell_type": "markdown",
   "metadata": {},
   "source": [
    "1- Con todos los elementos de a y b.  \n",
    "2- Con todos los elementos de a y b, ordenados de menor a mayor.  \n",
    "3- Con todos los elementos de a y b, ordenados de mayor a menor.  \n",
    "4- Con todos los elementos de a y b, ordenados de menor a mayor y sin elementos repetidos.  \n",
    "5- Con todos los elementos que están en ambas listas, sin elementos repetidos. Es decir, si un elemento está sólo en una lista, no debe aparecer en c.  \n",
    "6- Con todos los elementos que NO están en ambas listas, sin elementos repetidos. Es decir, si un elemento está en a y en b, no debe aparecer en c."
   ]
  },
  {
   "cell_type": "code",
   "execution_count": 6,
   "metadata": {},
   "outputs": [],
   "source": [
    "a = [12,3,5,12,8,9,25,12,1,3,4,5,17,15]"
   ]
  },
  {
   "cell_type": "code",
   "execution_count": 7,
   "metadata": {},
   "outputs": [],
   "source": [
    "b = [3,5,7,8,45,8,9,16,1,11,30,41,2,3,15,1,29,22]"
   ]
  },
  {
   "cell_type": "code",
   "execution_count": 31,
   "metadata": {},
   "outputs": [],
   "source": [
    "c = a + b # 1"
   ]
  },
  {
   "cell_type": "code",
   "execution_count": 32,
   "metadata": {},
   "outputs": [
    {
     "name": "stdout",
     "output_type": "stream",
     "text": [
      "[12, 3, 5, 12, 8, 9, 25, 12, 1, 3, 4, 5, 17, 15, 3, 5, 7, 8, 45, 8, 9, 16, 1, 11, 30, 41, 2, 3, 15, 1, 29, 22]\n"
     ]
    }
   ],
   "source": [
    "print (c)"
   ]
  },
  {
   "cell_type": "code",
   "execution_count": 36,
   "metadata": {},
   "outputs": [],
   "source": [
    "c.sort () # 2"
   ]
  },
  {
   "cell_type": "code",
   "execution_count": 38,
   "metadata": {},
   "outputs": [
    {
     "name": "stdout",
     "output_type": "stream",
     "text": [
      "[1, 1, 1, 2, 3, 3, 3, 3, 4, 5, 5, 5, 7, 8, 8, 8, 9, 9, 11, 12, 12, 12, 15, 15, 16, 17, 22, 25, 29, 30, 41, 45]\n"
     ]
    }
   ],
   "source": [
    "print (c)"
   ]
  },
  {
   "cell_type": "code",
   "execution_count": 39,
   "metadata": {},
   "outputs": [],
   "source": [
    "c.sort (reverse=True) # 3"
   ]
  },
  {
   "cell_type": "code",
   "execution_count": 40,
   "metadata": {},
   "outputs": [
    {
     "name": "stdout",
     "output_type": "stream",
     "text": [
      "[45, 41, 30, 29, 25, 22, 17, 16, 15, 15, 12, 12, 12, 11, 9, 9, 8, 8, 8, 7, 5, 5, 5, 4, 3, 3, 3, 3, 2, 1, 1, 1]\n"
     ]
    }
   ],
   "source": [
    "print (c)"
   ]
  },
  {
   "cell_type": "code",
   "execution_count": 43,
   "metadata": {},
   "outputs": [
    {
     "name": "stdout",
     "output_type": "stream",
     "text": [
      "[ 1  2  3  4  5  7  8  9 11 12 15 16 17 22 25 29 30 41 45]\n"
     ]
    }
   ],
   "source": [
    "print(np.unique(c)) # 4"
   ]
  },
  {
   "cell_type": "code",
   "execution_count": 61,
   "metadata": {},
   "outputs": [
    {
     "name": "stdout",
     "output_type": "stream",
     "text": [
      "[12, 3, 5, 8, 9, 25, 1, 4, 17, 15]\n"
     ]
    }
   ],
   "source": [
    "c = [] # 5\n",
    "for items in a:\n",
    "    for numbers in b:\n",
    "        if items != numbers:\n",
    "            if items in c:\n",
    "                None\n",
    "            else:\n",
    "                c.append(items)\n",
    "print(c)"
   ]
  },
  {
   "cell_type": "code",
   "execution_count": 60,
   "metadata": {},
   "outputs": [
    {
     "name": "stdout",
     "output_type": "stream",
     "text": [
      "[3, 5, 8, 9, 1, 15]\n"
     ]
    }
   ],
   "source": [
    "c = [] # 6\n",
    "for items in a:\n",
    "    for numbers in b:\n",
    "        if items == numbers:\n",
    "            if items in c:\n",
    "                None\n",
    "            else:\n",
    "                c.append(items)\n",
    "print(c)"
   ]
  },
  {
   "cell_type": "code",
   "execution_count": 52,
   "metadata": {},
   "outputs": [
    {
     "name": "stdout",
     "output_type": "stream",
     "text": [
      "{1, 3, 5, 8, 9, 15}\n"
     ]
    }
   ],
   "source": [
    "c = set(a) & set(b) # Lo mismo es poner print c = set(a).intersection(b) \n",
    "print (c)"
   ]
  },
  {
   "cell_type": "markdown",
   "metadata": {},
   "source": [
    "## 1. Gráficos de Líneas y Puntos ##"
   ]
  },
  {
   "cell_type": "markdown",
   "metadata": {},
   "source": [
    "Vamos a empezar con el gráfico más sencillo posible, una línea. Vamos a graficar una función sinusoidal de tipo:  y=sen(2πx)+1 .  \n",
    "La manera mas rápida de lograr un gráfico es la siguiente:"
   ]
  },
  {
   "cell_type": "code",
   "execution_count": 9,
   "metadata": {},
   "outputs": [
    {
     "data": {
      "text/plain": [
       "[<matplotlib.lines.Line2D at 0x27dde6aeb20>]"
      ]
     },
     "execution_count": 9,
     "metadata": {},
     "output_type": "execute_result"
    },
    {
     "data": {
      "image/png": "[encoded data removed]",
      "text/plain": [
       "<Figure size 432x288 with 1 Axes>"
      ]
     },
     "metadata": {
      "needs_background": "light"
     },
     "output_type": "display_data"
    }
   ],
   "source": [
    "# Generamos dos vectores x e y, que nos daran las cordenadas por donde pasará la linea.\n",
    "x = np.arange(0.0, 2.0, 0.05)\n",
    "y = 1 + np.sin(2 * np.pi * x)\n",
    "\n",
    "# Simplemente le pedimos a la librería que dibuje una variable en funcion de la otra\n",
    "# En el primer lugar va la variable horizontal y en el segundo la vertical\n",
    "plt.plot(x, y)"
   ]
  },
  {
   "cell_type": "markdown",
   "metadata": {},
   "source": [
    "Si queremos pasar este gráfico a uno de puntos, es muy sencillo:"
   ]
  },
  {
   "cell_type": "code",
   "execution_count": 10,
   "metadata": {},
   "outputs": [
    {
     "data": {
      "text/plain": [
       "[<matplotlib.lines.Line2D at 0x27ddf736d30>]"
      ]
     },
     "execution_count": 10,
     "metadata": {},
     "output_type": "execute_result"
    },
    {
     "data": {
      "image/png": "[encoded data removed]",
      "text/plain": [
       "<Figure size 432x288 with 1 Axes>"
      ]
     },
     "metadata": {
      "needs_background": "light"
     },
     "output_type": "display_data"
    }
   ],
   "source": [
    "plt.plot(x, y, 'o')"
   ]
  },
  {
   "cell_type": "markdown",
   "metadata": {},
   "source": [
    "O de puntos y líneas:"
   ]
  },
  {
   "cell_type": "code",
   "execution_count": 11,
   "metadata": {},
   "outputs": [
    {
     "data": {
      "text/plain": [
       "[<matplotlib.lines.Line2D at 0x27ddf799400>]"
      ]
     },
     "execution_count": 11,
     "metadata": {},
     "output_type": "execute_result"
    },
    {
     "data": {
      "image/png": "[encoded data removed]",
      "text/plain": [
       "<Figure size 432x288 with 1 Axes>"
      ]
     },
     "metadata": {
      "needs_background": "light"
     },
     "output_type": "display_data"
    }
   ],
   "source": [
    "plt.plot(x, y, 'o-')"
   ]
  },
  {
   "cell_type": "markdown",
   "metadata": {},
   "source": [
    "Muy parecida es la función *plt.scatter()*, que sirve para hacer gráficos de dispersión. A diferencia de *plt.plot()*, esta función no permite gráficos de líneas."
   ]
  },
  {
   "cell_type": "code",
   "execution_count": 12,
   "metadata": {},
   "outputs": [
    {
     "data": {
      "text/plain": [
       "<matplotlib.collections.PathCollection at 0x27ddf7f94c0>"
      ]
     },
     "execution_count": 12,
     "metadata": {},
     "output_type": "execute_result"
    },
    {
     "data": {
      "image/png": "[encoded data removed]",
      "text/plain": [
       "<Figure size 432x288 with 1 Axes>"
      ]
     },
     "metadata": {
      "needs_background": "light"
     },
     "output_type": "display_data"
    }
   ],
   "source": [
    "plt.scatter(x, y)"
   ]
  },
  {
   "cell_type": "markdown",
   "metadata": {},
   "source": [
    "## 2. Agregando información al gráfico. ##"
   ]
  },
  {
   "cell_type": "code",
   "execution_count": 13,
   "metadata": {},
   "outputs": [
    {
     "data": {
      "image/png": "[encoded data removed]",
      "text/plain": [
       "<Figure size 432x288 with 1 Axes>"
      ]
     },
     "metadata": {
      "needs_background": "light"
     },
     "output_type": "display_data"
    }
   ],
   "source": [
    "x = np.arange(0.0, 24, 0.5)\n",
    "y = 20 + 5*np.sin(2*np.pi*(x - 8)/24)\n",
    "\n",
    "plt.plot(x, y, color = 'g', linewidth = 2)\n",
    "\n",
    "# Podemos agregarle etiquetas a los ejes y un titulo al gráfico\n",
    "plt.xlabel('Tiempo (horas)')\n",
    "plt.ylabel('Temperatura (°C)')\n",
    "plt.title('Temperatura de un día primaveral')\n",
    "\n",
    "plt.grid() # Este comando enciende la grilla de referencia \n",
    "plt.show() #Show muestra el gráfico. Si no lo ponemos, en general no pasa nada.¡Pero no siempre es así!"
   ]
  },
  {
   "cell_type": "markdown",
   "metadata": {},
   "source": [
    "### Leyendas ###"
   ]
  },
  {
   "cell_type": "code",
   "execution_count": 14,
   "metadata": {},
   "outputs": [
    {
     "data": {
      "image/png": "[encoded data removed]",
      "text/plain": [
       "<Figure size 432x288 with 1 Axes>"
      ]
     },
     "metadata": {
      "needs_background": "light"
     },
     "output_type": "display_data"
    }
   ],
   "source": [
    "x = np.arange(0.0, 24, 0.5)\n",
    "y1 = 20 + 5*np.sin(2*np.pi*(x - 8)/24)\n",
    "y2 = 5 + 5*np.sin(2*np.pi*(x - 6)/24)\n",
    "\n",
    "# Ploteamos las dos lineas, dandole un nombre a cada una mediante el parámetro 'label'.\n",
    "# Notar que para agregar una curva, simplemente debemos poner una debajo de la otra\n",
    "plt.plot(x, y1, label = 'Primavera')\n",
    "plt.plot(x, y2, label = 'invierno')\n",
    "\n",
    "plt.xlabel('Tiempo (horas)')\n",
    "plt.ylabel('Temperatura (°C)')\n",
    "plt.title('Temperatura diaria promedio')\n",
    "\n",
    "# Este comando enciende la grilla de referencia \n",
    "plt.grid()\n",
    "\n",
    "# Agregamos la leyenda al gráfico\n",
    "plt.legend() #loc='upper center', shadow=True, fontsize='x-large')\n",
    "plt.show() "
   ]
  },
  {
   "cell_type": "markdown",
   "metadata": {},
   "source": [
    "### Ejercicio - Challenge ###"
   ]
  },
  {
   "cell_type": "markdown",
   "metadata": {},
   "source": [
    "1- Define dos listas de valores x e y, tal que los pares (x,y) cumplan una relación lineal del tipo  y=2x+1 .  \n",
    "2- Defina la lista de valores de x con 100 puntos en el intervalo de valores que van desde -1 hasta 1.  \n",
    "3- Grafica la curva generada por los valores (x,y) en color verde, con un ancho linewidth = 3 y que sea una línea a trazos.  \n",
    "4- Agrega al gráfico el título 'Relación Lineal'.  \n",
    "5- Agrega una segunda curva de su invención.  \n",
    "6- Agrega etiquetas en los ejes, leyenda y título al gráfico. ¡Puede ser lo que desees, pero tiene que tener sentido!"
   ]
  },
  {
   "cell_type": "code",
   "execution_count": 15,
   "metadata": {},
   "outputs": [
    {
     "data": {
      "image/png": "[encoded data removed]",
      "text/plain": [
       "<Figure size 432x288 with 1 Axes>"
      ]
     },
     "metadata": {
      "needs_background": "light"
     },
     "output_type": "display_data"
    }
   ],
   "source": [
    "x = np.linspace(-1.0, 1.0, 100)\n",
    "y1 = 2*x + 1\n",
    "y2 = 4*x+7\n",
    "\n",
    "plt.plot(x, y1, label = 'y1', linewidth=3, color='g')\n",
    "plt.plot(x, y2, label = 'y2', linewidth=3, color='r')\n",
    "\n",
    "plt.xlabel('Variable x')\n",
    "plt.ylabel('Variable y')\n",
    "plt.title('Relación Lineal')\n",
    "\n",
    "plt.grid()\n",
    "\n",
    "plt.legend()\n",
    "plt.show() "
   ]
  },
  {
   "cell_type": "code",
   "execution_count": 16,
   "metadata": {},
   "outputs": [
    {
     "data": {
      "text/plain": [
       "array([[1., 1.],\n",
       "       [1., 1.]])"
      ]
     },
     "execution_count": 16,
     "metadata": {},
     "output_type": "execute_result"
    }
   ],
   "source": [
    "np.corrcoef([y1,y2])"
   ]
  },
  {
   "cell_type": "markdown",
   "metadata": {},
   "source": [
    "## 3. Histogramas ##"
   ]
  },
  {
   "cell_type": "code",
   "execution_count": 17,
   "metadata": {},
   "outputs": [
    {
     "name": "stdout",
     "output_type": "stream",
     "text": [
      "Media: 20.20369225796382\n",
      "Desvio Estandar: 4.077285356330557\n"
     ]
    }
   ],
   "source": [
    "# Elegimos una distribución con centro en 20 y una desviación igual a 4\n",
    "mu = 20  # Media de la distribución\n",
    "sigma = 4  # Desviación Estandar\n",
    "valores = mu + sigma * np.random.randn(1000)\n",
    "\n",
    "# Imprimimos la media y la desviación de los valores generados\n",
    "print('Media:', np.mean(valores))\n",
    "print('Desvio Estandar:',np.std(valores))\n",
    "# Recuerden que cuantos mas valores sampleen, mas se aproximaran estos valores a los de la distribución."
   ]
  },
  {
   "cell_type": "code",
   "execution_count": 18,
   "metadata": {},
   "outputs": [
    {
     "data": {
      "image/png": "[encoded data removed]",
      "text/plain": [
       "<Figure size 432x288 with 1 Axes>"
      ]
     },
     "metadata": {
      "needs_background": "light"
     },
     "output_type": "display_data"
    }
   ],
   "source": [
    "plt.hist(valores, bins = 50)\n",
    "plt.show()"
   ]
  },
  {
   "cell_type": "markdown",
   "metadata": {},
   "source": [
    "__Ejercicio:__   \n",
    "1- Repite el histograma anterior, pero esta vez cambiando el número de bins. Por ejemplo, prueba con 5, 10, 20, 50, 500 y 5000. ¿Cuál les parece la opción más adecuada? ¿De qué dependará el número de bins adecuado a seleccionar?  \n",
    "2- Prueba qué sucede si no le pasan el argumento bins a la función. Busca en la bibliografía de la librería que es lo que hace por default la función.  \n",
    "3- Averigua cuales son los argumentos de la función hist y modifica el color del histograma, el tamaño de las barras, etc."
   ]
  },
  {
   "cell_type": "code",
   "execution_count": 19,
   "metadata": {},
   "outputs": [
    {
     "data": {
      "image/png": "[encoded data removed]",
      "text/plain": [
       "<Figure size 432x288 with 1 Axes>"
      ]
     },
     "metadata": {
      "needs_background": "light"
     },
     "output_type": "display_data"
    }
   ],
   "source": [
    "plt.hist(valores, bins = 5)\n",
    "plt.show()"
   ]
  },
  {
   "cell_type": "code",
   "execution_count": 20,
   "metadata": {},
   "outputs": [
    {
     "data": {
      "image/png": "[encoded data removed]",
      "text/plain": [
       "<Figure size 432x288 with 1 Axes>"
      ]
     },
     "metadata": {
      "needs_background": "light"
     },
     "output_type": "display_data"
    }
   ],
   "source": [
    "plt.hist(valores, bins = 500)\n",
    "plt.show()"
   ]
  },
  {
   "cell_type": "code",
   "execution_count": 21,
   "metadata": {},
   "outputs": [
    {
     "data": {
      "image/png": "[encoded data removed]",
      "text/plain": [
       "<Figure size 432x288 with 1 Axes>"
      ]
     },
     "metadata": {
      "needs_background": "light"
     },
     "output_type": "display_data"
    }
   ],
   "source": [
    "plt.hist(valores)  # Hace 10 Bins por defecto..\n",
    "plt.show()"
   ]
  },
  {
   "cell_type": "code",
   "execution_count": null,
   "metadata": {},
   "outputs": [],
   "source": []
  },
  {
   "cell_type": "code",
   "execution_count": 22,
   "metadata": {},
   "outputs": [
    {
     "data": {
      "image/png": "[encoded data removed]",
      "text/plain": [
       "<Figure size 432x288 with 1 Axes>"
      ]
     },
     "metadata": {
      "needs_background": "light"
     },
     "output_type": "display_data"
    }
   ],
   "source": [
    "plt.hist(valores, bins = 20, alpha = 0.5, color = 'y')\n",
    "plt.show()"
   ]
  },
  {
   "cell_type": "markdown",
   "metadata": {},
   "source": [
    "__Nota:__ la función hist además nos devuelve dos vectores relevantes. El vector n donde nos especifica el número de cuentas de cada bin (columna) del histograma. Y el vector bins, que nos dice los límites de estos bines (donde empieza y termina cada columna. Notar que el vector 'bins' tiene un largo igual a len(n)+1."
   ]
  },
  {
   "cell_type": "code",
   "execution_count": 23,
   "metadata": {},
   "outputs": [
    {
     "data": {
      "image/png": "[encoded data removed]",
      "text/plain": [
       "<Figure size 432x288 with 1 Axes>"
      ]
     },
     "metadata": {
      "needs_background": "light"
     },
     "output_type": "display_data"
    },
    {
     "name": "stdout",
     "output_type": "stream",
     "text": [
      "[ 3.  1.  2.  0.  3.  5.  2.  7.  4. 12.  8.  8.  9. 20. 24. 28. 24. 40.\n",
      " 38. 36. 46. 56. 36. 45. 58. 40. 40. 55. 50. 43. 40. 31. 32. 22. 24. 25.\n",
      " 18. 15. 14.  7.  7.  8.  4.  3.  1.  1.  1.  1.  2.  1.] [ 7.67861419  8.18365948  8.68870476  9.19375005  9.69879533 10.20384062\n",
      " 10.7088859  11.21393118 11.71897647 12.22402175 12.72906704 13.23411232\n",
      " 13.73915761 14.24420289 14.74924818 15.25429346 15.75933874 16.26438403\n",
      " 16.76942931 17.2744746  17.77951988 18.28456517 18.78961045 19.29465574\n",
      " 19.79970102 20.3047463  20.80979159 21.31483687 21.81988216 22.32492744\n",
      " 22.82997273 23.33501801 23.84006329 24.34510858 24.85015386 25.35519915\n",
      " 25.86024443 26.36528972 26.870335   27.37538029 27.88042557 28.38547085\n",
      " 28.89051614 29.39556142 29.90060671 30.40565199 30.91069728 31.41574256\n",
      " 31.92078784 32.42583313 32.93087841]\n"
     ]
    }
   ],
   "source": [
    "n, bins, _ = plt.hist(valores, bins = 50)\n",
    "plt.show()\n",
    "print(n, bins)"
   ]
  }
 ],
 "metadata": {
  "kernelspec": {
   "display_name": "Python 3",
   "language": "python",
   "name": "python3"
  },
  "language_info": {
   "codemirror_mode": {
    "name": "ipython",
    "version": 3
   },
   "file_extension": ".py",
   "mimetype": "text/x-python",
   "name": "python",
   "nbconvert_exporter": "python",
   "pygments_lexer": "ipython3",
   "version": "3.8.2"
  }
 },
 "nbformat": 4,
 "nbformat_minor": 4
}
