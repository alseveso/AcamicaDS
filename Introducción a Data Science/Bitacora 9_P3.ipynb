{
 "cells": [
  {
   "cell_type": "markdown",
   "metadata": {},
   "source": [
    "# Generala #"
   ]
  },
  {
   "cell_type": "markdown",
   "metadata": {},
   "source": [
    "1. ¿Cuán probable es obtener una generala en la primera tirada?\n",
    "2. ¿Cuán probable es obtener una generala con dos tiradas?\n",
    "3. ¿Cuán probable es obtener una generala luego de las tres tiradas?\n",
    "4. ¿Qué es más problable: obtener una generala con tres tiradas y cinco dados o cuatros tiradas y seis dados?"
   ]
  },
  {
   "cell_type": "code",
   "execution_count": 1,
   "metadata": {},
   "outputs": [],
   "source": [
    "import numpy as np"
   ]
  },
  {
   "cell_type": "markdown",
   "metadata": {},
   "source": [
    "1. Crea la función tirar_n_dados. Debe tomar como argumento por defecto n = 5, pero tiene que funcionar correctamente para otros valores de n."
   ]
  },
  {
   "cell_type": "code",
   "execution_count": 2,
   "metadata": {},
   "outputs": [],
   "source": [
    "import random"
   ]
  },
  {
   "cell_type": "code",
   "execution_count": 3,
   "metadata": {},
   "outputs": [],
   "source": [
    "def tirar_n_dados():\n",
    "    pass"
   ]
  },
  {
   "cell_type": "code",
   "execution_count": 4,
   "metadata": {},
   "outputs": [
    {
     "data": {
      "text/plain": [
       "[2, 2, 1, 2, 6]"
      ]
     },
     "execution_count": 4,
     "metadata": {},
     "output_type": "execute_result"
    }
   ],
   "source": [
    "# siendo n el numero de elementos de tu lista(numero de tiradas)\n",
    "def tirar_n_dados(n = 5):\n",
    "    result=[]\n",
    "    for i in range(0,n):\n",
    "        result.append(random.randint(1, 6))\n",
    "    return result\n",
    "\n",
    "tirar_n_dados()"
   ]
  },
  {
   "cell_type": "markdown",
   "metadata": {},
   "source": [
    "2. Crea la función es_generala. Esta función toma como entrada los resultados de tirar_n_dados y devuelve True si es generala y False si no lo es."
   ]
  },
  {
   "cell_type": "code",
   "execution_count": 5,
   "metadata": {},
   "outputs": [],
   "source": [
    "def es_generala():\n",
    "    pass"
   ]
  },
  {
   "cell_type": "code",
   "execution_count": 6,
   "metadata": {},
   "outputs": [],
   "source": [
    "def es_generala(dados = tirar_n_dados()):\n",
    "    resultado = True\n",
    "    valor1 = dados[0]\n",
    "    for dado in dados:\n",
    "        if (dado != valor1):\n",
    "            resultado = False\n",
    "            break\n",
    "    return resultado"
   ]
  },
  {
   "cell_type": "code",
   "execution_count": 7,
   "metadata": {},
   "outputs": [
    {
     "name": "stdout",
     "output_type": "stream",
     "text": [
      "False\n"
     ]
    }
   ],
   "source": [
    "print (es_generala())"
   ]
  },
  {
   "cell_type": "code",
   "execution_count": 8,
   "metadata": {},
   "outputs": [
    {
     "name": "stdout",
     "output_type": "stream",
     "text": [
      "False\n"
     ]
    }
   ],
   "source": [
    "array_de_prueba = np.array([2,5,5,5,6])\n",
    "print(es_generala(array_de_prueba))"
   ]
  },
  {
   "cell_type": "markdown",
   "metadata": {},
   "source": [
    "def tirar_n_dados(n = 5):\n",
    "    for i in range(10000):\n",
    "        tirada_dados = tirar_n_dados(n = 5)\n",
    "        if es_generala(tirada_dados):\n",
    "            print(tirada_dados)\n",
    "        else:\n",
    "            print('No es Generala') # Rever"
   ]
  },
  {
   "cell_type": "markdown",
   "metadata": {},
   "source": [
    "3. Crea una función seleccionar_mayoria que, dada una tirada de n dados, devuelve cuál es la moda de los resultados y con qué frecuencia. Dos consideraciones:  \n",
    "*Si los n resultados son distintos, es indistinto cuál valor devuelve.  \n",
    "*Si hay más de un valor posible para devolver - por ejemplo, en la tira [1, 1, 2, 2, 3] -, es indistinto cuál valor elige.  \n",
    "Tal vez te sirva saber que estas consideraciones se resuelven automáticamente si utilizas algunas herramientas de NumPy, como np.unique(), np.argmax() y alguna más."
   ]
  },
  {
   "cell_type": "code",
   "execution_count": 9,
   "metadata": {},
   "outputs": [],
   "source": [
    "def seleccionar_mayoria():\n",
    "    pass\n",
    "    return maximo, frecuencia"
   ]
  },
  {
   "cell_type": "code",
   "execution_count": 10,
   "metadata": {},
   "outputs": [],
   "source": [
    "def seleccionar_mayoria(dados = tirar_n_dados()):\n",
    "    print (dados)\n",
    "    (valores, repeticiones) = np.unique(dados, return_counts=True)\n",
    "    moda = valores[np.argmax(repeticiones)] # Valores en la posición que más se repite\n",
    "    frecuencia = repeticiones[np.argmax(repeticiones)]\n",
    "    return moda, frecuencia"
   ]
  },
  {
   "cell_type": "code",
   "execution_count": 11,
   "metadata": {},
   "outputs": [
    {
     "name": "stdout",
     "output_type": "stream",
     "text": [
      "[1, 3, 2, 1, 1]\n"
     ]
    },
    {
     "data": {
      "text/plain": [
       "(1, 3)"
      ]
     },
     "execution_count": 11,
     "metadata": {},
     "output_type": "execute_result"
    }
   ],
   "source": [
    "seleccionar_mayoria()"
   ]
  },
  {
   "cell_type": "code",
   "execution_count": 12,
   "metadata": {},
   "outputs": [
    {
     "name": "stdout",
     "output_type": "stream",
     "text": [
      "[1 1 1 5 5]\n",
      "(1, 3)\n"
     ]
    }
   ],
   "source": [
    "array_de_prueba = np.array([1,1,1,5,5])\n",
    "print(seleccionar_mayoria(array_de_prueba))"
   ]
  },
  {
   "cell_type": "markdown",
   "metadata": {},
   "source": [
    "4. Crea una función jugar tome como argumentos n_tiradas con argumento por defecto 3 y dados_total con argumento por defecto 5 y que, utilizando las funciones que definiste antes, juegue a la generala. La función debe devolver un arreglo con las n-tiradas realizadas y un índice indicando en qué tirada logró la generala si corresponde (si no logra la generala, debe devolver un valor que indique que no se logró la generala)."
   ]
  },
  {
   "cell_type": "code",
   "execution_count": 13,
   "metadata": {},
   "outputs": [],
   "source": [
    "def jugar(n_tiradas = 3, dados_total= 5):\n",
    "    # Numero de dados a tirar inicialmente\n",
    "    n_dados = dados_total \n",
    "    \n",
    "    # Dados en la mesa inicialmente\n",
    "    dados_mesa = np.array([]) \n",
    "    \n",
    "    # Donde guardamos las tiradas\n",
    "    tiradas = np.zeros((3,5), dtype=int) \n",
    "    \n",
    "    # Numero de tirada exitosa, en la que se logra la generala\n",
    "    # Inicializar en un valor que indique que NO se obtuvo generala.\n",
    "    # Si luego se obtiene una generala, se modificará\n",
    "    tirada_exitosa = -1\n",
    "    \n",
    "    # Contamos cuantas tiradas hicimos hasta ahora\n",
    "    contador_tiradas = 0\n",
    "    \n",
    "    while (contador_tiradas < n_tiradas) and tirada_exitosa == -1:\n",
    "        # Tiramos los dados\n",
    "        dados_nuevos = tirar_n_dados(n_dados)\n",
    "        \n",
    "        # Combinamos los dados recien tirados con los que ya estan en la mesa\n",
    "        todos_dados = np.concatenate((dados_mesa, dados_nuevos)).astype(int)\n",
    "        \n",
    "        # Guardamos tirada\n",
    "        tiradas[contador_tiradas,:] = todos_dados\n",
    "        \n",
    "        # Nos fijamos si es generala\n",
    "        if es_generala(todos_dados):\n",
    "            # Si es, modificamos el valor de tirada exitosa.\n",
    "            # Esto debe cortar el loop.\n",
    "            tirada_exitosa = contador_tiradas + 1\n",
    "            break\n",
    "        else:\n",
    "            # Si no es generala, sigue tirando \n",
    "            # Se fija qué dados debe dejar en la mesa\n",
    "            maximo, frecuencia = seleccionar_mayoria(todos_dados)\n",
    "            dados_mesa = np.repeat(maximo, frecuencia)\n",
    "            \n",
    "            # Calcula cuántos dados volver a tirar\n",
    "            n_dados = dados_total - len(dados_mesa)\n",
    "        \n",
    "        # Suma al contador de tiradas\n",
    "        contador_tiradas = contador_tiradas + 1\n",
    "    return tiradas, tirada_exitosa"
   ]
  },
  {
   "cell_type": "code",
   "execution_count": 14,
   "metadata": {},
   "outputs": [
    {
     "name": "stdout",
     "output_type": "stream",
     "text": [
      "[1 6 4 4 6]\n",
      "[4 4 5 4 3]\n",
      "[4 4 4 1 4]\n",
      "[3 1 6 4 3]\n",
      "[3 3 1 3 5]\n",
      "[3 3 3 1 1]\n",
      "[6 1 5 5 4]\n",
      "[5 5 5 5 1]\n",
      "[5 5 5 5 3]\n",
      "[5 1 2 4 4]\n",
      "[4 4 6 3 5]\n",
      "[4 4 6 1 2]\n",
      "[3 6 6 6 6]\n",
      "[[3 6 6 6 6]\n",
      " [6 6 6 6 6]\n",
      " [0 0 0 0 0]] 2\n"
     ]
    }
   ],
   "source": [
    "# TESTEO\n",
    "for i in range(5):\n",
    "    tiradas, tirada_exitosa = jugar(3, 5)\n",
    "    if tirada_exitosa >=0:\n",
    "        print(tiradas, tirada_exitosa)"
   ]
  },
  {
   "cell_type": "code",
   "execution_count": null,
   "metadata": {},
   "outputs": [],
   "source": []
  }
 ],
 "metadata": {
  "kernelspec": {
   "display_name": "Python 3",
   "language": "python",
   "name": "python3"
  },
  "language_info": {
   "codemirror_mode": {
    "name": "ipython",
    "version": 3
   },
   "file_extension": ".py",
   "mimetype": "text/x-python",
   "name": "python",
   "nbconvert_exporter": "python",
   "pygments_lexer": "ipython3",
   "version": "3.8.2"
  }
 },
 "nbformat": 4,
 "nbformat_minor": 4
}
