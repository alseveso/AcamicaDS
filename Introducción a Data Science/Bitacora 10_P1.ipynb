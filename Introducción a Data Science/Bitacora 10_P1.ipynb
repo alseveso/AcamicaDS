{
 "cells": [
  {
   "cell_type": "markdown",
   "metadata": {},
   "source": [
    "# Clases en Python #"
   ]
  },
  {
   "cell_type": "markdown",
   "metadata": {},
   "source": [
    "## 1. Clases y Objetos ##"
   ]
  },
  {
   "cell_type": "markdown",
   "metadata": {},
   "source": [
    "### 1.1 ¿Qué son los objetos? ###"
   ]
  },
  {
   "cell_type": "markdown",
   "metadata": {},
   "source": [
    "Python es un lenguaje de programacion orientado a objetos. Esto quiere decir que posee un tipo de variable particular llamada objeto. Un objeto es un paquete de variables y funciones que conviene tener agrupados por consistencia y comodidad."
   ]
  },
  {
   "cell_type": "markdown",
   "metadata": {},
   "source": [
    "### 1.2 ¿Qué son las clases? ###"
   ]
  },
  {
   "cell_type": "markdown",
   "metadata": {},
   "source": [
    "Los objetos tienen una estructura, están compuestos por un conjunto determinado de variables y funciones, a los que llamamos __atributos__.\n",
    "\n",
    "Esta estructura de los objetos no se explicita en el código cada vez que definimos un objeto. En cambio, los objetos suelen crearse a partir de unas plantillas a las que llamamos __clases__.\n",
    "\n",
    "Las __clases__ le dan la forma a los objetos, definen las variable y funciones que componen a estos objetos."
   ]
  },
  {
   "cell_type": "markdown",
   "metadata": {},
   "source": [
    "__Definimos una clase:__\n",
    "\n",
    "Comenzaremos por definir una clase muy simple, a la que llamaremos Persona. Esta clase será la plantilla a través de la cual generaremos objetos, a los que llamaremos instancias de esta clase.\n",
    "\n",
    "Para empezar este ejemplo, le daremos los atributos que pensamos indispensables para definir una persona: nombre y edad."
   ]
  },
  {
   "cell_type": "code",
   "execution_count": 1,
   "metadata": {},
   "outputs": [],
   "source": [
    "class Persona:\n",
    "    \"\"\"\n",
    "    Esta es una clase donde se agregan todos los datos\n",
    "    respecto a una persona\n",
    "    \"\"\"\n",
    "    def __init__(self, nombre, edad):\n",
    "        # Todo lo que definamos en __init__ se corre al crear una instancia de la clase\n",
    "        self.nombre = nombre\n",
    "        self.edad = edad"
   ]
  },
  {
   "cell_type": "markdown",
   "metadata": {},
   "source": [
    "Hasta ahora no creamos un objeto, sólo definimos la forma que tendrán los objetos de la clase Persona. Ahora, usando esta plantilla, sí crearemos una __instancia__ de la clase Persona, a la que llamaremos p1."
   ]
  },
  {
   "cell_type": "code",
   "execution_count": 2,
   "metadata": {},
   "outputs": [
    {
     "name": "stdout",
     "output_type": "stream",
     "text": [
      "Juan\n",
      "26\n"
     ]
    }
   ],
   "source": [
    "p1 = Persona(\"Juan\", 26)\n",
    "\n",
    "print(p1.nombre)\n",
    "print(p1.edad)"
   ]
  },
  {
   "cell_type": "code",
   "execution_count": 3,
   "metadata": {},
   "outputs": [
    {
     "data": {
      "text/plain": [
       "__main__.Persona"
      ]
     },
     "execution_count": 3,
     "metadata": {},
     "output_type": "execute_result"
    }
   ],
   "source": [
    "type(p1)"
   ]
  },
  {
   "cell_type": "markdown",
   "metadata": {},
   "source": [
    "Los __atributos__ de una instancia de la clase *pueden modificarse* como cualquier variable:"
   ]
  },
  {
   "cell_type": "code",
   "execution_count": 4,
   "metadata": {},
   "outputs": [
    {
     "data": {
      "text/plain": [
       "30"
      ]
     },
     "execution_count": 4,
     "metadata": {},
     "output_type": "execute_result"
    }
   ],
   "source": [
    "p1.edad = 30\n",
    "p1.edad"
   ]
  },
  {
   "cell_type": "markdown",
   "metadata": {},
   "source": [
    "__Ejercicio:__ crea una clase llamada Rectangulo, cuyos atributos sean las variables largo_lado_1 y largo_lado_2. Luego, crea una instancia de esta clase llamada c1, con lados de largo 10 y 20."
   ]
  },
  {
   "cell_type": "code",
   "execution_count": 5,
   "metadata": {},
   "outputs": [],
   "source": [
    "class Rectangulo:\n",
    "    def __init__(self, largo1, largo2):       # Se determinan los argumentos (inicializamos con los mismos)\n",
    "        self.largo_lado_1 = largo1            # Atributos (creamos variables de la clase) - Los guarda\n",
    "        self.largo_lado_2 = largo2"
   ]
  },
  {
   "cell_type": "code",
   "execution_count": null,
   "metadata": {},
   "outputs": [],
   "source": []
  },
  {
   "cell_type": "code",
   "execution_count": 6,
   "metadata": {},
   "outputs": [
    {
     "name": "stdout",
     "output_type": "stream",
     "text": [
      "10\n",
      "20\n"
     ]
    }
   ],
   "source": [
    "c1 = Rectangulo(10, 20)\n",
    "\n",
    "print(c1.largo_lado_1)\n",
    "print(c1.largo_lado_2)"
   ]
  },
  {
   "cell_type": "code",
   "execution_count": 7,
   "metadata": {},
   "outputs": [
    {
     "data": {
      "text/plain": [
       "__main__.Rectangulo"
      ]
     },
     "execution_count": 7,
     "metadata": {},
     "output_type": "execute_result"
    }
   ],
   "source": [
    "type (c1)"
   ]
  },
  {
   "cell_type": "markdown",
   "metadata": {},
   "source": [
    "### 1.3 Métodos ###"
   ]
  },
  {
   "cell_type": "markdown",
   "metadata": {},
   "source": [
    "A las funciones que componen una clase las llamamos __métodos__. Estas funciones pueden llamarse poniendo el nombre de una instancia de la clase seguido de un punto y el nombre del método. Los métodos pueden actuar sobre los valores de otros atributos de esa instancia, pueden devolver algun output a traves de return o pueden hacer ambas cosas.\n",
    "\n",
    "Vamos a darle un método a la clase persona, para esto vamos a redefinir la clase como:"
   ]
  },
  {
   "cell_type": "code",
   "execution_count": 8,
   "metadata": {},
   "outputs": [],
   "source": [
    "class Persona:\n",
    "    def __init__(self, nombre, edad):\n",
    "        # Todo lo que definamos en __init__ se corre\n",
    "        # al crear una instancia de la clase\n",
    "        self.nombre = nombre\n",
    "        self.edad = edad\n",
    "        \n",
    "    def mePresento(self):\n",
    "        print(\"Hola, me llamo \" + self.nombre)"
   ]
  },
  {
   "cell_type": "code",
   "execution_count": 9,
   "metadata": {},
   "outputs": [
    {
     "name": "stdout",
     "output_type": "stream",
     "text": [
      "Hola, me llamo Juan\n"
     ]
    }
   ],
   "source": [
    "p1 = Persona(\"Juan\", 26)\n",
    "p1.mePresento()"
   ]
  },
  {
   "cell_type": "code",
   "execution_count": 10,
   "metadata": {},
   "outputs": [],
   "source": [
    "class Persona:\n",
    "    def __init__(self, nombre, edad):\n",
    "        self.nombre = nombre\n",
    "        self.edad = edad\n",
    "        \n",
    "    def mePresento(self):\n",
    "        print(\"Hola, me llamo \" + self.nombre)\n",
    "    \n",
    "    def cumplirAnios(self):\n",
    "        self.edad = self.edad + 1\n",
    "        # El return hace que, al ejecutar el método, el mismo devuelva el valor de la edad \n",
    "        return self.edad"
   ]
  },
  {
   "cell_type": "code",
   "execution_count": 11,
   "metadata": {},
   "outputs": [
    {
     "data": {
      "text/plain": [
       "27"
      ]
     },
     "execution_count": 11,
     "metadata": {},
     "output_type": "execute_result"
    }
   ],
   "source": [
    "p1 = Persona(\"Juan\", 26)\n",
    "p1.cumplirAnios()"
   ]
  },
  {
   "cell_type": "code",
   "execution_count": 12,
   "metadata": {},
   "outputs": [
    {
     "data": {
      "text/plain": [
       "27"
      ]
     },
     "execution_count": 12,
     "metadata": {},
     "output_type": "execute_result"
    }
   ],
   "source": [
    "p1.edad"
   ]
  },
  {
   "cell_type": "markdown",
   "metadata": {},
   "source": [
    "Los __atributos__ los definimos dentro de un método llamado __ __init__ __ # Es una buena práctica, no obligatorio."
   ]
  },
  {
   "cell_type": "markdown",
   "metadata": {},
   "source": [
    "Estos nombres de métodos con doble guión-bajo a los costados indican que se trata de un __método mágico__. Son nombres especiales que __Python se reserva__ para métodos que tienen una función específica. Por ejemplo, el método mágico __ __init__ __ se correrá automáticamente cuando creemos una instancia de la clase."
   ]
  },
  {
   "cell_type": "markdown",
   "metadata": {},
   "source": [
    "Veamos un ejemplo donde dentro del método __init__ agregamos algún otro bloque de código:"
   ]
  },
  {
   "cell_type": "code",
   "execution_count": 13,
   "metadata": {},
   "outputs": [],
   "source": [
    "class Persona:\n",
    "    def __init__(self, nombre, edad):\n",
    "        self.nombre = nombre\n",
    "        self.edad = edad\n",
    "        \n",
    "        print('Una persona nueva ha sido creada!')\n",
    "        \n",
    "    def mePresento(self):\n",
    "        print(\"Hola, me llamo \" + self.nombre)\n",
    "    \n",
    "    def cumplirAnios(self):\n",
    "        self.edad = self.edad + 1\n",
    "        return self.edad"
   ]
  },
  {
   "cell_type": "code",
   "execution_count": 14,
   "metadata": {},
   "outputs": [
    {
     "name": "stdout",
     "output_type": "stream",
     "text": [
      "Una persona nueva ha sido creada!\n"
     ]
    }
   ],
   "source": [
    "p1 = Persona(\"Ernesto\", 40)"
   ]
  },
  {
   "cell_type": "code",
   "execution_count": 24,
   "metadata": {},
   "outputs": [
    {
     "data": {
      "text/plain": [
       "41"
      ]
     },
     "execution_count": 24,
     "metadata": {},
     "output_type": "execute_result"
    }
   ],
   "source": [
    "p1.cumplirAnios()"
   ]
  },
  {
   "cell_type": "markdown",
   "metadata": {},
   "source": [
    "### 1.4 Consistencia ###"
   ]
  },
  {
   "cell_type": "markdown",
   "metadata": {},
   "source": [
    "Uno de los beneficios de trabajar con clases es el hecho de poder __chequear la consistencia de los distintos atributos__ pertenecientes a una misma instancia de esa clase. "
   ]
  },
  {
   "cell_type": "markdown",
   "metadata": {},
   "source": [
    "Supongamos que tenemos una clase llamada Departamento. Esta clase agrupa todos las variables relacionadas a un mismo departamento. Esto nos permite chequear que todas estas variables guarden una relación adecuada. Por ejemplo, sabemos que la superficie cubierta no puede ser mayor a la superficie total. Entonces:"
   ]
  },
  {
   "cell_type": "code",
   "execution_count": 15,
   "metadata": {},
   "outputs": [],
   "source": [
    "class Departamento:\n",
    "    def __init__(self, calle, altura, piso, sup_total, sup_cubierta):\n",
    "        self.calle = calle\n",
    "        self.altura = altura\n",
    "        self.piso = piso\n",
    "        self.sup_total = sup_total\n",
    "        if sup_cubierta < sup_total:\n",
    "            self.sup_cubierta = self.sup_cubierta\n",
    "        else:\n",
    "            print(\"El valor de superficie cubierta ingresado es inconsistente\")\n",
    "            self.sup_cubierta = self.sup_total"
   ]
  },
  {
   "cell_type": "code",
   "execution_count": 16,
   "metadata": {},
   "outputs": [
    {
     "name": "stdout",
     "output_type": "stream",
     "text": [
      "El valor de superficie cubierta ingresado es inconsistente\n"
     ]
    }
   ],
   "source": [
    "depto_1 = Departamento('Humboldt',1122,4,50,455)"
   ]
  },
  {
   "cell_type": "code",
   "execution_count": 17,
   "metadata": {},
   "outputs": [
    {
     "data": {
      "text/plain": [
       "50"
      ]
     },
     "execution_count": 17,
     "metadata": {},
     "output_type": "execute_result"
    }
   ],
   "source": [
    "depto_1.sup_cubierta"
   ]
  },
  {
   "cell_type": "markdown",
   "metadata": {},
   "source": [
    "Otro de los beneficios de trabajar con objetos consiste en tener __todas las variables relevantes agrupadas en un mismo objeto__. De esta forma se nos facilita la tarea a la hora de mover esta información. "
   ]
  },
  {
   "cell_type": "markdown",
   "metadata": {},
   "source": [
    "Por ejemplo, si tenemos una función que calcula el precio de un departamento en base a distintas propiedades del mismo, sería mucho más fácil para nosotros pasarle a esa función un único argumento (el objeto departameto), y no cada uno de sus atributos."
   ]
  },
  {
   "cell_type": "code",
   "execution_count": 18,
   "metadata": {},
   "outputs": [],
   "source": [
    "def CalculaPrecios(depto):\n",
    "    precio = 2000 * depto.sup_total + 500 * depto.piso\n",
    "    return precio"
   ]
  },
  {
   "cell_type": "code",
   "execution_count": 19,
   "metadata": {},
   "outputs": [
    {
     "data": {
      "text/plain": [
       "102000"
      ]
     },
     "execution_count": 19,
     "metadata": {},
     "output_type": "execute_result"
    }
   ],
   "source": [
    "CalculaPrecios(depto_1)"
   ]
  },
  {
   "cell_type": "markdown",
   "metadata": {},
   "source": [
    "En algunas circunstancias, esa función podría ser parte de la clase, siendo en ese caso un método."
   ]
  },
  {
   "cell_type": "markdown",
   "metadata": {},
   "source": [
    "## Ejercicio - Challenge ##"
   ]
  },
  {
   "cell_type": "markdown",
   "metadata": {},
   "source": [
    "1. Agregar a la clase llamada Rectangulo un método llamado ladoMasLargo que devuelva el valor del lado mas largo.\n",
    "2. Agregue en el __ init __ de Rectangulo un nuevo atributo de la clase llamado area. El valor de este atributo debe generarse automáticamente a partir de los valores de los lados (recuerde que el área de un rectangulo se calcula multiplicando el largo de sus lados).\n",
    "3. Cree una instancia de la clase y verifique que su código funcione adecuadamente."
   ]
  },
  {
   "cell_type": "code",
   "execution_count": 20,
   "metadata": {},
   "outputs": [],
   "source": [
    "class Rectangulo:                              # Clase\n",
    "    def __init__(self, largo1, largo2):        # Se determinan los argumentos (inicializamos con los mismos)\n",
    "        self.largo_lado_1 = largo1             # Atributos (creamos variables de la clase) - Los guarda\n",
    "        self.largo_lado_2 = largo2\n",
    "        \n",
    "    def lado_mas_largo(self):                          # Método / Función\n",
    "        if self.largo_lado_1 > self.largo_lado_2:\n",
    "            return self.largo_lado_1\n",
    "        elif self.largo_lado_1 < self.largo_lado_2:\n",
    "            return self.largo_lado_2\n",
    "        else:\n",
    "            print ('Ambos lados son iguales. ¡Es un cuadrado!')\n",
    "    \n",
    "    def calcular_area(self):                           # Método / Función\n",
    "        area = self.largo_lado_1 * self.largo_lado_2\n",
    "        return area"
   ]
  },
  {
   "cell_type": "code",
   "execution_count": 21,
   "metadata": {},
   "outputs": [],
   "source": [
    "rect_1 = Rectangulo(10,20) # Objeto de Clase Rectangulo, es decir Creamos una Instacia de la clase Rectangulo"
   ]
  },
  {
   "cell_type": "code",
   "execution_count": 22,
   "metadata": {},
   "outputs": [
    {
     "data": {
      "text/plain": [
       "20"
      ]
     },
     "execution_count": 22,
     "metadata": {},
     "output_type": "execute_result"
    }
   ],
   "source": [
    "rect_1.lado_mas_largo ()"
   ]
  },
  {
   "cell_type": "code",
   "execution_count": 23,
   "metadata": {},
   "outputs": [
    {
     "data": {
      "text/plain": [
       "200"
      ]
     },
     "execution_count": 23,
     "metadata": {},
     "output_type": "execute_result"
    }
   ],
   "source": [
    "rect_1.calcular_area ()"
   ]
  }
 ],
 "metadata": {
  "kernelspec": {
   "display_name": "Python 3",
   "language": "python",
   "name": "python3"
  },
  "language_info": {
   "codemirror_mode": {
    "name": "ipython",
    "version": 3
   },
   "file_extension": ".py",
   "mimetype": "text/x-python",
   "name": "python",
   "nbconvert_exporter": "python",
   "pygments_lexer": "ipython3",
   "version": "3.8.2"
  }
 },
 "nbformat": 4,
 "nbformat_minor": 4
}
