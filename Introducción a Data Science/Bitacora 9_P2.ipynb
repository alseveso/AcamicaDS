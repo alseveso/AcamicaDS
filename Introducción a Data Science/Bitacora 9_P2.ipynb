{
 "cells": [
  {
   "cell_type": "markdown",
   "metadata": {},
   "source": [
    "# Challenge #"
   ]
  },
  {
   "cell_type": "markdown",
   "metadata": {},
   "source": [
    "Crea una función que tome como entrada dos arreglos de Numpy. Luego, que chequee si tienen el mismo tamaño; si no es así, que imprima un mensaje indicando que no tienen el mismo tamaño. Si tienen el mismo tamaño, que haga las siguientes operaciones:  \n",
    "1. Crear un nuevo arreglo con el resultado de las resta de los dos arreglos originales.  \n",
    "2. Elevar al cuadrado ese arreglo.  \n",
    "3. Sumar todos los elementos y dividir por la cantidad de elementos.  \n",
    "4. Devuelva la raiz de ese resultado."
   ]
  },
  {
   "cell_type": "code",
   "execution_count": 1,
   "metadata": {},
   "outputs": [],
   "source": [
    "import numpy as np"
   ]
  },
  {
   "cell_type": "code",
   "execution_count": 2,
   "metadata": {},
   "outputs": [],
   "source": [
    "def RMSE(arreglo_1, arreglo_2):\n",
    "    pass"
   ]
  },
  {
   "cell_type": "markdown",
   "metadata": {},
   "source": [
    "La RMSE es una __medida de precisión__, para comparar errores de predicción de diferentes modelos para un conjunto de datos en particular.  \n",
    "La RECM es la raíz cuadrada del promedio de errores cuadrados."
   ]
  },
  {
   "cell_type": "markdown",
   "metadata": {},
   "source": [
    "#### Mismo Tamaño ####"
   ]
  },
  {
   "cell_type": "markdown",
   "metadata": {},
   "source": [
    "Testeamos el resultado:"
   ]
  },
  {
   "cell_type": "code",
   "execution_count": 3,
   "metadata": {},
   "outputs": [
    {
     "name": "stdout",
     "output_type": "stream",
     "text": [
      "[ -1  -6   5 -10   7   6   7  -2  -1 -10   0  -2  -6   9   6  -6   5   1\n",
      "   1  -9  -2  -6   4   7   9   3  -5   3   9   3   2  -9  -6   8   3   1\n",
      "   0  -1   5   8   6  -3   1   7   4  -3   1  -9 -10   2]\n",
      "[ -5  -6  -3   8   2  -8  -2   5   3   5  -4   0   1   6   2 -10   7   5\n",
      "   2  -2   0   3   1  -9   8   3  -2  -1  -5 -10   8  -7   6   8   6   4\n",
      "   9   5   9   7   8   4   6   0   7 -10   7  -1   6  -1]\n"
     ]
    }
   ],
   "source": [
    "np.random.seed(10)  # que hace esta linea?\n",
    "arreglo_1 = np.random.randint(-10,10, 50)\n",
    "arreglo_2 = np.random.randint(-10,10, 50)\n",
    "print(arreglo_1)\n",
    "print(arreglo_2)"
   ]
  },
  {
   "cell_type": "code",
   "execution_count": 4,
   "metadata": {},
   "outputs": [],
   "source": [
    "RMSE(arreglo_1, arreglo_2)"
   ]
  },
  {
   "cell_type": "code",
   "execution_count": 5,
   "metadata": {},
   "outputs": [],
   "source": [
    "np.random.seed(10)\n",
    "arreglo_1 = np.random.randint(-10,10, 50)\n",
    "arreglo_2 = np.random.randint(-10,10, 50)\n",
    "def tamaño(x, y):\n",
    "    if len(x) == len(y):\n",
    "        print('Tienen el mismo tamaño')\n",
    "    else:\n",
    "        print('No tienen el mismo tamaño')"
   ]
  },
  {
   "cell_type": "code",
   "execution_count": 28,
   "metadata": {},
   "outputs": [
    {
     "name": "stdout",
     "output_type": "stream",
     "text": [
      "Tienen el mismo tamaño\n"
     ]
    }
   ],
   "source": [
    "tamaño (arreglo_1, arreglo_2)"
   ]
  },
  {
   "cell_type": "markdown",
   "metadata": {},
   "source": [
    "##### Ejercicio 1 #####"
   ]
  },
  {
   "cell_type": "code",
   "execution_count": 8,
   "metadata": {},
   "outputs": [],
   "source": [
    "arreglo_3 = arreglo_1 - arreglo_2"
   ]
  },
  {
   "cell_type": "code",
   "execution_count": 9,
   "metadata": {},
   "outputs": [
    {
     "name": "stdout",
     "output_type": "stream",
     "text": [
      "[  4   0   8 -18   5  14   9  -7  -4 -15   4  -2  -7   3   4   4  -2  -4\n",
      "  -1  -7  -2  -9   3  16   1   0  -3   4  14  13  -6  -2 -12   0  -3  -3\n",
      "  -9  -6  -4   1  -2  -7  -5   7  -3   7  -6  -8 -16   3]\n"
     ]
    }
   ],
   "source": [
    "print (arreglo_3)"
   ]
  },
  {
   "cell_type": "markdown",
   "metadata": {},
   "source": [
    "##### Ejercicio 2 #####"
   ]
  },
  {
   "cell_type": "code",
   "execution_count": 10,
   "metadata": {},
   "outputs": [],
   "source": [
    "arreglo_4 = arreglo_3**2"
   ]
  },
  {
   "cell_type": "code",
   "execution_count": 11,
   "metadata": {},
   "outputs": [
    {
     "name": "stdout",
     "output_type": "stream",
     "text": [
      "[ 16   0  64 324  25 196  81  49  16 225  16   4  49   9  16  16   4  16\n",
      "   1  49   4  81   9 256   1   0   9  16 196 169  36   4 144   0   9   9\n",
      "  81  36  16   1   4  49  25  49   9  49  36  64 256   9]\n"
     ]
    }
   ],
   "source": [
    "print (arreglo_4)"
   ]
  },
  {
   "cell_type": "markdown",
   "metadata": {},
   "source": [
    "##### Ejercicio 3 #####"
   ]
  },
  {
   "cell_type": "code",
   "execution_count": null,
   "metadata": {},
   "outputs": [],
   "source": [
    "suma = 0\n",
    "for fila in matriz:\n",
    "    for n in fila:\n",
    "        suma += n"
   ]
  },
  {
   "cell_type": "code",
   "execution_count": 15,
   "metadata": {},
   "outputs": [
    {
     "name": "stdout",
     "output_type": "stream",
     "text": [
      "2803\n"
     ]
    }
   ],
   "source": [
    "def suma(numeros):\n",
    "    la_suma = 0\n",
    "    for i in numeros:\n",
    "        la_suma = la_suma + i\n",
    "    return la_suma\n",
    "\n",
    "print(suma(arreglo_4))"
   ]
  },
  {
   "cell_type": "code",
   "execution_count": 17,
   "metadata": {},
   "outputs": [
    {
     "data": {
      "text/plain": [
       "50"
      ]
     },
     "execution_count": 17,
     "metadata": {},
     "output_type": "execute_result"
    }
   ],
   "source": [
    "len (arreglo_4)"
   ]
  },
  {
   "cell_type": "code",
   "execution_count": 18,
   "metadata": {},
   "outputs": [
    {
     "data": {
      "text/plain": [
       "56.06"
      ]
     },
     "execution_count": 18,
     "metadata": {},
     "output_type": "execute_result"
    }
   ],
   "source": [
    "lambda_division = lambda x,y: x/y\n",
    "lambda_division(2803,50)"
   ]
  },
  {
   "cell_type": "markdown",
   "metadata": {},
   "source": [
    "##### Ejercicio 4 #####"
   ]
  },
  {
   "cell_type": "code",
   "execution_count": 19,
   "metadata": {},
   "outputs": [],
   "source": [
    "sqrt = 56.06**(1/2)"
   ]
  },
  {
   "cell_type": "code",
   "execution_count": 20,
   "metadata": {},
   "outputs": [
    {
     "name": "stdout",
     "output_type": "stream",
     "text": [
      "7.487322618933954\n"
     ]
    }
   ],
   "source": [
    "print(sqrt)"
   ]
  },
  {
   "cell_type": "markdown",
   "metadata": {},
   "source": [
    "#### Diferente Tamaño ####"
   ]
  },
  {
   "cell_type": "code",
   "execution_count": 26,
   "metadata": {},
   "outputs": [],
   "source": [
    "np.random.seed(10)\n",
    "arreglo_4 = np.random.randint(-10,10, 25)\n",
    "arreglo_5 = np.random.randint(-10,10, 50)\n",
    "def tamaño(x, y):\n",
    "    if len(x) == len(y):\n",
    "        print('Tienen el mismo tamaño')\n",
    "    else:\n",
    "        print('No tienen el mismo tamaño')"
   ]
  },
  {
   "cell_type": "code",
   "execution_count": 27,
   "metadata": {},
   "outputs": [
    {
     "name": "stdout",
     "output_type": "stream",
     "text": [
      "No tienen el mismo tamaño\n"
     ]
    }
   ],
   "source": [
    "tamaño (arreglo_4, arreglo_5)"
   ]
  },
  {
   "cell_type": "markdown",
   "metadata": {},
   "source": [
    "#### Documentar brevemente la función creada ####"
   ]
  },
  {
   "cell_type": "code",
   "execution_count": 29,
   "metadata": {},
   "outputs": [],
   "source": [
    "def tamaño(x,y):\n",
    "    '''\n",
    "    Dados dos arreglos, indica si tienen el mismo tamaño o no.\n",
    "    \n",
    "    Arguments:\n",
    "    x -- arreglo 1\n",
    "    y -- arreglo 2\n",
    "    \n",
    "    if len(x) == len(y):\n",
    "    len(x) -- longitud de x\n",
    "    len(y) -- longitud de y\n",
    "    '''"
   ]
  },
  {
   "cell_type": "code",
   "execution_count": 30,
   "metadata": {},
   "outputs": [
    {
     "name": "stdout",
     "output_type": "stream",
     "text": [
      "Help on function tamaño in module __main__:\n",
      "\n",
      "tamaño(x, y)\n",
      "    Dados dos arreglos, indica si tienen el mismo tamaño o no.\n",
      "    \n",
      "    Arguments:\n",
      "    x -- arreglo 1\n",
      "    y -- arreglo 2\n",
      "    \n",
      "    if len(x) == len(y):\n",
      "    len(x) -- longitud de x\n",
      "    len(y) -- longitud de y\n",
      "\n"
     ]
    }
   ],
   "source": [
    "help(tamaño)"
   ]
  },
  {
   "cell_type": "code",
   "execution_count": null,
   "metadata": {},
   "outputs": [],
   "source": []
  }
 ],
 "metadata": {
  "kernelspec": {
   "display_name": "Python 3",
   "language": "python",
   "name": "python3"
  },
  "language_info": {
   "codemirror_mode": {
    "name": "ipython",
    "version": 3
   },
   "file_extension": ".py",
   "mimetype": "text/x-python",
   "name": "python",
   "nbconvert_exporter": "python",
   "pygments_lexer": "ipython3",
   "version": "3.8.2"
  }
 },
 "nbformat": 4,
 "nbformat_minor": 4
}
